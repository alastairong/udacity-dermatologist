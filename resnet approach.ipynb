{
 "cells": [
  {
   "cell_type": "markdown",
   "metadata": {},
   "source": [
    "# Dermatologist-AI Project: Single Network Approach\n",
    "Workbook for a single network approach that classifies images into melanomas, nevus, or SBK"
   ]
  },
  {
   "cell_type": "markdown",
   "metadata": {},
   "source": [
    "### Set up and process data"
   ]
  },
  {
   "cell_type": "code",
   "execution_count": 1,
   "metadata": {},
   "outputs": [
    {
     "name": "stderr",
     "output_type": "stream",
     "text": [
      "Using TensorFlow backend.\n"
     ]
    }
   ],
   "source": [
    "from sklearn.datasets import load_files       \n",
    "from keras.utils import np_utils\n",
    "import numpy as np\n",
    "from glob import glob\n",
    "from keras.preprocessing import image                  \n",
    "from keras.applications.vgg19 import preprocess_input\n",
    "from tqdm import tqdm\n",
    "from PIL import ImageFile                            \n",
    "import os\n",
    "import pickle\n",
    "ImageFile.LOAD_TRUNCATED_IMAGES = True      \n",
    "\n",
    "\n",
    "# define function to load train, test, and validation datasets\n",
    "def load_dataset(path, shuffle):\n",
    "    data = load_files(path, shuffle=shuffle)\n",
    "    file_paths = np.array(data['filenames'])\n",
    "    one_hot_labels = np_utils.to_categorical(np.array(data['target']),3)\n",
    "    return file_paths, one_hot_labels\n",
    "\n",
    "# define functions to convert images into 4D tensors for convnets\n",
    "def path_to_tensor(img_path):\n",
    "    # loads RGB image as PIL.Image.Image type\n",
    "    img = image.load_img(img_path, target_size=(224, 224))\n",
    "    # convert PIL.Image.Image type to 3D tensor with shape (224, 224, 3)\n",
    "    x = image.img_to_array(img)\n",
    "    x = preprocess_input(x)\n",
    "    # convert 3D tensor to 4D tensor with shape (1, 224, 224, 3) and return 4D tensor\n",
    "    return np.expand_dims(x, axis=0)\n",
    "\n",
    "def paths_to_tensor(img_paths):\n",
    "    list_of_tensors = [path_to_tensor(img_path) for img_path in tqdm(img_paths)]\n",
    "    return np.vstack(list_of_tensors) \n",
    "\n",
    "# define function to decide whether to load tensors from a saved pickle or raw images\n",
    "def load_tensors_and_labels(pickle_file, raw_file_path, shuffle, force=False):\n",
    "    pickle_file = os.path.join('.', pickle_file)\n",
    " \n",
    "    if force or not os.path.exists(pickle_file):\n",
    "        files, labels = load_dataset(raw_file_path, shuffle)\n",
    "        tensors = paths_to_tensor(files).astype('float32')/255\n",
    "        with open(pickle_file, 'wb') as handle:\n",
    "            pickle.dump([tensors, labels], handle, protocol=pickle.HIGHEST_PROTOCOL)\n",
    "        return tensors, labels\n",
    "\n",
    "    else:        \n",
    "        with open(pickle_file, 'rb') as handle:\n",
    "            tensors, labels = pickle.load(handle)        \n",
    "        return tensors, labels\n",
    "    "
   ]
  },
  {
   "cell_type": "code",
   "execution_count": 2,
   "metadata": {
    "collapsed": true
   },
   "outputs": [],
   "source": [
    "# Load data\n",
    "\n",
    "train_tensors, train_labels = load_tensors_and_labels('train_data.pickle','../data/train', True)\n",
    "valid_tensors, valid_labels = load_tensors_and_labels('valid_data.pickle','../data/valid', True)\n",
    "test_tensors, test_labels = load_tensors_and_labels('test_data.pickle','../data/test', False)\n",
    "\n",
    "# load list of skin condition names\n",
    "skin_names = [item[14:-1] for item in sorted(glob(\"../data/train/*/\"))]\n"
   ]
  },
  {
   "cell_type": "markdown",
   "metadata": {},
   "source": [
    "Network based on four three layers of VGG19 followed by trainable convnet and dense layers"
   ]
  },
  {
   "cell_type": "code",
   "execution_count": 8,
   "metadata": {},
   "outputs": [
    {
     "name": "stdout",
     "output_type": "stream",
     "text": [
      "_________________________________________________________________\n",
      "Layer (type)                 Output Shape              Param #   \n",
      "=================================================================\n",
      "block1_conv1 (Conv2D)        (None, 224, 224, 64)      1792      \n",
      "_________________________________________________________________\n",
      "block1_conv2 (Conv2D)        (None, 224, 224, 64)      36928     \n",
      "_________________________________________________________________\n",
      "block1_pool (MaxPooling2D)   (None, 112, 112, 64)      0         \n",
      "_________________________________________________________________\n",
      "block2_conv1 (Conv2D)        (None, 112, 112, 128)     73856     \n",
      "_________________________________________________________________\n",
      "block2_conv2 (Conv2D)        (None, 112, 112, 128)     147584    \n",
      "_________________________________________________________________\n",
      "block2_pool (MaxPooling2D)   (None, 56, 56, 128)       0         \n",
      "_________________________________________________________________\n",
      "dropout_7 (Dropout)          (None, 56, 56, 128)       0         \n",
      "_________________________________________________________________\n",
      "block3_conv1 (Conv2D)        (None, 56, 56, 256)       295168    \n",
      "_________________________________________________________________\n",
      "block3_conv2 (Conv2D)        (None, 56, 56, 256)       590080    \n",
      "_________________________________________________________________\n",
      "block3_conv3 (Conv2D)        (None, 56, 56, 256)       590080    \n",
      "_________________________________________________________________\n",
      "block3_conv4 (Conv2D)        (None, 56, 56, 256)       590080    \n",
      "_________________________________________________________________\n",
      "block3_pool (MaxPooling2D)   (None, 28, 28, 256)       0         \n",
      "_________________________________________________________________\n",
      "dropout_8 (Dropout)          (None, 28, 28, 256)       0         \n",
      "_________________________________________________________________\n",
      "block5_conv1 (Conv2D)        (None, 28, 28, 256)       590080    \n",
      "_________________________________________________________________\n",
      "block5_conv2 (Conv2D)        (None, 28, 28, 256)       590080    \n",
      "_________________________________________________________________\n",
      "block5_pool (MaxPooling2D)   (None, 14, 14, 256)       0         \n",
      "_________________________________________________________________\n",
      "dropout_9 (Dropout)          (None, 14, 14, 256)       0         \n",
      "_________________________________________________________________\n",
      "flatten_2 (Flatten)          (None, 50176)             0         \n",
      "_________________________________________________________________\n",
      "dense_4 (Dense)              (None, 128)               6422656   \n",
      "_________________________________________________________________\n",
      "dropout_10 (Dropout)         (None, 128)               0         \n",
      "_________________________________________________________________\n",
      "dense_5 (Dense)              (None, 64)                8256      \n",
      "_________________________________________________________________\n",
      "dropout_11 (Dropout)         (None, 64)                0         \n",
      "_________________________________________________________________\n",
      "dense_6 (Dense)              (None, 3)                 195       \n",
      "=================================================================\n",
      "Total params: 9,936,835\n",
      "Trainable params: 7,611,267\n",
      "Non-trainable params: 2,325,568\n",
      "_________________________________________________________________\n"
     ]
    }
   ],
   "source": [
    "from keras.layers import Conv2D, MaxPooling2D, GlobalAveragePooling2D\n",
    "from keras.layers import Dropout, Flatten, Dense\n",
    "from keras.models import Sequential\n",
    "\n",
    "model = Sequential()\n",
    "\n",
    "#First 4 blocks of VGG19\n",
    "model.add(Conv2D(filters=64, kernel_size=3, padding='same', activation='relu', trainable=False, name='block1_conv1', \n",
    "                        input_shape=(224, 224, 3)))\n",
    "model.add(Conv2D(filters=64, kernel_size=3, padding='same', activation='relu', trainable=False, name='block1_conv2'))\n",
    "model.add(MaxPooling2D(pool_size=2, name='block1_pool'))\n",
    "model.add(Conv2D(filters=128, kernel_size=3, padding='same', activation='relu', trainable=False, name='block2_conv1'))\n",
    "model.add(Conv2D(filters=128, kernel_size=3, padding='same', activation='relu', trainable=False, name='block2_conv2'))\n",
    "model.add(MaxPooling2D(pool_size=2, name='block2_pool'))\n",
    "model.add(Dropout(0.2))\n",
    "model.add(Conv2D(filters=256, kernel_size=3, padding='same', activation='relu', trainable=False, name='block3_conv1'))\n",
    "model.add(Conv2D(filters=256, kernel_size=3, padding='same', activation='relu', trainable=False, name='block3_conv2'))\n",
    "model.add(Conv2D(filters=256, kernel_size=3, padding='same', activation='relu', trainable=False, name='block3_conv3'))\n",
    "model.add(Conv2D(filters=256, kernel_size=3, padding='same', activation='relu', trainable=False, name='block3_conv4'))\n",
    "model.add(MaxPooling2D(pool_size=2, name='block3_pool'))\n",
    "#model.add(Dropout(0.2))\n",
    "#model.add(Conv2D(filters=512, kernel_size=3, padding='same', activation='relu', trainable=False, name='block4_conv1'))\n",
    "#model.add(Conv2D(filters=512, kernel_size=3, padding='same', activation='relu', trainable=False, name='block4_conv2'))\n",
    "#model.add(Conv2D(filters=512, kernel_size=3, padding='same', activation='relu', trainable=False, name='block4_conv3'))\n",
    "#model.add(Conv2D(filters=512, kernel_size=3, padding='same', activation='relu', trainable=False, name='block4_conv4'))\n",
    "#model.add(MaxPooling2D(pool_size=2, name='block4_pool'))\n",
    "\n",
    "#First 1 trainable convnet block\n",
    "model.add(Dropout(0.2))\n",
    "model.add(Conv2D(filters=256, kernel_size=3, padding='same', activation='relu', trainable=True, name='block5_conv1'))\n",
    "model.add(Conv2D(filters=256, kernel_size=3, padding='same', activation='relu', trainable=True, name='block5_conv2'))\n",
    "model.add(MaxPooling2D(pool_size=2, name='block5_pool'))\n",
    "model.add(Dropout(0.2))\n",
    "\n",
    "#Trainable dense layers\n",
    "model.add(Flatten())\n",
    "model.add(Dense(128, activation='relu'))\n",
    "model.add(Dropout(0.2))\n",
    "model.add(Dense(64, activation='relu'))\n",
    "model.add(Dropout(0.2))\n",
    "model.add(Dense(3, activation='softmax'))\n",
    "\n",
    "model.summary()\n",
    "\n"
   ]
  },
  {
   "cell_type": "markdown",
   "metadata": {
    "collapsed": true
   },
   "source": [
    "Import and assign VGG19 weights"
   ]
  },
  {
   "cell_type": "code",
   "execution_count": 9,
   "metadata": {
    "collapsed": true
   },
   "outputs": [],
   "source": [
    "from keras import optimizers\n",
    "opt = optimizers.rmsprop(lr=0.00007, decay=1e-6)\n",
    "model.compile(optimizer=opt, loss='categorical_crossentropy', metrics=['accuracy'])"
   ]
  },
  {
   "cell_type": "code",
   "execution_count": 10,
   "metadata": {
    "collapsed": true
   },
   "outputs": [],
   "source": [
    "from keras import applications\n",
    "import h5py\n",
    "\n",
    "weights_path = 'vgg19_weights.h5'\n",
    "f = h5py.File(weights_path, 'r')\n",
    "\n",
    "VGGnet_layers = ['block1_conv1',\n",
    "                 'block1_conv2',\n",
    "                 'block2_conv1',\n",
    "                 'block2_conv2',\n",
    "                 'block3_conv1',\n",
    "                 'block3_conv2',\n",
    "                 'block3_conv3',\n",
    "                 'block3_conv4',\n",
    "                 #'block4_conv1',\n",
    "                 #'block4_conv2',\n",
    "                 #'block4_conv3',\n",
    "                 #'block4_conv4'\n",
    "                ]\n",
    "layer_names = [layer.name for layer in model.layers]\n",
    "\n",
    "for i in VGGnet_layers:\n",
    "    weight_names = f[i].attrs[\"weight_names\"]    \n",
    "    weights = [f[i][j] for j in weight_names]\n",
    "    index = layer_names.index(i)\n",
    "    model.layers[index].set_weights(weights)\n"
   ]
  },
  {
   "cell_type": "markdown",
   "metadata": {},
   "source": [
    "Set up data augmentation functions"
   ]
  },
  {
   "cell_type": "code",
   "execution_count": 11,
   "metadata": {},
   "outputs": [],
   "source": [
    "from keras.preprocessing.image import ImageDataGenerator\n",
    "from keras.callbacks import ModelCheckpoint, Callback\n",
    "\n",
    "# create and configure augmented image generator\n",
    "datagen_train = ImageDataGenerator(\n",
    "    width_shift_range=0.1,  # randomly shift images horizontally (10% of total width)\n",
    "    height_shift_range=0.1,  # randomly shift images vertically (10% of total height)\n",
    "    rotation_range=30, # randomly rotate images up to 30 degrees\n",
    "    zoom_range=0.1, # randomly zoom in and out by 10%\n",
    "    horizontal_flip=True) # randomly flip images horizontally\n",
    "\n",
    "# create and configure augmented image generator\n",
    "datagen_valid = ImageDataGenerator(\n",
    "    width_shift_range=0.1,  # randomly shift images horizontally (10% of total width)\n",
    "    height_shift_range=0.1,  # randomly shift images vertically (10% of total height)\n",
    "    rotation_range=30, # randomly rotate images up to 30 degrees\n",
    "    zoom_range=0.1, # randomly zoom in and out by 10%\n",
    "    horizontal_flip=True) # randomly flip images horizontally\n",
    "\n",
    "# fit augmented image generator on data\n",
    "datagen_train.fit(train_tensors)\n",
    "datagen_valid.fit(valid_tensors)"
   ]
  },
  {
   "cell_type": "code",
   "execution_count": null,
   "metadata": {},
   "outputs": [
    {
     "name": "stdout",
     "output_type": "stream",
     "text": [
      "Epoch 1/20\n",
      "159/160 [============================>.] - ETA: 101s - loss: 5.9555 - acc: 0.400 - ETA: 70s - loss: 5.7984 - acc: 0.525 - ETA: 58s - loss: 5.2088 - acc: 0.60 - ETA: 51s - loss: 5.3169 - acc: 0.61 - ETA: 48s - loss: 5.2206 - acc: 0.63 - ETA: 45s - loss: 5.2907 - acc: 0.63 - ETA: 43s - loss: 5.3408 - acc: 0.63 - ETA: 42s - loss: 5.3784 - acc: 0.63 - ETA: 40s - loss: 5.5867 - acc: 0.62 - ETA: 39s - loss: 5.8339 - acc: 0.61 - ETA: 39s - loss: 5.9629 - acc: 0.60 - ETA: 38s - loss: 5.6675 - acc: 0.62 - ETA: 37s - loss: 5.6655 - acc: 0.63 - ETA: 36s - loss: 5.8365 - acc: 0.62 - ETA: 36s - loss: 5.7697 - acc: 0.62 - ETA: 36s - loss: 5.8624 - acc: 0.62 - ETA: 35s - loss: 5.8020 - acc: 0.62 - ETA: 35s - loss: 5.7483 - acc: 0.63 - ETA: 34s - loss: 5.6579 - acc: 0.63 - ETA: 34s - loss: 5.6570 - acc: 0.63 - ETA: 33s - loss: 5.5795 - acc: 0.64 - ETA: 33s - loss: 5.7289 - acc: 0.63 - ETA: 33s - loss: 5.7251 - acc: 0.63 - ETA: 32s - loss: 5.7216 - acc: 0.63 - ETA: 32s - loss: 5.6539 - acc: 0.64 - ETA: 32s - loss: 5.7774 - acc: 0.63 - ETA: 31s - loss: 5.8022 - acc: 0.63 - ETA: 31s - loss: 5.8828 - acc: 0.62 - ETA: 31s - loss: 5.7911 - acc: 0.63 - ETA: 30s - loss: 5.7055 - acc: 0.63 - ETA: 30s - loss: 5.7295 - acc: 0.63 - ETA: 30s - loss: 5.7015 - acc: 0.63 - ETA: 30s - loss: 5.8218 - acc: 0.63 - ETA: 29s - loss: 5.8402 - acc: 0.63 - ETA: 29s - loss: 5.8575 - acc: 0.63 - ETA: 29s - loss: 5.8291 - acc: 0.63 - ETA: 28s - loss: 5.8459 - acc: 0.63 - ETA: 28s - loss: 5.7981 - acc: 0.63 - ETA: 28s - loss: 5.7734 - acc: 0.63 - ETA: 28s - loss: 5.7701 - acc: 0.63 - ETA: 27s - loss: 5.7473 - acc: 0.63 - ETA: 27s - loss: 5.7639 - acc: 0.63 - ETA: 27s - loss: 5.7423 - acc: 0.63 - ETA: 27s - loss: 5.7401 - acc: 0.63 - ETA: 26s - loss: 5.7558 - acc: 0.63 - ETA: 26s - loss: 5.7533 - acc: 0.63 - ETA: 26s - loss: 5.6995 - acc: 0.64 - ETA: 26s - loss: 5.7150 - acc: 0.64 - ETA: 25s - loss: 5.7300 - acc: 0.63 - ETA: 25s - loss: 5.7604 - acc: 0.63 - ETA: 25s - loss: 5.7423 - acc: 0.63 - ETA: 25s - loss: 5.8179 - acc: 0.63 - ETA: 24s - loss: 5.7537 - acc: 0.63 - ETA: 24s - loss: 5.7516 - acc: 0.63 - ETA: 24s - loss: 5.7789 - acc: 0.63 - ETA: 24s - loss: 5.8052 - acc: 0.63 - ETA: 23s - loss: 5.7600 - acc: 0.63 - ETA: 23s - loss: 5.7857 - acc: 0.63 - ETA: 23s - loss: 5.7833 - acc: 0.63 - ETA: 23s - loss: 5.7943 - acc: 0.63 - ETA: 22s - loss: 5.8182 - acc: 0.63 - ETA: 22s - loss: 5.8154 - acc: 0.63 - ETA: 22s - loss: 5.8382 - acc: 0.63 - ETA: 22s - loss: 5.8099 - acc: 0.63 - ETA: 21s - loss: 5.7949 - acc: 0.63 - ETA: 21s - loss: 5.7560 - acc: 0.63 - ETA: 21s - loss: 5.7422 - acc: 0.64 - ETA: 21s - loss: 5.7052 - acc: 0.64 - ETA: 20s - loss: 5.7276 - acc: 0.64 - ETA: 20s - loss: 5.7379 - acc: 0.64 - ETA: 20s - loss: 5.7252 - acc: 0.64 - ETA: 20s - loss: 5.7129 - acc: 0.64 - ETA: 19s - loss: 5.7008 - acc: 0.64 - ETA: 19s - loss: 5.6891 - acc: 0.64 - ETA: 19s - loss: 5.6670 - acc: 0.64 - ETA: 19s - loss: 5.6676 - acc: 0.64 - ETA: 19s - loss: 5.6673 - acc: 0.64 - ETA: 18s - loss: 5.6566 - acc: 0.64 - ETA: 18s - loss: 5.6768 - acc: 0.64 - ETA: 18s - loss: 5.7066 - acc: 0.64 - ETA: 18s - loss: 5.7157 - acc: 0.64 - ETA: 17s - loss: 5.7443 - acc: 0.64 - ETA: 17s - loss: 5.7528 - acc: 0.63 - ETA: 17s - loss: 5.7035 - acc: 0.64 - ETA: 17s - loss: 5.6743 - acc: 0.64 - ETA: 16s - loss: 5.6458 - acc: 0.64 - ETA: 16s - loss: 5.6735 - acc: 0.64 - ETA: 16s - loss: 5.6917 - acc: 0.64 - ETA: 16s - loss: 5.6911 - acc: 0.64 - ETA: 16s - loss: 5.6995 - acc: 0.64 - ETA: 15s - loss: 5.6634 - acc: 0.64 - ETA: 15s - loss: 5.6544 - acc: 0.64 - ETA: 15s - loss: 5.6890 - acc: 0.64 - ETA: 15s - loss: 5.6815 - acc: 0.64 - ETA: 14s - loss: 5.6726 - acc: 0.64 - ETA: 14s - loss: 5.6639 - acc: 0.64 - ETA: 14s - loss: 5.6221 - acc: 0.64 - ETA: 14s - loss: 5.6141 - acc: 0.64 - ETA: 13s - loss: 5.6225 - acc: 0.64 - ETA: 13s - loss: 5.6146 - acc: 0.64 - ETA: 13s - loss: 5.5909 - acc: 0.65 - ETA: 13s - loss: 5.5993 - acc: 0.64 - ETA: 13s - loss: 5.6154 - acc: 0.64 - ETA: 12s - loss: 5.5924 - acc: 0.65 - ETA: 12s - loss: 5.6082 - acc: 0.64 - ETA: 12s - loss: 5.6313 - acc: 0.64 - ETA: 12s - loss: 5.6390 - acc: 0.64 - ETA: 11s - loss: 5.6464 - acc: 0.64 - ETA: 11s - loss: 5.6612 - acc: 0.64 - ETA: 11s - loss: 5.6757 - acc: 0.64 - ETA: 11s - loss: 5.6826 - acc: 0.64 - ETA: 10s - loss: 5.6750 - acc: 0.64 - ETA: 10s - loss: 5.6534 - acc: 0.64 - ETA: 10s - loss: 5.6674 - acc: 0.64 - ETA: 10s - loss: 5.6672 - acc: 0.64 - ETA: 10s - loss: 5.6669 - acc: 0.64 - ETA: 9s - loss: 5.6667 - acc: 0.6457 - ETA: 9s - loss: 5.6870 - acc: 0.644 - ETA: 9s - loss: 5.7069 - acc: 0.643 - ETA: 9s - loss: 5.7198 - acc: 0.642 - ETA: 8s - loss: 5.7391 - acc: 0.641 - ETA: 8s - loss: 5.7516 - acc: 0.640 - ETA: 8s - loss: 5.7572 - acc: 0.640 - ETA: 8s - loss: 5.7628 - acc: 0.639 - ETA: 7s - loss: 5.7618 - acc: 0.640 - ETA: 7s - loss: 5.7672 - acc: 0.639 - ETA: 7s - loss: 5.7980 - acc: 0.637 - ETA: 7s - loss: 5.7842 - acc: 0.638 - ETA: 7s - loss: 5.7831 - acc: 0.638 - ETA: 6s - loss: 5.7882 - acc: 0.638 - ETA: 6s - loss: 5.7809 - acc: 0.638 - ETA: 6s - loss: 5.7615 - acc: 0.640 - ETA: 6s - loss: 5.7667 - acc: 0.639 - ETA: 5s - loss: 5.7657 - acc: 0.639 - ETA: 5s - loss: 5.7648 - acc: 0.640 - ETA: 5s - loss: 5.7580 - acc: 0.640 - ETA: 5s - loss: 5.7689 - acc: 0.639 - ETA: 4s - loss: 5.7680 - acc: 0.639 - ETA: 4s - loss: 5.7497 - acc: 0.641 - ETA: 4s - loss: 5.7489 - acc: 0.641 - ETA: 4s - loss: 5.7367 - acc: 0.641 - ETA: 4s - loss: 5.7247 - acc: 0.642 - ETA: 3s - loss: 5.7410 - acc: 0.641 - ETA: 3s - loss: 5.7459 - acc: 0.641 - ETA: 3s - loss: 5.7563 - acc: 0.640 - ETA: 3s - loss: 5.7445 - acc: 0.641 - ETA: 2s - loss: 5.7602 - acc: 0.640 - ETA: 2s - loss: 5.7594 - acc: 0.640 - ETA: 2s - loss: 5.7424 - acc: 0.641 - ETA: 2s - loss: 5.7310 - acc: 0.642 - ETA: 2s - loss: 5.7197 - acc: 0.643 - ETA: 1s - loss: 5.7245 - acc: 0.642 - ETA: 1s - loss: 5.7082 - acc: 0.643 - ETA: 1s - loss: 5.7077 - acc: 0.643 - ETA: 1s - loss: 5.7073 - acc: 0.643 - ETA: 0s - loss: 5.6965 - acc: 0.644 - ETA: 0s - loss: 5.6910 - acc: 0.644 - ETA: 0s - loss: 5.6856 - acc: 0.645 - ETA: 0s - loss: 5.6854 - acc: 0.6453Epoch 00000: val_loss improved from inf to 8.05905, saving model to saved_models/weights3.hdf5\n",
      "160/160 [==============================] - 38s - loss: 5.6800 - acc: 0.6456 - val_loss: 8.0590 - val_acc: 0.5000\n",
      "Epoch 2/20\n"
     ]
    },
    {
     "name": "stdout",
     "output_type": "stream",
     "text": [
      "159/160 [============================>.] - ETA: 14s - loss: 9.6709 - acc: 0.40 - ETA: 24s - loss: 7.6561 - acc: 0.52 - ETA: 27s - loss: 6.9845 - acc: 0.56 - ETA: 29s - loss: 6.8502 - acc: 0.57 - ETA: 30s - loss: 6.7696 - acc: 0.58 - ETA: 30s - loss: 7.1188 - acc: 0.55 - ETA: 31s - loss: 6.3321 - acc: 0.60 - ETA: 31s - loss: 5.7421 - acc: 0.64 - ETA: 31s - loss: 5.7309 - acc: 0.64 - ETA: 31s - loss: 5.3190 - acc: 0.67 - ETA: 31s - loss: 5.6413 - acc: 0.65 - ETA: 31s - loss: 5.6413 - acc: 0.65 - ETA: 31s - loss: 5.7653 - acc: 0.64 - ETA: 31s - loss: 5.6413 - acc: 0.65 - ETA: 31s - loss: 5.8025 - acc: 0.64 - ETA: 30s - loss: 5.5406 - acc: 0.65 - ETA: 30s - loss: 5.5939 - acc: 0.65 - ETA: 30s - loss: 5.5070 - acc: 0.65 - ETA: 30s - loss: 5.4717 - acc: 0.66 - ETA: 30s - loss: 5.4399 - acc: 0.66 - ETA: 29s - loss: 5.4878 - acc: 0.65 - ETA: 29s - loss: 5.5314 - acc: 0.65 - ETA: 29s - loss: 5.5012 - acc: 0.65 - ETA: 29s - loss: 5.5406 - acc: 0.65 - ETA: 29s - loss: 5.4479 - acc: 0.66 - ETA: 29s - loss: 5.4554 - acc: 0.66 - ETA: 28s - loss: 5.4324 - acc: 0.66 - ETA: 28s - loss: 5.4686 - acc: 0.66 - ETA: 28s - loss: 5.4468 - acc: 0.66 - ETA: 28s - loss: 5.5070 - acc: 0.65 - ETA: 28s - loss: 5.3554 - acc: 0.66 - ETA: 27s - loss: 5.2636 - acc: 0.67 - ETA: 27s - loss: 5.2017 - acc: 0.67 - ETA: 27s - loss: 5.1910 - acc: 0.67 - ETA: 27s - loss: 5.2269 - acc: 0.67 - ETA: 27s - loss: 5.2160 - acc: 0.67 - ETA: 27s - loss: 5.3146 - acc: 0.67 - ETA: 26s - loss: 5.3656 - acc: 0.66 - ETA: 26s - loss: 5.3934 - acc: 0.66 - ETA: 26s - loss: 5.3996 - acc: 0.66 - ETA: 26s - loss: 5.4448 - acc: 0.66 - ETA: 25s - loss: 5.3919 - acc: 0.66 - ETA: 25s - loss: 5.3602 - acc: 0.66 - ETA: 25s - loss: 5.3849 - acc: 0.66 - ETA: 25s - loss: 5.5160 - acc: 0.65 - ETA: 25s - loss: 5.5362 - acc: 0.65 - ETA: 24s - loss: 5.5899 - acc: 0.65 - ETA: 24s - loss: 5.5742 - acc: 0.65 - ETA: 24s - loss: 5.5591 - acc: 0.65 - ETA: 24s - loss: 5.5607 - acc: 0.65 - ETA: 24s - loss: 5.5939 - acc: 0.65 - ETA: 23s - loss: 5.5638 - acc: 0.65 - ETA: 23s - loss: 5.5653 - acc: 0.65 - ETA: 23s - loss: 5.5966 - acc: 0.65 - ETA: 23s - loss: 5.5827 - acc: 0.65 - ETA: 22s - loss: 5.6126 - acc: 0.65 - ETA: 22s - loss: 5.5989 - acc: 0.65 - ETA: 22s - loss: 5.5580 - acc: 0.65 - ETA: 22s - loss: 5.5457 - acc: 0.65 - ETA: 22s - loss: 5.5876 - acc: 0.65 - ETA: 21s - loss: 5.6281 - acc: 0.65 - ETA: 21s - loss: 5.6803 - acc: 0.64 - ETA: 21s - loss: 5.6541 - acc: 0.64 - ETA: 21s - loss: 5.6413 - acc: 0.65 - ETA: 21s - loss: 5.6537 - acc: 0.64 - ETA: 20s - loss: 5.6291 - acc: 0.65 - ETA: 20s - loss: 5.6293 - acc: 0.65 - ETA: 20s - loss: 5.5821 - acc: 0.65 - ETA: 20s - loss: 5.5829 - acc: 0.65 - ETA: 19s - loss: 5.6183 - acc: 0.65 - ETA: 19s - loss: 5.6073 - acc: 0.65 - ETA: 19s - loss: 5.6525 - acc: 0.64 - ETA: 19s - loss: 5.6634 - acc: 0.64 - ETA: 19s - loss: 5.6413 - acc: 0.65 - ETA: 18s - loss: 5.7058 - acc: 0.64 - ETA: 18s - loss: 5.7262 - acc: 0.64 - ETA: 18s - loss: 5.7251 - acc: 0.64 - ETA: 18s - loss: 5.7343 - acc: 0.64 - ETA: 17s - loss: 5.7229 - acc: 0.64 - ETA: 17s - loss: 5.6917 - acc: 0.64 - ETA: 17s - loss: 5.6712 - acc: 0.64 - ETA: 17s - loss: 5.6610 - acc: 0.64 - ETA: 17s - loss: 5.6608 - acc: 0.64 - ETA: 16s - loss: 5.6605 - acc: 0.64 - ETA: 16s - loss: 5.6603 - acc: 0.64 - ETA: 16s - loss: 5.6882 - acc: 0.64 - ETA: 16s - loss: 5.6876 - acc: 0.64 - ETA: 15s - loss: 5.6780 - acc: 0.64 - ETA: 15s - loss: 5.6866 - acc: 0.64 - ETA: 15s - loss: 5.6951 - acc: 0.64 - ETA: 15s - loss: 5.6945 - acc: 0.64 - ETA: 15s - loss: 5.6939 - acc: 0.64 - ETA: 14s - loss: 5.6673 - acc: 0.64 - ETA: 14s - loss: 5.6671 - acc: 0.64 - ETA: 14s - loss: 5.6753 - acc: 0.64 - ETA: 14s - loss: 5.6749 - acc: 0.64 - ETA: 14s - loss: 5.6580 - acc: 0.64 - ETA: 13s - loss: 5.6331 - acc: 0.65 - ETA: 13s - loss: 5.6006 - acc: 0.65 - ETA: 13s - loss: 5.6172 - acc: 0.65 - ETA: 13s - loss: 5.6334 - acc: 0.65 - ETA: 12s - loss: 5.6176 - acc: 0.65 - ETA: 12s - loss: 5.6413 - acc: 0.65 - ETA: 12s - loss: 5.6258 - acc: 0.65 - ETA: 12s - loss: 5.6337 - acc: 0.65 - ETA: 12s - loss: 5.6641 - acc: 0.64 - ETA: 11s - loss: 5.6489 - acc: 0.64 - ETA: 11s - loss: 5.6637 - acc: 0.64 - ETA: 11s - loss: 5.6635 - acc: 0.64 - ETA: 11s - loss: 5.6413 - acc: 0.65 - ETA: 10s - loss: 5.6486 - acc: 0.64 - ETA: 10s - loss: 5.6485 - acc: 0.64 - ETA: 10s - loss: 5.6271 - acc: 0.65 - ETA: 10s - loss: 5.5989 - acc: 0.65 - ETA: 10s - loss: 5.5853 - acc: 0.65 - ETA: 9s - loss: 5.5996 - acc: 0.6526 - ETA: 9s - loss: 5.5862 - acc: 0.653 - ETA: 9s - loss: 5.5799 - acc: 0.653 - ETA: 9s - loss: 5.5736 - acc: 0.654 - ETA: 8s - loss: 5.5607 - acc: 0.655 - ETA: 8s - loss: 5.5481 - acc: 0.655 - ETA: 8s - loss: 5.5489 - acc: 0.655 - ETA: 8s - loss: 5.5562 - acc: 0.655 - ETA: 8s - loss: 5.5568 - acc: 0.655 - ETA: 7s - loss: 5.5769 - acc: 0.654 - ETA: 7s - loss: 5.5710 - acc: 0.654 - ETA: 7s - loss: 5.5842 - acc: 0.653 - ETA: 7s - loss: 5.5847 - acc: 0.653 - ETA: 6s - loss: 5.5914 - acc: 0.653 - ETA: 6s - loss: 5.5917 - acc: 0.653 - ETA: 6s - loss: 5.5921 - acc: 0.653 - ETA: 6s - loss: 5.6230 - acc: 0.651 - ETA: 6s - loss: 5.6292 - acc: 0.650 - ETA: 5s - loss: 5.6413 - acc: 0.650 - ETA: 5s - loss: 5.6533 - acc: 0.649 - ETA: 5s - loss: 5.6650 - acc: 0.648 - ETA: 5s - loss: 5.6531 - acc: 0.649 - ETA: 4s - loss: 5.6647 - acc: 0.648 - ETA: 4s - loss: 5.6529 - acc: 0.649 - ETA: 4s - loss: 5.6471 - acc: 0.649 - ETA: 4s - loss: 5.6642 - acc: 0.648 - ETA: 4s - loss: 5.6754 - acc: 0.647 - ETA: 3s - loss: 5.6808 - acc: 0.647 - ETA: 3s - loss: 5.6469 - acc: 0.649 - ETA: 3s - loss: 5.6469 - acc: 0.649 - ETA: 3s - loss: 5.6745 - acc: 0.647 - ETA: 2s - loss: 5.6797 - acc: 0.647 - ETA: 2s - loss: 5.6849 - acc: 0.647 - ETA: 2s - loss: 5.7008 - acc: 0.646 - ETA: 2s - loss: 5.7166 - acc: 0.645 - ETA: 2s - loss: 5.7214 - acc: 0.645 - ETA: 1s - loss: 5.7262 - acc: 0.644 - ETA: 1s - loss: 5.7309 - acc: 0.644 - ETA: 1s - loss: 5.7198 - acc: 0.645 - ETA: 1s - loss: 5.7037 - acc: 0.646 - ETA: 0s - loss: 5.6982 - acc: 0.646 - ETA: 0s - loss: 5.6978 - acc: 0.646 - ETA: 0s - loss: 5.6872 - acc: 0.647 - ETA: 0s - loss: 5.6920 - acc: 0.6469Epoch 00001: val_loss did not improve\n",
      "160/160 [==============================] - 37s - loss: 5.6815 - acc: 0.6475 - val_loss: 8.1830 - val_acc: 0.4923\n",
      "Epoch 3/20\n"
     ]
    },
    {
     "name": "stdout",
     "output_type": "stream",
     "text": [
      "159/160 [============================>.] - ETA: 35s - loss: 8.0590 - acc: 0.50 - ETA: 24s - loss: 4.0295 - acc: 0.75 - ETA: 27s - loss: 4.0295 - acc: 0.75 - ETA: 29s - loss: 5.2384 - acc: 0.67 - ETA: 30s - loss: 5.8025 - acc: 0.64 - ETA: 30s - loss: 5.7757 - acc: 0.64 - ETA: 30s - loss: 5.4111 - acc: 0.66 - ETA: 30s - loss: 5.8428 - acc: 0.63 - ETA: 31s - loss: 5.6413 - acc: 0.65 - ETA: 31s - loss: 5.7219 - acc: 0.64 - ETA: 31s - loss: 5.6413 - acc: 0.65 - ETA: 31s - loss: 5.6413 - acc: 0.65 - ETA: 31s - loss: 5.7033 - acc: 0.64 - ETA: 31s - loss: 5.5838 - acc: 0.65 - ETA: 30s - loss: 5.4264 - acc: 0.66 - ETA: 30s - loss: 5.6413 - acc: 0.65 - ETA: 30s - loss: 5.6413 - acc: 0.65 - ETA: 30s - loss: 5.5518 - acc: 0.65 - ETA: 30s - loss: 5.5989 - acc: 0.65 - ETA: 30s - loss: 5.5607 - acc: 0.65 - ETA: 30s - loss: 5.4495 - acc: 0.66 - ETA: 29s - loss: 5.4582 - acc: 0.66 - ETA: 29s - loss: 5.5012 - acc: 0.65 - ETA: 29s - loss: 5.6078 - acc: 0.65 - ETA: 29s - loss: 5.7058 - acc: 0.64 - ETA: 29s - loss: 5.7033 - acc: 0.64 - ETA: 29s - loss: 5.7010 - acc: 0.64 - ETA: 28s - loss: 5.7565 - acc: 0.64 - ETA: 28s - loss: 5.8359 - acc: 0.63 - ETA: 28s - loss: 5.8562 - acc: 0.63 - ETA: 28s - loss: 5.9013 - acc: 0.63 - ETA: 28s - loss: 5.8680 - acc: 0.63 - ETA: 27s - loss: 5.9344 - acc: 0.63 - ETA: 27s - loss: 5.8784 - acc: 0.63 - ETA: 27s - loss: 5.9176 - acc: 0.63 - ETA: 27s - loss: 5.9100 - acc: 0.63 - ETA: 27s - loss: 5.9027 - acc: 0.63 - ETA: 26s - loss: 5.8746 - acc: 0.63 - ETA: 26s - loss: 5.9100 - acc: 0.63 - ETA: 26s - loss: 5.9033 - acc: 0.63 - ETA: 26s - loss: 5.8379 - acc: 0.63 - ETA: 26s - loss: 5.7948 - acc: 0.64 - ETA: 25s - loss: 5.7913 - acc: 0.64 - ETA: 25s - loss: 5.7512 - acc: 0.64 - ETA: 25s - loss: 5.7130 - acc: 0.64 - ETA: 25s - loss: 5.7640 - acc: 0.64 - ETA: 24s - loss: 5.7442 - acc: 0.64 - ETA: 24s - loss: 5.7589 - acc: 0.64 - ETA: 24s - loss: 5.7729 - acc: 0.64 - ETA: 24s - loss: 5.7864 - acc: 0.64 - ETA: 24s - loss: 5.7836 - acc: 0.64 - ETA: 23s - loss: 5.8273 - acc: 0.63 - ETA: 23s - loss: 5.7782 - acc: 0.64 - ETA: 23s - loss: 5.7458 - acc: 0.64 - ETA: 23s - loss: 5.8025 - acc: 0.64 - ETA: 23s - loss: 5.7996 - acc: 0.64 - ETA: 22s - loss: 5.8393 - acc: 0.63 - ETA: 22s - loss: 5.8359 - acc: 0.63 - ETA: 22s - loss: 5.8735 - acc: 0.63 - ETA: 22s - loss: 5.8831 - acc: 0.63 - ETA: 21s - loss: 5.8395 - acc: 0.63 - ETA: 21s - loss: 5.8103 - acc: 0.63 - ETA: 21s - loss: 5.7565 - acc: 0.64 - ETA: 21s - loss: 5.7798 - acc: 0.64 - ETA: 21s - loss: 5.7653 - acc: 0.64 - ETA: 20s - loss: 5.7634 - acc: 0.64 - ETA: 20s - loss: 5.7376 - acc: 0.64 - ETA: 20s - loss: 5.7598 - acc: 0.64 - ETA: 20s - loss: 5.8049 - acc: 0.63 - ETA: 19s - loss: 5.7795 - acc: 0.64 - ETA: 19s - loss: 5.7548 - acc: 0.64 - ETA: 19s - loss: 5.7980 - acc: 0.64 - ETA: 19s - loss: 5.7849 - acc: 0.64 - ETA: 19s - loss: 5.8156 - acc: 0.63 - ETA: 18s - loss: 5.7703 - acc: 0.64 - ETA: 18s - loss: 5.7474 - acc: 0.64 - ETA: 18s - loss: 5.7251 - acc: 0.64 - ETA: 18s - loss: 5.6930 - acc: 0.64 - ETA: 17s - loss: 5.6821 - acc: 0.64 - ETA: 17s - loss: 5.6716 - acc: 0.64 - ETA: 17s - loss: 5.6712 - acc: 0.64 - ETA: 17s - loss: 5.6413 - acc: 0.65 - ETA: 17s - loss: 5.5928 - acc: 0.65 - ETA: 16s - loss: 5.6030 - acc: 0.65 - ETA: 16s - loss: 5.6129 - acc: 0.65 - ETA: 16s - loss: 5.6038 - acc: 0.65 - ETA: 16s - loss: 5.6043 - acc: 0.65 - ETA: 15s - loss: 5.6139 - acc: 0.65 - ETA: 15s - loss: 5.5870 - acc: 0.65 - ETA: 15s - loss: 5.6055 - acc: 0.65 - ETA: 15s - loss: 5.6236 - acc: 0.65 - ETA: 15s - loss: 5.6326 - acc: 0.65 - ETA: 14s - loss: 5.6067 - acc: 0.65 - ETA: 14s - loss: 5.6070 - acc: 0.65 - ETA: 14s - loss: 5.6074 - acc: 0.65 - ETA: 14s - loss: 5.6413 - acc: 0.65 - ETA: 13s - loss: 5.6496 - acc: 0.64 - ETA: 13s - loss: 5.6084 - acc: 0.65 - ETA: 13s - loss: 5.6332 - acc: 0.65 - ETA: 13s - loss: 5.6413 - acc: 0.65 - ETA: 13s - loss: 5.6334 - acc: 0.65 - ETA: 12s - loss: 5.6255 - acc: 0.65 - ETA: 12s - loss: 5.5944 - acc: 0.65 - ETA: 12s - loss: 5.6026 - acc: 0.65 - ETA: 12s - loss: 5.6183 - acc: 0.65 - ETA: 11s - loss: 5.6261 - acc: 0.65 - ETA: 11s - loss: 5.6037 - acc: 0.65 - ETA: 11s - loss: 5.5891 - acc: 0.65 - ETA: 11s - loss: 5.5896 - acc: 0.65 - ETA: 11s - loss: 5.5754 - acc: 0.65 - ETA: 10s - loss: 5.5905 - acc: 0.65 - ETA: 10s - loss: 5.6126 - acc: 0.65 - ETA: 10s - loss: 5.6057 - acc: 0.65 - ETA: 10s - loss: 5.6060 - acc: 0.65 - ETA: 10s - loss: 5.5923 - acc: 0.65 - ETA: 9s - loss: 5.5996 - acc: 0.6526 - ETA: 9s - loss: 5.5725 - acc: 0.654 - ETA: 9s - loss: 5.5730 - acc: 0.654 - ETA: 9s - loss: 5.5939 - acc: 0.652 - ETA: 8s - loss: 5.6010 - acc: 0.652 - ETA: 8s - loss: 5.5814 - acc: 0.653 - ETA: 8s - loss: 5.5753 - acc: 0.654 - ETA: 8s - loss: 5.5562 - acc: 0.655 - ETA: 8s - loss: 5.5568 - acc: 0.655 - ETA: 7s - loss: 5.5704 - acc: 0.654 - ETA: 7s - loss: 5.5838 - acc: 0.653 - ETA: 7s - loss: 5.5906 - acc: 0.653 - ETA: 7s - loss: 5.6036 - acc: 0.652 - ETA: 6s - loss: 5.5976 - acc: 0.652 - ETA: 6s - loss: 5.5793 - acc: 0.653 - ETA: 6s - loss: 5.5737 - acc: 0.654 - ETA: 6s - loss: 5.5986 - acc: 0.652 - ETA: 6s - loss: 5.6050 - acc: 0.652 - ETA: 5s - loss: 5.6113 - acc: 0.651 - ETA: 5s - loss: 5.5995 - acc: 0.652 - ETA: 5s - loss: 5.5999 - acc: 0.652 - ETA: 5s - loss: 5.6119 - acc: 0.651 - ETA: 4s - loss: 5.6297 - acc: 0.650 - ETA: 4s - loss: 5.6065 - acc: 0.652 - ETA: 4s - loss: 5.5780 - acc: 0.653 - ETA: 4s - loss: 5.5899 - acc: 0.653 - ETA: 4s - loss: 5.5846 - acc: 0.653 - ETA: 3s - loss: 5.5793 - acc: 0.653 - ETA: 3s - loss: 5.5910 - acc: 0.653 - ETA: 3s - loss: 5.5913 - acc: 0.653 - ETA: 3s - loss: 5.5861 - acc: 0.653 - ETA: 2s - loss: 5.5865 - acc: 0.653 - ETA: 2s - loss: 5.5814 - acc: 0.653 - ETA: 2s - loss: 5.5872 - acc: 0.653 - ETA: 2s - loss: 5.6145 - acc: 0.651 - ETA: 2s - loss: 5.6253 - acc: 0.651 - ETA: 1s - loss: 5.6201 - acc: 0.651 - ETA: 1s - loss: 5.6255 - acc: 0.651 - ETA: 1s - loss: 5.6309 - acc: 0.650 - ETA: 1s - loss: 5.6257 - acc: 0.651 - ETA: 0s - loss: 5.6103 - acc: 0.651 - ETA: 0s - loss: 5.6413 - acc: 0.650 - ETA: 0s - loss: 5.6362 - acc: 0.650 - ETA: 0s - loss: 5.6565 - acc: 0.6491Epoch 00002: val_loss improved from 8.05905 to 7.93506, saving model to saved_models/weights3.hdf5\n",
      "160/160 [==============================] - 37s - loss: 5.6516 - acc: 0.6494 - val_loss: 7.9351 - val_acc: 0.5077\n",
      "Epoch 4/20\n"
     ]
    },
    {
     "name": "stdout",
     "output_type": "stream",
     "text": [
      " 85/160 [==============>...............] - ETA: 36s - loss: 5.6413 - acc: 0.65 - ETA: 36s - loss: 5.2384 - acc: 0.67 - ETA: 28s - loss: 4.5668 - acc: 0.71 - ETA: 29s - loss: 4.6340 - acc: 0.71 - ETA: 30s - loss: 4.8354 - acc: 0.70 - ETA: 30s - loss: 5.5070 - acc: 0.65 - ETA: 31s - loss: 5.7565 - acc: 0.64 - ETA: 31s - loss: 5.7421 - acc: 0.64 - ETA: 31s - loss: 5.5518 - acc: 0.65 - ETA: 31s - loss: 5.6413 - acc: 0.65 - ETA: 31s - loss: 5.7146 - acc: 0.64 - ETA: 31s - loss: 5.6413 - acc: 0.65 - ETA: 31s - loss: 5.7033 - acc: 0.64 - ETA: 31s - loss: 5.5838 - acc: 0.65 - ETA: 31s - loss: 5.6413 - acc: 0.65 - ETA: 31s - loss: 5.6413 - acc: 0.65 - ETA: 31s - loss: 5.6413 - acc: 0.65 - ETA: 30s - loss: 5.6861 - acc: 0.64 - ETA: 30s - loss: 5.7686 - acc: 0.64 - ETA: 30s - loss: 5.8831 - acc: 0.63 - ETA: 30s - loss: 5.8332 - acc: 0.63 - ETA: 30s - loss: 5.8978 - acc: 0.63 - ETA: 30s - loss: 5.8165 - acc: 0.63 - ETA: 29s - loss: 5.8428 - acc: 0.63 - ETA: 29s - loss: 5.8348 - acc: 0.63 - ETA: 29s - loss: 5.8273 - acc: 0.63 - ETA: 29s - loss: 5.7607 - acc: 0.64 - ETA: 29s - loss: 5.8140 - acc: 0.63 - ETA: 28s - loss: 5.7525 - acc: 0.64 - ETA: 28s - loss: 5.6682 - acc: 0.64 - ETA: 28s - loss: 5.6153 - acc: 0.65 - ETA: 28s - loss: 5.6413 - acc: 0.65 - ETA: 28s - loss: 5.5925 - acc: 0.65 - ETA: 27s - loss: 5.6413 - acc: 0.65 - ETA: 27s - loss: 5.6413 - acc: 0.65 - ETA: 27s - loss: 5.6637 - acc: 0.64 - ETA: 27s - loss: 5.7067 - acc: 0.64 - ETA: 27s - loss: 5.6625 - acc: 0.64 - ETA: 26s - loss: 5.6827 - acc: 0.64 - ETA: 26s - loss: 5.6413 - acc: 0.65 - ETA: 26s - loss: 5.6020 - acc: 0.65 - ETA: 26s - loss: 5.6221 - acc: 0.65 - ETA: 26s - loss: 5.5476 - acc: 0.65 - ETA: 25s - loss: 5.5681 - acc: 0.65 - ETA: 25s - loss: 5.6234 - acc: 0.65 - ETA: 25s - loss: 5.6589 - acc: 0.64 - ETA: 25s - loss: 5.6242 - acc: 0.65 - ETA: 24s - loss: 5.5742 - acc: 0.65 - ETA: 24s - loss: 5.6084 - acc: 0.65 - ETA: 24s - loss: 5.6091 - acc: 0.65 - ETA: 24s - loss: 5.6097 - acc: 0.65 - ETA: 24s - loss: 5.6413 - acc: 0.65 - ETA: 23s - loss: 5.6870 - acc: 0.64 - ETA: 23s - loss: 5.6712 - acc: 0.64 - ETA: 23s - loss: 5.6706 - acc: 0.64 - ETA: 23s - loss: 5.6701 - acc: 0.64 - ETA: 22s - loss: 5.6413 - acc: 0.65 - ETA: 22s - loss: 5.6135 - acc: 0.65 - ETA: 22s - loss: 5.6277 - acc: 0.65 - ETA: 22s - loss: 5.6413 - acc: 0.65 - ETA: 22s - loss: 5.6149 - acc: 0.65 - ETA: 21s - loss: 5.6413 - acc: 0.65 - ETA: 21s - loss: 5.6669 - acc: 0.64 - ETA: 21s - loss: 5.6539 - acc: 0.64 - ETA: 21s - loss: 5.6413 - acc: 0.65 - ETA: 21s - loss: 5.6413 - acc: 0.65 - ETA: 20s - loss: 5.6654 - acc: 0.64 - ETA: 20s - loss: 5.6532 - acc: 0.64 - ETA: 20s - loss: 5.6530 - acc: 0.64 - ETA: 20s - loss: 5.6413 - acc: 0.65 - ETA: 19s - loss: 5.6754 - acc: 0.64 - ETA: 19s - loss: 5.6749 - acc: 0.64 - ETA: 19s - loss: 5.6745 - acc: 0.64 - ETA: 19s - loss: 5.6849 - acc: 0.64 - ETA: 19s - loss: 5.7166 - acc: 0.64 - ETA: 18s - loss: 5.7050 - acc: 0.64 - ETA: 18s - loss: 5.6832 - acc: 0.64 - ETA: 18s - loss: 5.6413 - acc: 0.65 - ETA: 18s - loss: 5.6515 - acc: 0.64 - ETA: 17s - loss: 5.6716 - acc: 0.64 - ETA: 17s - loss: 5.6712 - acc: 0.64 - ETA: 17s - loss: 5.7101 - acc: 0.64 - ETA: 17s - loss: 5.7287 - acc: 0.64 - ETA: 17s - loss: 5.7181 - acc: 0.64 - ETA: 16s - loss: 5.6982 - acc: 0.6465"
     ]
    }
   ],
   "source": [
    "from keras.callbacks import ModelCheckpoint  \n",
    "\n",
    "epochs = 20\n",
    "\n",
    "checkpointer = ModelCheckpoint(filepath='saved_models/weights3.hdf5', \n",
    "                               verbose=1, save_best_only=True)\n",
    "\n",
    "model.fit_generator(datagen_train.flow(train_tensors, train_labels, batch_size=20),\n",
    "                    steps_per_epoch=train_tensors.shape[0] // 20,\n",
    "                    epochs=epochs, verbose=1, callbacks=[checkpointer],\n",
    "                    validation_data=datagen_valid.flow(valid_tensors, valid_labels, batch_size=20),\n",
    "                    validation_steps=valid_tensors.shape[0] // 20)"
   ]
  },
  {
   "cell_type": "markdown",
   "metadata": {},
   "source": [
    "## Create output .csv for testing"
   ]
  },
  {
   "cell_type": "code",
   "execution_count": 19,
   "metadata": {
    "collapsed": true
   },
   "outputs": [],
   "source": [
    "# Load the model weights with the best validation loss.\n",
    "\n",
    "model.load_weights('saved_models/weights3.hdf5')"
   ]
  },
  {
   "cell_type": "code",
   "execution_count": 21,
   "metadata": {},
   "outputs": [
    {
     "name": "stderr",
     "output_type": "stream",
     "text": [
      "100%|████████████████████████████████████████████████████████████████████████████████| 600/600 [00:12<00:00, 49.93it/s]\n"
     ]
    }
   ],
   "source": [
    "import pandas as pd\n",
    "\n",
    "y_pred = pd.DataFrame(columns=[\"task_1\", \"task_2\"])\n",
    "\n",
    "for ii in tqdm(range(len(test_labels))):\n",
    "    #path = test_files[ii]\n",
    "    prediction = np.argmax(model.predict(np.expand_dims(test_tensors[ii], axis=0)))\n",
    "    if prediction == 0:\n",
    "        y_pred.loc[ii] = [1, 0]\n",
    "    if prediction == 2:\n",
    "        y_pred.loc[ii] = [0, 1]\n",
    "    else:\n",
    "        y_pred.loc[ii] = [0, 0]\n",
    "\n",
    "y_pred.to_csv(\"predictions.csv\")"
   ]
  },
  {
   "cell_type": "markdown",
   "metadata": {
    "collapsed": true
   },
   "source": [
    "## Internal testing vs. ground truths"
   ]
  },
  {
   "cell_type": "code",
   "execution_count": 22,
   "metadata": {
    "collapsed": true
   },
   "outputs": [],
   "source": [
    "import itertools\n",
    "import keras\n",
    "import matplotlib.pyplot as plt\n",
    "import sys\n",
    "from sklearn.metrics import roc_curve, auc, confusion_matrix\n",
    "from keras.preprocessing.image import ImageDataGenerator\n",
    "\n",
    "def plot_roc_auc(y_true, y_pred):\n",
    "    \"\"\"\n",
    "    This function plots the ROC curves and provides the scores.\n",
    "    \"\"\"\n",
    "\n",
    "    # initialize dictionaries and array\n",
    "    fpr = dict()\n",
    "    tpr = dict()\n",
    "    roc_auc = np.zeros(3)\n",
    "    \n",
    "    # prepare for figure\n",
    "    plt.figure()\n",
    "    colors = ['aqua', 'cornflowerblue']\n",
    "\n",
    "    # for both classification tasks (categories 1 and 2)\n",
    "    for i in range(2):\n",
    "        # obtain ROC curve\n",
    "        fpr[i], tpr[i], _ = roc_curve(y_true[:,i], y_pred[:,i])\n",
    "        # obtain ROC AUC\n",
    "        roc_auc[i] = auc(fpr[i], tpr[i])\n",
    "        # plot ROC curve\n",
    "        plt.plot(fpr[i], tpr[i], color=colors[i], lw=2,\n",
    "                 label='ROC curve for task {d} (area = {f:.2f})'.format(d=i+1, f=roc_auc[i]))\n",
    "    # get score for category 3\n",
    "    roc_auc[2] = np.average(roc_auc[:2])\n",
    "    \n",
    "    # format figure\n",
    "    plt.plot([0, 1], [0, 1], 'k--', lw=2)\n",
    "    plt.xlim([0.0, 1.0])\n",
    "    plt.ylim([0.0, 1.05])\n",
    "    plt.xlabel('False Positive Rate')\n",
    "    plt.ylabel('True Positive Rate')\n",
    "    plt.title('ROC curves')\n",
    "    plt.legend(loc=\"lower right\")\n",
    "    plt.show()\n",
    "    \n",
    "    # print scores\n",
    "    for i in range(3):\n",
    "        print('Category {d} Score: {f:.3f}'. format(d=i+1, f=roc_auc[i]))\n",
    "\n",
    "def plot_confusion_matrix(y_true, y_pred, thresh, classes):\n",
    "    \"\"\"\n",
    "    This function plots the (normalized) confusion matrix.\n",
    "    \"\"\"\n",
    "\n",
    "    # obtain class predictions from probabilities\n",
    "    y_pred = (y_pred>=thresh)*1\n",
    "    # obtain (unnormalized) confusion matrix\n",
    "    cm = confusion_matrix(y_true, y_pred)\n",
    "    # normalize confusion matrix\n",
    "    cm = cm.astype('float') / cm.sum(axis=1)[:, np.newaxis]\n",
    "    \n",
    "    plt.figure()\n",
    "    plt.imshow(cm, interpolation='nearest', cmap=plt.cm.Blues)\n",
    "    plt.title('Confusion matrix')\n",
    "    plt.colorbar()\n",
    "    tick_marks = np.arange(len(classes))\n",
    "    plt.xticks(tick_marks, classes, rotation=45)\n",
    "    plt.yticks(tick_marks, classes)\n",
    "\n",
    "    thresh = cm.max() / 2.\n",
    "    for i, j in itertools.product(range(cm.shape[0]), range(cm.shape[1])):\n",
    "        plt.text(j, i, format(cm[i, j], '.2f'),\n",
    "                 horizontalalignment=\"center\",\n",
    "                 color=\"white\" if cm[i, j] > thresh else \"black\")\n",
    "\n",
    "    plt.tight_layout()\n",
    "    plt.ylabel('True label')\n",
    "    plt.xlabel('Predicted label')\n",
    "    plt.show()"
   ]
  },
  {
   "cell_type": "code",
   "execution_count": 23,
   "metadata": {},
   "outputs": [
    {
     "data": {
      "image/png": "[encoded data removed]",
      "text/plain": [
       "<matplotlib.figure.Figure at 0x182f2df4cf8>"
      ]
     },
     "metadata": {},
     "output_type": "display_data"
    },
    {
     "name": "stdout",
     "output_type": "stream",
     "text": [
      "Category 1 Score: 0.500\n",
      "Category 2 Score: 0.787\n",
      "Category 3 Score: 0.643\n"
     ]
    },
    {
     "data": {
      "image/png": "[encoded data removed]",
      "text/plain": [
       "<matplotlib.figure.Figure at 0x182f3117358>"
      ]
     },
     "metadata": {},
     "output_type": "display_data"
    }
   ],
   "source": [
    "preds_path = sys.argv[1]\n",
    "thresh = 0.5\n",
    "\n",
    "# get ground truth labels for test dataset\n",
    "truth = pd.read_csv('ground_truth.csv')\n",
    "y_true = truth.as_matrix(columns=[\"task_1\", \"task_2\"])\n",
    "\n",
    "# get model predictions for test dataset\n",
    "y_pred = pd.read_csv(\"predictions.csv\")\n",
    "y_pred = y_pred.as_matrix(columns=[\"task_1\", \"task_2\"])\n",
    "\n",
    "# plot ROC curves and print scores\n",
    "plot_roc_auc(y_true, y_pred)\n",
    "# plot confusion matrix\n",
    "classes = ['benign', 'malignant']\n",
    "plot_confusion_matrix(y_true[:,0], y_pred[:,0], thresh, classes)\n"
   ]
  },
  {
   "cell_type": "code",
   "execution_count": null,
   "metadata": {
    "collapsed": true
   },
   "outputs": [],
   "source": []
  }
 ],
 "metadata": {
  "kernelspec": {
   "display_name": "Python 3",
   "language": "python",
   "name": "python3"
  },
  "language_info": {
   "codemirror_mode": {
    "name": "ipython",
    "version": 3
   },
   "file_extension": ".py",
   "mimetype": "text/x-python",
   "name": "python",
   "nbconvert_exporter": "python",
   "pygments_lexer": "ipython3",
   "version": "3.6.2"
  }
 },
 "nbformat": 4,
 "nbformat_minor": 2
}
