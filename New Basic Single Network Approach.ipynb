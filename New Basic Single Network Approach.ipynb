{
 "cells": [
  {
   "cell_type": "markdown",
   "metadata": {},
   "source": [
    "# Dermatologist-AI Project: Single Network Approach\n",
    "Workbook for a single network approach that classifies images into melanomas, nevus, or SBK"
   ]
  },
  {
   "cell_type": "markdown",
   "metadata": {},
   "source": [
    "### Set up and process data"
   ]
  },
  {
   "cell_type": "code",
   "execution_count": 1,
   "metadata": {},
   "outputs": [
    {
     "name": "stderr",
     "output_type": "stream",
     "text": [
      "Using TensorFlow backend.\n"
     ]
    }
   ],
   "source": [
    "from sklearn.datasets import load_files       \n",
    "from keras.utils import np_utils\n",
    "import numpy as np\n",
    "from glob import glob\n",
    "from keras.preprocessing import image                  \n",
    "from keras.applications.vgg19 import preprocess_input\n",
    "from tqdm import tqdm\n",
    "from PIL import ImageFile                            \n",
    "import os\n",
    "import pickle\n",
    "ImageFile.LOAD_TRUNCATED_IMAGES = True      \n",
    "\n",
    "\n",
    "# define function to load train, test, and validation datasets\n",
    "def load_dataset(path, shuffle):\n",
    "    data = load_files(path, shuffle=shuffle)\n",
    "    file_paths = np.array(data['filenames'])\n",
    "    one_hot_labels = np_utils.to_categorical(np.array(data['target']),3)\n",
    "    return file_paths, one_hot_labels\n",
    "\n",
    "# define functions to convert images into 4D tensors for convnets\n",
    "def path_to_tensor(img_path):\n",
    "    # loads RGB image as PIL.Image.Image type\n",
    "    img = image.load_img(img_path, target_size=(224, 224))\n",
    "    # convert PIL.Image.Image type to 3D tensor with shape (224, 224, 3)\n",
    "    x = image.img_to_array(img)\n",
    "    x = preprocess_input(x)\n",
    "    # convert 3D tensor to 4D tensor with shape (1, 224, 224, 3) and return 4D tensor\n",
    "    return np.expand_dims(x, axis=0)\n",
    "\n",
    "def paths_to_tensor(img_paths):\n",
    "    list_of_tensors = [path_to_tensor(img_path) for img_path in tqdm(img_paths)]\n",
    "    return np.vstack(list_of_tensors) \n",
    "\n",
    "# define function to decide whether to load tensors from a saved pickle or raw images\n",
    "def load_tensors_and_labels(pickle_file, raw_file_path, shuffle, force=False):\n",
    "    pickle_file = os.path.join('.', pickle_file)\n",
    " \n",
    "    if force or not os.path.exists(pickle_file):\n",
    "        files, labels = load_dataset(raw_file_path, shuffle)\n",
    "        tensors = paths_to_tensor(files).astype('float32')/255\n",
    "        with open(pickle_file, 'wb') as handle:\n",
    "            pickle.dump([tensors, labels], handle, protocol=pickle.HIGHEST_PROTOCOL)\n",
    "        return tensors, labels\n",
    "\n",
    "    else:        \n",
    "        with open(pickle_file, 'rb') as handle:\n",
    "            tensors, labels = pickle.load(handle)        \n",
    "        return tensors, labels\n",
    "    "
   ]
  },
  {
   "cell_type": "code",
   "execution_count": 2,
   "metadata": {},
   "outputs": [
    {
     "name": "stderr",
     "output_type": "stream",
     "text": [
      "100%|██████████████████████████████████████████████████████████████████████████████| 2000/2000 [03:53<00:00,  8.57it/s]\n",
      "100%|████████████████████████████████████████████████████████████████████████████████| 150/150 [00:33<00:00,  4.46it/s]\n",
      "100%|████████████████████████████████████████████████████████████████████████████████| 600/600 [03:19<00:00, 11.11it/s]\n"
     ]
    }
   ],
   "source": [
    "# Load data\n",
    "\n",
    "train_tensors, train_labels = load_tensors_and_labels('train_data.pickle','../data/train', True)\n",
    "valid_tensors, valid_labels = load_tensors_and_labels('valid_data.pickle','../data/valid', True)\n",
    "test_tensors, test_labels = load_tensors_and_labels('test_data.pickle','../data/test', False)\n",
    "\n",
    "# load list of skin condition names\n",
    "skin_names = [item[14:-1] for item in sorted(glob(\"../data/train/*/\"))]\n"
   ]
  },
  {
   "cell_type": "markdown",
   "metadata": {},
   "source": [
    "Network based on four three layers of VGG19 followed by trainable convnet and dense layers"
   ]
  },
  {
   "cell_type": "code",
   "execution_count": 65,
   "metadata": {},
   "outputs": [
    {
     "name": "stdout",
     "output_type": "stream",
     "text": [
      "_________________________________________________________________\n",
      "Layer (type)                 Output Shape              Param #   \n",
      "=================================================================\n",
      "block1_conv1 (Conv2D)        (None, 224, 224, 64)      1792      \n",
      "_________________________________________________________________\n",
      "block1_conv2 (Conv2D)        (None, 224, 224, 64)      36928     \n",
      "_________________________________________________________________\n",
      "block1_pool (MaxPooling2D)   (None, 112, 112, 64)      0         \n",
      "_________________________________________________________________\n",
      "block2_conv1 (Conv2D)        (None, 112, 112, 128)     73856     \n",
      "_________________________________________________________________\n",
      "block2_conv2 (Conv2D)        (None, 112, 112, 128)     147584    \n",
      "_________________________________________________________________\n",
      "block2_pool (MaxPooling2D)   (None, 56, 56, 128)       0         \n",
      "_________________________________________________________________\n",
      "block3_conv1 (Conv2D)        (None, 56, 56, 256)       295168    \n",
      "_________________________________________________________________\n",
      "block3_conv2 (Conv2D)        (None, 56, 56, 256)       590080    \n",
      "_________________________________________________________________\n",
      "block3_conv3 (Conv2D)        (None, 56, 56, 256)       590080    \n",
      "_________________________________________________________________\n",
      "block3_conv4 (Conv2D)        (None, 56, 56, 256)       590080    \n",
      "_________________________________________________________________\n",
      "block3_pool (MaxPooling2D)   (None, 28, 28, 256)       0         \n",
      "_________________________________________________________________\n",
      "block4_conv1 (Conv2D)        (None, 28, 28, 512)       1180160   \n",
      "_________________________________________________________________\n",
      "block4_conv2 (Conv2D)        (None, 28, 28, 512)       2359808   \n",
      "_________________________________________________________________\n",
      "block4_conv3 (Conv2D)        (None, 28, 28, 512)       2359808   \n",
      "_________________________________________________________________\n",
      "block4_conv4 (Conv2D)        (None, 28, 28, 512)       2359808   \n",
      "_________________________________________________________________\n",
      "block4_pool (MaxPooling2D)   (None, 14, 14, 512)       0         \n",
      "_________________________________________________________________\n",
      "dropout_25 (Dropout)         (None, 14, 14, 512)       0         \n",
      "_________________________________________________________________\n",
      "block5_conv1 (Conv2D)        (None, 14, 14, 512)       2359808   \n",
      "_________________________________________________________________\n",
      "block5_conv2 (Conv2D)        (None, 14, 14, 512)       2359808   \n",
      "_________________________________________________________________\n",
      "block5_pool (MaxPooling2D)   (None, 7, 7, 512)         0         \n",
      "_________________________________________________________________\n",
      "dropout_26 (Dropout)         (None, 7, 7, 512)         0         \n",
      "_________________________________________________________________\n",
      "flatten_7 (Flatten)          (None, 25088)             0         \n",
      "_________________________________________________________________\n",
      "dense_18 (Dense)             (None, 256)               6422784   \n",
      "_________________________________________________________________\n",
      "dropout_27 (Dropout)         (None, 256)               0         \n",
      "_________________________________________________________________\n",
      "dense_19 (Dense)             (None, 128)               32896     \n",
      "_________________________________________________________________\n",
      "dropout_28 (Dropout)         (None, 128)               0         \n",
      "_________________________________________________________________\n",
      "dense_20 (Dense)             (None, 3)                 387       \n",
      "=================================================================\n",
      "Total params: 21,760,835\n",
      "Trainable params: 11,175,683\n",
      "Non-trainable params: 10,585,152\n",
      "_________________________________________________________________\n"
     ]
    }
   ],
   "source": [
    "from keras.layers import Conv2D, MaxPooling2D, GlobalAveragePooling2D\n",
    "from keras.layers import Dropout, Flatten, Dense\n",
    "from keras.models import Sequential\n",
    "\n",
    "model = Sequential()\n",
    "\n",
    "#First 4 blocks of VGG19\n",
    "model.add(Conv2D(filters=64, kernel_size=3, padding='same', activation='relu', trainable=False, name='block1_conv1', \n",
    "                        input_shape=(224, 224, 3)))\n",
    "model.add(Conv2D(filters=64, kernel_size=3, padding='same', activation='relu', trainable=False, name='block1_conv2'))\n",
    "model.add(MaxPooling2D(pool_size=2, name='block1_pool'))\n",
    "model.add(Conv2D(filters=128, kernel_size=3, padding='same', activation='relu', trainable=False, name='block2_conv1'))\n",
    "model.add(Conv2D(filters=128, kernel_size=3, padding='same', activation='relu', trainable=False, name='block2_conv2'))\n",
    "model.add(MaxPooling2D(pool_size=2, name='block2_pool'))\n",
    "model.add(Dropout(0.5))\n",
    "model.add(Conv2D(filters=256, kernel_size=3, padding='same', activation='relu', trainable=False, name='block3_conv1'))\n",
    "model.add(Conv2D(filters=256, kernel_size=3, padding='same', activation='relu', trainable=False, name='block3_conv2'))\n",
    "model.add(Conv2D(filters=256, kernel_size=3, padding='same', activation='relu', trainable=False, name='block3_conv3'))\n",
    "model.add(Conv2D(filters=256, kernel_size=3, padding='same', activation='relu', trainable=False, name='block3_conv4'))\n",
    "model.add(MaxPooling2D(pool_size=2, name='block3_pool'))\n",
    "model.add(Dropout(0.5))\n",
    "model.add(Conv2D(filters=512, kernel_size=3, padding='same', activation='relu', trainable=False, name='block4_conv1'))\n",
    "model.add(Conv2D(filters=512, kernel_size=3, padding='same', activation='relu', trainable=False, name='block4_conv2'))\n",
    "model.add(Conv2D(filters=512, kernel_size=3, padding='same', activation='relu', trainable=False, name='block4_conv3'))\n",
    "model.add(Conv2D(filters=512, kernel_size=3, padding='same', activation='relu', trainable=False, name='block4_conv4'))\n",
    "model.add(MaxPooling2D(pool_size=2, name='block4_pool'))\n",
    "\n",
    "#First 1 trainable convnet block\n",
    "model.add(Dropout(0.5))\n",
    "model.add(Conv2D(filters=512, kernel_size=3, padding='same', activation='relu', trainable=True, name='block5_conv1'))\n",
    "model.add(Conv2D(filters=512, kernel_size=3, padding='same', activation='relu', trainable=True, name='block5_conv2'))\n",
    "model.add(MaxPooling2D(pool_size=2, name='block5_pool'))\n",
    "model.add(Dropout(0.5))\n",
    "\n",
    "#Trainable dense layers\n",
    "model.add(Flatten())\n",
    "model.add(Dense(256, activation='relu'))\n",
    "model.add(Dropout(0.5))\n",
    "model.add(Dense(128, activation='relu'))\n",
    "model.add(Dropout(0.5))\n",
    "model.add(Dense(3, activation='softmax'))\n",
    "\n",
    "model.summary()\n",
    "\n"
   ]
  },
  {
   "cell_type": "markdown",
   "metadata": {
    "collapsed": true
   },
   "source": [
    "Import and assign VGG19 weights"
   ]
  },
  {
   "cell_type": "code",
   "execution_count": 66,
   "metadata": {
    "collapsed": true
   },
   "outputs": [],
   "source": [
    "from keras import optimizers\n",
    "opt = optimizers.rmsprop(lr=0.00005, decay=1e-6)\n",
    "model.compile(optimizer=opt, loss='categorical_crossentropy', metrics=['accuracy'])"
   ]
  },
  {
   "cell_type": "code",
   "execution_count": 67,
   "metadata": {},
   "outputs": [],
   "source": [
    "from keras import applications\n",
    "import h5py\n",
    "\n",
    "weights_path = 'vgg19_weights.h5'\n",
    "f = h5py.File(weights_path, 'r')\n",
    "\n",
    "VGGnet_layers = ['block1_conv1',\n",
    "                 'block1_conv2',\n",
    "                 'block2_conv1',\n",
    "                 'block2_conv2',\n",
    "                 'block3_conv1',\n",
    "                 'block3_conv2',\n",
    "                 'block3_conv3',\n",
    "                 'block3_conv4',\n",
    "                 'block4_conv1',\n",
    "                 'block4_conv2',\n",
    "                 'block4_conv3',\n",
    "                 'block4_conv4']\n",
    "layer_names = [layer.name for layer in model.layers]\n",
    "\n",
    "for i in VGGnet_layers:\n",
    "    weight_names = f[i].attrs[\"weight_names\"]    \n",
    "    weights = [f[i][j] for j in weight_names]\n",
    "    index = layer_names.index(i)\n",
    "    model.layers[index].set_weights(weights)\n"
   ]
  },
  {
   "cell_type": "code",
   "execution_count": 68,
   "metadata": {},
   "outputs": [
    {
     "name": "stdout",
     "output_type": "stream",
     "text": [
      "Train on 2000 samples, validate on 150 samples\n",
      "Epoch 1/20\n",
      "1980/2000 [============================>.] - ETA: 171s - loss: 3.5028 - acc: 0.350 - ETA: 123s - loss: 2.7339 - acc: 0.575 - ETA: 106s - loss: 2.5942 - acc: 0.600 - ETA: 97s - loss: 2.5878 - acc: 0.512 - ETA: 91s - loss: 2.5962 - acc: 0.56 - ETA: 87s - loss: 3.1293 - acc: 0.54 - ETA: 84s - loss: 3.1372 - acc: 0.51 - ETA: 82s - loss: 3.0917 - acc: 0.47 - ETA: 80s - loss: 2.9872 - acc: 0.47 - ETA: 78s - loss: 2.8210 - acc: 0.48 - ETA: 77s - loss: 2.6895 - acc: 0.50 - ETA: 75s - loss: 2.5437 - acc: 0.52 - ETA: 74s - loss: 2.5052 - acc: 0.52 - ETA: 73s - loss: 2.4076 - acc: 0.52 - ETA: 71s - loss: 2.3275 - acc: 0.52 - ETA: 70s - loss: 2.2669 - acc: 0.52 - ETA: 69s - loss: 2.2277 - acc: 0.52 - ETA: 68s - loss: 2.1788 - acc: 0.52 - ETA: 67s - loss: 2.1018 - acc: 0.53 - ETA: 66s - loss: 2.0538 - acc: 0.53 - ETA: 65s - loss: 2.0531 - acc: 0.52 - ETA: 64s - loss: 2.0183 - acc: 0.52 - ETA: 63s - loss: 1.9882 - acc: 0.52 - ETA: 62s - loss: 1.9580 - acc: 0.52 - ETA: 61s - loss: 1.9095 - acc: 0.53 - ETA: 60s - loss: 1.8760 - acc: 0.53 - ETA: 59s - loss: 1.8399 - acc: 0.54 - ETA: 58s - loss: 1.8364 - acc: 0.54 - ETA: 58s - loss: 1.8138 - acc: 0.53 - ETA: 57s - loss: 1.7893 - acc: 0.53 - ETA: 56s - loss: 1.7627 - acc: 0.54 - ETA: 55s - loss: 1.7281 - acc: 0.54 - ETA: 54s - loss: 1.7173 - acc: 0.54 - ETA: 53s - loss: 1.6957 - acc: 0.54 - ETA: 52s - loss: 1.6867 - acc: 0.54 - ETA: 51s - loss: 1.6694 - acc: 0.54 - ETA: 51s - loss: 1.6546 - acc: 0.55 - ETA: 50s - loss: 1.6373 - acc: 0.55 - ETA: 49s - loss: 1.6152 - acc: 0.55 - ETA: 48s - loss: 1.6029 - acc: 0.56 - ETA: 47s - loss: 1.5974 - acc: 0.55 - ETA: 46s - loss: 1.5818 - acc: 0.55 - ETA: 45s - loss: 1.5707 - acc: 0.55 - ETA: 45s - loss: 1.5573 - acc: 0.55 - ETA: 44s - loss: 1.5361 - acc: 0.56 - ETA: 43s - loss: 1.5339 - acc: 0.55 - ETA: 42s - loss: 1.5230 - acc: 0.55 - ETA: 41s - loss: 1.5120 - acc: 0.56 - ETA: 40s - loss: 1.4976 - acc: 0.56 - ETA: 40s - loss: 1.4864 - acc: 0.56 - ETA: 39s - loss: 1.4763 - acc: 0.56 - ETA: 38s - loss: 1.4626 - acc: 0.56 - ETA: 37s - loss: 1.4503 - acc: 0.56 - ETA: 36s - loss: 1.4447 - acc: 0.56 - ETA: 35s - loss: 1.4340 - acc: 0.56 - ETA: 35s - loss: 1.4250 - acc: 0.56 - ETA: 34s - loss: 1.4170 - acc: 0.56 - ETA: 33s - loss: 1.4097 - acc: 0.56 - ETA: 32s - loss: 1.4119 - acc: 0.56 - ETA: 31s - loss: 1.4046 - acc: 0.56 - ETA: 31s - loss: 1.3892 - acc: 0.56 - ETA: 30s - loss: 1.3853 - acc: 0.56 - ETA: 29s - loss: 1.3784 - acc: 0.57 - ETA: 28s - loss: 1.3741 - acc: 0.57 - ETA: 27s - loss: 1.3670 - acc: 0.57 - ETA: 27s - loss: 1.3628 - acc: 0.57 - ETA: 26s - loss: 1.3563 - acc: 0.57 - ETA: 25s - loss: 1.3500 - acc: 0.57 - ETA: 24s - loss: 1.3507 - acc: 0.57 - ETA: 23s - loss: 1.3435 - acc: 0.57 - ETA: 23s - loss: 1.3372 - acc: 0.57 - ETA: 22s - loss: 1.3309 - acc: 0.57 - ETA: 21s - loss: 1.3219 - acc: 0.57 - ETA: 20s - loss: 1.3165 - acc: 0.57 - ETA: 19s - loss: 1.3119 - acc: 0.57 - ETA: 19s - loss: 1.3144 - acc: 0.58 - ETA: 18s - loss: 1.3116 - acc: 0.58 - ETA: 17s - loss: 1.3051 - acc: 0.58 - ETA: 16s - loss: 1.3020 - acc: 0.58 - ETA: 15s - loss: 1.2961 - acc: 0.58 - ETA: 15s - loss: 1.2886 - acc: 0.58 - ETA: 14s - loss: 1.2854 - acc: 0.58 - ETA: 13s - loss: 1.2829 - acc: 0.58 - ETA: 12s - loss: 1.2807 - acc: 0.58 - ETA: 11s - loss: 1.2764 - acc: 0.58 - ETA: 11s - loss: 1.2695 - acc: 0.58 - ETA: 10s - loss: 1.2615 - acc: 0.59 - ETA: 9s - loss: 1.2551 - acc: 0.5920 - ETA: 8s - loss: 1.2500 - acc: 0.594 - ETA: 7s - loss: 1.2441 - acc: 0.596 - ETA: 7s - loss: 1.2442 - acc: 0.596 - ETA: 6s - loss: 1.2411 - acc: 0.596 - ETA: 5s - loss: 1.2363 - acc: 0.596 - ETA: 4s - loss: 1.2302 - acc: 0.597 - ETA: 3s - loss: 1.2256 - acc: 0.597 - ETA: 3s - loss: 1.2206 - acc: 0.599 - ETA: 2s - loss: 1.2178 - acc: 0.600 - ETA: 1s - loss: 1.2119 - acc: 0.601 - ETA: 0s - loss: 1.2096 - acc: 0.6025Epoch 00000: val_loss improved from inf to 1.08661, saving model to saved_models/weights1.hdf5\n",
      "2000/2000 [==============================] - 84s - loss: 1.2061 - acc: 0.6020 - val_loss: 1.0866 - val_acc: 0.5133\n",
      "Epoch 2/20\n",
      "1980/2000 [============================>.] - ETA: 74s - loss: 1.1063 - acc: 0.45 - ETA: 74s - loss: 0.8629 - acc: 0.57 - ETA: 73s - loss: 0.8378 - acc: 0.63 - ETA: 73s - loss: 0.9071 - acc: 0.63 - ETA: 72s - loss: 1.0104 - acc: 0.61 - ETA: 71s - loss: 0.9910 - acc: 0.60 - ETA: 70s - loss: 0.9403 - acc: 0.64 - ETA: 69s - loss: 0.9255 - acc: 0.65 - ETA: 69s - loss: 0.9500 - acc: 0.65 - ETA: 68s - loss: 0.9432 - acc: 0.65 - ETA: 67s - loss: 0.9054 - acc: 0.67 - ETA: 66s - loss: 0.8861 - acc: 0.67 - ETA: 66s - loss: 0.8777 - acc: 0.67 - ETA: 65s - loss: 0.8701 - acc: 0.67 - ETA: 64s - loss: 0.8666 - acc: 0.68 - ETA: 63s - loss: 0.8685 - acc: 0.68 - ETA: 62s - loss: 0.8641 - acc: 0.67 - ETA: 62s - loss: 0.8747 - acc: 0.67 - ETA: 61s - loss: 0.8656 - acc: 0.68 - ETA: 60s - loss: 0.8593 - acc: 0.69 - ETA: 59s - loss: 0.8736 - acc: 0.68 - ETA: 59s - loss: 0.8743 - acc: 0.68 - ETA: 58s - loss: 0.8627 - acc: 0.68 - ETA: 57s - loss: 0.8775 - acc: 0.68 - ETA: 56s - loss: 0.8683 - acc: 0.69 - ETA: 56s - loss: 0.8730 - acc: 0.68 - ETA: 55s - loss: 0.8744 - acc: 0.68 - ETA: 54s - loss: 0.8726 - acc: 0.67 - ETA: 53s - loss: 0.8828 - acc: 0.66 - ETA: 53s - loss: 0.8807 - acc: 0.67 - ETA: 52s - loss: 0.8810 - acc: 0.67 - ETA: 51s - loss: 0.8844 - acc: 0.67 - ETA: 50s - loss: 0.8888 - acc: 0.66 - ETA: 50s - loss: 0.8920 - acc: 0.66 - ETA: 49s - loss: 0.8894 - acc: 0.66 - ETA: 48s - loss: 0.8925 - acc: 0.66 - ETA: 47s - loss: 0.8901 - acc: 0.66 - ETA: 47s - loss: 0.8880 - acc: 0.66 - ETA: 46s - loss: 0.8820 - acc: 0.66 - ETA: 45s - loss: 0.8825 - acc: 0.65 - ETA: 44s - loss: 0.8775 - acc: 0.65 - ETA: 44s - loss: 0.8817 - acc: 0.65 - ETA: 43s - loss: 0.8774 - acc: 0.65 - ETA: 42s - loss: 0.8746 - acc: 0.65 - ETA: 41s - loss: 0.8674 - acc: 0.66 - ETA: 40s - loss: 0.8827 - acc: 0.65 - ETA: 40s - loss: 0.8764 - acc: 0.66 - ETA: 39s - loss: 0.8732 - acc: 0.66 - ETA: 38s - loss: 0.8760 - acc: 0.65 - ETA: 37s - loss: 0.8722 - acc: 0.66 - ETA: 37s - loss: 0.8702 - acc: 0.65 - ETA: 36s - loss: 0.8627 - acc: 0.66 - ETA: 35s - loss: 0.8693 - acc: 0.66 - ETA: 34s - loss: 0.8652 - acc: 0.66 - ETA: 34s - loss: 0.8659 - acc: 0.66 - ETA: 33s - loss: 0.8691 - acc: 0.65 - ETA: 32s - loss: 0.8746 - acc: 0.65 - ETA: 31s - loss: 0.8734 - acc: 0.65 - ETA: 31s - loss: 0.8754 - acc: 0.65 - ETA: 30s - loss: 0.8760 - acc: 0.65 - ETA: 29s - loss: 0.8736 - acc: 0.65 - ETA: 28s - loss: 0.8779 - acc: 0.65 - ETA: 28s - loss: 0.8739 - acc: 0.65 - ETA: 27s - loss: 0.8711 - acc: 0.65 - ETA: 26s - loss: 0.8726 - acc: 0.65 - ETA: 25s - loss: 0.8699 - acc: 0.65 - ETA: 25s - loss: 0.8687 - acc: 0.65 - ETA: 24s - loss: 0.8668 - acc: 0.66 - ETA: 23s - loss: 0.8640 - acc: 0.66 - ETA: 22s - loss: 0.8615 - acc: 0.66 - ETA: 22s - loss: 0.8574 - acc: 0.66 - ETA: 21s - loss: 0.8617 - acc: 0.66 - ETA: 20s - loss: 0.8611 - acc: 0.66 - ETA: 19s - loss: 0.8607 - acc: 0.66 - ETA: 19s - loss: 0.8598 - acc: 0.65 - ETA: 18s - loss: 0.8567 - acc: 0.65 - ETA: 17s - loss: 0.8570 - acc: 0.65 - ETA: 16s - loss: 0.8571 - acc: 0.65 - ETA: 16s - loss: 0.8530 - acc: 0.66 - ETA: 15s - loss: 0.8543 - acc: 0.66 - ETA: 14s - loss: 0.8515 - acc: 0.66 - ETA: 13s - loss: 0.8481 - acc: 0.66 - ETA: 12s - loss: 0.8451 - acc: 0.66 - ETA: 12s - loss: 0.8459 - acc: 0.66 - ETA: 11s - loss: 0.8467 - acc: 0.66 - ETA: 10s - loss: 0.8445 - acc: 0.66 - ETA: 9s - loss: 0.8430 - acc: 0.6655 - ETA: 9s - loss: 0.8390 - acc: 0.668 - ETA: 8s - loss: 0.8366 - acc: 0.669 - ETA: 7s - loss: 0.8383 - acc: 0.669 - ETA: 6s - loss: 0.8357 - acc: 0.670 - ETA: 6s - loss: 0.8302 - acc: 0.672 - ETA: 5s - loss: 0.8343 - acc: 0.672 - ETA: 4s - loss: 0.8336 - acc: 0.671 - ETA: 3s - loss: 0.8319 - acc: 0.673 - ETA: 3s - loss: 0.8317 - acc: 0.673 - ETA: 2s - loss: 0.8296 - acc: 0.674 - ETA: 1s - loss: 0.8291 - acc: 0.673 - ETA: 0s - loss: 0.8278 - acc: 0.6737Epoch 00001: val_loss improved from 1.08661 to 0.87210, saving model to saved_models/weights1.hdf5\n",
      "2000/2000 [==============================] - 81s - loss: 0.8281 - acc: 0.6725 - val_loss: 0.8721 - val_acc: 0.6267\n",
      "Epoch 3/20\n"
     ]
    },
    {
     "name": "stdout",
     "output_type": "stream",
     "text": [
      "1980/2000 [============================>.] - ETA: 73s - loss: 0.5114 - acc: 0.80 - ETA: 74s - loss: 0.5636 - acc: 0.80 - ETA: 72s - loss: 0.7199 - acc: 0.75 - ETA: 72s - loss: 0.7604 - acc: 0.71 - ETA: 71s - loss: 0.7981 - acc: 0.70 - ETA: 71s - loss: 0.7718 - acc: 0.70 - ETA: 70s - loss: 0.8101 - acc: 0.67 - ETA: 69s - loss: 0.7930 - acc: 0.67 - ETA: 68s - loss: 0.7875 - acc: 0.67 - ETA: 68s - loss: 0.7689 - acc: 0.68 - ETA: 67s - loss: 0.7632 - acc: 0.68 - ETA: 66s - loss: 0.7612 - acc: 0.67 - ETA: 65s - loss: 0.7408 - acc: 0.68 - ETA: 65s - loss: 0.7308 - acc: 0.68 - ETA: 64s - loss: 0.7274 - acc: 0.69 - ETA: 63s - loss: 0.7326 - acc: 0.68 - ETA: 62s - loss: 0.7190 - acc: 0.69 - ETA: 62s - loss: 0.7218 - acc: 0.68 - ETA: 61s - loss: 0.7180 - acc: 0.69 - ETA: 60s - loss: 0.7169 - acc: 0.69 - ETA: 59s - loss: 0.7136 - acc: 0.69 - ETA: 59s - loss: 0.7105 - acc: 0.70 - ETA: 58s - loss: 0.7068 - acc: 0.70 - ETA: 57s - loss: 0.7160 - acc: 0.70 - ETA: 56s - loss: 0.7112 - acc: 0.70 - ETA: 56s - loss: 0.7099 - acc: 0.70 - ETA: 55s - loss: 0.7143 - acc: 0.70 - ETA: 54s - loss: 0.7116 - acc: 0.71 - ETA: 53s - loss: 0.7088 - acc: 0.71 - ETA: 52s - loss: 0.7173 - acc: 0.71 - ETA: 52s - loss: 0.7185 - acc: 0.70 - ETA: 51s - loss: 0.7115 - acc: 0.71 - ETA: 50s - loss: 0.7089 - acc: 0.71 - ETA: 49s - loss: 0.7087 - acc: 0.71 - ETA: 49s - loss: 0.7003 - acc: 0.71 - ETA: 48s - loss: 0.7019 - acc: 0.71 - ETA: 47s - loss: 0.7067 - acc: 0.71 - ETA: 46s - loss: 0.7065 - acc: 0.71 - ETA: 46s - loss: 0.7058 - acc: 0.71 - ETA: 45s - loss: 0.7082 - acc: 0.71 - ETA: 44s - loss: 0.7116 - acc: 0.71 - ETA: 43s - loss: 0.7115 - acc: 0.71 - ETA: 43s - loss: 0.7114 - acc: 0.71 - ETA: 42s - loss: 0.7122 - acc: 0.71 - ETA: 41s - loss: 0.7116 - acc: 0.70 - ETA: 40s - loss: 0.7162 - acc: 0.70 - ETA: 40s - loss: 0.7121 - acc: 0.71 - ETA: 39s - loss: 0.7194 - acc: 0.70 - ETA: 38s - loss: 0.7227 - acc: 0.70 - ETA: 37s - loss: 0.7194 - acc: 0.70 - ETA: 37s - loss: 0.7145 - acc: 0.70 - ETA: 36s - loss: 0.7152 - acc: 0.70 - ETA: 35s - loss: 0.7184 - acc: 0.70 - ETA: 34s - loss: 0.7208 - acc: 0.69 - ETA: 34s - loss: 0.7209 - acc: 0.69 - ETA: 33s - loss: 0.7243 - acc: 0.69 - ETA: 32s - loss: 0.7245 - acc: 0.69 - ETA: 31s - loss: 0.7230 - acc: 0.69 - ETA: 31s - loss: 0.7180 - acc: 0.69 - ETA: 30s - loss: 0.7183 - acc: 0.69 - ETA: 29s - loss: 0.7231 - acc: 0.69 - ETA: 28s - loss: 0.7229 - acc: 0.69 - ETA: 27s - loss: 0.7198 - acc: 0.69 - ETA: 27s - loss: 0.7203 - acc: 0.69 - ETA: 26s - loss: 0.7251 - acc: 0.69 - ETA: 25s - loss: 0.7264 - acc: 0.69 - ETA: 24s - loss: 0.7244 - acc: 0.69 - ETA: 24s - loss: 0.7261 - acc: 0.69 - ETA: 23s - loss: 0.7265 - acc: 0.69 - ETA: 22s - loss: 0.7295 - acc: 0.69 - ETA: 21s - loss: 0.7256 - acc: 0.69 - ETA: 21s - loss: 0.7223 - acc: 0.70 - ETA: 20s - loss: 0.7191 - acc: 0.70 - ETA: 19s - loss: 0.7190 - acc: 0.70 - ETA: 18s - loss: 0.7191 - acc: 0.70 - ETA: 18s - loss: 0.7192 - acc: 0.70 - ETA: 17s - loss: 0.7181 - acc: 0.70 - ETA: 16s - loss: 0.7188 - acc: 0.70 - ETA: 15s - loss: 0.7198 - acc: 0.70 - ETA: 15s - loss: 0.7184 - acc: 0.70 - ETA: 14s - loss: 0.7219 - acc: 0.70 - ETA: 13s - loss: 0.7228 - acc: 0.69 - ETA: 12s - loss: 0.7245 - acc: 0.69 - ETA: 12s - loss: 0.7268 - acc: 0.69 - ETA: 11s - loss: 0.7273 - acc: 0.69 - ETA: 10s - loss: 0.7236 - acc: 0.69 - ETA: 9s - loss: 0.7264 - acc: 0.6966 - ETA: 9s - loss: 0.7258 - acc: 0.696 - ETA: 8s - loss: 0.7270 - acc: 0.695 - ETA: 7s - loss: 0.7263 - acc: 0.696 - ETA: 6s - loss: 0.7290 - acc: 0.694 - ETA: 6s - loss: 0.7319 - acc: 0.691 - ETA: 5s - loss: 0.7334 - acc: 0.689 - ETA: 4s - loss: 0.7351 - acc: 0.688 - ETA: 3s - loss: 0.7366 - acc: 0.688 - ETA: 3s - loss: 0.7412 - acc: 0.687 - ETA: 2s - loss: 0.7407 - acc: 0.686 - ETA: 1s - loss: 0.7414 - acc: 0.685 - ETA: 0s - loss: 0.7389 - acc: 0.6864Epoch 00002: val_loss improved from 0.87210 to 0.85021, saving model to saved_models/weights1.hdf5\n",
      "2000/2000 [==============================] - 81s - loss: 0.7447 - acc: 0.6840 - val_loss: 0.8502 - val_acc: 0.6267\n",
      "Epoch 4/20\n",
      "1980/2000 [============================>.] - ETA: 74s - loss: 0.5016 - acc: 0.80 - ETA: 74s - loss: 0.5273 - acc: 0.77 - ETA: 73s - loss: 0.6149 - acc: 0.73 - ETA: 72s - loss: 0.5867 - acc: 0.75 - ETA: 71s - loss: 0.6353 - acc: 0.71 - ETA: 71s - loss: 0.6432 - acc: 0.71 - ETA: 70s - loss: 0.7108 - acc: 0.70 - ETA: 69s - loss: 0.6881 - acc: 0.71 - ETA: 68s - loss: 0.7029 - acc: 0.70 - ETA: 68s - loss: 0.6973 - acc: 0.69 - ETA: 67s - loss: 0.6978 - acc: 0.69 - ETA: 66s - loss: 0.6886 - acc: 0.70 - ETA: 65s - loss: 0.6744 - acc: 0.70 - ETA: 65s - loss: 0.6716 - acc: 0.70 - ETA: 64s - loss: 0.6601 - acc: 0.70 - ETA: 63s - loss: 0.6797 - acc: 0.69 - ETA: 62s - loss: 0.6764 - acc: 0.69 - ETA: 61s - loss: 0.6769 - acc: 0.69 - ETA: 61s - loss: 0.6804 - acc: 0.69 - ETA: 60s - loss: 0.6789 - acc: 0.69 - ETA: 59s - loss: 0.6727 - acc: 0.70 - ETA: 59s - loss: 0.6675 - acc: 0.70 - ETA: 58s - loss: 0.6649 - acc: 0.71 - ETA: 57s - loss: 0.6743 - acc: 0.70 - ETA: 56s - loss: 0.6674 - acc: 0.70 - ETA: 56s - loss: 0.6622 - acc: 0.70 - ETA: 55s - loss: 0.6659 - acc: 0.70 - ETA: 54s - loss: 0.6624 - acc: 0.70 - ETA: 53s - loss: 0.6595 - acc: 0.70 - ETA: 53s - loss: 0.6672 - acc: 0.70 - ETA: 52s - loss: 0.6735 - acc: 0.70 - ETA: 51s - loss: 0.6763 - acc: 0.70 - ETA: 50s - loss: 0.6731 - acc: 0.70 - ETA: 51s - loss: 0.6722 - acc: 0.70 - ETA: 50s - loss: 0.6746 - acc: 0.69 - ETA: 49s - loss: 0.6789 - acc: 0.69 - ETA: 49s - loss: 0.6815 - acc: 0.69 - ETA: 48s - loss: 0.6758 - acc: 0.69 - ETA: 47s - loss: 0.6809 - acc: 0.69 - ETA: 46s - loss: 0.6779 - acc: 0.69 - ETA: 45s - loss: 0.6739 - acc: 0.70 - ETA: 45s - loss: 0.6820 - acc: 0.69 - ETA: 44s - loss: 0.6860 - acc: 0.69 - ETA: 43s - loss: 0.6837 - acc: 0.69 - ETA: 42s - loss: 0.6805 - acc: 0.69 - ETA: 41s - loss: 0.6829 - acc: 0.69 - ETA: 41s - loss: 0.6817 - acc: 0.69 - ETA: 40s - loss: 0.6856 - acc: 0.69 - ETA: 39s - loss: 0.6854 - acc: 0.69 - ETA: 38s - loss: 0.6844 - acc: 0.69 - ETA: 37s - loss: 0.6863 - acc: 0.69 - ETA: 37s - loss: 0.6843 - acc: 0.69 - ETA: 36s - loss: 0.6857 - acc: 0.69 - ETA: 35s - loss: 0.6812 - acc: 0.69 - ETA: 34s - loss: 0.6787 - acc: 0.69 - ETA: 33s - loss: 0.6785 - acc: 0.69 - ETA: 33s - loss: 0.6780 - acc: 0.69 - ETA: 32s - loss: 0.6775 - acc: 0.69 - ETA: 31s - loss: 0.6751 - acc: 0.70 - ETA: 30s - loss: 0.6750 - acc: 0.69 - ETA: 30s - loss: 0.6781 - acc: 0.69 - ETA: 29s - loss: 0.6736 - acc: 0.70 - ETA: 28s - loss: 0.6707 - acc: 0.70 - ETA: 27s - loss: 0.6703 - acc: 0.70 - ETA: 26s - loss: 0.6651 - acc: 0.70 - ETA: 26s - loss: 0.6632 - acc: 0.70 - ETA: 25s - loss: 0.6634 - acc: 0.70 - ETA: 24s - loss: 0.6670 - acc: 0.70 - ETA: 23s - loss: 0.6677 - acc: 0.70 - ETA: 23s - loss: 0.6666 - acc: 0.70 - ETA: 22s - loss: 0.6704 - acc: 0.70 - ETA: 21s - loss: 0.6713 - acc: 0.70 - ETA: 20s - loss: 0.6740 - acc: 0.70 - ETA: 19s - loss: 0.6751 - acc: 0.70 - ETA: 19s - loss: 0.6740 - acc: 0.70 - ETA: 18s - loss: 0.6746 - acc: 0.70 - ETA: 17s - loss: 0.6737 - acc: 0.70 - ETA: 16s - loss: 0.6693 - acc: 0.70 - ETA: 16s - loss: 0.6678 - acc: 0.70 - ETA: 15s - loss: 0.6685 - acc: 0.70 - ETA: 14s - loss: 0.6765 - acc: 0.70 - ETA: 13s - loss: 0.6766 - acc: 0.70 - ETA: 13s - loss: 0.6852 - acc: 0.70 - ETA: 12s - loss: 0.6867 - acc: 0.69 - ETA: 11s - loss: 0.6880 - acc: 0.69 - ETA: 10s - loss: 0.6884 - acc: 0.69 - ETA: 9s - loss: 0.6866 - acc: 0.6983 - ETA: 9s - loss: 0.6877 - acc: 0.697 - ETA: 8s - loss: 0.6882 - acc: 0.697 - ETA: 7s - loss: 0.6876 - acc: 0.697 - ETA: 6s - loss: 0.6863 - acc: 0.697 - ETA: 6s - loss: 0.6881 - acc: 0.696 - ETA: 5s - loss: 0.6845 - acc: 0.698 - ETA: 4s - loss: 0.6864 - acc: 0.697 - ETA: 3s - loss: 0.6844 - acc: 0.698 - ETA: 3s - loss: 0.6806 - acc: 0.700 - ETA: 2s - loss: 0.6840 - acc: 0.699 - ETA: 1s - loss: 0.6869 - acc: 0.696 - ETA: 0s - loss: 0.6862 - acc: 0.6970Epoch 00003: val_loss improved from 0.85021 to 0.83922, saving model to saved_models/weights1.hdf5\n",
      "2000/2000 [==============================] - 81s - loss: 0.6845 - acc: 0.6975 - val_loss: 0.8392 - val_acc: 0.5800\n",
      "Epoch 5/20\n"
     ]
    },
    {
     "name": "stdout",
     "output_type": "stream",
     "text": [
      "1980/2000 [============================>.] - ETA: 74s - loss: 0.6512 - acc: 0.65 - ETA: 73s - loss: 0.7473 - acc: 0.60 - ETA: 73s - loss: 0.7147 - acc: 0.65 - ETA: 72s - loss: 0.6729 - acc: 0.67 - ETA: 71s - loss: 0.6829 - acc: 0.67 - ETA: 71s - loss: 0.6896 - acc: 0.68 - ETA: 70s - loss: 0.6926 - acc: 0.67 - ETA: 69s - loss: 0.6476 - acc: 0.70 - ETA: 69s - loss: 0.6562 - acc: 0.69 - ETA: 68s - loss: 0.6536 - acc: 0.70 - ETA: 67s - loss: 0.6471 - acc: 0.70 - ETA: 66s - loss: 0.6288 - acc: 0.71 - ETA: 65s - loss: 0.6575 - acc: 0.70 - ETA: 65s - loss: 0.6480 - acc: 0.71 - ETA: 64s - loss: 0.6255 - acc: 0.72 - ETA: 63s - loss: 0.6272 - acc: 0.72 - ETA: 62s - loss: 0.6133 - acc: 0.73 - ETA: 61s - loss: 0.6123 - acc: 0.73 - ETA: 61s - loss: 0.6319 - acc: 0.72 - ETA: 60s - loss: 0.6443 - acc: 0.72 - ETA: 59s - loss: 0.6368 - acc: 0.72 - ETA: 58s - loss: 0.6411 - acc: 0.72 - ETA: 58s - loss: 0.6468 - acc: 0.71 - ETA: 57s - loss: 0.6391 - acc: 0.72 - ETA: 56s - loss: 0.6376 - acc: 0.72 - ETA: 55s - loss: 0.6457 - acc: 0.72 - ETA: 55s - loss: 0.6462 - acc: 0.72 - ETA: 54s - loss: 0.6430 - acc: 0.72 - ETA: 53s - loss: 0.6449 - acc: 0.72 - ETA: 52s - loss: 0.6441 - acc: 0.72 - ETA: 52s - loss: 0.6431 - acc: 0.72 - ETA: 51s - loss: 0.6403 - acc: 0.72 - ETA: 50s - loss: 0.6376 - acc: 0.72 - ETA: 49s - loss: 0.6369 - acc: 0.72 - ETA: 49s - loss: 0.6424 - acc: 0.71 - ETA: 48s - loss: 0.6431 - acc: 0.71 - ETA: 47s - loss: 0.6409 - acc: 0.71 - ETA: 46s - loss: 0.6375 - acc: 0.71 - ETA: 46s - loss: 0.6361 - acc: 0.71 - ETA: 45s - loss: 0.6295 - acc: 0.71 - ETA: 44s - loss: 0.6275 - acc: 0.71 - ETA: 43s - loss: 0.6260 - acc: 0.72 - ETA: 43s - loss: 0.6249 - acc: 0.72 - ETA: 42s - loss: 0.6270 - acc: 0.71 - ETA: 41s - loss: 0.6258 - acc: 0.72 - ETA: 40s - loss: 0.6208 - acc: 0.72 - ETA: 40s - loss: 0.6234 - acc: 0.72 - ETA: 39s - loss: 0.6222 - acc: 0.72 - ETA: 38s - loss: 0.6219 - acc: 0.72 - ETA: 37s - loss: 0.6238 - acc: 0.72 - ETA: 37s - loss: 0.6240 - acc: 0.72 - ETA: 36s - loss: 0.6199 - acc: 0.73 - ETA: 35s - loss: 0.6167 - acc: 0.73 - ETA: 34s - loss: 0.6201 - acc: 0.72 - ETA: 34s - loss: 0.6206 - acc: 0.73 - ETA: 33s - loss: 0.6204 - acc: 0.73 - ETA: 32s - loss: 0.6173 - acc: 0.73 - ETA: 31s - loss: 0.6188 - acc: 0.73 - ETA: 31s - loss: 0.6207 - acc: 0.72 - ETA: 30s - loss: 0.6197 - acc: 0.72 - ETA: 29s - loss: 0.6201 - acc: 0.73 - ETA: 28s - loss: 0.6199 - acc: 0.73 - ETA: 27s - loss: 0.6187 - acc: 0.73 - ETA: 27s - loss: 0.6195 - acc: 0.73 - ETA: 26s - loss: 0.6208 - acc: 0.73 - ETA: 25s - loss: 0.6178 - acc: 0.73 - ETA: 24s - loss: 0.6168 - acc: 0.73 - ETA: 24s - loss: 0.6195 - acc: 0.73 - ETA: 23s - loss: 0.6178 - acc: 0.73 - ETA: 22s - loss: 0.6161 - acc: 0.73 - ETA: 21s - loss: 0.6160 - acc: 0.73 - ETA: 21s - loss: 0.6162 - acc: 0.73 - ETA: 20s - loss: 0.6149 - acc: 0.73 - ETA: 19s - loss: 0.6158 - acc: 0.73 - ETA: 18s - loss: 0.6150 - acc: 0.73 - ETA: 18s - loss: 0.6182 - acc: 0.73 - ETA: 17s - loss: 0.6195 - acc: 0.73 - ETA: 16s - loss: 0.6186 - acc: 0.73 - ETA: 15s - loss: 0.6217 - acc: 0.72 - ETA: 15s - loss: 0.6241 - acc: 0.72 - ETA: 14s - loss: 0.6256 - acc: 0.72 - ETA: 13s - loss: 0.6265 - acc: 0.72 - ETA: 12s - loss: 0.6282 - acc: 0.72 - ETA: 12s - loss: 0.6265 - acc: 0.72 - ETA: 11s - loss: 0.6235 - acc: 0.72 - ETA: 10s - loss: 0.6224 - acc: 0.72 - ETA: 9s - loss: 0.6187 - acc: 0.7310 - ETA: 9s - loss: 0.6238 - acc: 0.727 - ETA: 8s - loss: 0.6249 - acc: 0.725 - ETA: 7s - loss: 0.6244 - acc: 0.726 - ETA: 6s - loss: 0.6271 - acc: 0.724 - ETA: 6s - loss: 0.6270 - acc: 0.725 - ETA: 5s - loss: 0.6274 - acc: 0.725 - ETA: 4s - loss: 0.6253 - acc: 0.726 - ETA: 3s - loss: 0.6249 - acc: 0.726 - ETA: 3s - loss: 0.6226 - acc: 0.728 - ETA: 2s - loss: 0.6198 - acc: 0.728 - ETA: 1s - loss: 0.6227 - acc: 0.727 - ETA: 0s - loss: 0.6223 - acc: 0.7283Epoch 00004: val_loss improved from 0.83922 to 0.75999, saving model to saved_models/weights1.hdf5\n",
      "2000/2000 [==============================] - 80s - loss: 0.6231 - acc: 0.7280 - val_loss: 0.7600 - val_acc: 0.6600\n",
      "Epoch 6/20\n",
      "1980/2000 [============================>.] - ETA: 74s - loss: 0.7848 - acc: 0.70 - ETA: 73s - loss: 0.7195 - acc: 0.70 - ETA: 72s - loss: 0.7484 - acc: 0.68 - ETA: 72s - loss: 0.7451 - acc: 0.68 - ETA: 71s - loss: 0.6684 - acc: 0.72 - ETA: 70s - loss: 0.6470 - acc: 0.73 - ETA: 70s - loss: 0.6568 - acc: 0.72 - ETA: 69s - loss: 0.6612 - acc: 0.71 - ETA: 68s - loss: 0.6838 - acc: 0.70 - ETA: 68s - loss: 0.6639 - acc: 0.70 - ETA: 67s - loss: 0.6608 - acc: 0.71 - ETA: 66s - loss: 0.6459 - acc: 0.72 - ETA: 65s - loss: 0.6322 - acc: 0.72 - ETA: 65s - loss: 0.6509 - acc: 0.71 - ETA: 64s - loss: 0.6292 - acc: 0.73 - ETA: 63s - loss: 0.6126 - acc: 0.74 - ETA: 62s - loss: 0.6145 - acc: 0.73 - ETA: 62s - loss: 0.6114 - acc: 0.73 - ETA: 61s - loss: 0.6184 - acc: 0.73 - ETA: 60s - loss: 0.6115 - acc: 0.73 - ETA: 59s - loss: 0.6033 - acc: 0.74 - ETA: 59s - loss: 0.5922 - acc: 0.74 - ETA: 58s - loss: 0.5836 - acc: 0.75 - ETA: 58s - loss: 0.5996 - acc: 0.74 - ETA: 57s - loss: 0.6013 - acc: 0.74 - ETA: 56s - loss: 0.5921 - acc: 0.75 - ETA: 55s - loss: 0.5945 - acc: 0.74 - ETA: 55s - loss: 0.5948 - acc: 0.74 - ETA: 54s - loss: 0.5961 - acc: 0.74 - ETA: 53s - loss: 0.5964 - acc: 0.74 - ETA: 52s - loss: 0.5966 - acc: 0.74 - ETA: 51s - loss: 0.6096 - acc: 0.73 - ETA: 51s - loss: 0.6120 - acc: 0.73 - ETA: 50s - loss: 0.6106 - acc: 0.73 - ETA: 49s - loss: 0.6186 - acc: 0.73 - ETA: 48s - loss: 0.6183 - acc: 0.73 - ETA: 48s - loss: 0.6186 - acc: 0.73 - ETA: 47s - loss: 0.6164 - acc: 0.73 - ETA: 46s - loss: 0.6125 - acc: 0.73 - ETA: 45s - loss: 0.6176 - acc: 0.73 - ETA: 44s - loss: 0.6113 - acc: 0.74 - ETA: 44s - loss: 0.6097 - acc: 0.74 - ETA: 43s - loss: 0.6101 - acc: 0.74 - ETA: 42s - loss: 0.6071 - acc: 0.74 - ETA: 41s - loss: 0.6050 - acc: 0.74 - ETA: 41s - loss: 0.6130 - acc: 0.74 - ETA: 40s - loss: 0.6219 - acc: 0.73 - ETA: 39s - loss: 0.6160 - acc: 0.74 - ETA: 39s - loss: 0.6149 - acc: 0.74 - ETA: 39s - loss: 0.6120 - acc: 0.74 - ETA: 38s - loss: 0.6137 - acc: 0.74 - ETA: 37s - loss: 0.6138 - acc: 0.74 - ETA: 36s - loss: 0.6119 - acc: 0.74 - ETA: 35s - loss: 0.6091 - acc: 0.74 - ETA: 35s - loss: 0.6103 - acc: 0.74 - ETA: 34s - loss: 0.6109 - acc: 0.74 - ETA: 33s - loss: 0.6131 - acc: 0.74 - ETA: 32s - loss: 0.6147 - acc: 0.74 - ETA: 31s - loss: 0.6183 - acc: 0.73 - ETA: 31s - loss: 0.6179 - acc: 0.73 - ETA: 30s - loss: 0.6140 - acc: 0.73 - ETA: 29s - loss: 0.6083 - acc: 0.74 - ETA: 28s - loss: 0.6072 - acc: 0.74 - ETA: 27s - loss: 0.6006 - acc: 0.74 - ETA: 27s - loss: 0.6035 - acc: 0.74 - ETA: 26s - loss: 0.6044 - acc: 0.74 - ETA: 25s - loss: 0.6034 - acc: 0.74 - ETA: 24s - loss: 0.6005 - acc: 0.74 - ETA: 24s - loss: 0.5983 - acc: 0.74 - ETA: 23s - loss: 0.5972 - acc: 0.74 - ETA: 22s - loss: 0.6003 - acc: 0.74 - ETA: 21s - loss: 0.5982 - acc: 0.74 - ETA: 20s - loss: 0.5970 - acc: 0.74 - ETA: 20s - loss: 0.5985 - acc: 0.74 - ETA: 19s - loss: 0.5978 - acc: 0.74 - ETA: 18s - loss: 0.5978 - acc: 0.74 - ETA: 17s - loss: 0.5950 - acc: 0.74 - ETA: 16s - loss: 0.5939 - acc: 0.74 - ETA: 16s - loss: 0.5926 - acc: 0.74 - ETA: 15s - loss: 0.5921 - acc: 0.74 - ETA: 14s - loss: 0.5900 - acc: 0.75 - ETA: 13s - loss: 0.5900 - acc: 0.75 - ETA: 13s - loss: 0.5905 - acc: 0.74 - ETA: 12s - loss: 0.5896 - acc: 0.74 - ETA: 11s - loss: 0.5899 - acc: 0.74 - ETA: 10s - loss: 0.5904 - acc: 0.74 - ETA: 10s - loss: 0.5911 - acc: 0.74 - ETA: 9s - loss: 0.5890 - acc: 0.7472 - ETA: 8s - loss: 0.5903 - acc: 0.746 - ETA: 7s - loss: 0.5881 - acc: 0.747 - ETA: 6s - loss: 0.5867 - acc: 0.747 - ETA: 6s - loss: 0.5843 - acc: 0.748 - ETA: 5s - loss: 0.5841 - acc: 0.747 - ETA: 4s - loss: 0.5820 - acc: 0.748 - ETA: 3s - loss: 0.5821 - acc: 0.748 - ETA: 3s - loss: 0.5840 - acc: 0.747 - ETA: 2s - loss: 0.5831 - acc: 0.746 - ETA: 1s - loss: 0.5816 - acc: 0.747 - ETA: 0s - loss: 0.5821 - acc: 0.7475Epoch 00005: val_loss did not improve\n",
      "2000/2000 [==============================] - 82s - loss: 0.5853 - acc: 0.7475 - val_loss: 0.7635 - val_acc: 0.6800\n",
      "Epoch 7/20\n"
     ]
    },
    {
     "name": "stdout",
     "output_type": "stream",
     "text": [
      "1980/2000 [============================>.] - ETA: 74s - loss: 0.5213 - acc: 0.75 - ETA: 73s - loss: 0.4764 - acc: 0.80 - ETA: 72s - loss: 0.5483 - acc: 0.73 - ETA: 71s - loss: 0.5697 - acc: 0.73 - ETA: 71s - loss: 0.5648 - acc: 0.74 - ETA: 70s - loss: 0.5664 - acc: 0.74 - ETA: 69s - loss: 0.5427 - acc: 0.76 - ETA: 69s - loss: 0.5547 - acc: 0.76 - ETA: 68s - loss: 0.5704 - acc: 0.76 - ETA: 67s - loss: 0.5935 - acc: 0.75 - ETA: 66s - loss: 0.5857 - acc: 0.76 - ETA: 66s - loss: 0.5793 - acc: 0.77 - ETA: 65s - loss: 0.5910 - acc: 0.76 - ETA: 64s - loss: 0.5809 - acc: 0.77 - ETA: 64s - loss: 0.5774 - acc: 0.77 - ETA: 63s - loss: 0.5515 - acc: 0.78 - ETA: 62s - loss: 0.5498 - acc: 0.78 - ETA: 61s - loss: 0.5639 - acc: 0.77 - ETA: 61s - loss: 0.5594 - acc: 0.77 - ETA: 60s - loss: 0.5508 - acc: 0.78 - ETA: 59s - loss: 0.5489 - acc: 0.78 - ETA: 58s - loss: 0.5440 - acc: 0.78 - ETA: 58s - loss: 0.5537 - acc: 0.78 - ETA: 57s - loss: 0.5477 - acc: 0.78 - ETA: 56s - loss: 0.5599 - acc: 0.77 - ETA: 55s - loss: 0.5562 - acc: 0.77 - ETA: 55s - loss: 0.5578 - acc: 0.77 - ETA: 54s - loss: 0.5486 - acc: 0.77 - ETA: 53s - loss: 0.5437 - acc: 0.77 - ETA: 52s - loss: 0.5532 - acc: 0.76 - ETA: 52s - loss: 0.5531 - acc: 0.76 - ETA: 51s - loss: 0.5480 - acc: 0.77 - ETA: 50s - loss: 0.5382 - acc: 0.77 - ETA: 49s - loss: 0.5384 - acc: 0.77 - ETA: 49s - loss: 0.5389 - acc: 0.77 - ETA: 48s - loss: 0.5346 - acc: 0.77 - ETA: 47s - loss: 0.5336 - acc: 0.77 - ETA: 46s - loss: 0.5350 - acc: 0.77 - ETA: 46s - loss: 0.5374 - acc: 0.76 - ETA: 45s - loss: 0.5392 - acc: 0.76 - ETA: 44s - loss: 0.5398 - acc: 0.76 - ETA: 43s - loss: 0.5396 - acc: 0.77 - ETA: 43s - loss: 0.5441 - acc: 0.76 - ETA: 42s - loss: 0.5438 - acc: 0.76 - ETA: 41s - loss: 0.5441 - acc: 0.76 - ETA: 40s - loss: 0.5450 - acc: 0.76 - ETA: 39s - loss: 0.5394 - acc: 0.76 - ETA: 39s - loss: 0.5446 - acc: 0.76 - ETA: 38s - loss: 0.5451 - acc: 0.76 - ETA: 37s - loss: 0.5445 - acc: 0.76 - ETA: 36s - loss: 0.5453 - acc: 0.76 - ETA: 36s - loss: 0.5450 - acc: 0.76 - ETA: 35s - loss: 0.5407 - acc: 0.76 - ETA: 34s - loss: 0.5426 - acc: 0.76 - ETA: 33s - loss: 0.5404 - acc: 0.76 - ETA: 33s - loss: 0.5371 - acc: 0.76 - ETA: 32s - loss: 0.5407 - acc: 0.76 - ETA: 31s - loss: 0.5373 - acc: 0.76 - ETA: 30s - loss: 0.5413 - acc: 0.76 - ETA: 30s - loss: 0.5424 - acc: 0.76 - ETA: 29s - loss: 0.5456 - acc: 0.76 - ETA: 28s - loss: 0.5488 - acc: 0.76 - ETA: 27s - loss: 0.5468 - acc: 0.76 - ETA: 27s - loss: 0.5441 - acc: 0.76 - ETA: 26s - loss: 0.5423 - acc: 0.76 - ETA: 25s - loss: 0.5415 - acc: 0.76 - ETA: 24s - loss: 0.5400 - acc: 0.76 - ETA: 24s - loss: 0.5384 - acc: 0.76 - ETA: 23s - loss: 0.5395 - acc: 0.76 - ETA: 22s - loss: 0.5453 - acc: 0.76 - ETA: 21s - loss: 0.5445 - acc: 0.76 - ETA: 21s - loss: 0.5444 - acc: 0.76 - ETA: 20s - loss: 0.5452 - acc: 0.76 - ETA: 19s - loss: 0.5435 - acc: 0.76 - ETA: 18s - loss: 0.5410 - acc: 0.76 - ETA: 18s - loss: 0.5428 - acc: 0.76 - ETA: 17s - loss: 0.5402 - acc: 0.76 - ETA: 16s - loss: 0.5418 - acc: 0.76 - ETA: 15s - loss: 0.5417 - acc: 0.76 - ETA: 15s - loss: 0.5384 - acc: 0.76 - ETA: 14s - loss: 0.5435 - acc: 0.76 - ETA: 13s - loss: 0.5443 - acc: 0.76 - ETA: 12s - loss: 0.5443 - acc: 0.76 - ETA: 12s - loss: 0.5428 - acc: 0.76 - ETA: 11s - loss: 0.5449 - acc: 0.76 - ETA: 10s - loss: 0.5429 - acc: 0.76 - ETA: 9s - loss: 0.5429 - acc: 0.7655 - ETA: 9s - loss: 0.5427 - acc: 0.765 - ETA: 8s - loss: 0.5440 - acc: 0.764 - ETA: 7s - loss: 0.5434 - acc: 0.765 - ETA: 6s - loss: 0.5415 - acc: 0.765 - ETA: 6s - loss: 0.5461 - acc: 0.765 - ETA: 5s - loss: 0.5452 - acc: 0.766 - ETA: 4s - loss: 0.5438 - acc: 0.767 - ETA: 3s - loss: 0.5432 - acc: 0.767 - ETA: 3s - loss: 0.5423 - acc: 0.767 - ETA: 2s - loss: 0.5460 - acc: 0.764 - ETA: 1s - loss: 0.5459 - acc: 0.764 - ETA: 0s - loss: 0.5444 - acc: 0.7652Epoch 00006: val_loss improved from 0.75999 to 0.71913, saving model to saved_models/weights1.hdf5\n",
      "2000/2000 [==============================] - 81s - loss: 0.5453 - acc: 0.7645 - val_loss: 0.7191 - val_acc: 0.6800\n",
      "Epoch 8/20\n",
      "1980/2000 [============================>.] - ETA: 74s - loss: 0.5579 - acc: 0.75 - ETA: 73s - loss: 0.4890 - acc: 0.77 - ETA: 73s - loss: 0.4717 - acc: 0.78 - ETA: 72s - loss: 0.4420 - acc: 0.81 - ETA: 72s - loss: 0.4525 - acc: 0.80 - ETA: 71s - loss: 0.5033 - acc: 0.78 - ETA: 70s - loss: 0.5297 - acc: 0.76 - ETA: 69s - loss: 0.5760 - acc: 0.73 - ETA: 69s - loss: 0.5773 - acc: 0.75 - ETA: 68s - loss: 0.5387 - acc: 0.77 - ETA: 67s - loss: 0.5424 - acc: 0.76 - ETA: 66s - loss: 0.5475 - acc: 0.75 - ETA: 66s - loss: 0.5482 - acc: 0.74 - ETA: 65s - loss: 0.5284 - acc: 0.76 - ETA: 64s - loss: 0.5142 - acc: 0.77 - ETA: 63s - loss: 0.5248 - acc: 0.76 - ETA: 63s - loss: 0.5265 - acc: 0.77 - ETA: 62s - loss: 0.5580 - acc: 0.77 - ETA: 61s - loss: 0.5627 - acc: 0.76 - ETA: 60s - loss: 0.5673 - acc: 0.76 - ETA: 59s - loss: 0.5577 - acc: 0.76 - ETA: 59s - loss: 0.5637 - acc: 0.76 - ETA: 58s - loss: 0.5671 - acc: 0.76 - ETA: 57s - loss: 0.5654 - acc: 0.76 - ETA: 56s - loss: 0.5551 - acc: 0.77 - ETA: 56s - loss: 0.5541 - acc: 0.76 - ETA: 55s - loss: 0.5493 - acc: 0.77 - ETA: 54s - loss: 0.5408 - acc: 0.77 - ETA: 53s - loss: 0.5416 - acc: 0.77 - ETA: 53s - loss: 0.5329 - acc: 0.78 - ETA: 52s - loss: 0.5299 - acc: 0.78 - ETA: 51s - loss: 0.5304 - acc: 0.78 - ETA: 50s - loss: 0.5295 - acc: 0.78 - ETA: 50s - loss: 0.5309 - acc: 0.78 - ETA: 49s - loss: 0.5242 - acc: 0.78 - ETA: 48s - loss: 0.5225 - acc: 0.78 - ETA: 47s - loss: 0.5172 - acc: 0.78 - ETA: 47s - loss: 0.5132 - acc: 0.78 - ETA: 46s - loss: 0.5122 - acc: 0.78 - ETA: 45s - loss: 0.5171 - acc: 0.78 - ETA: 44s - loss: 0.5190 - acc: 0.78 - ETA: 44s - loss: 0.5188 - acc: 0.78 - ETA: 43s - loss: 0.5214 - acc: 0.78 - ETA: 42s - loss: 0.5223 - acc: 0.78 - ETA: 41s - loss: 0.5196 - acc: 0.78 - ETA: 41s - loss: 0.5213 - acc: 0.78 - ETA: 40s - loss: 0.5202 - acc: 0.77 - ETA: 39s - loss: 0.5191 - acc: 0.78 - ETA: 38s - loss: 0.5179 - acc: 0.78 - ETA: 37s - loss: 0.5182 - acc: 0.78 - ETA: 37s - loss: 0.5153 - acc: 0.78 - ETA: 36s - loss: 0.5118 - acc: 0.78 - ETA: 35s - loss: 0.5095 - acc: 0.78 - ETA: 34s - loss: 0.5092 - acc: 0.78 - ETA: 34s - loss: 0.5129 - acc: 0.78 - ETA: 33s - loss: 0.5110 - acc: 0.78 - ETA: 32s - loss: 0.5090 - acc: 0.78 - ETA: 31s - loss: 0.5108 - acc: 0.78 - ETA: 31s - loss: 0.5123 - acc: 0.78 - ETA: 30s - loss: 0.5089 - acc: 0.78 - ETA: 30s - loss: 0.5072 - acc: 0.78 - ETA: 29s - loss: 0.5036 - acc: 0.79 - ETA: 28s - loss: 0.5044 - acc: 0.78 - ETA: 27s - loss: 0.5028 - acc: 0.79 - ETA: 26s - loss: 0.5012 - acc: 0.79 - ETA: 26s - loss: 0.4980 - acc: 0.79 - ETA: 25s - loss: 0.5059 - acc: 0.78 - ETA: 24s - loss: 0.5123 - acc: 0.78 - ETA: 23s - loss: 0.5129 - acc: 0.78 - ETA: 23s - loss: 0.5130 - acc: 0.78 - ETA: 22s - loss: 0.5122 - acc: 0.78 - ETA: 21s - loss: 0.5119 - acc: 0.78 - ETA: 20s - loss: 0.5135 - acc: 0.78 - ETA: 19s - loss: 0.5127 - acc: 0.78 - ETA: 19s - loss: 0.5130 - acc: 0.78 - ETA: 18s - loss: 0.5154 - acc: 0.78 - ETA: 17s - loss: 0.5151 - acc: 0.78 - ETA: 16s - loss: 0.5148 - acc: 0.78 - ETA: 16s - loss: 0.5119 - acc: 0.78 - ETA: 15s - loss: 0.5124 - acc: 0.78 - ETA: 14s - loss: 0.5158 - acc: 0.78 - ETA: 13s - loss: 0.5174 - acc: 0.77 - ETA: 13s - loss: 0.5153 - acc: 0.78 - ETA: 12s - loss: 0.5125 - acc: 0.78 - ETA: 11s - loss: 0.5108 - acc: 0.78 - ETA: 10s - loss: 0.5092 - acc: 0.78 - ETA: 9s - loss: 0.5082 - acc: 0.7828 - ETA: 9s - loss: 0.5085 - acc: 0.782 - ETA: 8s - loss: 0.5072 - acc: 0.783 - ETA: 7s - loss: 0.5085 - acc: 0.782 - ETA: 6s - loss: 0.5081 - acc: 0.782 - ETA: 6s - loss: 0.5105 - acc: 0.779 - ETA: 5s - loss: 0.5141 - acc: 0.779 - ETA: 4s - loss: 0.5142 - acc: 0.779 - ETA: 3s - loss: 0.5182 - acc: 0.776 - ETA: 3s - loss: 0.5171 - acc: 0.777 - ETA: 2s - loss: 0.5149 - acc: 0.778 - ETA: 1s - loss: 0.5162 - acc: 0.778 - ETA: 0s - loss: 0.5165 - acc: 0.7778Epoch 00007: val_loss did not improve\n",
      "2000/2000 [==============================] - 81s - loss: 0.5144 - acc: 0.7795 - val_loss: 0.7645 - val_acc: 0.7133\n",
      "Epoch 9/20\n"
     ]
    },
    {
     "name": "stdout",
     "output_type": "stream",
     "text": [
      "1980/2000 [============================>.] - ETA: 75s - loss: 0.5765 - acc: 0.80 - ETA: 74s - loss: 0.5486 - acc: 0.77 - ETA: 73s - loss: 0.4300 - acc: 0.81 - ETA: 73s - loss: 0.4412 - acc: 0.82 - ETA: 72s - loss: 0.4062 - acc: 0.82 - ETA: 71s - loss: 0.4157 - acc: 0.81 - ETA: 70s - loss: 0.4189 - acc: 0.80 - ETA: 69s - loss: 0.4348 - acc: 0.80 - ETA: 69s - loss: 0.4302 - acc: 0.80 - ETA: 68s - loss: 0.4300 - acc: 0.80 - ETA: 67s - loss: 0.4354 - acc: 0.80 - ETA: 66s - loss: 0.4377 - acc: 0.80 - ETA: 66s - loss: 0.4325 - acc: 0.80 - ETA: 65s - loss: 0.4157 - acc: 0.81 - ETA: 64s - loss: 0.4569 - acc: 0.80 - ETA: 63s - loss: 0.4908 - acc: 0.78 - ETA: 62s - loss: 0.4913 - acc: 0.77 - ETA: 62s - loss: 0.4926 - acc: 0.76 - ETA: 61s - loss: 0.4831 - acc: 0.77 - ETA: 60s - loss: 0.4750 - acc: 0.77 - ETA: 59s - loss: 0.4735 - acc: 0.77 - ETA: 59s - loss: 0.4651 - acc: 0.77 - ETA: 58s - loss: 0.4792 - acc: 0.77 - ETA: 57s - loss: 0.4776 - acc: 0.77 - ETA: 56s - loss: 0.4738 - acc: 0.78 - ETA: 56s - loss: 0.4716 - acc: 0.78 - ETA: 55s - loss: 0.4761 - acc: 0.78 - ETA: 54s - loss: 0.4801 - acc: 0.78 - ETA: 53s - loss: 0.4863 - acc: 0.78 - ETA: 53s - loss: 0.4854 - acc: 0.78 - ETA: 52s - loss: 0.4848 - acc: 0.78 - ETA: 51s - loss: 0.4783 - acc: 0.79 - ETA: 50s - loss: 0.4790 - acc: 0.79 - ETA: 50s - loss: 0.4780 - acc: 0.79 - ETA: 49s - loss: 0.4802 - acc: 0.79 - ETA: 48s - loss: 0.4768 - acc: 0.79 - ETA: 47s - loss: 0.4784 - acc: 0.79 - ETA: 47s - loss: 0.4760 - acc: 0.79 - ETA: 46s - loss: 0.4780 - acc: 0.79 - ETA: 45s - loss: 0.4835 - acc: 0.79 - ETA: 44s - loss: 0.4812 - acc: 0.79 - ETA: 44s - loss: 0.4808 - acc: 0.79 - ETA: 43s - loss: 0.4762 - acc: 0.80 - ETA: 42s - loss: 0.4760 - acc: 0.80 - ETA: 41s - loss: 0.4740 - acc: 0.80 - ETA: 40s - loss: 0.4753 - acc: 0.80 - ETA: 40s - loss: 0.4800 - acc: 0.80 - ETA: 39s - loss: 0.4803 - acc: 0.79 - ETA: 38s - loss: 0.4753 - acc: 0.80 - ETA: 37s - loss: 0.4789 - acc: 0.79 - ETA: 37s - loss: 0.4772 - acc: 0.79 - ETA: 36s - loss: 0.4742 - acc: 0.79 - ETA: 36s - loss: 0.4726 - acc: 0.79 - ETA: 35s - loss: 0.4758 - acc: 0.79 - ETA: 34s - loss: 0.4752 - acc: 0.80 - ETA: 33s - loss: 0.4736 - acc: 0.80 - ETA: 33s - loss: 0.4728 - acc: 0.80 - ETA: 32s - loss: 0.4752 - acc: 0.80 - ETA: 31s - loss: 0.4715 - acc: 0.80 - ETA: 30s - loss: 0.4700 - acc: 0.80 - ETA: 29s - loss: 0.4712 - acc: 0.80 - ETA: 29s - loss: 0.4695 - acc: 0.80 - ETA: 28s - loss: 0.4669 - acc: 0.80 - ETA: 27s - loss: 0.4631 - acc: 0.80 - ETA: 26s - loss: 0.4622 - acc: 0.80 - ETA: 26s - loss: 0.4615 - acc: 0.80 - ETA: 25s - loss: 0.4626 - acc: 0.80 - ETA: 24s - loss: 0.4656 - acc: 0.80 - ETA: 23s - loss: 0.4660 - acc: 0.80 - ETA: 23s - loss: 0.4678 - acc: 0.80 - ETA: 22s - loss: 0.4670 - acc: 0.80 - ETA: 21s - loss: 0.4631 - acc: 0.80 - ETA: 20s - loss: 0.4616 - acc: 0.81 - ETA: 19s - loss: 0.4610 - acc: 0.81 - ETA: 19s - loss: 0.4628 - acc: 0.80 - ETA: 18s - loss: 0.4629 - acc: 0.80 - ETA: 17s - loss: 0.4616 - acc: 0.80 - ETA: 16s - loss: 0.4604 - acc: 0.81 - ETA: 16s - loss: 0.4591 - acc: 0.81 - ETA: 15s - loss: 0.4604 - acc: 0.81 - ETA: 14s - loss: 0.4595 - acc: 0.80 - ETA: 13s - loss: 0.4582 - acc: 0.81 - ETA: 13s - loss: 0.4637 - acc: 0.80 - ETA: 12s - loss: 0.4654 - acc: 0.80 - ETA: 11s - loss: 0.4657 - acc: 0.81 - ETA: 10s - loss: 0.4634 - acc: 0.81 - ETA: 9s - loss: 0.4641 - acc: 0.8098 - ETA: 9s - loss: 0.4638 - acc: 0.809 - ETA: 8s - loss: 0.4635 - acc: 0.809 - ETA: 7s - loss: 0.4651 - acc: 0.808 - ETA: 6s - loss: 0.4663 - acc: 0.806 - ETA: 6s - loss: 0.4675 - acc: 0.806 - ETA: 5s - loss: 0.4679 - acc: 0.806 - ETA: 4s - loss: 0.4672 - acc: 0.806 - ETA: 3s - loss: 0.4692 - acc: 0.804 - ETA: 3s - loss: 0.4701 - acc: 0.803 - ETA: 2s - loss: 0.4691 - acc: 0.802 - ETA: 1s - loss: 0.4694 - acc: 0.803 - ETA: 0s - loss: 0.4680 - acc: 0.8040Epoch 00008: val_loss did not improve\n",
      "2000/2000 [==============================] - 81s - loss: 0.4705 - acc: 0.8020 - val_loss: 0.8404 - val_acc: 0.6400\n",
      "Epoch 10/20\n",
      "1980/2000 [============================>.] - ETA: 76s - loss: 0.3286 - acc: 0.90 - ETA: 75s - loss: 0.2660 - acc: 0.92 - ETA: 74s - loss: 0.3849 - acc: 0.86 - ETA: 73s - loss: 0.4073 - acc: 0.83 - ETA: 72s - loss: 0.4362 - acc: 0.83 - ETA: 71s - loss: 0.4265 - acc: 0.83 - ETA: 70s - loss: 0.4443 - acc: 0.81 - ETA: 69s - loss: 0.4530 - acc: 0.81 - ETA: 69s - loss: 0.4330 - acc: 0.82 - ETA: 68s - loss: 0.4223 - acc: 0.82 - ETA: 67s - loss: 0.4250 - acc: 0.82 - ETA: 67s - loss: 0.4456 - acc: 0.81 - ETA: 66s - loss: 0.4527 - acc: 0.81 - ETA: 65s - loss: 0.4558 - acc: 0.82 - ETA: 64s - loss: 0.4578 - acc: 0.82 - ETA: 63s - loss: 0.4680 - acc: 0.82 - ETA: 63s - loss: 0.4725 - acc: 0.81 - ETA: 62s - loss: 0.4661 - acc: 0.81 - ETA: 61s - loss: 0.4728 - acc: 0.81 - ETA: 60s - loss: 0.4676 - acc: 0.82 - ETA: 60s - loss: 0.4623 - acc: 0.82 - ETA: 59s - loss: 0.4584 - acc: 0.82 - ETA: 58s - loss: 0.4518 - acc: 0.82 - ETA: 57s - loss: 0.4421 - acc: 0.82 - ETA: 57s - loss: 0.4412 - acc: 0.83 - ETA: 56s - loss: 0.4489 - acc: 0.82 - ETA: 55s - loss: 0.4508 - acc: 0.82 - ETA: 54s - loss: 0.4515 - acc: 0.82 - ETA: 53s - loss: 0.4431 - acc: 0.83 - ETA: 53s - loss: 0.4422 - acc: 0.83 - ETA: 52s - loss: 0.4343 - acc: 0.83 - ETA: 51s - loss: 0.4384 - acc: 0.83 - ETA: 50s - loss: 0.4382 - acc: 0.83 - ETA: 50s - loss: 0.4395 - acc: 0.83 - ETA: 49s - loss: 0.4381 - acc: 0.83 - ETA: 48s - loss: 0.4394 - acc: 0.83 - ETA: 48s - loss: 0.4383 - acc: 0.83 - ETA: 47s - loss: 0.4400 - acc: 0.83 - ETA: 46s - loss: 0.4347 - acc: 0.83 - ETA: 45s - loss: 0.4380 - acc: 0.83 - ETA: 45s - loss: 0.4417 - acc: 0.83 - ETA: 44s - loss: 0.4388 - acc: 0.83 - ETA: 43s - loss: 0.4394 - acc: 0.83 - ETA: 42s - loss: 0.4396 - acc: 0.83 - ETA: 41s - loss: 0.4340 - acc: 0.83 - ETA: 41s - loss: 0.4361 - acc: 0.83 - ETA: 40s - loss: 0.4361 - acc: 0.83 - ETA: 39s - loss: 0.4390 - acc: 0.83 - ETA: 38s - loss: 0.4444 - acc: 0.82 - ETA: 38s - loss: 0.4462 - acc: 0.82 - ETA: 37s - loss: 0.4476 - acc: 0.82 - ETA: 36s - loss: 0.4497 - acc: 0.82 - ETA: 35s - loss: 0.4494 - acc: 0.82 - ETA: 35s - loss: 0.4510 - acc: 0.82 - ETA: 34s - loss: 0.4484 - acc: 0.82 - ETA: 33s - loss: 0.4501 - acc: 0.82 - ETA: 32s - loss: 0.4506 - acc: 0.82 - ETA: 32s - loss: 0.4470 - acc: 0.82 - ETA: 31s - loss: 0.4442 - acc: 0.82 - ETA: 30s - loss: 0.4476 - acc: 0.82 - ETA: 29s - loss: 0.4478 - acc: 0.82 - ETA: 28s - loss: 0.4475 - acc: 0.82 - ETA: 28s - loss: 0.4477 - acc: 0.82 - ETA: 27s - loss: 0.4474 - acc: 0.82 - ETA: 26s - loss: 0.4481 - acc: 0.82 - ETA: 25s - loss: 0.4506 - acc: 0.82 - ETA: 25s - loss: 0.4494 - acc: 0.82 - ETA: 24s - loss: 0.4505 - acc: 0.82 - ETA: 23s - loss: 0.4497 - acc: 0.82 - ETA: 22s - loss: 0.4487 - acc: 0.81 - ETA: 22s - loss: 0.4479 - acc: 0.81 - ETA: 21s - loss: 0.4475 - acc: 0.81 - ETA: 20s - loss: 0.4443 - acc: 0.82 - ETA: 19s - loss: 0.4434 - acc: 0.82 - ETA: 19s - loss: 0.4464 - acc: 0.82 - ETA: 18s - loss: 0.4459 - acc: 0.81 - ETA: 17s - loss: 0.4465 - acc: 0.81 - ETA: 16s - loss: 0.4447 - acc: 0.81 - ETA: 15s - loss: 0.4432 - acc: 0.81 - ETA: 15s - loss: 0.4497 - acc: 0.81 - ETA: 14s - loss: 0.4489 - acc: 0.81 - ETA: 13s - loss: 0.4501 - acc: 0.81 - ETA: 13s - loss: 0.4476 - acc: 0.81 - ETA: 12s - loss: 0.4461 - acc: 0.81 - ETA: 11s - loss: 0.4484 - acc: 0.81 - ETA: 11s - loss: 0.4492 - acc: 0.81 - ETA: 10s - loss: 0.4481 - acc: 0.81 - ETA: 9s - loss: 0.4462 - acc: 0.8176 - ETA: 9s - loss: 0.4471 - acc: 0.816 - ETA: 8s - loss: 0.4457 - acc: 0.817 - ETA: 7s - loss: 0.4453 - acc: 0.818 - ETA: 6s - loss: 0.4464 - acc: 0.818 - ETA: 5s - loss: 0.4460 - acc: 0.819 - ETA: 4s - loss: 0.4433 - acc: 0.820 - ETA: 4s - loss: 0.4458 - acc: 0.819 - ETA: 3s - loss: 0.4456 - acc: 0.818 - ETA: 2s - loss: 0.4435 - acc: 0.820 - ETA: 1s - loss: 0.4451 - acc: 0.819 - ETA: 0s - loss: 0.4451 - acc: 0.8197Epoch 00009: val_loss did not improve\n",
      "2000/2000 [==============================] - 86s - loss: 0.4496 - acc: 0.8175 - val_loss: 0.7487 - val_acc: 0.6800\n",
      "Epoch 11/20\n"
     ]
    },
    {
     "name": "stdout",
     "output_type": "stream",
     "text": [
      "1980/2000 [============================>.] - ETA: 74s - loss: 0.4890 - acc: 0.80 - ETA: 74s - loss: 0.3017 - acc: 0.90 - ETA: 73s - loss: 0.3984 - acc: 0.83 - ETA: 72s - loss: 0.3708 - acc: 0.85 - ETA: 71s - loss: 0.3423 - acc: 0.86 - ETA: 70s - loss: 0.3279 - acc: 0.87 - ETA: 69s - loss: 0.3644 - acc: 0.86 - ETA: 69s - loss: 0.3924 - acc: 0.86 - ETA: 68s - loss: 0.3815 - acc: 0.85 - ETA: 67s - loss: 0.4291 - acc: 0.83 - ETA: 66s - loss: 0.4340 - acc: 0.82 - ETA: 66s - loss: 0.4191 - acc: 0.84 - ETA: 65s - loss: 0.4071 - acc: 0.84 - ETA: 64s - loss: 0.4044 - acc: 0.84 - ETA: 63s - loss: 0.4067 - acc: 0.84 - ETA: 63s - loss: 0.4156 - acc: 0.83 - ETA: 62s - loss: 0.4147 - acc: 0.83 - ETA: 61s - loss: 0.4181 - acc: 0.83 - ETA: 60s - loss: 0.4127 - acc: 0.83 - ETA: 60s - loss: 0.4057 - acc: 0.84 - ETA: 59s - loss: 0.3980 - acc: 0.84 - ETA: 58s - loss: 0.4028 - acc: 0.84 - ETA: 57s - loss: 0.4067 - acc: 0.84 - ETA: 57s - loss: 0.3984 - acc: 0.84 - ETA: 56s - loss: 0.3956 - acc: 0.84 - ETA: 55s - loss: 0.3887 - acc: 0.84 - ETA: 55s - loss: 0.3832 - acc: 0.85 - ETA: 54s - loss: 0.3856 - acc: 0.84 - ETA: 53s - loss: 0.3866 - acc: 0.84 - ETA: 52s - loss: 0.3942 - acc: 0.84 - ETA: 51s - loss: 0.3887 - acc: 0.84 - ETA: 51s - loss: 0.3844 - acc: 0.84 - ETA: 50s - loss: 0.3880 - acc: 0.84 - ETA: 49s - loss: 0.3841 - acc: 0.84 - ETA: 49s - loss: 0.3798 - acc: 0.84 - ETA: 48s - loss: 0.3750 - acc: 0.85 - ETA: 47s - loss: 0.3759 - acc: 0.85 - ETA: 46s - loss: 0.3708 - acc: 0.85 - ETA: 45s - loss: 0.3804 - acc: 0.84 - ETA: 45s - loss: 0.3896 - acc: 0.84 - ETA: 44s - loss: 0.3912 - acc: 0.84 - ETA: 43s - loss: 0.3886 - acc: 0.84 - ETA: 42s - loss: 0.3914 - acc: 0.83 - ETA: 42s - loss: 0.3921 - acc: 0.83 - ETA: 41s - loss: 0.4006 - acc: 0.83 - ETA: 40s - loss: 0.4010 - acc: 0.83 - ETA: 39s - loss: 0.4033 - acc: 0.83 - ETA: 39s - loss: 0.4068 - acc: 0.83 - ETA: 38s - loss: 0.4085 - acc: 0.83 - ETA: 37s - loss: 0.4145 - acc: 0.82 - ETA: 36s - loss: 0.4106 - acc: 0.83 - ETA: 36s - loss: 0.4076 - acc: 0.83 - ETA: 35s - loss: 0.4073 - acc: 0.83 - ETA: 34s - loss: 0.4047 - acc: 0.83 - ETA: 33s - loss: 0.4019 - acc: 0.83 - ETA: 33s - loss: 0.3970 - acc: 0.83 - ETA: 32s - loss: 0.4067 - acc: 0.83 - ETA: 31s - loss: 0.4074 - acc: 0.83 - ETA: 30s - loss: 0.4057 - acc: 0.83 - ETA: 30s - loss: 0.4063 - acc: 0.83 - ETA: 29s - loss: 0.4056 - acc: 0.83 - ETA: 28s - loss: 0.4063 - acc: 0.83 - ETA: 27s - loss: 0.4051 - acc: 0.83 - ETA: 27s - loss: 0.4038 - acc: 0.83 - ETA: 26s - loss: 0.4050 - acc: 0.83 - ETA: 25s - loss: 0.4043 - acc: 0.83 - ETA: 24s - loss: 0.4027 - acc: 0.83 - ETA: 24s - loss: 0.4029 - acc: 0.83 - ETA: 23s - loss: 0.4017 - acc: 0.83 - ETA: 22s - loss: 0.3993 - acc: 0.83 - ETA: 21s - loss: 0.4000 - acc: 0.83 - ETA: 21s - loss: 0.3978 - acc: 0.83 - ETA: 20s - loss: 0.3982 - acc: 0.83 - ETA: 19s - loss: 0.3955 - acc: 0.84 - ETA: 18s - loss: 0.3954 - acc: 0.84 - ETA: 18s - loss: 0.3948 - acc: 0.84 - ETA: 17s - loss: 0.3928 - acc: 0.84 - ETA: 16s - loss: 0.3916 - acc: 0.84 - ETA: 15s - loss: 0.3912 - acc: 0.84 - ETA: 15s - loss: 0.3898 - acc: 0.84 - ETA: 14s - loss: 0.3873 - acc: 0.84 - ETA: 13s - loss: 0.3850 - acc: 0.84 - ETA: 12s - loss: 0.3850 - acc: 0.84 - ETA: 12s - loss: 0.3836 - acc: 0.84 - ETA: 11s - loss: 0.3876 - acc: 0.84 - ETA: 10s - loss: 0.3892 - acc: 0.84 - ETA: 9s - loss: 0.3886 - acc: 0.8420 - ETA: 9s - loss: 0.3912 - acc: 0.841 - ETA: 8s - loss: 0.3893 - acc: 0.842 - ETA: 7s - loss: 0.3904 - acc: 0.842 - ETA: 6s - loss: 0.3927 - acc: 0.840 - ETA: 6s - loss: 0.3907 - acc: 0.841 - ETA: 5s - loss: 0.3884 - acc: 0.843 - ETA: 4s - loss: 0.3929 - acc: 0.843 - ETA: 3s - loss: 0.3912 - acc: 0.843 - ETA: 3s - loss: 0.3890 - acc: 0.844 - ETA: 2s - loss: 0.3884 - acc: 0.844 - ETA: 1s - loss: 0.3868 - acc: 0.845 - ETA: 0s - loss: 0.3893 - acc: 0.8460Epoch 00010: val_loss did not improve\n",
      "2000/2000 [==============================] - 80s - loss: 0.3895 - acc: 0.8455 - val_loss: 0.7794 - val_acc: 0.6800\n",
      "Epoch 12/20\n",
      "1980/2000 [============================>.] - ETA: 76s - loss: 0.3800 - acc: 0.85 - ETA: 74s - loss: 0.4481 - acc: 0.85 - ETA: 74s - loss: 0.3584 - acc: 0.88 - ETA: 73s - loss: 0.3178 - acc: 0.87 - ETA: 71s - loss: 0.3509 - acc: 0.85 - ETA: 71s - loss: 0.3892 - acc: 0.84 - ETA: 70s - loss: 0.4187 - acc: 0.84 - ETA: 69s - loss: 0.4074 - acc: 0.83 - ETA: 68s - loss: 0.3979 - acc: 0.84 - ETA: 68s - loss: 0.3778 - acc: 0.85 - ETA: 67s - loss: 0.3815 - acc: 0.85 - ETA: 66s - loss: 0.3691 - acc: 0.85 - ETA: 65s - loss: 0.3741 - acc: 0.85 - ETA: 64s - loss: 0.3637 - acc: 0.85 - ETA: 64s - loss: 0.3530 - acc: 0.86 - ETA: 63s - loss: 0.3406 - acc: 0.86 - ETA: 62s - loss: 0.3371 - acc: 0.86 - ETA: 62s - loss: 0.3427 - acc: 0.86 - ETA: 61s - loss: 0.3356 - acc: 0.86 - ETA: 60s - loss: 0.3279 - acc: 0.86 - ETA: 59s - loss: 0.3219 - acc: 0.87 - ETA: 58s - loss: 0.3216 - acc: 0.87 - ETA: 58s - loss: 0.3228 - acc: 0.86 - ETA: 57s - loss: 0.3210 - acc: 0.86 - ETA: 56s - loss: 0.3242 - acc: 0.86 - ETA: 56s - loss: 0.3237 - acc: 0.86 - ETA: 55s - loss: 0.3197 - acc: 0.86 - ETA: 54s - loss: 0.3115 - acc: 0.87 - ETA: 53s - loss: 0.3297 - acc: 0.86 - ETA: 52s - loss: 0.3489 - acc: 0.86 - ETA: 52s - loss: 0.3541 - acc: 0.85 - ETA: 51s - loss: 0.3557 - acc: 0.85 - ETA: 50s - loss: 0.3496 - acc: 0.85 - ETA: 49s - loss: 0.3464 - acc: 0.86 - ETA: 49s - loss: 0.3475 - acc: 0.86 - ETA: 48s - loss: 0.3417 - acc: 0.86 - ETA: 47s - loss: 0.3438 - acc: 0.86 - ETA: 46s - loss: 0.3429 - acc: 0.86 - ETA: 46s - loss: 0.3431 - acc: 0.86 - ETA: 45s - loss: 0.3479 - acc: 0.85 - ETA: 44s - loss: 0.3496 - acc: 0.85 - ETA: 44s - loss: 0.3499 - acc: 0.85 - ETA: 43s - loss: 0.3455 - acc: 0.86 - ETA: 42s - loss: 0.3475 - acc: 0.86 - ETA: 41s - loss: 0.3491 - acc: 0.85 - ETA: 40s - loss: 0.3526 - acc: 0.85 - ETA: 40s - loss: 0.3534 - acc: 0.85 - ETA: 39s - loss: 0.3500 - acc: 0.85 - ETA: 38s - loss: 0.3535 - acc: 0.85 - ETA: 38s - loss: 0.3520 - acc: 0.85 - ETA: 37s - loss: 0.3508 - acc: 0.85 - ETA: 36s - loss: 0.3488 - acc: 0.85 - ETA: 35s - loss: 0.3476 - acc: 0.85 - ETA: 34s - loss: 0.3519 - acc: 0.85 - ETA: 34s - loss: 0.3497 - acc: 0.85 - ETA: 33s - loss: 0.3504 - acc: 0.85 - ETA: 32s - loss: 0.3517 - acc: 0.85 - ETA: 31s - loss: 0.3488 - acc: 0.85 - ETA: 31s - loss: 0.3505 - acc: 0.85 - ETA: 30s - loss: 0.3495 - acc: 0.85 - ETA: 29s - loss: 0.3524 - acc: 0.85 - ETA: 28s - loss: 0.3618 - acc: 0.85 - ETA: 28s - loss: 0.3603 - acc: 0.85 - ETA: 27s - loss: 0.3571 - acc: 0.85 - ETA: 26s - loss: 0.3582 - acc: 0.85 - ETA: 25s - loss: 0.3547 - acc: 0.85 - ETA: 25s - loss: 0.3544 - acc: 0.85 - ETA: 24s - loss: 0.3537 - acc: 0.85 - ETA: 23s - loss: 0.3562 - acc: 0.85 - ETA: 22s - loss: 0.3550 - acc: 0.85 - ETA: 22s - loss: 0.3533 - acc: 0.85 - ETA: 21s - loss: 0.3523 - acc: 0.85 - ETA: 20s - loss: 0.3531 - acc: 0.85 - ETA: 19s - loss: 0.3598 - acc: 0.85 - ETA: 19s - loss: 0.3606 - acc: 0.85 - ETA: 18s - loss: 0.3637 - acc: 0.85 - ETA: 17s - loss: 0.3612 - acc: 0.85 - ETA: 16s - loss: 0.3582 - acc: 0.85 - ETA: 15s - loss: 0.3588 - acc: 0.85 - ETA: 15s - loss: 0.3576 - acc: 0.86 - ETA: 14s - loss: 0.3569 - acc: 0.86 - ETA: 13s - loss: 0.3554 - acc: 0.86 - ETA: 12s - loss: 0.3580 - acc: 0.85 - ETA: 12s - loss: 0.3590 - acc: 0.85 - ETA: 11s - loss: 0.3582 - acc: 0.85 - ETA: 10s - loss: 0.3585 - acc: 0.85 - ETA: 9s - loss: 0.3586 - acc: 0.8580 - ETA: 9s - loss: 0.3571 - acc: 0.858 - ETA: 8s - loss: 0.3574 - acc: 0.856 - ETA: 7s - loss: 0.3590 - acc: 0.856 - ETA: 6s - loss: 0.3625 - acc: 0.854 - ETA: 6s - loss: 0.3642 - acc: 0.854 - ETA: 5s - loss: 0.3627 - acc: 0.855 - ETA: 4s - loss: 0.3609 - acc: 0.855 - ETA: 3s - loss: 0.3609 - acc: 0.854 - ETA: 3s - loss: 0.3602 - acc: 0.854 - ETA: 2s - loss: 0.3595 - acc: 0.855 - ETA: 1s - loss: 0.3603 - acc: 0.855 - ETA: 0s - loss: 0.3614 - acc: 0.8551Epoch 00011: val_loss did not improve\n",
      "2000/2000 [==============================] - 81s - loss: 0.3629 - acc: 0.8550 - val_loss: 0.8085 - val_acc: 0.6867\n",
      "Epoch 13/20\n"
     ]
    },
    {
     "name": "stdout",
     "output_type": "stream",
     "text": [
      "1980/2000 [============================>.] - ETA: 74s - loss: 0.3592 - acc: 0.85 - ETA: 74s - loss: 0.3111 - acc: 0.87 - ETA: 68s - loss: 0.3477 - acc: 0.85 - ETA: 69s - loss: 0.3005 - acc: 0.88 - ETA: 69s - loss: 0.3135 - acc: 0.89 - ETA: 68s - loss: 0.3359 - acc: 0.87 - ETA: 68s - loss: 0.3186 - acc: 0.87 - ETA: 68s - loss: 0.3794 - acc: 0.86 - ETA: 67s - loss: 0.3808 - acc: 0.87 - ETA: 67s - loss: 0.3766 - acc: 0.87 - ETA: 66s - loss: 0.3704 - acc: 0.86 - ETA: 65s - loss: 0.3511 - acc: 0.87 - ETA: 65s - loss: 0.3585 - acc: 0.87 - ETA: 64s - loss: 0.3479 - acc: 0.87 - ETA: 63s - loss: 0.3373 - acc: 0.88 - ETA: 63s - loss: 0.3244 - acc: 0.88 - ETA: 62s - loss: 0.3402 - acc: 0.87 - ETA: 61s - loss: 0.3298 - acc: 0.88 - ETA: 60s - loss: 0.3330 - acc: 0.88 - ETA: 60s - loss: 0.3335 - acc: 0.88 - ETA: 59s - loss: 0.3425 - acc: 0.87 - ETA: 58s - loss: 0.3393 - acc: 0.87 - ETA: 57s - loss: 0.3451 - acc: 0.87 - ETA: 57s - loss: 0.3417 - acc: 0.87 - ETA: 57s - loss: 0.3603 - acc: 0.86 - ETA: 56s - loss: 0.3786 - acc: 0.86 - ETA: 55s - loss: 0.3720 - acc: 0.86 - ETA: 54s - loss: 0.3633 - acc: 0.87 - ETA: 54s - loss: 0.3730 - acc: 0.86 - ETA: 53s - loss: 0.3685 - acc: 0.87 - ETA: 52s - loss: 0.3612 - acc: 0.87 - ETA: 51s - loss: 0.3637 - acc: 0.86 - ETA: 51s - loss: 0.3602 - acc: 0.87 - ETA: 50s - loss: 0.3624 - acc: 0.86 - ETA: 49s - loss: 0.3610 - acc: 0.86 - ETA: 48s - loss: 0.3571 - acc: 0.86 - ETA: 47s - loss: 0.3537 - acc: 0.87 - ETA: 47s - loss: 0.3518 - acc: 0.87 - ETA: 46s - loss: 0.3510 - acc: 0.87 - ETA: 45s - loss: 0.3452 - acc: 0.87 - ETA: 44s - loss: 0.3426 - acc: 0.87 - ETA: 44s - loss: 0.3437 - acc: 0.87 - ETA: 43s - loss: 0.3463 - acc: 0.87 - ETA: 42s - loss: 0.3459 - acc: 0.87 - ETA: 42s - loss: 0.3428 - acc: 0.87 - ETA: 42s - loss: 0.3412 - acc: 0.87 - ETA: 41s - loss: 0.3455 - acc: 0.87 - ETA: 40s - loss: 0.3511 - acc: 0.86 - ETA: 39s - loss: 0.3513 - acc: 0.86 - ETA: 38s - loss: 0.3495 - acc: 0.86 - ETA: 38s - loss: 0.3483 - acc: 0.86 - ETA: 37s - loss: 0.3488 - acc: 0.86 - ETA: 36s - loss: 0.3487 - acc: 0.86 - ETA: 35s - loss: 0.3463 - acc: 0.86 - ETA: 34s - loss: 0.3460 - acc: 0.87 - ETA: 34s - loss: 0.3438 - acc: 0.87 - ETA: 33s - loss: 0.3428 - acc: 0.87 - ETA: 32s - loss: 0.3389 - acc: 0.87 - ETA: 31s - loss: 0.3384 - acc: 0.87 - ETA: 30s - loss: 0.3377 - acc: 0.87 - ETA: 30s - loss: 0.3405 - acc: 0.87 - ETA: 29s - loss: 0.3380 - acc: 0.87 - ETA: 28s - loss: 0.3369 - acc: 0.87 - ETA: 27s - loss: 0.3382 - acc: 0.87 - ETA: 27s - loss: 0.3399 - acc: 0.87 - ETA: 26s - loss: 0.3396 - acc: 0.87 - ETA: 25s - loss: 0.3368 - acc: 0.87 - ETA: 24s - loss: 0.3345 - acc: 0.87 - ETA: 23s - loss: 0.3349 - acc: 0.87 - ETA: 23s - loss: 0.3341 - acc: 0.87 - ETA: 22s - loss: 0.3350 - acc: 0.87 - ETA: 21s - loss: 0.3355 - acc: 0.87 - ETA: 20s - loss: 0.3356 - acc: 0.87 - ETA: 20s - loss: 0.3362 - acc: 0.87 - ETA: 19s - loss: 0.3360 - acc: 0.87 - ETA: 18s - loss: 0.3386 - acc: 0.87 - ETA: 17s - loss: 0.3380 - acc: 0.87 - ETA: 16s - loss: 0.3384 - acc: 0.87 - ETA: 16s - loss: 0.3386 - acc: 0.87 - ETA: 15s - loss: 0.3396 - acc: 0.87 - ETA: 14s - loss: 0.3401 - acc: 0.87 - ETA: 13s - loss: 0.3398 - acc: 0.87 - ETA: 13s - loss: 0.3406 - acc: 0.86 - ETA: 12s - loss: 0.3401 - acc: 0.86 - ETA: 11s - loss: 0.3382 - acc: 0.87 - ETA: 10s - loss: 0.3393 - acc: 0.86 - ETA: 9s - loss: 0.3393 - acc: 0.8701 - ETA: 9s - loss: 0.3380 - acc: 0.870 - ETA: 8s - loss: 0.3382 - acc: 0.870 - ETA: 7s - loss: 0.3389 - acc: 0.870 - ETA: 6s - loss: 0.3388 - acc: 0.870 - ETA: 6s - loss: 0.3373 - acc: 0.871 - ETA: 5s - loss: 0.3376 - acc: 0.871 - ETA: 4s - loss: 0.3458 - acc: 0.867 - ETA: 3s - loss: 0.3463 - acc: 0.867 - ETA: 3s - loss: 0.3472 - acc: 0.866 - ETA: 2s - loss: 0.3462 - acc: 0.867 - ETA: 1s - loss: 0.3449 - acc: 0.867 - ETA: 0s - loss: 0.3434 - acc: 0.8682Epoch 00012: val_loss did not improve\n",
      "2000/2000 [==============================] - 81s - loss: 0.3414 - acc: 0.8695 - val_loss: 1.0951 - val_acc: 0.7133\n",
      "Epoch 14/20\n",
      "1220/2000 [=================>............] - ETA: 74s - loss: 0.5031 - acc: 0.80 - ETA: 74s - loss: 0.3370 - acc: 0.87 - ETA: 73s - loss: 0.2916 - acc: 0.88 - ETA: 72s - loss: 0.2924 - acc: 0.86 - ETA: 72s - loss: 0.3160 - acc: 0.85 - ETA: 71s - loss: 0.3354 - acc: 0.83 - ETA: 70s - loss: 0.3519 - acc: 0.84 - ETA: 69s - loss: 0.3339 - acc: 0.86 - ETA: 69s - loss: 0.3336 - acc: 0.86 - ETA: 68s - loss: 0.3416 - acc: 0.86 - ETA: 67s - loss: 0.3456 - acc: 0.85 - ETA: 66s - loss: 0.3428 - acc: 0.86 - ETA: 70s - loss: 0.3265 - acc: 0.86 - ETA: 68s - loss: 0.3224 - acc: 0.86 - ETA: 67s - loss: 0.3100 - acc: 0.87 - ETA: 66s - loss: 0.3131 - acc: 0.86 - ETA: 65s - loss: 0.3073 - acc: 0.86 - ETA: 65s - loss: 0.3107 - acc: 0.86 - ETA: 64s - loss: 0.3108 - acc: 0.86 - ETA: 63s - loss: 0.3030 - acc: 0.87 - ETA: 62s - loss: 0.2975 - acc: 0.87 - ETA: 61s - loss: 0.2923 - acc: 0.87 - ETA: 60s - loss: 0.2954 - acc: 0.87 - ETA: 59s - loss: 0.3012 - acc: 0.86 - ETA: 58s - loss: 0.2970 - acc: 0.86 - ETA: 57s - loss: 0.3050 - acc: 0.86 - ETA: 57s - loss: 0.3088 - acc: 0.85 - ETA: 56s - loss: 0.3056 - acc: 0.86 - ETA: 55s - loss: 0.3084 - acc: 0.85 - ETA: 54s - loss: 0.3099 - acc: 0.85 - ETA: 53s - loss: 0.3037 - acc: 0.86 - ETA: 52s - loss: 0.3076 - acc: 0.86 - ETA: 52s - loss: 0.3209 - acc: 0.85 - ETA: 51s - loss: 0.3212 - acc: 0.85 - ETA: 50s - loss: 0.3222 - acc: 0.85 - ETA: 49s - loss: 0.3207 - acc: 0.85 - ETA: 48s - loss: 0.3224 - acc: 0.85 - ETA: 48s - loss: 0.3238 - acc: 0.85 - ETA: 47s - loss: 0.3244 - acc: 0.85 - ETA: 46s - loss: 0.3214 - acc: 0.85 - ETA: 45s - loss: 0.3200 - acc: 0.85 - ETA: 44s - loss: 0.3210 - acc: 0.85 - ETA: 44s - loss: 0.3211 - acc: 0.85 - ETA: 43s - loss: 0.3263 - acc: 0.85 - ETA: 42s - loss: 0.3231 - acc: 0.86 - ETA: 41s - loss: 0.3243 - acc: 0.86 - ETA: 40s - loss: 0.3215 - acc: 0.86 - ETA: 40s - loss: 0.3179 - acc: 0.86 - ETA: 39s - loss: 0.3175 - acc: 0.86 - ETA: 38s - loss: 0.3201 - acc: 0.86 - ETA: 37s - loss: 0.3184 - acc: 0.86 - ETA: 37s - loss: 0.3157 - acc: 0.86 - ETA: 36s - loss: 0.3194 - acc: 0.86 - ETA: 35s - loss: 0.3219 - acc: 0.86 - ETA: 34s - loss: 0.3209 - acc: 0.86 - ETA: 33s - loss: 0.3197 - acc: 0.86 - ETA: 33s - loss: 0.3211 - acc: 0.86 - ETA: 32s - loss: 0.3200 - acc: 0.86 - ETA: 31s - loss: 0.3171 - acc: 0.86 - ETA: 30s - loss: 0.3164 - acc: 0.86 - ETA: 30s - loss: 0.3137 - acc: 0.8697"
     ]
    },
    {
     "ename": "KeyboardInterrupt",
     "evalue": "",
     "output_type": "error",
     "traceback": [
      "\u001b[1;31m---------------------------------------------------------------------------\u001b[0m",
      "\u001b[1;31mKeyboardInterrupt\u001b[0m                         Traceback (most recent call last)",
      "\u001b[1;32m<ipython-input-68-2047d5592718>\u001b[0m in \u001b[0;36m<module>\u001b[1;34m()\u001b[0m\n\u001b[0;32m     11\u001b[0m             \u001b[0mbatch_size\u001b[0m\u001b[1;33m=\u001b[0m\u001b[1;36m20\u001b[0m\u001b[1;33m,\u001b[0m\u001b[1;33m\u001b[0m\u001b[0m\n\u001b[0;32m     12\u001b[0m             \u001b[0mcallbacks\u001b[0m\u001b[1;33m=\u001b[0m\u001b[1;33m[\u001b[0m\u001b[0mcheckpointer\u001b[0m\u001b[1;33m]\u001b[0m\u001b[1;33m,\u001b[0m\u001b[1;33m\u001b[0m\u001b[0m\n\u001b[1;32m---> 13\u001b[1;33m             verbose=1)\n\u001b[0m",
      "\u001b[1;32mC:\\ProgramData\\Anaconda3\\envs\\DLND_L2\\lib\\site-packages\\keras\\models.py\u001b[0m in \u001b[0;36mfit\u001b[1;34m(self, x, y, batch_size, epochs, verbose, callbacks, validation_split, validation_data, shuffle, class_weight, sample_weight, initial_epoch, **kwargs)\u001b[0m\n\u001b[0;32m    865\u001b[0m                               \u001b[0mclass_weight\u001b[0m\u001b[1;33m=\u001b[0m\u001b[0mclass_weight\u001b[0m\u001b[1;33m,\u001b[0m\u001b[1;33m\u001b[0m\u001b[0m\n\u001b[0;32m    866\u001b[0m                               \u001b[0msample_weight\u001b[0m\u001b[1;33m=\u001b[0m\u001b[0msample_weight\u001b[0m\u001b[1;33m,\u001b[0m\u001b[1;33m\u001b[0m\u001b[0m\n\u001b[1;32m--> 867\u001b[1;33m                               initial_epoch=initial_epoch)\n\u001b[0m\u001b[0;32m    868\u001b[0m \u001b[1;33m\u001b[0m\u001b[0m\n\u001b[0;32m    869\u001b[0m     def evaluate(self, x, y, batch_size=32, verbose=1,\n",
      "\u001b[1;32mC:\\ProgramData\\Anaconda3\\envs\\DLND_L2\\lib\\site-packages\\keras\\engine\\training.py\u001b[0m in \u001b[0;36mfit\u001b[1;34m(self, x, y, batch_size, epochs, verbose, callbacks, validation_split, validation_data, shuffle, class_weight, sample_weight, initial_epoch, steps_per_epoch, validation_steps, **kwargs)\u001b[0m\n\u001b[0;32m   1596\u001b[0m                               \u001b[0minitial_epoch\u001b[0m\u001b[1;33m=\u001b[0m\u001b[0minitial_epoch\u001b[0m\u001b[1;33m,\u001b[0m\u001b[1;33m\u001b[0m\u001b[0m\n\u001b[0;32m   1597\u001b[0m                               \u001b[0msteps_per_epoch\u001b[0m\u001b[1;33m=\u001b[0m\u001b[0msteps_per_epoch\u001b[0m\u001b[1;33m,\u001b[0m\u001b[1;33m\u001b[0m\u001b[0m\n\u001b[1;32m-> 1598\u001b[1;33m                               validation_steps=validation_steps)\n\u001b[0m\u001b[0;32m   1599\u001b[0m \u001b[1;33m\u001b[0m\u001b[0m\n\u001b[0;32m   1600\u001b[0m     def evaluate(self, x, y,\n",
      "\u001b[1;32mC:\\ProgramData\\Anaconda3\\envs\\DLND_L2\\lib\\site-packages\\keras\\engine\\training.py\u001b[0m in \u001b[0;36m_fit_loop\u001b[1;34m(self, f, ins, out_labels, batch_size, epochs, verbose, callbacks, val_f, val_ins, shuffle, callback_metrics, initial_epoch, steps_per_epoch, validation_steps)\u001b[0m\n\u001b[0;32m   1181\u001b[0m                     \u001b[0mbatch_logs\u001b[0m\u001b[1;33m[\u001b[0m\u001b[1;34m'size'\u001b[0m\u001b[1;33m]\u001b[0m \u001b[1;33m=\u001b[0m \u001b[0mlen\u001b[0m\u001b[1;33m(\u001b[0m\u001b[0mbatch_ids\u001b[0m\u001b[1;33m)\u001b[0m\u001b[1;33m\u001b[0m\u001b[0m\n\u001b[0;32m   1182\u001b[0m                     \u001b[0mcallbacks\u001b[0m\u001b[1;33m.\u001b[0m\u001b[0mon_batch_begin\u001b[0m\u001b[1;33m(\u001b[0m\u001b[0mbatch_index\u001b[0m\u001b[1;33m,\u001b[0m \u001b[0mbatch_logs\u001b[0m\u001b[1;33m)\u001b[0m\u001b[1;33m\u001b[0m\u001b[0m\n\u001b[1;32m-> 1183\u001b[1;33m                     \u001b[0mouts\u001b[0m \u001b[1;33m=\u001b[0m \u001b[0mf\u001b[0m\u001b[1;33m(\u001b[0m\u001b[0mins_batch\u001b[0m\u001b[1;33m)\u001b[0m\u001b[1;33m\u001b[0m\u001b[0m\n\u001b[0m\u001b[0;32m   1184\u001b[0m                     \u001b[1;32mif\u001b[0m \u001b[1;32mnot\u001b[0m \u001b[0misinstance\u001b[0m\u001b[1;33m(\u001b[0m\u001b[0mouts\u001b[0m\u001b[1;33m,\u001b[0m \u001b[0mlist\u001b[0m\u001b[1;33m)\u001b[0m\u001b[1;33m:\u001b[0m\u001b[1;33m\u001b[0m\u001b[0m\n\u001b[0;32m   1185\u001b[0m                         \u001b[0mouts\u001b[0m \u001b[1;33m=\u001b[0m \u001b[1;33m[\u001b[0m\u001b[0mouts\u001b[0m\u001b[1;33m]\u001b[0m\u001b[1;33m\u001b[0m\u001b[0m\n",
      "\u001b[1;32mC:\\ProgramData\\Anaconda3\\envs\\DLND_L2\\lib\\site-packages\\keras\\backend\\tensorflow_backend.py\u001b[0m in \u001b[0;36m__call__\u001b[1;34m(self, inputs)\u001b[0m\n\u001b[0;32m   2271\u001b[0m         updated = session.run(self.outputs + [self.updates_op],\n\u001b[0;32m   2272\u001b[0m                               \u001b[0mfeed_dict\u001b[0m\u001b[1;33m=\u001b[0m\u001b[0mfeed_dict\u001b[0m\u001b[1;33m,\u001b[0m\u001b[1;33m\u001b[0m\u001b[0m\n\u001b[1;32m-> 2273\u001b[1;33m                               **self.session_kwargs)\n\u001b[0m\u001b[0;32m   2274\u001b[0m         \u001b[1;32mreturn\u001b[0m \u001b[0mupdated\u001b[0m\u001b[1;33m[\u001b[0m\u001b[1;33m:\u001b[0m\u001b[0mlen\u001b[0m\u001b[1;33m(\u001b[0m\u001b[0mself\u001b[0m\u001b[1;33m.\u001b[0m\u001b[0moutputs\u001b[0m\u001b[1;33m)\u001b[0m\u001b[1;33m]\u001b[0m\u001b[1;33m\u001b[0m\u001b[0m\n\u001b[0;32m   2275\u001b[0m \u001b[1;33m\u001b[0m\u001b[0m\n",
      "\u001b[1;32mC:\\ProgramData\\Anaconda3\\envs\\DLND_L2\\lib\\site-packages\\tensorflow\\python\\client\\session.py\u001b[0m in \u001b[0;36mrun\u001b[1;34m(self, fetches, feed_dict, options, run_metadata)\u001b[0m\n\u001b[0;32m    776\u001b[0m     \u001b[1;32mtry\u001b[0m\u001b[1;33m:\u001b[0m\u001b[1;33m\u001b[0m\u001b[0m\n\u001b[0;32m    777\u001b[0m       result = self._run(None, fetches, feed_dict, options_ptr,\n\u001b[1;32m--> 778\u001b[1;33m                          run_metadata_ptr)\n\u001b[0m\u001b[0;32m    779\u001b[0m       \u001b[1;32mif\u001b[0m \u001b[0mrun_metadata\u001b[0m\u001b[1;33m:\u001b[0m\u001b[1;33m\u001b[0m\u001b[0m\n\u001b[0;32m    780\u001b[0m         \u001b[0mproto_data\u001b[0m \u001b[1;33m=\u001b[0m \u001b[0mtf_session\u001b[0m\u001b[1;33m.\u001b[0m\u001b[0mTF_GetBuffer\u001b[0m\u001b[1;33m(\u001b[0m\u001b[0mrun_metadata_ptr\u001b[0m\u001b[1;33m)\u001b[0m\u001b[1;33m\u001b[0m\u001b[0m\n",
      "\u001b[1;32mC:\\ProgramData\\Anaconda3\\envs\\DLND_L2\\lib\\site-packages\\tensorflow\\python\\client\\session.py\u001b[0m in \u001b[0;36m_run\u001b[1;34m(self, handle, fetches, feed_dict, options, run_metadata)\u001b[0m\n\u001b[0;32m    980\u001b[0m     \u001b[1;32mif\u001b[0m \u001b[0mfinal_fetches\u001b[0m \u001b[1;32mor\u001b[0m \u001b[0mfinal_targets\u001b[0m\u001b[1;33m:\u001b[0m\u001b[1;33m\u001b[0m\u001b[0m\n\u001b[0;32m    981\u001b[0m       results = self._do_run(handle, final_targets, final_fetches,\n\u001b[1;32m--> 982\u001b[1;33m                              feed_dict_string, options, run_metadata)\n\u001b[0m\u001b[0;32m    983\u001b[0m     \u001b[1;32melse\u001b[0m\u001b[1;33m:\u001b[0m\u001b[1;33m\u001b[0m\u001b[0m\n\u001b[0;32m    984\u001b[0m       \u001b[0mresults\u001b[0m \u001b[1;33m=\u001b[0m \u001b[1;33m[\u001b[0m\u001b[1;33m]\u001b[0m\u001b[1;33m\u001b[0m\u001b[0m\n",
      "\u001b[1;32mC:\\ProgramData\\Anaconda3\\envs\\DLND_L2\\lib\\site-packages\\tensorflow\\python\\client\\session.py\u001b[0m in \u001b[0;36m_do_run\u001b[1;34m(self, handle, target_list, fetch_list, feed_dict, options, run_metadata)\u001b[0m\n\u001b[0;32m   1030\u001b[0m     \u001b[1;32mif\u001b[0m \u001b[0mhandle\u001b[0m \u001b[1;32mis\u001b[0m \u001b[1;32mNone\u001b[0m\u001b[1;33m:\u001b[0m\u001b[1;33m\u001b[0m\u001b[0m\n\u001b[0;32m   1031\u001b[0m       return self._do_call(_run_fn, self._session, feed_dict, fetch_list,\n\u001b[1;32m-> 1032\u001b[1;33m                            target_list, options, run_metadata)\n\u001b[0m\u001b[0;32m   1033\u001b[0m     \u001b[1;32melse\u001b[0m\u001b[1;33m:\u001b[0m\u001b[1;33m\u001b[0m\u001b[0m\n\u001b[0;32m   1034\u001b[0m       return self._do_call(_prun_fn, self._session, handle, feed_dict,\n",
      "\u001b[1;32mC:\\ProgramData\\Anaconda3\\envs\\DLND_L2\\lib\\site-packages\\tensorflow\\python\\client\\session.py\u001b[0m in \u001b[0;36m_do_call\u001b[1;34m(self, fn, *args)\u001b[0m\n\u001b[0;32m   1037\u001b[0m   \u001b[1;32mdef\u001b[0m \u001b[0m_do_call\u001b[0m\u001b[1;33m(\u001b[0m\u001b[0mself\u001b[0m\u001b[1;33m,\u001b[0m \u001b[0mfn\u001b[0m\u001b[1;33m,\u001b[0m \u001b[1;33m*\u001b[0m\u001b[0margs\u001b[0m\u001b[1;33m)\u001b[0m\u001b[1;33m:\u001b[0m\u001b[1;33m\u001b[0m\u001b[0m\n\u001b[0;32m   1038\u001b[0m     \u001b[1;32mtry\u001b[0m\u001b[1;33m:\u001b[0m\u001b[1;33m\u001b[0m\u001b[0m\n\u001b[1;32m-> 1039\u001b[1;33m       \u001b[1;32mreturn\u001b[0m \u001b[0mfn\u001b[0m\u001b[1;33m(\u001b[0m\u001b[1;33m*\u001b[0m\u001b[0margs\u001b[0m\u001b[1;33m)\u001b[0m\u001b[1;33m\u001b[0m\u001b[0m\n\u001b[0m\u001b[0;32m   1040\u001b[0m     \u001b[1;32mexcept\u001b[0m \u001b[0merrors\u001b[0m\u001b[1;33m.\u001b[0m\u001b[0mOpError\u001b[0m \u001b[1;32mas\u001b[0m \u001b[0me\u001b[0m\u001b[1;33m:\u001b[0m\u001b[1;33m\u001b[0m\u001b[0m\n\u001b[0;32m   1041\u001b[0m       \u001b[0mmessage\u001b[0m \u001b[1;33m=\u001b[0m \u001b[0mcompat\u001b[0m\u001b[1;33m.\u001b[0m\u001b[0mas_text\u001b[0m\u001b[1;33m(\u001b[0m\u001b[0me\u001b[0m\u001b[1;33m.\u001b[0m\u001b[0mmessage\u001b[0m\u001b[1;33m)\u001b[0m\u001b[1;33m\u001b[0m\u001b[0m\n",
      "\u001b[1;32mC:\\ProgramData\\Anaconda3\\envs\\DLND_L2\\lib\\site-packages\\tensorflow\\python\\client\\session.py\u001b[0m in \u001b[0;36m_run_fn\u001b[1;34m(session, feed_dict, fetch_list, target_list, options, run_metadata)\u001b[0m\n\u001b[0;32m   1019\u001b[0m         return tf_session.TF_Run(session, options,\n\u001b[0;32m   1020\u001b[0m                                  \u001b[0mfeed_dict\u001b[0m\u001b[1;33m,\u001b[0m \u001b[0mfetch_list\u001b[0m\u001b[1;33m,\u001b[0m \u001b[0mtarget_list\u001b[0m\u001b[1;33m,\u001b[0m\u001b[1;33m\u001b[0m\u001b[0m\n\u001b[1;32m-> 1021\u001b[1;33m                                  status, run_metadata)\n\u001b[0m\u001b[0;32m   1022\u001b[0m \u001b[1;33m\u001b[0m\u001b[0m\n\u001b[0;32m   1023\u001b[0m     \u001b[1;32mdef\u001b[0m \u001b[0m_prun_fn\u001b[0m\u001b[1;33m(\u001b[0m\u001b[0msession\u001b[0m\u001b[1;33m,\u001b[0m \u001b[0mhandle\u001b[0m\u001b[1;33m,\u001b[0m \u001b[0mfeed_dict\u001b[0m\u001b[1;33m,\u001b[0m \u001b[0mfetch_list\u001b[0m\u001b[1;33m)\u001b[0m\u001b[1;33m:\u001b[0m\u001b[1;33m\u001b[0m\u001b[0m\n",
      "\u001b[1;31mKeyboardInterrupt\u001b[0m: "
     ]
    }
   ],
   "source": [
    "from keras.callbacks import ModelCheckpoint  \n",
    "\n",
    "epochs = 20\n",
    "\n",
    "checkpointer = ModelCheckpoint(filepath='saved_models/weights1.hdf5', \n",
    "                               verbose=1, save_best_only=True)\n",
    "\n",
    "model.fit(train_tensors, train_labels,\n",
    "            validation_data=(valid_tensors, valid_labels),\n",
    "            epochs=epochs,\n",
    "            batch_size=20,\n",
    "            callbacks=[checkpointer],\n",
    "            verbose=1)"
   ]
  },
  {
   "cell_type": "markdown",
   "metadata": {},
   "source": [
    "## Create output .csv for testing"
   ]
  },
  {
   "cell_type": "code",
   "execution_count": 69,
   "metadata": {
    "collapsed": true
   },
   "outputs": [],
   "source": [
    "# Load the model weights with the best validation loss.\n",
    "\n",
    "model.load_weights('saved_models/weights1.hdf5')"
   ]
  },
  {
   "cell_type": "code",
   "execution_count": 72,
   "metadata": {},
   "outputs": [
    {
     "name": "stderr",
     "output_type": "stream",
     "text": [
      "100%|████████████████████████████████████████████████████████████████████████████████| 600/600 [00:13<00:00, 44.28it/s]\n"
     ]
    }
   ],
   "source": [
    "import pandas as pd\n",
    "\n",
    "y_pred = pd.DataFrame(columns=[\"task_1\", \"task_2\"])\n",
    "\n",
    "for ii in tqdm(range(len(test_labels))):\n",
    "    #path = test_files[ii]\n",
    "    prediction = np.argmax(model.predict(np.expand_dims(test_tensors[ii], axis=0)))\n",
    "    if prediction == 0:\n",
    "        y_pred.loc[ii] = [1, 0]\n",
    "    if prediction == 2:\n",
    "        y_pred.loc[ii] = [0, 1]\n",
    "    else:\n",
    "        y_pred.loc[ii] = [0, 0]\n",
    "\n",
    "y_pred.to_csv(\"predictions.csv\")"
   ]
  },
  {
   "cell_type": "markdown",
   "metadata": {
    "collapsed": true
   },
   "source": [
    "## Internal testing vs. ground truths"
   ]
  },
  {
   "cell_type": "code",
   "execution_count": 73,
   "metadata": {
    "collapsed": true
   },
   "outputs": [],
   "source": [
    "import itertools\n",
    "import keras\n",
    "import matplotlib.pyplot as plt\n",
    "import sys\n",
    "from sklearn.metrics import roc_curve, auc, confusion_matrix\n",
    "from keras.preprocessing.image import ImageDataGenerator\n",
    "\n",
    "def plot_roc_auc(y_true, y_pred):\n",
    "    \"\"\"\n",
    "    This function plots the ROC curves and provides the scores.\n",
    "    \"\"\"\n",
    "\n",
    "    # initialize dictionaries and array\n",
    "    fpr = dict()\n",
    "    tpr = dict()\n",
    "    roc_auc = np.zeros(3)\n",
    "    \n",
    "    # prepare for figure\n",
    "    plt.figure()\n",
    "    colors = ['aqua', 'cornflowerblue']\n",
    "\n",
    "    # for both classification tasks (categories 1 and 2)\n",
    "    for i in range(2):\n",
    "        # obtain ROC curve\n",
    "        fpr[i], tpr[i], _ = roc_curve(y_true[:,i], y_pred[:,i])\n",
    "        # obtain ROC AUC\n",
    "        roc_auc[i] = auc(fpr[i], tpr[i])\n",
    "        # plot ROC curve\n",
    "        plt.plot(fpr[i], tpr[i], color=colors[i], lw=2,\n",
    "                 label='ROC curve for task {d} (area = {f:.2f})'.format(d=i+1, f=roc_auc[i]))\n",
    "    # get score for category 3\n",
    "    roc_auc[2] = np.average(roc_auc[:2])\n",
    "    \n",
    "    # format figure\n",
    "    plt.plot([0, 1], [0, 1], 'k--', lw=2)\n",
    "    plt.xlim([0.0, 1.0])\n",
    "    plt.ylim([0.0, 1.05])\n",
    "    plt.xlabel('False Positive Rate')\n",
    "    plt.ylabel('True Positive Rate')\n",
    "    plt.title('ROC curves')\n",
    "    plt.legend(loc=\"lower right\")\n",
    "    plt.show()\n",
    "    \n",
    "    # print scores\n",
    "    for i in range(3):\n",
    "        print('Category {d} Score: {f:.3f}'. format(d=i+1, f=roc_auc[i]))\n",
    "\n",
    "def plot_confusion_matrix(y_true, y_pred, thresh, classes):\n",
    "    \"\"\"\n",
    "    This function plots the (normalized) confusion matrix.\n",
    "    \"\"\"\n",
    "\n",
    "    # obtain class predictions from probabilities\n",
    "    y_pred = (y_pred>=thresh)*1\n",
    "    # obtain (unnormalized) confusion matrix\n",
    "    cm = confusion_matrix(y_true, y_pred)\n",
    "    # normalize confusion matrix\n",
    "    cm = cm.astype('float') / cm.sum(axis=1)[:, np.newaxis]\n",
    "    \n",
    "    plt.figure()\n",
    "    plt.imshow(cm, interpolation='nearest', cmap=plt.cm.Blues)\n",
    "    plt.title('Confusion matrix')\n",
    "    plt.colorbar()\n",
    "    tick_marks = np.arange(len(classes))\n",
    "    plt.xticks(tick_marks, classes, rotation=45)\n",
    "    plt.yticks(tick_marks, classes)\n",
    "\n",
    "    thresh = cm.max() / 2.\n",
    "    for i, j in itertools.product(range(cm.shape[0]), range(cm.shape[1])):\n",
    "        plt.text(j, i, format(cm[i, j], '.2f'),\n",
    "                 horizontalalignment=\"center\",\n",
    "                 color=\"white\" if cm[i, j] > thresh else \"black\")\n",
    "\n",
    "    plt.tight_layout()\n",
    "    plt.ylabel('True label')\n",
    "    plt.xlabel('Predicted label')\n",
    "    plt.show()"
   ]
  },
  {
   "cell_type": "code",
   "execution_count": 74,
   "metadata": {},
   "outputs": [
    {
     "data": {
      "image/png": "[encoded data removed]",
      "text/plain": [
       "<matplotlib.figure.Figure at 0x13959239438>"
      ]
     },
     "metadata": {},
     "output_type": "display_data"
    },
    {
     "name": "stdout",
     "output_type": "stream",
     "text": [
      "Category 1 Score: 0.500\n",
      "Category 2 Score: 0.745\n",
      "Category 3 Score: 0.622\n"
     ]
    },
    {
     "data": {
      "image/png": "[encoded data removed]",
      "text/plain": [
       "<matplotlib.figure.Figure at 0x13958a0be48>"
      ]
     },
     "metadata": {},
     "output_type": "display_data"
    }
   ],
   "source": [
    "preds_path = sys.argv[1]\n",
    "thresh = 0.5\n",
    "\n",
    "# get ground truth labels for test dataset\n",
    "truth = pd.read_csv('ground_truth.csv')\n",
    "y_true = truth.as_matrix(columns=[\"task_1\", \"task_2\"])\n",
    "\n",
    "# get model predictions for test dataset\n",
    "y_pred = pd.read_csv(\"predictions.csv\")\n",
    "y_pred = y_pred.as_matrix(columns=[\"task_1\", \"task_2\"])\n",
    "\n",
    "# plot ROC curves and print scores\n",
    "plot_roc_auc(y_true, y_pred)\n",
    "# plot confusion matrix\n",
    "classes = ['benign', 'malignant']\n",
    "plot_confusion_matrix(y_true[:,0], y_pred[:,0], thresh, classes)\n"
   ]
  },
  {
   "cell_type": "code",
   "execution_count": null,
   "metadata": {
    "collapsed": true
   },
   "outputs": [],
   "source": []
  }
 ],
 "metadata": {
  "kernelspec": {
   "display_name": "Python 3",
   "language": "python",
   "name": "python3"
  },
  "language_info": {
   "codemirror_mode": {
    "name": "ipython",
    "version": 3
   },
   "file_extension": ".py",
   "mimetype": "text/x-python",
   "name": "python",
   "nbconvert_exporter": "python",
   "pygments_lexer": "ipython3",
   "version": "3.6.2"
  }
 },
 "nbformat": 4,
 "nbformat_minor": 2
}
