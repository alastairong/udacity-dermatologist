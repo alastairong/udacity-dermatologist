{
 "cells": [
  {
   "cell_type": "markdown",
   "metadata": {},
   "source": [
    "# Dermatologist-AI Project: Single Network Approach\n",
    "Workbook for a single network approach that classifies images into melanomas, nevus, or SBK"
   ]
  },
  {
   "cell_type": "markdown",
   "metadata": {},
   "source": [
    "Import image files"
   ]
  },
  {
   "cell_type": "code",
   "execution_count": 1,
   "metadata": {},
   "outputs": [
    {
     "name": "stderr",
     "output_type": "stream",
     "text": [
      "Using TensorFlow backend.\n"
     ]
    },
    {
     "name": "stdout",
     "output_type": "stream",
     "text": [
      "There are 3 total categories.\n",
      "There are 2750 total images.\n",
      "\n",
      "There are 2000 training images.\n",
      "There are 150 validation images.\n",
      "There are 600 test images.\n"
     ]
    }
   ],
   "source": [
    "import numpy as np\n",
    "from sklearn.datasets import load_files       \n",
    "from keras.utils import np_utils\n",
    "from glob import glob\n",
    "import pickle\n",
    "\n",
    "#define dataset import function\n",
    "def load_dataset(path, shuffle):\n",
    "    data = load_files(path, shuffle=shuffle)\n",
    "    file_paths = np.array(data['filenames'])\n",
    "    one_hot_labels = np_utils.to_categorical(np.array(data['target']),3)\n",
    "    return file_paths, one_hot_labels\n",
    "\n",
    "#import datasets\n",
    "train_files, train_labels = load_dataset('../data/train', True)\n",
    "valid_files, valid_labels = load_dataset('../data/valid', True)\n",
    "test_files, test_labels = load_dataset('../data/test', False)\n",
    "\n",
    "# load list of skin condition names\n",
    "skin_names = [item[14:-1] for item in sorted(glob(\"../data/train/*/\"))]\n",
    "\n",
    "# print statistics about the dataset\n",
    "print('There are %d total categories.' % len(skin_names))\n",
    "print('There are %s total images.\\n' % len(np.hstack([train_files, valid_files, test_files])))\n",
    "print('There are %d training images.' % len(train_files))\n",
    "print('There are %d validation images.' % len(valid_files))\n",
    "print('There are %d test images.'% len(test_files))"
   ]
  },
  {
   "cell_type": "markdown",
   "metadata": {},
   "source": [
    "## Let's first understand the dataset\n",
    "Various simple analysis to understand types of pictures"
   ]
  },
  {
   "cell_type": "code",
   "execution_count": 2,
   "metadata": {},
   "outputs": [
    {
     "name": "stdout",
     "output_type": "stream",
     "text": [
      "0     374.0\n",
      "1    1372.0\n",
      "2     254.0\n",
      "dtype: float64\n",
      "0    30.0\n",
      "1    78.0\n",
      "2    42.0\n",
      "dtype: float64\n",
      "0    117.0\n",
      "1    393.0\n",
      "2     90.0\n",
      "dtype: float64\n"
     ]
    }
   ],
   "source": [
    "import pandas as pd\n",
    "\n",
    "train_data = pd.DataFrame(train_labels)\n",
    "valid_data = pd.DataFrame(valid_labels)\n",
    "test_data = pd.DataFrame(test_labels)\n",
    "\n",
    "print(train_data.sum(axis=0))\n",
    "print(valid_data.sum(axis=0))\n",
    "print(test_data.sum(axis=0))\n",
    "\n"
   ]
  },
  {
   "cell_type": "markdown",
   "metadata": {},
   "source": [
    "Convert images into 4D tensors"
   ]
  },
  {
   "cell_type": "code",
   "execution_count": 3,
   "metadata": {
    "collapsed": true
   },
   "outputs": [],
   "source": [
    "from keras.preprocessing import image                  \n",
    "from tqdm import tqdm\n",
    "from PIL import ImageFile                            \n",
    "ImageFile.LOAD_TRUNCATED_IMAGES = True                 \n",
    "\n",
    "img_width = 224\n",
    "img_height = 224\n",
    "\n",
    "#define image processing functions (from udacity dog project)\n",
    "def path_to_tensor(img_path):\n",
    "    # loads RGB image as PIL.Image.Image type\n",
    "    img = image.load_img(img_path, target_size=(img_width, img_height))\n",
    "    # convert PIL.Image.Image type to 3D tensor with shape (224, 224, 3)\n",
    "    x = image.img_to_array(img)\n",
    "    # convert 3D tensor to 4D tensor with shape (1, 224, 224, 3) and return 4D tensor\n",
    "    return np.expand_dims(x, axis=0)\n",
    "\n",
    "def paths_to_tensor(img_paths):\n",
    "    list_of_tensors = [path_to_tensor(img_path) for img_path in tqdm(img_paths)]\n",
    "    return np.vstack(list_of_tensors)   "
   ]
  },
  {
   "cell_type": "code",
   "execution_count": 4,
   "metadata": {},
   "outputs": [
    {
     "name": "stderr",
     "output_type": "stream",
     "text": [
      "100%|██████████████████████████████████████████████████████████████████████████████| 2000/2000 [04:15<00:00,  7.82it/s]\n",
      "100%|████████████████████████████████████████████████████████████████████████████████| 150/150 [00:34<00:00,  4.96it/s]\n",
      "100%|████████████████████████████████████████████████████████████████████████████████| 600/600 [03:42<00:00,  9.55it/s]\n"
     ]
    }
   ],
   "source": [
    "# Pre-process the data for Keras\n",
    "# Skip if we already have pickled files\n",
    "## FIX PREPROCESSING!\n",
    "train_tensors = paths_to_tensor(train_files).astype('float32')/255\n",
    "valid_tensors = paths_to_tensor(valid_files).astype('float32')/255\n",
    "test_tensors = paths_to_tensor(test_files).astype('float32')/255"
   ]
  },
  {
   "cell_type": "code",
   "execution_count": 5,
   "metadata": {
    "collapsed": true
   },
   "outputs": [],
   "source": [
    "# Pickle tensors to pick up where I left off in future\n",
    "# Skip if we already have pickled files\n",
    "\n",
    "with open('train_tensors.pickle', 'wb') as handle:\n",
    "    pickle.dump(train_tensors, handle, protocol=pickle.HIGHEST_PROTOCOL)\n",
    "\n",
    "with open('valid_tensors.pickle', 'wb') as handle:\n",
    "    pickle.dump(valid_tensors, handle, protocol=pickle.HIGHEST_PROTOCOL)\n",
    "\n",
    "with open('test_tensors.pickle', 'wb') as handle:\n",
    "    pickle.dump(test_tensors, handle, protocol=pickle.HIGHEST_PROTOCOL)"
   ]
  },
  {
   "cell_type": "code",
   "execution_count": 4,
   "metadata": {
    "collapsed": true
   },
   "outputs": [],
   "source": [
    "# Un-pickle tensors\n",
    "with open('train_tensors.pickle', 'rb') as handle:\n",
    "    train_tensors = pickle.load(handle)\n",
    "    \n",
    "with open('valid_tensors.pickle', 'rb') as handle:\n",
    "    valid_tensors = pickle.load(handle)\n",
    "\n",
    "with open('test_tensors.pickle', 'rb') as handle:\n",
    "    test_tensors = pickle.load(handle)"
   ]
  },
  {
   "cell_type": "markdown",
   "metadata": {},
   "source": [
    "Create a new network based on first 2 blocks of VGGNet, plus 1 trainable convolutional block, followed by fully connected layer"
   ]
  },
  {
   "cell_type": "code",
   "execution_count": 5,
   "metadata": {},
   "outputs": [
    {
     "name": "stdout",
     "output_type": "stream",
     "text": [
      "_________________________________________________________________\n",
      "Layer (type)                 Output Shape              Param #   \n",
      "=================================================================\n",
      "block1_conv1 (Conv2D)        (None, 224, 224, 64)      1792      \n",
      "_________________________________________________________________\n",
      "block1_conv2 (Conv2D)        (None, 224, 224, 64)      36928     \n",
      "_________________________________________________________________\n",
      "block1_pool (MaxPooling2D)   (None, 112, 112, 64)      0         \n",
      "_________________________________________________________________\n",
      "block2_conv1 (Conv2D)        (None, 112, 112, 128)     73856     \n",
      "_________________________________________________________________\n",
      "block2_conv2 (Conv2D)        (None, 112, 112, 128)     147584    \n",
      "_________________________________________________________________\n",
      "block2_pool (MaxPooling2D)   (None, 56, 56, 128)       0         \n",
      "_________________________________________________________________\n",
      "block3_conv1 (Conv2D)        (None, 56, 56, 256)       295168    \n",
      "_________________________________________________________________\n",
      "block3_conv2 (Conv2D)        (None, 56, 56, 256)       590080    \n",
      "_________________________________________________________________\n",
      "block3_conv3 (Conv2D)        (None, 56, 56, 256)       590080    \n",
      "_________________________________________________________________\n",
      "block3_conv4 (Conv2D)        (None, 56, 56, 256)       590080    \n",
      "_________________________________________________________________\n",
      "block3_pool (MaxPooling2D)   (None, 28, 28, 256)       0         \n",
      "_________________________________________________________________\n",
      "block4_conv1 (Conv2D)        (None, 28, 28, 512)       1180160   \n",
      "_________________________________________________________________\n",
      "block4_conv2 (Conv2D)        (None, 28, 28, 512)       2359808   \n",
      "_________________________________________________________________\n",
      "block4_conv3 (Conv2D)        (None, 28, 28, 512)       2359808   \n",
      "_________________________________________________________________\n",
      "block4_conv4 (Conv2D)        (None, 28, 28, 512)       2359808   \n",
      "_________________________________________________________________\n",
      "block4_pool (MaxPooling2D)   (None, 14, 14, 512)       0         \n",
      "_________________________________________________________________\n",
      "dropout_1 (Dropout)          (None, 14, 14, 512)       0         \n",
      "_________________________________________________________________\n",
      "block5_conv1 (Conv2D)        (None, 14, 14, 512)       2359808   \n",
      "_________________________________________________________________\n",
      "block5_conv2 (Conv2D)        (None, 14, 14, 512)       2359808   \n",
      "_________________________________________________________________\n",
      "block5_pool (MaxPooling2D)   (None, 7, 7, 512)         0         \n",
      "_________________________________________________________________\n",
      "dropout_2 (Dropout)          (None, 7, 7, 512)         0         \n",
      "_________________________________________________________________\n",
      "flatten_1 (Flatten)          (None, 25088)             0         \n",
      "_________________________________________________________________\n",
      "dense_1 (Dense)              (None, 2048)              51382272  \n",
      "_________________________________________________________________\n",
      "dropout_3 (Dropout)          (None, 2048)              0         \n",
      "_________________________________________________________________\n",
      "dense_2 (Dense)              (None, 2048)              4196352   \n",
      "_________________________________________________________________\n",
      "dropout_4 (Dropout)          (None, 2048)              0         \n",
      "_________________________________________________________________\n",
      "dense_3 (Dense)              (None, 3)                 6147      \n",
      "=================================================================\n",
      "Total params: 70,889,539\n",
      "Trainable params: 60,304,387\n",
      "Non-trainable params: 10,585,152\n",
      "_________________________________________________________________\n"
     ]
    }
   ],
   "source": [
    "from keras import applications\n",
    "from keras.models import Sequential, Model \n",
    "from keras.layers import Conv2D, MaxPooling2D, GlobalAveragePooling2D\n",
    "from keras.layers import Dropout, Flatten, Dense\n",
    "\n",
    "network = Sequential()\n",
    "\n",
    "#First 4 blocks of VGG19\n",
    "network.add(Conv2D(filters=64, kernel_size=3, padding='same', activation='relu', trainable=False, name='block1_conv1', \n",
    "                        input_shape=(224, 224, 3)))\n",
    "network.add(Conv2D(filters=64, kernel_size=3, padding='same', activation='relu', trainable=False, name='block1_conv2'))\n",
    "network.add(MaxPooling2D(pool_size=2, name='block1_pool'))\n",
    "network.add(Conv2D(filters=128, kernel_size=3, padding='same', activation='relu', trainable=False, name='block2_conv1'))\n",
    "network.add(Conv2D(filters=128, kernel_size=3, padding='same', activation='relu', trainable=False, name='block2_conv2'))\n",
    "network.add(MaxPooling2D(pool_size=2, name='block2_pool'))\n",
    "network.add(Conv2D(filters=256, kernel_size=3, padding='same', activation='relu', trainable=False, name='block3_conv1'))\n",
    "network.add(Conv2D(filters=256, kernel_size=3, padding='same', activation='relu', trainable=False, name='block3_conv2'))\n",
    "network.add(Conv2D(filters=256, kernel_size=3, padding='same', activation='relu', trainable=False, name='block3_conv3'))\n",
    "network.add(Conv2D(filters=256, kernel_size=3, padding='same', activation='relu', trainable=False, name='block3_conv4'))\n",
    "network.add(MaxPooling2D(pool_size=2, name='block3_pool'))\n",
    "network.add(Conv2D(filters=512, kernel_size=3, padding='same', activation='relu', trainable=False, name='block4_conv1'))\n",
    "network.add(Conv2D(filters=512, kernel_size=3, padding='same', activation='relu', trainable=False, name='block4_conv2'))\n",
    "network.add(Conv2D(filters=512, kernel_size=3, padding='same', activation='relu', trainable=False, name='block4_conv3'))\n",
    "network.add(Conv2D(filters=512, kernel_size=3, padding='same', activation='relu', trainable=False, name='block4_conv4'))\n",
    "network.add(MaxPooling2D(pool_size=2, name='block4_pool'))\n",
    "\n",
    "#First 1 trainable convnet block\n",
    "network.add(Dropout(0.5))\n",
    "network.add(Conv2D(filters=512, kernel_size=3, padding='same', activation='relu', trainable=True, name='block5_conv1'))\n",
    "network.add(Conv2D(filters=512, kernel_size=3, padding='same', activation='relu', trainable=True, name='block5_conv2'))\n",
    "network.add(MaxPooling2D(pool_size=2, name='block5_pool'))\n",
    "network.add(Dropout(0.5))\n",
    "\n",
    "#Trainable dense layers\n",
    "network.add(Flatten())\n",
    "network.add(Dense(2048, activation='relu'))\n",
    "network.add(Dropout(0.5))\n",
    "network.add(Dense(2048, activation='relu'))\n",
    "network.add(Dropout(0.5))\n",
    "network.add(Dense(3, activation='softmax'))\n",
    "\n",
    "network.summary()\n"
   ]
  },
  {
   "cell_type": "markdown",
   "metadata": {},
   "source": [
    "Download VGG19 weights and set for VGGnet layers"
   ]
  },
  {
   "cell_type": "code",
   "execution_count": 7,
   "metadata": {
    "collapsed": true
   },
   "outputs": [],
   "source": [
    "import h5py\n",
    "weights_path = 'vgg19_weights.h5'#'https://github.com/fchollet/deep-learning-models/releases/download/v0.5/inception_v3_weights_tf_dim_ordering_tf_kernels_notop.h5'\n",
    "f = h5py.File(weights_path, 'r')\n",
    "\n",
    "VGGnet_layers = ['block1_conv1',\n",
    "                 'block1_conv2',\n",
    "                 'block2_conv1',\n",
    "                 'block2_conv2',\n",
    "                 'block3_conv1',\n",
    "                 'block3_conv2',\n",
    "                 'block3_conv3',\n",
    "                 'block3_conv4',\n",
    "                 'block4_conv1',\n",
    "                 'block4_conv2',\n",
    "                 'block4_conv3',\n",
    "                 'block4_conv4']\n",
    "layer_names = [layer.name for layer in network.layers]\n",
    "\n",
    "for i in VGGnet_layers:\n",
    "    weight_names = f[i].attrs[\"weight_names\"]\n",
    "    weights = [f[i][j] for j in weight_names]    \n",
    "    index = layer_names.index(i)\n",
    "    network.layers[index].set_weights(weights)\n"
   ]
  },
  {
   "cell_type": "code",
   "execution_count": 14,
   "metadata": {
    "collapsed": true
   },
   "outputs": [],
   "source": [
    "from keras import optimizers\n",
    "opt = optimizers.rmsprop(lr=0.00001, decay=1e-6)\n",
    "network.compile(optimizer=opt, loss='categorical_crossentropy', metrics=['accuracy'])"
   ]
  },
  {
   "cell_type": "markdown",
   "metadata": {},
   "source": [
    "Set up image augmentation generator and trainer"
   ]
  },
  {
   "cell_type": "code",
   "execution_count": 15,
   "metadata": {
    "collapsed": true
   },
   "outputs": [],
   "source": [
    "from keras.preprocessing.image import ImageDataGenerator\n",
    "from keras.callbacks import ModelCheckpoint, Callback\n",
    "\n",
    "# create and configure augmented image generator\n",
    "datagen_train = ImageDataGenerator(\n",
    "    width_shift_range=0.1,  # randomly shift images horizontally (10% of total width)\n",
    "    height_shift_range=0.1,  # randomly shift images vertically (10% of total height)\n",
    "    rotation_range=30, # randomly rotate images up to 30 degrees\n",
    "    zoom_range=0.2, # randomly zoom in and out by 10%\n",
    "    horizontal_flip=True) # randomly flip images horizontally\n",
    "\n",
    "# create and configure augmented image generator\n",
    "datagen_valid = ImageDataGenerator(\n",
    "    width_shift_range=0.1,  # randomly shift images horizontally (10% of total width)\n",
    "    height_shift_range=0.1,  # randomly shift images vertically (10% of total height)\n",
    "    rotation_range=30, # randomly rotate images up to 30 degrees\n",
    "    zoom_range=0.2, # randomly zoom in and out by 10%\n",
    "    horizontal_flip=True) # randomly flip images horizontally\n",
    "\n",
    "# fit augmented image generator on data\n",
    "datagen_train.fit(train_tensors)\n",
    "datagen_valid.fit(valid_tensors)\n",
    "\n"
   ]
  },
  {
   "cell_type": "code",
   "execution_count": 16,
   "metadata": {
    "collapsed": true
   },
   "outputs": [],
   "source": [
    "# Create callback to print recall and precision during training\n",
    "from sklearn.metrics import confusion_matrix, f1_score, precision_score, recall_score\n",
    "\n",
    "class Metrics(Callback):\n",
    "    def on_train_begin(self, logs={}):\n",
    "        self.val_f1s = []\n",
    "        self.val_recalls = []\n",
    "        self.val_precisions = []\n",
    "\n",
    "    def on_epoch_end(self, epoch, logs={}):\n",
    "        val_predict = (np.asarray(self.model.predict(self.validation_data[0]))).round()\n",
    "        val_targ = self.validation_data[1]\n",
    "        _val_f1 = f1_score(val_targ, val_predict, average='weighted')\n",
    "        _val_recall = recall_score(val_targ, val_predict, average='weighted')\n",
    "        _val_precision = precision_score(val_targ, val_predict, average='weighted')\n",
    "        self.val_f1s.append(_val_f1)\n",
    "        self.val_recalls.append(_val_recall)\n",
    "        self.val_precisions.append(_val_precision)\n",
    "        print(\"val_f1: %f — val_precision: %f — val_recall %f\"%(_val_f1, _val_precision, _val_recall))\n",
    "        return\n",
    "\n",
    "metrics = Metrics()"
   ]
  },
  {
   "cell_type": "code",
   "execution_count": 17,
   "metadata": {},
   "outputs": [
    {
     "name": "stdout",
     "output_type": "stream",
     "text": [
      "Epoch 1/20\n",
      " 99/100 [============================>.] - ETA: 91s - loss: 5.6413 - acc: 0.65 - ETA: 62s - loss: 5.2384 - acc: 0.67 - ETA: 52s - loss: 5.1041 - acc: 0.68 - ETA: 47s - loss: 4.0295 - acc: 0.75 - ETA: 44s - loss: 4.5131 - acc: 0.72 - ETA: 42s - loss: 4.5668 - acc: 0.71 - ETA: 40s - loss: 4.8354 - acc: 0.70 - ETA: 39s - loss: 4.7347 - acc: 0.70 - ETA: 38s - loss: 5.0145 - acc: 0.68 - ETA: 37s - loss: 4.9160 - acc: 0.69 - ETA: 36s - loss: 4.9820 - acc: 0.69 - ETA: 35s - loss: 4.9697 - acc: 0.69 - ETA: 34s - loss: 5.0834 - acc: 0.68 - ETA: 34s - loss: 5.0657 - acc: 0.68 - ETA: 33s - loss: 5.0503 - acc: 0.68 - ETA: 32s - loss: 5.0873 - acc: 0.68 - ETA: 32s - loss: 5.0725 - acc: 0.68 - ETA: 31s - loss: 5.1488 - acc: 0.68 - ETA: 31s - loss: 5.0475 - acc: 0.68 - ETA: 30s - loss: 5.1981 - acc: 0.67 - ETA: 30s - loss: 5.2576 - acc: 0.67 - ETA: 29s - loss: 5.2750 - acc: 0.67 - ETA: 29s - loss: 5.2209 - acc: 0.67 - ETA: 28s - loss: 5.2720 - acc: 0.67 - ETA: 28s - loss: 5.2223 - acc: 0.67 - ETA: 28s - loss: 5.0524 - acc: 0.68 - ETA: 27s - loss: 5.0742 - acc: 0.68 - ETA: 27s - loss: 5.0081 - acc: 0.68 - ETA: 26s - loss: 4.9466 - acc: 0.69 - ETA: 26s - loss: 4.9429 - acc: 0.69 - ETA: 25s - loss: 4.8874 - acc: 0.69 - ETA: 25s - loss: 4.9110 - acc: 0.69 - ETA: 25s - loss: 4.9820 - acc: 0.69 - ETA: 24s - loss: 4.9302 - acc: 0.69 - ETA: 24s - loss: 4.9506 - acc: 0.69 - ETA: 23s - loss: 4.9250 - acc: 0.69 - ETA: 23s - loss: 5.0097 - acc: 0.68 - ETA: 23s - loss: 5.0263 - acc: 0.68 - ETA: 22s - loss: 5.0214 - acc: 0.68 - ETA: 22s - loss: 5.0772 - acc: 0.68 - ETA: 21s - loss: 5.0320 - acc: 0.68 - ETA: 21s - loss: 5.0273 - acc: 0.68 - ETA: 21s - loss: 4.9854 - acc: 0.69 - ETA: 20s - loss: 5.0003 - acc: 0.68 - ETA: 20s - loss: 5.0145 - acc: 0.68 - ETA: 19s - loss: 5.0281 - acc: 0.68 - ETA: 19s - loss: 4.9898 - acc: 0.69 - ETA: 19s - loss: 5.0537 - acc: 0.68 - ETA: 18s - loss: 5.0328 - acc: 0.68 - ETA: 18s - loss: 4.9805 - acc: 0.69 - ETA: 17s - loss: 4.9776 - acc: 0.69 - ETA: 17s - loss: 4.9749 - acc: 0.69 - ETA: 17s - loss: 4.9723 - acc: 0.69 - ETA: 16s - loss: 5.0444 - acc: 0.68 - ETA: 16s - loss: 5.0259 - acc: 0.68 - ETA: 16s - loss: 5.0657 - acc: 0.68 - ETA: 15s - loss: 5.0192 - acc: 0.68 - ETA: 15s - loss: 5.0022 - acc: 0.68 - ETA: 14s - loss: 4.9993 - acc: 0.68 - ETA: 14s - loss: 5.0100 - acc: 0.68 - ETA: 14s - loss: 4.9808 - acc: 0.69 - ETA: 13s - loss: 4.9654 - acc: 0.69 - ETA: 13s - loss: 4.9889 - acc: 0.69 - ETA: 13s - loss: 4.9865 - acc: 0.69 - ETA: 12s - loss: 5.0090 - acc: 0.68 - ETA: 12s - loss: 5.0430 - acc: 0.68 - ETA: 12s - loss: 5.0640 - acc: 0.68 - ETA: 11s - loss: 5.0606 - acc: 0.68 - ETA: 11s - loss: 5.1274 - acc: 0.68 - ETA: 10s - loss: 5.1463 - acc: 0.68 - ETA: 10s - loss: 5.1533 - acc: 0.68 - ETA: 10s - loss: 5.1264 - acc: 0.68 - ETA: 9s - loss: 5.1004 - acc: 0.6836 - ETA: 9s - loss: 5.1186 - acc: 0.682 - ETA: 9s - loss: 5.1578 - acc: 0.680 - ETA: 8s - loss: 5.1429 - acc: 0.680 - ETA: 8s - loss: 5.1390 - acc: 0.681 - ETA: 7s - loss: 5.1144 - acc: 0.682 - ETA: 7s - loss: 5.1211 - acc: 0.682 - ETA: 7s - loss: 5.1477 - acc: 0.680 - ETA: 6s - loss: 5.1140 - acc: 0.682 - ETA: 6s - loss: 5.1499 - acc: 0.680 - ETA: 6s - loss: 5.1364 - acc: 0.681 - ETA: 5s - loss: 5.1520 - acc: 0.680 - ETA: 5s - loss: 5.1578 - acc: 0.680 - ETA: 5s - loss: 5.1540 - acc: 0.680 - ETA: 4s - loss: 5.1133 - acc: 0.682 - ETA: 4s - loss: 5.1102 - acc: 0.683 - ETA: 3s - loss: 5.1252 - acc: 0.682 - ETA: 3s - loss: 5.1220 - acc: 0.682 - ETA: 3s - loss: 5.1011 - acc: 0.683 - ETA: 2s - loss: 5.0719 - acc: 0.685 - ETA: 2s - loss: 5.0434 - acc: 0.687 - ETA: 2s - loss: 5.0326 - acc: 0.687 - ETA: 1s - loss: 5.0221 - acc: 0.688 - ETA: 1s - loss: 5.0369 - acc: 0.687 - ETA: 1s - loss: 5.0348 - acc: 0.687 - ETA: 0s - loss: 5.0410 - acc: 0.687 - ETA: 0s - loss: 5.0715 - acc: 0.6854Epoch 00000: val_loss improved from inf to 7.71366, saving model to saved_models/best.weights.hdf5\n",
      "100/100 [==============================] - 40s - loss: 5.0611 - acc: 0.6860 - val_loss: 7.7137 - val_acc: 0.5214\n",
      "Epoch 2/20\n",
      " 99/100 [============================>.] - ETA: 35s - loss: 4.8354 - acc: 0.70 - ETA: 35s - loss: 3.6266 - acc: 0.77 - ETA: 34s - loss: 3.4923 - acc: 0.78 - ETA: 34s - loss: 3.8280 - acc: 0.76 - ETA: 33s - loss: 4.6742 - acc: 0.71 - ETA: 33s - loss: 4.8354 - acc: 0.70 - ETA: 33s - loss: 4.7203 - acc: 0.70 - ETA: 32s - loss: 4.7347 - acc: 0.70 - ETA: 32s - loss: 4.5668 - acc: 0.71 - ETA: 32s - loss: 4.5131 - acc: 0.72 - ETA: 31s - loss: 4.4691 - acc: 0.72 - ETA: 31s - loss: 4.2310 - acc: 0.73 - ETA: 30s - loss: 4.2775 - acc: 0.73 - ETA: 30s - loss: 4.3173 - acc: 0.73 - ETA: 30s - loss: 4.5131 - acc: 0.72 - ETA: 29s - loss: 4.4828 - acc: 0.72 - ETA: 29s - loss: 4.5510 - acc: 0.71 - ETA: 29s - loss: 4.5220 - acc: 0.71 - ETA: 28s - loss: 4.6233 - acc: 0.71 - ETA: 28s - loss: 4.7548 - acc: 0.70 - ETA: 28s - loss: 4.9122 - acc: 0.69 - ETA: 27s - loss: 4.9087 - acc: 0.69 - ETA: 27s - loss: 4.9055 - acc: 0.69 - ETA: 27s - loss: 4.9362 - acc: 0.69 - ETA: 26s - loss: 4.8354 - acc: 0.70 - ETA: 26s - loss: 4.7734 - acc: 0.70 - ETA: 25s - loss: 4.8951 - acc: 0.69 - ETA: 25s - loss: 4.8066 - acc: 0.70 - ETA: 25s - loss: 4.8076 - acc: 0.70 - ETA: 24s - loss: 4.7280 - acc: 0.70 - ETA: 24s - loss: 4.6535 - acc: 0.71 - ETA: 24s - loss: 4.6088 - acc: 0.71 - ETA: 23s - loss: 4.6401 - acc: 0.71 - ETA: 23s - loss: 4.7169 - acc: 0.70 - ETA: 23s - loss: 4.6973 - acc: 0.70 - ETA: 22s - loss: 4.6563 - acc: 0.71 - ETA: 22s - loss: 4.6176 - acc: 0.71 - ETA: 22s - loss: 4.6446 - acc: 0.71 - ETA: 21s - loss: 4.6495 - acc: 0.71 - ETA: 21s - loss: 4.6944 - acc: 0.70 - ETA: 20s - loss: 4.7371 - acc: 0.70 - ETA: 20s - loss: 4.8162 - acc: 0.70 - ETA: 20s - loss: 4.8542 - acc: 0.69 - ETA: 19s - loss: 4.7988 - acc: 0.70 - ETA: 19s - loss: 4.7817 - acc: 0.70 - ETA: 19s - loss: 4.7654 - acc: 0.70 - ETA: 18s - loss: 4.7840 - acc: 0.70 - ETA: 18s - loss: 4.8018 - acc: 0.70 - ETA: 18s - loss: 4.7696 - acc: 0.70 - ETA: 17s - loss: 4.8032 - acc: 0.70 - ETA: 17s - loss: 4.8512 - acc: 0.69 - ETA: 17s - loss: 4.8974 - acc: 0.69 - ETA: 16s - loss: 4.9571 - acc: 0.69 - ETA: 16s - loss: 4.9996 - acc: 0.68 - ETA: 16s - loss: 4.9966 - acc: 0.69 - ETA: 15s - loss: 5.0225 - acc: 0.68 - ETA: 15s - loss: 5.0051 - acc: 0.68 - ETA: 14s - loss: 5.0439 - acc: 0.68 - ETA: 14s - loss: 5.0540 - acc: 0.68 - ETA: 14s - loss: 5.0772 - acc: 0.68 - ETA: 13s - loss: 5.0600 - acc: 0.68 - ETA: 13s - loss: 5.1214 - acc: 0.68 - ETA: 13s - loss: 5.1041 - acc: 0.68 - ETA: 12s - loss: 5.0747 - acc: 0.68 - ETA: 12s - loss: 5.0338 - acc: 0.68 - ETA: 12s - loss: 5.0064 - acc: 0.68 - ETA: 11s - loss: 5.0519 - acc: 0.68 - ETA: 11s - loss: 5.0725 - acc: 0.68 - ETA: 11s - loss: 5.0690 - acc: 0.68 - ETA: 10s - loss: 5.0887 - acc: 0.68 - ETA: 10s - loss: 5.1192 - acc: 0.68 - ETA: 9s - loss: 5.1264 - acc: 0.6819 - ETA: 9s - loss: 5.1666 - acc: 0.679 - ETA: 9s - loss: 5.1839 - acc: 0.678 - ETA: 8s - loss: 5.1470 - acc: 0.680 - ETA: 8s - loss: 5.1111 - acc: 0.682 - ETA: 8s - loss: 5.1285 - acc: 0.681 - ETA: 7s - loss: 5.1041 - acc: 0.683 - ETA: 7s - loss: 5.1211 - acc: 0.682 - ETA: 7s - loss: 5.1578 - acc: 0.680 - ETA: 6s - loss: 5.1538 - acc: 0.680 - ETA: 6s - loss: 5.1401 - acc: 0.681 - ETA: 6s - loss: 5.1364 - acc: 0.681 - ETA: 5s - loss: 5.1424 - acc: 0.681 - ETA: 5s - loss: 5.1104 - acc: 0.682 - ETA: 4s - loss: 5.0978 - acc: 0.683 - ETA: 4s - loss: 5.1041 - acc: 0.683 - ETA: 4s - loss: 5.0827 - acc: 0.684 - ETA: 3s - loss: 5.0980 - acc: 0.683 - ETA: 3s - loss: 5.0772 - acc: 0.685 - ETA: 3s - loss: 5.0923 - acc: 0.684 - ETA: 2s - loss: 5.0895 - acc: 0.684 - ETA: 2s - loss: 5.0954 - acc: 0.683 - ETA: 2s - loss: 5.1012 - acc: 0.683 - ETA: 1s - loss: 5.1239 - acc: 0.682 - ETA: 1s - loss: 5.0957 - acc: 0.683 - ETA: 1s - loss: 5.0764 - acc: 0.685 - ETA: 0s - loss: 5.0657 - acc: 0.685 - ETA: 0s - loss: 5.0715 - acc: 0.6854Epoch 00001: val_loss improved from 7.71366 to 7.31514, saving model to saved_models/best.weights.hdf5\n",
      "100/100 [==============================] - 39s - loss: 5.0611 - acc: 0.6860 - val_loss: 7.3151 - val_acc: 0.5462\n",
      "Epoch 3/20\n",
      " 99/100 [============================>.] - ETA: 35s - loss: 4.8354 - acc: 0.70 - ETA: 34s - loss: 4.8354 - acc: 0.70 - ETA: 34s - loss: 5.1041 - acc: 0.68 - ETA: 34s - loss: 5.2384 - acc: 0.67 - ETA: 33s - loss: 4.8354 - acc: 0.70 - ETA: 33s - loss: 4.7011 - acc: 0.70 - ETA: 33s - loss: 4.8354 - acc: 0.70 - ETA: 32s - loss: 4.9362 - acc: 0.69 - ETA: 32s - loss: 4.6563 - acc: 0.71 - ETA: 32s - loss: 4.5937 - acc: 0.71 - ETA: 31s - loss: 4.6156 - acc: 0.71 - ETA: 31s - loss: 4.5668 - acc: 0.71 - ETA: 30s - loss: 4.4635 - acc: 0.72 - ETA: 30s - loss: 4.5476 - acc: 0.71 - ETA: 30s - loss: 4.5668 - acc: 0.71 - ETA: 29s - loss: 4.5836 - acc: 0.71 - ETA: 29s - loss: 4.5036 - acc: 0.72 - ETA: 29s - loss: 4.5220 - acc: 0.71 - ETA: 28s - loss: 4.5385 - acc: 0.71 - ETA: 28s - loss: 4.6742 - acc: 0.71 - ETA: 28s - loss: 4.6819 - acc: 0.70 - ETA: 27s - loss: 4.7988 - acc: 0.70 - ETA: 27s - loss: 4.9055 - acc: 0.69 - ETA: 27s - loss: 4.8690 - acc: 0.69 - ETA: 26s - loss: 4.9966 - acc: 0.69 - ETA: 26s - loss: 5.0214 - acc: 0.68 - ETA: 26s - loss: 5.0145 - acc: 0.68 - ETA: 25s - loss: 4.9506 - acc: 0.69 - ETA: 25s - loss: 4.9188 - acc: 0.69 - ETA: 24s - loss: 4.9697 - acc: 0.69 - ETA: 24s - loss: 4.9134 - acc: 0.69 - ETA: 24s - loss: 4.9614 - acc: 0.69 - ETA: 23s - loss: 4.9087 - acc: 0.69 - ETA: 23s - loss: 4.8828 - acc: 0.69 - ETA: 23s - loss: 4.8585 - acc: 0.69 - ETA: 22s - loss: 4.8354 - acc: 0.70 - ETA: 22s - loss: 4.8136 - acc: 0.70 - ETA: 22s - loss: 4.8142 - acc: 0.70 - ETA: 21s - loss: 4.7734 - acc: 0.70 - ETA: 21s - loss: 4.8153 - acc: 0.70 - ETA: 21s - loss: 4.7568 - acc: 0.70 - ETA: 20s - loss: 4.7587 - acc: 0.70 - ETA: 20s - loss: 4.8167 - acc: 0.70 - ETA: 19s - loss: 4.8537 - acc: 0.69 - ETA: 19s - loss: 4.8533 - acc: 0.69 - ETA: 19s - loss: 4.8354 - acc: 0.70 - ETA: 18s - loss: 4.8697 - acc: 0.69 - ETA: 18s - loss: 4.8522 - acc: 0.69 - ETA: 18s - loss: 4.8025 - acc: 0.70 - ETA: 17s - loss: 4.7548 - acc: 0.70 - ETA: 17s - loss: 4.7248 - acc: 0.70 - ETA: 17s - loss: 4.6959 - acc: 0.70 - ETA: 16s - loss: 4.7290 - acc: 0.70 - ETA: 16s - loss: 4.7160 - acc: 0.70 - ETA: 16s - loss: 4.7475 - acc: 0.70 - ETA: 15s - loss: 4.7923 - acc: 0.70 - ETA: 15s - loss: 4.7930 - acc: 0.70 - ETA: 14s - loss: 4.8076 - acc: 0.70 - ETA: 14s - loss: 4.8354 - acc: 0.70 - ETA: 14s - loss: 4.8623 - acc: 0.69 - ETA: 13s - loss: 4.8883 - acc: 0.69 - ETA: 13s - loss: 4.8874 - acc: 0.69 - ETA: 13s - loss: 4.9122 - acc: 0.69 - ETA: 12s - loss: 4.9110 - acc: 0.69 - ETA: 12s - loss: 4.9470 - acc: 0.69 - ETA: 12s - loss: 4.9331 - acc: 0.69 - ETA: 12s - loss: 4.9437 - acc: 0.69 - ETA: 11s - loss: 4.9658 - acc: 0.69 - ETA: 11s - loss: 4.9522 - acc: 0.69 - ETA: 11s - loss: 4.9160 - acc: 0.69 - ETA: 10s - loss: 4.9149 - acc: 0.69 - ETA: 10s - loss: 4.9250 - acc: 0.69 - ETA: 9s - loss: 4.9348 - acc: 0.6938 - ETA: 9s - loss: 4.9117 - acc: 0.695 - ETA: 9s - loss: 4.8677 - acc: 0.698 - ETA: 8s - loss: 4.8672 - acc: 0.698 - ETA: 8s - loss: 4.8982 - acc: 0.696 - ETA: 8s - loss: 4.9078 - acc: 0.695 - ETA: 7s - loss: 4.9578 - acc: 0.692 - ETA: 7s - loss: 4.9765 - acc: 0.691 - ETA: 7s - loss: 4.9648 - acc: 0.692 - ETA: 6s - loss: 4.9632 - acc: 0.692 - ETA: 6s - loss: 4.9617 - acc: 0.692 - ETA: 5s - loss: 4.9602 - acc: 0.692 - ETA: 5s - loss: 4.9682 - acc: 0.691 - ETA: 5s - loss: 4.9760 - acc: 0.691 - ETA: 4s - loss: 4.9836 - acc: 0.690 - ETA: 4s - loss: 4.9911 - acc: 0.690 - ETA: 4s - loss: 4.9894 - acc: 0.690 - ETA: 3s - loss: 5.0145 - acc: 0.688 - ETA: 3s - loss: 5.0037 - acc: 0.689 - ETA: 3s - loss: 5.0194 - acc: 0.688 - ETA: 2s - loss: 5.0521 - acc: 0.686 - ETA: 2s - loss: 5.0755 - acc: 0.685 - ETA: 1s - loss: 5.0645 - acc: 0.685 - ETA: 1s - loss: 5.0453 - acc: 0.687 - ETA: 1s - loss: 5.0431 - acc: 0.687 - ETA: 0s - loss: 5.0657 - acc: 0.685 - ETA: 0s - loss: 5.0389 - acc: 0.6874Epoch 00002: val_loss did not improve\n",
      "100/100 [==============================] - 39s - loss: 5.0611 - acc: 0.6860 - val_loss: 8.0590 - val_acc: 0.5000\n",
      "Epoch 4/20\n",
      " 99/100 [============================>.] - ETA: 35s - loss: 4.8354 - acc: 0.70 - ETA: 34s - loss: 6.0443 - acc: 0.62 - ETA: 35s - loss: 5.3727 - acc: 0.66 - ETA: 34s - loss: 5.0369 - acc: 0.68 - ETA: 34s - loss: 5.4802 - acc: 0.66 - ETA: 33s - loss: 5.2384 - acc: 0.67 - ETA: 33s - loss: 5.0657 - acc: 0.68 - ETA: 32s - loss: 4.6340 - acc: 0.71 - ETA: 32s - loss: 4.4772 - acc: 0.72 - ETA: 32s - loss: 4.7548 - acc: 0.70 - ETA: 31s - loss: 4.8354 - acc: 0.70 - ETA: 31s - loss: 4.9697 - acc: 0.69 - ETA: 31s - loss: 4.8974 - acc: 0.69 - ETA: 30s - loss: 5.0081 - acc: 0.68 - ETA: 30s - loss: 5.0503 - acc: 0.68 - ETA: 30s - loss: 5.0873 - acc: 0.68 - ETA: 29s - loss: 5.1673 - acc: 0.67 - ETA: 29s - loss: 4.9697 - acc: 0.69 - ETA: 29s - loss: 5.1323 - acc: 0.68 - ETA: 28s - loss: 5.1175 - acc: 0.68 - ETA: 28s - loss: 5.0273 - acc: 0.68 - ETA: 28s - loss: 5.0552 - acc: 0.68 - ETA: 27s - loss: 5.1157 - acc: 0.68 - ETA: 27s - loss: 5.1376 - acc: 0.68 - ETA: 26s - loss: 5.2545 - acc: 0.67 - ETA: 26s - loss: 5.3004 - acc: 0.67 - ETA: 26s - loss: 5.2235 - acc: 0.67 - ETA: 25s - loss: 5.2384 - acc: 0.67 - ETA: 25s - loss: 5.2523 - acc: 0.67 - ETA: 25s - loss: 5.1041 - acc: 0.68 - ETA: 24s - loss: 5.0694 - acc: 0.68 - ETA: 24s - loss: 5.0873 - acc: 0.68 - ETA: 24s - loss: 5.1529 - acc: 0.68 - ETA: 23s - loss: 5.2147 - acc: 0.67 - ETA: 23s - loss: 5.1808 - acc: 0.67 - ETA: 22s - loss: 5.2384 - acc: 0.67 - ETA: 22s - loss: 5.1839 - acc: 0.67 - ETA: 22s - loss: 5.1323 - acc: 0.68 - ETA: 21s - loss: 5.1247 - acc: 0.68 - ETA: 21s - loss: 5.1175 - acc: 0.68 - ETA: 21s - loss: 5.1696 - acc: 0.67 - ETA: 20s - loss: 5.0849 - acc: 0.68 - ETA: 20s - loss: 5.1728 - acc: 0.67 - ETA: 20s - loss: 5.1834 - acc: 0.67 - ETA: 19s - loss: 5.2115 - acc: 0.67 - ETA: 19s - loss: 5.1683 - acc: 0.67 - ETA: 19s - loss: 5.1955 - acc: 0.67 - ETA: 18s - loss: 5.2048 - acc: 0.67 - ETA: 18s - loss: 5.1644 - acc: 0.67 - ETA: 17s - loss: 5.1578 - acc: 0.68 - ETA: 17s - loss: 5.1515 - acc: 0.68 - ETA: 17s - loss: 5.1764 - acc: 0.67 - ETA: 16s - loss: 5.1547 - acc: 0.68 - ETA: 16s - loss: 5.1936 - acc: 0.67 - ETA: 16s - loss: 5.1724 - acc: 0.67 - ETA: 15s - loss: 5.1520 - acc: 0.68 - ETA: 15s - loss: 5.1323 - acc: 0.68 - ETA: 15s - loss: 5.1411 - acc: 0.68 - ETA: 14s - loss: 5.0813 - acc: 0.68 - ETA: 14s - loss: 5.0638 - acc: 0.68 - ETA: 13s - loss: 5.0732 - acc: 0.68 - ETA: 13s - loss: 5.0434 - acc: 0.68 - ETA: 13s - loss: 5.0529 - acc: 0.68 - ETA: 12s - loss: 4.9991 - acc: 0.68 - ETA: 12s - loss: 5.0338 - acc: 0.68 - ETA: 12s - loss: 5.0308 - acc: 0.68 - ETA: 11s - loss: 5.0159 - acc: 0.68 - ETA: 11s - loss: 4.9895 - acc: 0.69 - ETA: 11s - loss: 5.0106 - acc: 0.68 - ETA: 10s - loss: 4.9966 - acc: 0.69 - ETA: 10s - loss: 5.0284 - acc: 0.68 - ETA: 10s - loss: 5.0033 - acc: 0.68 - ETA: 9s - loss: 4.9789 - acc: 0.6911 - ETA: 9s - loss: 4.9443 - acc: 0.693 - ETA: 8s - loss: 4.9429 - acc: 0.693 - ETA: 8s - loss: 4.9733 - acc: 0.691 - ETA: 8s - loss: 4.9924 - acc: 0.690 - ETA: 7s - loss: 5.0214 - acc: 0.688 - ETA: 7s - loss: 5.0089 - acc: 0.689 - ETA: 7s - loss: 4.9865 - acc: 0.690 - ETA: 6s - loss: 5.0046 - acc: 0.689 - ETA: 6s - loss: 4.9829 - acc: 0.690 - ETA: 6s - loss: 4.9811 - acc: 0.691 - ETA: 5s - loss: 4.9410 - acc: 0.693 - ETA: 5s - loss: 4.9682 - acc: 0.691 - ETA: 5s - loss: 4.9854 - acc: 0.690 - ETA: 4s - loss: 4.9744 - acc: 0.691 - ETA: 4s - loss: 5.0094 - acc: 0.689 - ETA: 3s - loss: 5.0165 - acc: 0.688 - ETA: 3s - loss: 4.9787 - acc: 0.691 - ETA: 3s - loss: 4.9860 - acc: 0.690 - ETA: 2s - loss: 5.0281 - acc: 0.688 - ETA: 2s - loss: 5.0087 - acc: 0.689 - ETA: 2s - loss: 5.0069 - acc: 0.689 - ETA: 1s - loss: 4.9966 - acc: 0.690 - ETA: 1s - loss: 5.0117 - acc: 0.689 - ETA: 1s - loss: 5.0182 - acc: 0.688 - ETA: 0s - loss: 5.0328 - acc: 0.687 - ETA: 0s - loss: 5.0552 - acc: 0.6864Epoch 00003: val_loss did not improve\n",
      "100/100 [==============================] - 37s - loss: 5.0611 - acc: 0.6860 - val_loss: 7.6871 - val_acc: 0.5231\n",
      "Epoch 5/20\n"
     ]
    },
    {
     "name": "stdout",
     "output_type": "stream",
     "text": [
      " 99/100 [============================>.] - ETA: 34s - loss: 3.2236 - acc: 0.80 - ETA: 34s - loss: 3.2236 - acc: 0.80 - ETA: 34s - loss: 4.5668 - acc: 0.71 - ETA: 34s - loss: 5.2384 - acc: 0.67 - ETA: 34s - loss: 4.5131 - acc: 0.72 - ETA: 33s - loss: 4.5668 - acc: 0.71 - ETA: 33s - loss: 5.0657 - acc: 0.68 - ETA: 32s - loss: 4.9362 - acc: 0.69 - ETA: 32s - loss: 4.7459 - acc: 0.70 - ETA: 32s - loss: 4.8354 - acc: 0.70 - ETA: 31s - loss: 4.7622 - acc: 0.70 - ETA: 31s - loss: 4.7011 - acc: 0.70 - ETA: 31s - loss: 4.8354 - acc: 0.70 - ETA: 30s - loss: 4.8354 - acc: 0.70 - ETA: 30s - loss: 4.8354 - acc: 0.70 - ETA: 30s - loss: 4.9865 - acc: 0.69 - ETA: 29s - loss: 4.9776 - acc: 0.69 - ETA: 29s - loss: 4.7907 - acc: 0.70 - ETA: 28s - loss: 4.8778 - acc: 0.69 - ETA: 28s - loss: 4.8354 - acc: 0.70 - ETA: 28s - loss: 4.9122 - acc: 0.69 - ETA: 27s - loss: 4.8721 - acc: 0.69 - ETA: 27s - loss: 4.8004 - acc: 0.70 - ETA: 27s - loss: 4.8690 - acc: 0.69 - ETA: 26s - loss: 4.7387 - acc: 0.70 - ETA: 26s - loss: 4.7424 - acc: 0.70 - ETA: 26s - loss: 4.8354 - acc: 0.70 - ETA: 25s - loss: 4.8354 - acc: 0.70 - ETA: 25s - loss: 4.8910 - acc: 0.69 - ETA: 24s - loss: 4.9160 - acc: 0.69 - ETA: 24s - loss: 4.9654 - acc: 0.69 - ETA: 24s - loss: 4.9865 - acc: 0.69 - ETA: 23s - loss: 4.8843 - acc: 0.69 - ETA: 23s - loss: 4.7880 - acc: 0.70 - ETA: 23s - loss: 4.8354 - acc: 0.70 - ETA: 22s - loss: 4.8130 - acc: 0.70 - ETA: 22s - loss: 4.7265 - acc: 0.70 - ETA: 22s - loss: 4.6658 - acc: 0.71 - ETA: 21s - loss: 4.6908 - acc: 0.70 - ETA: 21s - loss: 4.6944 - acc: 0.70 - ETA: 21s - loss: 4.7568 - acc: 0.70 - ETA: 20s - loss: 4.7395 - acc: 0.70 - ETA: 20s - loss: 4.6668 - acc: 0.71 - ETA: 19s - loss: 4.7622 - acc: 0.70 - ETA: 19s - loss: 4.7101 - acc: 0.70 - ETA: 19s - loss: 4.7829 - acc: 0.70 - ETA: 18s - loss: 4.7497 - acc: 0.70 - ETA: 18s - loss: 4.7515 - acc: 0.70 - ETA: 18s - loss: 4.8190 - acc: 0.70 - ETA: 17s - loss: 4.8677 - acc: 0.69 - ETA: 17s - loss: 4.8196 - acc: 0.70 - ETA: 17s - loss: 4.8044 - acc: 0.70 - ETA: 16s - loss: 4.8354 - acc: 0.70 - ETA: 16s - loss: 4.8354 - acc: 0.70 - ETA: 16s - loss: 4.8061 - acc: 0.70 - ETA: 15s - loss: 4.8066 - acc: 0.70 - ETA: 15s - loss: 4.8354 - acc: 0.70 - ETA: 14s - loss: 4.7937 - acc: 0.70 - ETA: 14s - loss: 4.8081 - acc: 0.70 - ETA: 14s - loss: 4.8220 - acc: 0.70 - ETA: 13s - loss: 4.8222 - acc: 0.70 - ETA: 13s - loss: 4.8484 - acc: 0.69 - ETA: 13s - loss: 4.8226 - acc: 0.70 - ETA: 12s - loss: 4.8606 - acc: 0.69 - ETA: 12s - loss: 4.8354 - acc: 0.70 - ETA: 12s - loss: 4.8354 - acc: 0.70 - ETA: 11s - loss: 4.8835 - acc: 0.69 - ETA: 11s - loss: 4.9302 - acc: 0.69 - ETA: 11s - loss: 4.9055 - acc: 0.69 - ETA: 10s - loss: 4.9506 - acc: 0.69 - ETA: 10s - loss: 4.9716 - acc: 0.69 - ETA: 9s - loss: 4.9586 - acc: 0.6924 - ETA: 9s - loss: 4.9900 - acc: 0.690 - ETA: 9s - loss: 4.9988 - acc: 0.689 - ETA: 8s - loss: 5.0074 - acc: 0.689 - ETA: 8s - loss: 4.9945 - acc: 0.690 - ETA: 8s - loss: 4.9820 - acc: 0.690 - ETA: 7s - loss: 4.9904 - acc: 0.690 - ETA: 7s - loss: 4.9986 - acc: 0.689 - ETA: 7s - loss: 5.0268 - acc: 0.688 - ETA: 6s - loss: 5.0344 - acc: 0.687 - ETA: 6s - loss: 5.0222 - acc: 0.688 - ETA: 6s - loss: 5.0490 - acc: 0.686 - ETA: 5s - loss: 5.0561 - acc: 0.686 - ETA: 5s - loss: 5.0725 - acc: 0.685 - ETA: 4s - loss: 5.0697 - acc: 0.685 - ETA: 4s - loss: 5.0855 - acc: 0.684 - ETA: 4s - loss: 5.0919 - acc: 0.684 - ETA: 3s - loss: 5.0980 - acc: 0.683 - ETA: 3s - loss: 5.1309 - acc: 0.681 - ETA: 3s - loss: 5.1720 - acc: 0.679 - ETA: 2s - loss: 5.1508 - acc: 0.680 - ETA: 2s - loss: 5.1561 - acc: 0.680 - ETA: 2s - loss: 5.1355 - acc: 0.681 - ETA: 1s - loss: 5.1239 - acc: 0.682 - ETA: 1s - loss: 5.1209 - acc: 0.682 - ETA: 1s - loss: 5.1096 - acc: 0.683 - ETA: 0s - loss: 5.0904 - acc: 0.684 - ETA: 0s - loss: 5.0796 - acc: 0.6848Epoch 00004: val_loss did not improve\n",
      "100/100 [==============================] - 37s - loss: 5.0611 - acc: 0.6860 - val_loss: 8.3070 - val_acc: 0.4846\n",
      "Epoch 6/20\n",
      " 99/100 [============================>.] - ETA: 35s - loss: 6.4472 - acc: 0.60 - ETA: 34s - loss: 7.2531 - acc: 0.55 - ETA: 34s - loss: 6.7159 - acc: 0.58 - ETA: 34s - loss: 6.2458 - acc: 0.61 - ETA: 33s - loss: 6.2861 - acc: 0.61 - ETA: 33s - loss: 6.1786 - acc: 0.61 - ETA: 33s - loss: 5.9867 - acc: 0.62 - ETA: 32s - loss: 6.1450 - acc: 0.61 - ETA: 32s - loss: 5.8204 - acc: 0.63 - ETA: 32s - loss: 5.9637 - acc: 0.63 - ETA: 31s - loss: 5.9344 - acc: 0.63 - ETA: 31s - loss: 6.1786 - acc: 0.61 - ETA: 30s - loss: 6.1373 - acc: 0.61 - ETA: 30s - loss: 6.0443 - acc: 0.62 - ETA: 30s - loss: 5.9100 - acc: 0.63 - ETA: 29s - loss: 5.8428 - acc: 0.63 - ETA: 29s - loss: 5.6887 - acc: 0.64 - ETA: 29s - loss: 5.6413 - acc: 0.65 - ETA: 28s - loss: 5.5989 - acc: 0.65 - ETA: 28s - loss: 5.5204 - acc: 0.65 - ETA: 28s - loss: 5.4878 - acc: 0.65 - ETA: 27s - loss: 5.3849 - acc: 0.66 - ETA: 27s - loss: 5.2909 - acc: 0.67 - ETA: 27s - loss: 5.1712 - acc: 0.67 - ETA: 26s - loss: 5.1900 - acc: 0.67 - ETA: 26s - loss: 5.1454 - acc: 0.68 - ETA: 26s - loss: 5.0444 - acc: 0.68 - ETA: 25s - loss: 5.0657 - acc: 0.68 - ETA: 25s - loss: 5.1133 - acc: 0.68 - ETA: 25s - loss: 5.1847 - acc: 0.67 - ETA: 24s - loss: 5.1734 - acc: 0.67 - ETA: 24s - loss: 5.1628 - acc: 0.67 - ETA: 23s - loss: 5.2017 - acc: 0.67 - ETA: 23s - loss: 5.2147 - acc: 0.67 - ETA: 23s - loss: 5.1348 - acc: 0.68 - ETA: 22s - loss: 5.1488 - acc: 0.68 - ETA: 22s - loss: 5.1839 - acc: 0.67 - ETA: 22s - loss: 5.1323 - acc: 0.68 - ETA: 21s - loss: 5.2074 - acc: 0.67 - ETA: 21s - loss: 5.1779 - acc: 0.67 - ETA: 21s - loss: 5.1892 - acc: 0.67 - ETA: 20s - loss: 5.2768 - acc: 0.67 - ETA: 20s - loss: 5.3227 - acc: 0.66 - ETA: 20s - loss: 5.3300 - acc: 0.66 - ETA: 19s - loss: 5.3190 - acc: 0.67 - ETA: 19s - loss: 5.3260 - acc: 0.66 - ETA: 18s - loss: 5.3498 - acc: 0.66 - ETA: 18s - loss: 5.3559 - acc: 0.66 - ETA: 18s - loss: 5.3288 - acc: 0.66 - ETA: 17s - loss: 5.3029 - acc: 0.67 - ETA: 17s - loss: 5.2779 - acc: 0.67 - ETA: 17s - loss: 5.2539 - acc: 0.67 - ETA: 16s - loss: 5.2460 - acc: 0.67 - ETA: 16s - loss: 5.2682 - acc: 0.67 - ETA: 16s - loss: 5.2164 - acc: 0.67 - ETA: 15s - loss: 5.2240 - acc: 0.67 - ETA: 15s - loss: 5.2030 - acc: 0.67 - ETA: 15s - loss: 5.2245 - acc: 0.67 - ETA: 14s - loss: 5.2862 - acc: 0.67 - ETA: 14s - loss: 5.2249 - acc: 0.67 - ETA: 13s - loss: 5.1921 - acc: 0.67 - ETA: 13s - loss: 5.1604 - acc: 0.67 - ETA: 13s - loss: 5.1552 - acc: 0.68 - ETA: 12s - loss: 5.1502 - acc: 0.68 - ETA: 12s - loss: 5.1082 - acc: 0.68 - ETA: 12s - loss: 5.1041 - acc: 0.68 - ETA: 11s - loss: 5.0640 - acc: 0.68 - ETA: 11s - loss: 5.0606 - acc: 0.68 - ETA: 11s - loss: 5.0573 - acc: 0.68 - ETA: 10s - loss: 5.0772 - acc: 0.68 - ETA: 10s - loss: 5.0624 - acc: 0.68 - ETA: 10s - loss: 5.0593 - acc: 0.68 - ETA: 9s - loss: 5.0893 - acc: 0.6842 - ETA: 9s - loss: 5.0641 - acc: 0.685 - ETA: 8s - loss: 5.0718 - acc: 0.685 - ETA: 8s - loss: 5.0369 - acc: 0.687 - ETA: 8s - loss: 5.0343 - acc: 0.687 - ETA: 7s - loss: 5.0317 - acc: 0.687 - ETA: 7s - loss: 4.9986 - acc: 0.689 - ETA: 7s - loss: 4.9966 - acc: 0.690 - ETA: 6s - loss: 4.9946 - acc: 0.690 - ETA: 6s - loss: 5.0025 - acc: 0.689 - ETA: 6s - loss: 5.0005 - acc: 0.689 - ETA: 5s - loss: 5.0177 - acc: 0.688 - ETA: 5s - loss: 5.0345 - acc: 0.687 - ETA: 5s - loss: 5.0603 - acc: 0.686 - ETA: 4s - loss: 5.0485 - acc: 0.686 - ETA: 4s - loss: 5.0827 - acc: 0.684 - ETA: 3s - loss: 5.0890 - acc: 0.684 - ETA: 3s - loss: 5.0772 - acc: 0.685 - ETA: 3s - loss: 5.0834 - acc: 0.684 - ETA: 2s - loss: 5.0544 - acc: 0.686 - ETA: 2s - loss: 5.0434 - acc: 0.687 - ETA: 2s - loss: 5.0412 - acc: 0.687 - ETA: 1s - loss: 5.0390 - acc: 0.687 - ETA: 1s - loss: 5.0537 - acc: 0.686 - ETA: 1s - loss: 5.0431 - acc: 0.687 - ETA: 0s - loss: 5.0657 - acc: 0.685 - ETA: 0s - loss: 5.0471 - acc: 0.6869Epoch 00005: val_loss did not improve\n",
      "100/100 [==============================] - 37s - loss: 5.0611 - acc: 0.6860 - val_loss: 8.1830 - val_acc: 0.4923\n",
      "Epoch 7/20\n",
      " 99/100 [============================>.] - ETA: 35s - loss: 5.6413 - acc: 0.65 - ETA: 34s - loss: 5.2384 - acc: 0.67 - ETA: 34s - loss: 5.3727 - acc: 0.66 - ETA: 34s - loss: 5.2384 - acc: 0.67 - ETA: 33s - loss: 5.1578 - acc: 0.68 - ETA: 33s - loss: 5.1041 - acc: 0.68 - ETA: 33s - loss: 4.7203 - acc: 0.70 - ETA: 32s - loss: 5.0369 - acc: 0.68 - ETA: 32s - loss: 4.9250 - acc: 0.69 - ETA: 32s - loss: 4.7548 - acc: 0.70 - ETA: 31s - loss: 4.6889 - acc: 0.70 - ETA: 31s - loss: 4.7683 - acc: 0.70 - ETA: 31s - loss: 4.9594 - acc: 0.69 - ETA: 30s - loss: 5.0657 - acc: 0.68 - ETA: 30s - loss: 5.1041 - acc: 0.68 - ETA: 29s - loss: 5.2384 - acc: 0.67 - ETA: 29s - loss: 5.2147 - acc: 0.67 - ETA: 29s - loss: 5.1041 - acc: 0.68 - ETA: 28s - loss: 5.0051 - acc: 0.68 - ETA: 28s - loss: 4.9160 - acc: 0.69 - ETA: 28s - loss: 4.8738 - acc: 0.69 - ETA: 27s - loss: 4.9453 - acc: 0.69 - ETA: 27s - loss: 4.9756 - acc: 0.69 - ETA: 27s - loss: 5.0033 - acc: 0.68 - ETA: 26s - loss: 5.1578 - acc: 0.68 - ETA: 26s - loss: 5.1144 - acc: 0.68 - ETA: 26s - loss: 5.1638 - acc: 0.67 - ETA: 25s - loss: 5.1233 - acc: 0.68 - ETA: 25s - loss: 5.0577 - acc: 0.68 - ETA: 24s - loss: 5.0235 - acc: 0.68 - ETA: 24s - loss: 5.0174 - acc: 0.68 - ETA: 24s - loss: 5.0369 - acc: 0.68 - ETA: 23s - loss: 5.0064 - acc: 0.68 - ETA: 23s - loss: 5.0251 - acc: 0.68 - ETA: 23s - loss: 5.0887 - acc: 0.68 - ETA: 22s - loss: 5.1936 - acc: 0.67 - ETA: 22s - loss: 5.2275 - acc: 0.67 - ETA: 22s - loss: 5.1111 - acc: 0.68 - ETA: 21s - loss: 5.1661 - acc: 0.67 - ETA: 21s - loss: 5.1981 - acc: 0.67 - ETA: 21s - loss: 5.1892 - acc: 0.67 - ETA: 20s - loss: 5.1616 - acc: 0.67 - ETA: 20s - loss: 5.2478 - acc: 0.67 - ETA: 20s - loss: 5.2567 - acc: 0.67 - ETA: 19s - loss: 5.2115 - acc: 0.67 - ETA: 19s - loss: 5.2033 - acc: 0.67 - ETA: 18s - loss: 5.1784 - acc: 0.67 - ETA: 18s - loss: 5.1376 - acc: 0.68 - ETA: 18s - loss: 5.0986 - acc: 0.68 - ETA: 17s - loss: 5.1256 - acc: 0.68 - ETA: 17s - loss: 5.0883 - acc: 0.68 - ETA: 17s - loss: 5.0834 - acc: 0.68 - ETA: 16s - loss: 5.0331 - acc: 0.68 - ETA: 16s - loss: 5.0444 - acc: 0.68 - ETA: 16s - loss: 5.0406 - acc: 0.68 - ETA: 15s - loss: 5.0369 - acc: 0.68 - ETA: 15s - loss: 5.0475 - acc: 0.68 - ETA: 15s - loss: 5.0300 - acc: 0.68 - ETA: 14s - loss: 5.0676 - acc: 0.68 - ETA: 14s - loss: 5.0235 - acc: 0.68 - ETA: 13s - loss: 5.0336 - acc: 0.68 - ETA: 13s - loss: 5.0434 - acc: 0.68 - ETA: 13s - loss: 5.0529 - acc: 0.68 - ETA: 12s - loss: 5.0117 - acc: 0.68 - ETA: 12s - loss: 5.0338 - acc: 0.68 - ETA: 12s - loss: 4.9820 - acc: 0.69 - ETA: 11s - loss: 4.9918 - acc: 0.69 - ETA: 11s - loss: 4.9895 - acc: 0.69 - ETA: 11s - loss: 4.9873 - acc: 0.69 - ETA: 10s - loss: 4.9851 - acc: 0.69 - ETA: 10s - loss: 4.9716 - acc: 0.69 - ETA: 10s - loss: 4.9697 - acc: 0.69 - ETA: 9s - loss: 4.9679 - acc: 0.6918 - ETA: 9s - loss: 4.9552 - acc: 0.692 - ETA: 8s - loss: 4.9106 - acc: 0.695 - ETA: 8s - loss: 4.9203 - acc: 0.694 - ETA: 8s - loss: 4.9401 - acc: 0.693 - ETA: 7s - loss: 4.9387 - acc: 0.693 - ETA: 7s - loss: 4.9374 - acc: 0.693 - ETA: 7s - loss: 4.9059 - acc: 0.695 - ETA: 6s - loss: 4.9051 - acc: 0.695 - ETA: 6s - loss: 4.9042 - acc: 0.695 - ETA: 6s - loss: 4.9519 - acc: 0.692 - ETA: 5s - loss: 4.9793 - acc: 0.691 - ETA: 5s - loss: 4.9682 - acc: 0.691 - ETA: 5s - loss: 4.9947 - acc: 0.690 - ETA: 4s - loss: 4.9744 - acc: 0.691 - ETA: 4s - loss: 5.0186 - acc: 0.688 - ETA: 3s - loss: 5.0256 - acc: 0.688 - ETA: 3s - loss: 4.9966 - acc: 0.690 - ETA: 3s - loss: 4.9683 - acc: 0.691 - ETA: 2s - loss: 5.0194 - acc: 0.688 - ETA: 2s - loss: 5.0347 - acc: 0.687 - ETA: 2s - loss: 5.0155 - acc: 0.688 - ETA: 1s - loss: 5.0221 - acc: 0.688 - ETA: 1s - loss: 5.0369 - acc: 0.687 - ETA: 1s - loss: 5.0681 - acc: 0.685 - ETA: 0s - loss: 5.0575 - acc: 0.686 - ETA: 0s - loss: 5.0796 - acc: 0.6848Epoch 00006: val_loss improved from 7.31514 to 7.06716, saving model to saved_models/best.weights.hdf5\n",
      "100/100 [==============================] - 40s - loss: 5.0611 - acc: 0.6860 - val_loss: 7.0672 - val_acc: 0.5615\n",
      "Epoch 8/20\n",
      " 99/100 [============================>.] - ETA: 36s - loss: 3.2236 - acc: 0.80 - ETA: 35s - loss: 5.2384 - acc: 0.67 - ETA: 35s - loss: 5.3727 - acc: 0.66 - ETA: 34s - loss: 5.8428 - acc: 0.63 - ETA: 34s - loss: 5.8025 - acc: 0.64 - ETA: 34s - loss: 5.7757 - acc: 0.64 - ETA: 33s - loss: 5.9867 - acc: 0.62 - ETA: 33s - loss: 5.9435 - acc: 0.63 - ETA: 32s - loss: 5.8204 - acc: 0.63 - ETA: 32s - loss: 5.9637 - acc: 0.63 - ETA: 32s - loss: 5.9344 - acc: 0.63 - ETA: 31s - loss: 5.8428 - acc: 0.63 - ETA: 31s - loss: 5.8273 - acc: 0.63 - ETA: 31s - loss: 5.7565 - acc: 0.64 - ETA: 30s - loss: 5.9100 - acc: 0.63 - ETA: 30s - loss: 5.8428 - acc: 0.63 - ETA: 29s - loss: 5.6887 - acc: 0.64 - ETA: 29s - loss: 5.5518 - acc: 0.65 - ETA: 29s - loss: 5.5565 - acc: 0.65 - ETA: 28s - loss: 5.5607 - acc: 0.65 - ETA: 28s - loss: 5.4878 - acc: 0.65 - ETA: 28s - loss: 5.4215 - acc: 0.66 - ETA: 27s - loss: 5.4311 - acc: 0.66 - ETA: 27s - loss: 5.3055 - acc: 0.67 - ETA: 27s - loss: 5.2867 - acc: 0.67 - ETA: 26s - loss: 5.3004 - acc: 0.67 - ETA: 26s - loss: 5.4622 - acc: 0.66 - ETA: 25s - loss: 5.4686 - acc: 0.66 - ETA: 25s - loss: 5.4468 - acc: 0.66 - ETA: 25s - loss: 5.4802 - acc: 0.66 - ETA: 24s - loss: 5.5373 - acc: 0.65 - ETA: 24s - loss: 5.4650 - acc: 0.66 - ETA: 24s - loss: 5.3971 - acc: 0.66 - ETA: 23s - loss: 5.4991 - acc: 0.65 - ETA: 23s - loss: 5.4341 - acc: 0.66 - ETA: 23s - loss: 5.4175 - acc: 0.66 - ETA: 22s - loss: 5.4453 - acc: 0.66 - ETA: 22s - loss: 5.4080 - acc: 0.66 - ETA: 21s - loss: 5.3934 - acc: 0.66 - ETA: 21s - loss: 5.3996 - acc: 0.66 - ETA: 21s - loss: 5.3465 - acc: 0.66 - ETA: 20s - loss: 5.4303 - acc: 0.66 - ETA: 20s - loss: 5.3789 - acc: 0.66 - ETA: 20s - loss: 5.3666 - acc: 0.66 - ETA: 19s - loss: 5.3369 - acc: 0.66 - ETA: 19s - loss: 5.3610 - acc: 0.66 - ETA: 19s - loss: 5.3155 - acc: 0.67 - ETA: 18s - loss: 5.3727 - acc: 0.66 - ETA: 18s - loss: 5.4275 - acc: 0.66 - ETA: 17s - loss: 5.4157 - acc: 0.66 - ETA: 17s - loss: 5.3885 - acc: 0.66 - ETA: 17s - loss: 5.3779 - acc: 0.66 - ETA: 16s - loss: 5.3828 - acc: 0.66 - ETA: 16s - loss: 5.3876 - acc: 0.66 - ETA: 16s - loss: 5.4069 - acc: 0.66 - ETA: 15s - loss: 5.4111 - acc: 0.66 - ETA: 15s - loss: 5.4858 - acc: 0.65 - ETA: 15s - loss: 5.4468 - acc: 0.66 - ETA: 14s - loss: 5.4091 - acc: 0.66 - ETA: 14s - loss: 5.3861 - acc: 0.66 - ETA: 14s - loss: 5.3507 - acc: 0.66 - ETA: 13s - loss: 5.3684 - acc: 0.66 - ETA: 13s - loss: 5.3599 - acc: 0.66 - ETA: 12s - loss: 5.3391 - acc: 0.66 - ETA: 12s - loss: 5.3190 - acc: 0.67 - ETA: 12s - loss: 5.3239 - acc: 0.66 - ETA: 11s - loss: 5.2925 - acc: 0.67 - ETA: 11s - loss: 5.2739 - acc: 0.67 - ETA: 11s - loss: 5.2442 - acc: 0.67 - ETA: 10s - loss: 5.2384 - acc: 0.67 - ETA: 10s - loss: 5.2100 - acc: 0.67 - ETA: 10s - loss: 5.2496 - acc: 0.67 - ETA: 9s - loss: 5.2439 - acc: 0.6747 - ETA: 9s - loss: 5.2275 - acc: 0.675 - ETA: 8s - loss: 5.2223 - acc: 0.676 - ETA: 8s - loss: 5.2066 - acc: 0.677 - ETA: 8s - loss: 5.2122 - acc: 0.676 - ETA: 7s - loss: 5.1971 - acc: 0.677 - ETA: 7s - loss: 5.1925 - acc: 0.677 - ETA: 7s - loss: 5.2082 - acc: 0.676 - ETA: 7s - loss: 5.2036 - acc: 0.677 - ETA: 6s - loss: 5.1991 - acc: 0.677 - ETA: 6s - loss: 5.1850 - acc: 0.678 - ETA: 5s - loss: 5.1904 - acc: 0.678 - ETA: 5s - loss: 5.2052 - acc: 0.677 - ETA: 5s - loss: 5.2009 - acc: 0.677 - ETA: 4s - loss: 5.1967 - acc: 0.677 - ETA: 4s - loss: 5.1834 - acc: 0.678 - ETA: 4s - loss: 5.1252 - acc: 0.682 - ETA: 3s - loss: 5.1041 - acc: 0.683 - ETA: 3s - loss: 5.0923 - acc: 0.684 - ETA: 2s - loss: 5.0982 - acc: 0.683 - ETA: 2s - loss: 5.0867 - acc: 0.684 - ETA: 2s - loss: 5.0926 - acc: 0.684 - ETA: 1s - loss: 5.0899 - acc: 0.684 - ETA: 1s - loss: 5.1041 - acc: 0.683 - ETA: 1s - loss: 5.1013 - acc: 0.683 - ETA: 0s - loss: 5.0904 - acc: 0.684 - ETA: 0s - loss: 5.0796 - acc: 0.6848Epoch 00007: val_loss did not improve\n",
      "100/100 [==============================] - 38s - loss: 5.0611 - acc: 0.6860 - val_loss: 7.8288 - val_acc: 0.5143\n",
      "Epoch 9/20\n"
     ]
    },
    {
     "name": "stdout",
     "output_type": "stream",
     "text": [
      " 99/100 [============================>.] - ETA: 35s - loss: 4.0295 - acc: 0.75 - ETA: 34s - loss: 5.6413 - acc: 0.65 - ETA: 34s - loss: 5.3727 - acc: 0.66 - ETA: 34s - loss: 5.6413 - acc: 0.65 - ETA: 34s - loss: 4.8354 - acc: 0.70 - ETA: 33s - loss: 4.7011 - acc: 0.70 - ETA: 33s - loss: 5.4111 - acc: 0.66 - ETA: 32s - loss: 5.4399 - acc: 0.66 - ETA: 32s - loss: 5.2832 - acc: 0.67 - ETA: 32s - loss: 5.3996 - acc: 0.66 - ETA: 31s - loss: 5.3483 - acc: 0.66 - ETA: 31s - loss: 5.3727 - acc: 0.66 - ETA: 31s - loss: 5.2694 - acc: 0.67 - ETA: 30s - loss: 5.1808 - acc: 0.67 - ETA: 30s - loss: 5.1578 - acc: 0.68 - ETA: 30s - loss: 5.2384 - acc: 0.67 - ETA: 29s - loss: 5.2621 - acc: 0.67 - ETA: 29s - loss: 5.2832 - acc: 0.67 - ETA: 29s - loss: 5.2172 - acc: 0.67 - ETA: 28s - loss: 5.2384 - acc: 0.67 - ETA: 28s - loss: 5.3343 - acc: 0.66 - ETA: 28s - loss: 5.3483 - acc: 0.66 - ETA: 27s - loss: 5.3961 - acc: 0.66 - ETA: 27s - loss: 5.4063 - acc: 0.66 - ETA: 26s - loss: 5.3834 - acc: 0.66 - ETA: 26s - loss: 5.3314 - acc: 0.66 - ETA: 26s - loss: 5.3130 - acc: 0.67 - ETA: 25s - loss: 5.3535 - acc: 0.66 - ETA: 25s - loss: 5.3356 - acc: 0.66 - ETA: 25s - loss: 5.3458 - acc: 0.66 - ETA: 24s - loss: 5.3814 - acc: 0.66 - ETA: 24s - loss: 5.3391 - acc: 0.66 - ETA: 24s - loss: 5.3483 - acc: 0.66 - ETA: 23s - loss: 5.3569 - acc: 0.66 - ETA: 23s - loss: 5.3650 - acc: 0.66 - ETA: 23s - loss: 5.2608 - acc: 0.67 - ETA: 22s - loss: 5.2275 - acc: 0.67 - ETA: 22s - loss: 5.2384 - acc: 0.67 - ETA: 21s - loss: 5.2074 - acc: 0.67 - ETA: 21s - loss: 5.2182 - acc: 0.67 - ETA: 21s - loss: 5.2089 - acc: 0.67 - ETA: 20s - loss: 5.2000 - acc: 0.67 - ETA: 20s - loss: 5.1540 - acc: 0.68 - ETA: 20s - loss: 5.1285 - acc: 0.68 - ETA: 19s - loss: 5.1399 - acc: 0.68 - ETA: 19s - loss: 5.1683 - acc: 0.67 - ETA: 19s - loss: 5.1441 - acc: 0.68 - ETA: 18s - loss: 5.1880 - acc: 0.67 - ETA: 18s - loss: 5.2137 - acc: 0.67 - ETA: 17s - loss: 5.1578 - acc: 0.68 - ETA: 17s - loss: 5.1989 - acc: 0.67 - ETA: 17s - loss: 5.2074 - acc: 0.67 - ETA: 16s - loss: 5.1395 - acc: 0.68 - ETA: 16s - loss: 5.1787 - acc: 0.67 - ETA: 16s - loss: 5.1578 - acc: 0.68 - ETA: 15s - loss: 5.1664 - acc: 0.67 - ETA: 15s - loss: 5.1748 - acc: 0.67 - ETA: 15s - loss: 5.1272 - acc: 0.68 - ETA: 14s - loss: 5.1359 - acc: 0.68 - ETA: 14s - loss: 5.1175 - acc: 0.68 - ETA: 14s - loss: 5.0732 - acc: 0.68 - ETA: 13s - loss: 5.0694 - acc: 0.68 - ETA: 13s - loss: 5.0657 - acc: 0.68 - ETA: 12s - loss: 5.0873 - acc: 0.68 - ETA: 12s - loss: 5.0834 - acc: 0.68 - ETA: 12s - loss: 5.0430 - acc: 0.68 - ETA: 12s - loss: 5.0880 - acc: 0.68 - ETA: 11s - loss: 5.0725 - acc: 0.68 - ETA: 11s - loss: 5.0573 - acc: 0.68 - ETA: 11s - loss: 5.1002 - acc: 0.68 - ETA: 10s - loss: 5.0738 - acc: 0.68 - ETA: 10s - loss: 5.0929 - acc: 0.68 - ETA: 10s - loss: 5.1004 - acc: 0.68 - ETA: 9s - loss: 5.1186 - acc: 0.6824 - ETA: 9s - loss: 5.1041 - acc: 0.683 - ETA: 8s - loss: 5.1111 - acc: 0.682 - ETA: 8s - loss: 5.1285 - acc: 0.681 - ETA: 8s - loss: 5.1351 - acc: 0.681 - ETA: 7s - loss: 5.1415 - acc: 0.681 - ETA: 7s - loss: 5.1477 - acc: 0.680 - ETA: 7s - loss: 5.1538 - acc: 0.680 - ETA: 6s - loss: 5.1598 - acc: 0.679 - ETA: 6s - loss: 5.1558 - acc: 0.680 - ETA: 5s - loss: 5.1520 - acc: 0.680 - ETA: 5s - loss: 5.1104 - acc: 0.682 - ETA: 5s - loss: 5.1259 - acc: 0.682 - ETA: 4s - loss: 5.1319 - acc: 0.681 - ETA: 4s - loss: 5.1102 - acc: 0.683 - ETA: 4s - loss: 5.0890 - acc: 0.684 - ETA: 3s - loss: 5.0951 - acc: 0.683 - ETA: 3s - loss: 5.1011 - acc: 0.683 - ETA: 2s - loss: 5.0895 - acc: 0.684 - ETA: 2s - loss: 5.0867 - acc: 0.684 - ETA: 2s - loss: 5.0669 - acc: 0.685 - ETA: 1s - loss: 5.0475 - acc: 0.686 - ETA: 1s - loss: 5.0621 - acc: 0.685 - ETA: 1s - loss: 5.0431 - acc: 0.687 - ETA: 0s - loss: 5.0328 - acc: 0.687 - ETA: 0s - loss: 5.0471 - acc: 0.6869Epoch 00008: val_loss did not improve\n",
      "100/100 [==============================] - 38s - loss: 5.0611 - acc: 0.6860 - val_loss: 7.3151 - val_acc: 0.5462\n",
      "Epoch 10/20\n",
      " 99/100 [============================>.] - ETA: 34s - loss: 1.6118 - acc: 0.90 - ETA: 34s - loss: 2.4177 - acc: 0.85 - ETA: 34s - loss: 4.5668 - acc: 0.71 - ETA: 34s - loss: 4.2310 - acc: 0.73 - ETA: 33s - loss: 4.6742 - acc: 0.71 - ETA: 33s - loss: 4.7011 - acc: 0.70 - ETA: 33s - loss: 4.9506 - acc: 0.69 - ETA: 32s - loss: 4.7347 - acc: 0.70 - ETA: 32s - loss: 4.8354 - acc: 0.70 - ETA: 32s - loss: 4.5937 - acc: 0.71 - ETA: 31s - loss: 4.2493 - acc: 0.73 - ETA: 31s - loss: 4.1638 - acc: 0.74 - ETA: 31s - loss: 4.1535 - acc: 0.74 - ETA: 30s - loss: 4.0871 - acc: 0.74 - ETA: 30s - loss: 4.0833 - acc: 0.74 - ETA: 29s - loss: 4.0799 - acc: 0.74 - ETA: 29s - loss: 4.2666 - acc: 0.73 - ETA: 29s - loss: 4.2982 - acc: 0.73 - ETA: 28s - loss: 4.2840 - acc: 0.73 - ETA: 28s - loss: 4.3519 - acc: 0.73 - ETA: 28s - loss: 4.3749 - acc: 0.72 - ETA: 27s - loss: 4.4691 - acc: 0.72 - ETA: 27s - loss: 4.5201 - acc: 0.71 - ETA: 27s - loss: 4.5332 - acc: 0.71 - ETA: 26s - loss: 4.5131 - acc: 0.72 - ETA: 26s - loss: 4.6185 - acc: 0.71 - ETA: 26s - loss: 4.6862 - acc: 0.70 - ETA: 25s - loss: 4.6340 - acc: 0.71 - ETA: 25s - loss: 4.6409 - acc: 0.71 - ETA: 25s - loss: 4.6742 - acc: 0.71 - ETA: 24s - loss: 4.7314 - acc: 0.70 - ETA: 24s - loss: 4.7095 - acc: 0.70 - ETA: 23s - loss: 4.7866 - acc: 0.70 - ETA: 23s - loss: 4.7406 - acc: 0.70 - ETA: 23s - loss: 4.6973 - acc: 0.70 - ETA: 22s - loss: 4.8354 - acc: 0.70 - ETA: 22s - loss: 4.9443 - acc: 0.69 - ETA: 22s - loss: 4.9839 - acc: 0.69 - ETA: 21s - loss: 4.9801 - acc: 0.69 - ETA: 21s - loss: 4.9563 - acc: 0.69 - ETA: 21s - loss: 4.9337 - acc: 0.69 - ETA: 20s - loss: 5.0081 - acc: 0.68 - ETA: 20s - loss: 4.9666 - acc: 0.69 - ETA: 20s - loss: 4.9270 - acc: 0.69 - ETA: 19s - loss: 4.9071 - acc: 0.69 - ETA: 19s - loss: 4.9405 - acc: 0.69 - ETA: 19s - loss: 4.9555 - acc: 0.69 - ETA: 18s - loss: 4.9865 - acc: 0.69 - ETA: 18s - loss: 5.0328 - acc: 0.68 - ETA: 18s - loss: 4.9966 - acc: 0.69 - ETA: 17s - loss: 4.9934 - acc: 0.69 - ETA: 17s - loss: 4.9594 - acc: 0.69 - ETA: 16s - loss: 4.9875 - acc: 0.69 - ETA: 16s - loss: 5.0294 - acc: 0.68 - ETA: 16s - loss: 5.0699 - acc: 0.68 - ETA: 15s - loss: 5.0801 - acc: 0.68 - ETA: 15s - loss: 5.1182 - acc: 0.68 - ETA: 15s - loss: 5.0855 - acc: 0.68 - ETA: 14s - loss: 5.0540 - acc: 0.68 - ETA: 14s - loss: 5.0369 - acc: 0.68 - ETA: 14s - loss: 5.0336 - acc: 0.68 - ETA: 13s - loss: 5.0174 - acc: 0.68 - ETA: 13s - loss: 5.0145 - acc: 0.68 - ETA: 12s - loss: 5.0117 - acc: 0.68 - ETA: 12s - loss: 5.0586 - acc: 0.68 - ETA: 12s - loss: 5.0674 - acc: 0.68 - ETA: 11s - loss: 5.0519 - acc: 0.68 - ETA: 11s - loss: 5.0606 - acc: 0.68 - ETA: 11s - loss: 5.0340 - acc: 0.68 - ETA: 10s - loss: 5.0427 - acc: 0.68 - ETA: 10s - loss: 5.0397 - acc: 0.68 - ETA: 10s - loss: 5.0033 - acc: 0.68 - ETA: 9s - loss: 5.0231 - acc: 0.6884 - ETA: 9s - loss: 5.0097 - acc: 0.689 - ETA: 9s - loss: 5.0181 - acc: 0.688 - ETA: 8s - loss: 5.0157 - acc: 0.688 - ETA: 8s - loss: 4.9924 - acc: 0.690 - ETA: 7s - loss: 5.0317 - acc: 0.687 - ETA: 7s - loss: 5.0293 - acc: 0.688 - ETA: 7s - loss: 5.0369 - acc: 0.687 - ETA: 6s - loss: 5.0344 - acc: 0.687 - ETA: 6s - loss: 5.0713 - acc: 0.685 - ETA: 6s - loss: 5.0879 - acc: 0.684 - ETA: 5s - loss: 5.0849 - acc: 0.684 - ETA: 5s - loss: 5.1104 - acc: 0.682 - ETA: 5s - loss: 5.0884 - acc: 0.684 - ETA: 4s - loss: 5.0763 - acc: 0.685 - ETA: 4s - loss: 5.0827 - acc: 0.684 - ETA: 3s - loss: 5.1071 - acc: 0.683 - ETA: 3s - loss: 5.1041 - acc: 0.683 - ETA: 3s - loss: 5.1188 - acc: 0.682 - ETA: 2s - loss: 5.0807 - acc: 0.684 - ETA: 2s - loss: 5.0694 - acc: 0.685 - ETA: 2s - loss: 5.0498 - acc: 0.686 - ETA: 1s - loss: 5.0560 - acc: 0.686 - ETA: 1s - loss: 5.0621 - acc: 0.685 - ETA: 1s - loss: 5.0681 - acc: 0.685 - ETA: 0s - loss: 5.0657 - acc: 0.685 - ETA: 0s - loss: 5.0715 - acc: 0.6854Epoch 00009: val_loss did not improve\n",
      "100/100 [==============================] - 37s - loss: 5.0611 - acc: 0.6860 - val_loss: 7.3151 - val_acc: 0.5462\n",
      "Epoch 11/20\n",
      " 99/100 [============================>.] - ETA: 35s - loss: 3.2236 - acc: 0.80 - ETA: 35s - loss: 5.6413 - acc: 0.65 - ETA: 34s - loss: 6.4472 - acc: 0.60 - ETA: 34s - loss: 7.0517 - acc: 0.56 - ETA: 34s - loss: 6.4472 - acc: 0.60 - ETA: 33s - loss: 6.1786 - acc: 0.61 - ETA: 33s - loss: 5.9867 - acc: 0.62 - ETA: 33s - loss: 6.4472 - acc: 0.60 - ETA: 32s - loss: 6.0891 - acc: 0.62 - ETA: 32s - loss: 5.9637 - acc: 0.63 - ETA: 32s - loss: 5.7146 - acc: 0.64 - ETA: 31s - loss: 5.4399 - acc: 0.66 - ETA: 31s - loss: 5.4554 - acc: 0.66 - ETA: 31s - loss: 5.3535 - acc: 0.66 - ETA: 30s - loss: 5.4264 - acc: 0.66 - ETA: 30s - loss: 5.3391 - acc: 0.66 - ETA: 29s - loss: 5.3569 - acc: 0.66 - ETA: 29s - loss: 5.2832 - acc: 0.67 - ETA: 29s - loss: 5.4293 - acc: 0.66 - ETA: 28s - loss: 5.3190 - acc: 0.67 - ETA: 28s - loss: 5.2959 - acc: 0.67 - ETA: 28s - loss: 5.2384 - acc: 0.67 - ETA: 27s - loss: 5.0807 - acc: 0.68 - ETA: 27s - loss: 5.1376 - acc: 0.68 - ETA: 27s - loss: 5.0611 - acc: 0.68 - ETA: 26s - loss: 4.9904 - acc: 0.69 - ETA: 26s - loss: 5.0742 - acc: 0.68 - ETA: 25s - loss: 5.0081 - acc: 0.68 - ETA: 25s - loss: 5.0022 - acc: 0.68 - ETA: 25s - loss: 5.1041 - acc: 0.68 - ETA: 24s - loss: 5.1214 - acc: 0.68 - ETA: 24s - loss: 5.1125 - acc: 0.68 - ETA: 24s - loss: 5.0308 - acc: 0.68 - ETA: 23s - loss: 5.0251 - acc: 0.68 - ETA: 23s - loss: 5.0657 - acc: 0.68 - ETA: 23s - loss: 5.1041 - acc: 0.68 - ETA: 22s - loss: 5.0968 - acc: 0.68 - ETA: 22s - loss: 5.0899 - acc: 0.68 - ETA: 21s - loss: 5.0007 - acc: 0.68 - ETA: 21s - loss: 5.0571 - acc: 0.68 - ETA: 21s - loss: 5.0320 - acc: 0.68 - ETA: 20s - loss: 4.9889 - acc: 0.69 - ETA: 20s - loss: 5.0228 - acc: 0.68 - ETA: 20s - loss: 5.0186 - acc: 0.68 - ETA: 19s - loss: 4.9966 - acc: 0.69 - ETA: 19s - loss: 4.9931 - acc: 0.69 - ETA: 19s - loss: 5.0412 - acc: 0.68 - ETA: 18s - loss: 5.0033 - acc: 0.68 - ETA: 18s - loss: 4.9999 - acc: 0.68 - ETA: 17s - loss: 4.9805 - acc: 0.69 - ETA: 17s - loss: 4.9460 - acc: 0.69 - ETA: 17s - loss: 4.9439 - acc: 0.69 - ETA: 16s - loss: 4.9875 - acc: 0.69 - ETA: 16s - loss: 5.0294 - acc: 0.68 - ETA: 16s - loss: 5.0259 - acc: 0.68 - ETA: 15s - loss: 5.1089 - acc: 0.68 - ETA: 15s - loss: 5.1323 - acc: 0.68 - ETA: 15s - loss: 5.1272 - acc: 0.68 - ETA: 14s - loss: 5.0950 - acc: 0.68 - ETA: 14s - loss: 5.0772 - acc: 0.68 - ETA: 13s - loss: 5.0997 - acc: 0.68 - ETA: 13s - loss: 5.1214 - acc: 0.68 - ETA: 13s - loss: 5.1296 - acc: 0.68 - ETA: 12s - loss: 5.1251 - acc: 0.68 - ETA: 12s - loss: 5.1082 - acc: 0.68 - ETA: 12s - loss: 5.0674 - acc: 0.68 - ETA: 11s - loss: 5.0760 - acc: 0.68 - ETA: 11s - loss: 5.0606 - acc: 0.68 - ETA: 11s - loss: 5.0223 - acc: 0.68 - ETA: 10s - loss: 4.9966 - acc: 0.69 - ETA: 10s - loss: 4.9716 - acc: 0.69 - ETA: 10s - loss: 5.0033 - acc: 0.68 - ETA: 9s - loss: 5.0341 - acc: 0.6877 - ETA: 9s - loss: 5.0315 - acc: 0.687 - ETA: 8s - loss: 5.0181 - acc: 0.688 - ETA: 8s - loss: 5.0157 - acc: 0.688 - ETA: 8s - loss: 5.0238 - acc: 0.688 - ETA: 7s - loss: 5.0524 - acc: 0.686 - ETA: 7s - loss: 5.0395 - acc: 0.687 - ETA: 7s - loss: 5.0470 - acc: 0.686 - ETA: 6s - loss: 5.0245 - acc: 0.688 - ETA: 6s - loss: 5.0418 - acc: 0.687 - ETA: 6s - loss: 5.0296 - acc: 0.688 - ETA: 5s - loss: 5.0465 - acc: 0.686 - ETA: 5s - loss: 5.0535 - acc: 0.686 - ETA: 5s - loss: 5.0322 - acc: 0.687 - ETA: 4s - loss: 5.0300 - acc: 0.687 - ETA: 4s - loss: 5.0552 - acc: 0.686 - ETA: 3s - loss: 5.0528 - acc: 0.686 - ETA: 3s - loss: 5.0593 - acc: 0.686 - ETA: 3s - loss: 5.0391 - acc: 0.687 - ETA: 2s - loss: 5.0369 - acc: 0.687 - ETA: 2s - loss: 5.0521 - acc: 0.686 - ETA: 2s - loss: 5.0412 - acc: 0.687 - ETA: 1s - loss: 5.0645 - acc: 0.685 - ETA: 1s - loss: 5.0705 - acc: 0.685 - ETA: 1s - loss: 5.0681 - acc: 0.685 - ETA: 0s - loss: 5.0821 - acc: 0.684 - ETA: 0s - loss: 5.0715 - acc: 0.6854Epoch 00010: val_loss did not improve\n",
      "100/100 [==============================] - 37s - loss: 5.0611 - acc: 0.6860 - val_loss: 7.5631 - val_acc: 0.5308\n",
      "Epoch 12/20\n",
      " 99/100 [============================>.] - ETA: 34s - loss: 6.4472 - acc: 0.60 - ETA: 34s - loss: 6.0443 - acc: 0.62 - ETA: 34s - loss: 5.6413 - acc: 0.65 - ETA: 34s - loss: 5.0369 - acc: 0.68 - ETA: 33s - loss: 4.8354 - acc: 0.70 - ETA: 33s - loss: 4.8354 - acc: 0.70 - ETA: 32s - loss: 4.9506 - acc: 0.69 - ETA: 32s - loss: 4.7347 - acc: 0.70 - ETA: 32s - loss: 5.0145 - acc: 0.68 - ETA: 31s - loss: 5.2384 - acc: 0.67 - ETA: 31s - loss: 5.1285 - acc: 0.68 - ETA: 31s - loss: 5.1712 - acc: 0.67 - ETA: 30s - loss: 5.0214 - acc: 0.68 - ETA: 30s - loss: 5.0657 - acc: 0.68 - ETA: 30s - loss: 4.9966 - acc: 0.69 - ETA: 29s - loss: 4.9362 - acc: 0.69 - ETA: 29s - loss: 4.9302 - acc: 0.69 - ETA: 29s - loss: 4.9250 - acc: 0.69 - ETA: 28s - loss: 4.8354 - acc: 0.70 - ETA: 28s - loss: 4.9966 - acc: 0.69 - ETA: 28s - loss: 4.9506 - acc: 0.69 - ETA: 27s - loss: 4.9820 - acc: 0.69 - ETA: 27s - loss: 5.1508 - acc: 0.68 - ETA: 26s - loss: 5.1041 - acc: 0.68 - ETA: 26s - loss: 5.0288 - acc: 0.68 - ETA: 26s - loss: 5.1454 - acc: 0.68 - ETA: 25s - loss: 5.0444 - acc: 0.68 - ETA: 25s - loss: 5.0945 - acc: 0.68 - ETA: 25s - loss: 5.1133 - acc: 0.68 - ETA: 24s - loss: 5.1578 - acc: 0.68 - ETA: 24s - loss: 5.0954 - acc: 0.68 - ETA: 24s - loss: 5.0621 - acc: 0.68 - ETA: 23s - loss: 5.1285 - acc: 0.68 - ETA: 23s - loss: 5.1199 - acc: 0.68 - ETA: 23s - loss: 5.0657 - acc: 0.68 - ETA: 22s - loss: 5.0369 - acc: 0.68 - ETA: 22s - loss: 5.0532 - acc: 0.68 - ETA: 21s - loss: 5.0475 - acc: 0.68 - ETA: 21s - loss: 5.0421 - acc: 0.68 - ETA: 21s - loss: 4.9765 - acc: 0.69 - ETA: 20s - loss: 4.9141 - acc: 0.69 - ETA: 20s - loss: 4.8930 - acc: 0.69 - ETA: 20s - loss: 4.8354 - acc: 0.70 - ETA: 19s - loss: 4.8171 - acc: 0.70 - ETA: 19s - loss: 4.8712 - acc: 0.69 - ETA: 19s - loss: 4.8354 - acc: 0.70 - ETA: 18s - loss: 4.8183 - acc: 0.70 - ETA: 18s - loss: 4.8018 - acc: 0.70 - ETA: 18s - loss: 4.8025 - acc: 0.70 - ETA: 17s - loss: 4.7710 - acc: 0.70 - ETA: 17s - loss: 4.8196 - acc: 0.70 - ETA: 17s - loss: 4.8354 - acc: 0.70 - ETA: 16s - loss: 4.8050 - acc: 0.70 - ETA: 16s - loss: 4.7757 - acc: 0.70 - ETA: 15s - loss: 4.7768 - acc: 0.70 - ETA: 15s - loss: 4.7923 - acc: 0.70 - ETA: 15s - loss: 4.7647 - acc: 0.70 - ETA: 14s - loss: 4.7660 - acc: 0.70 - ETA: 14s - loss: 4.7398 - acc: 0.70 - ETA: 14s - loss: 4.7414 - acc: 0.70 - ETA: 13s - loss: 4.7826 - acc: 0.70 - ETA: 13s - loss: 4.8224 - acc: 0.70 - ETA: 13s - loss: 4.8738 - acc: 0.69 - ETA: 12s - loss: 4.9236 - acc: 0.69 - ETA: 12s - loss: 4.9346 - acc: 0.69 - ETA: 12s - loss: 4.9820 - acc: 0.69 - ETA: 11s - loss: 4.9798 - acc: 0.69 - ETA: 11s - loss: 4.9421 - acc: 0.69 - ETA: 10s - loss: 4.9172 - acc: 0.69 - ETA: 10s - loss: 4.9045 - acc: 0.69 - ETA: 10s - loss: 4.9149 - acc: 0.69 - ETA: 9s - loss: 4.9362 - acc: 0.6938 - ETA: 9s - loss: 4.9017 - acc: 0.695 - ETA: 9s - loss: 4.8899 - acc: 0.696 - ETA: 8s - loss: 4.8784 - acc: 0.697 - ETA: 8s - loss: 4.9203 - acc: 0.694 - ETA: 8s - loss: 4.8982 - acc: 0.696 - ETA: 7s - loss: 4.9181 - acc: 0.694 - ETA: 7s - loss: 4.9680 - acc: 0.691 - ETA: 7s - loss: 4.9865 - acc: 0.690 - ETA: 6s - loss: 4.9747 - acc: 0.691 - ETA: 6s - loss: 4.9632 - acc: 0.692 - ETA: 6s - loss: 4.9617 - acc: 0.692 - ETA: 5s - loss: 4.9602 - acc: 0.692 - ETA: 5s - loss: 4.9966 - acc: 0.690 - ETA: 4s - loss: 5.0135 - acc: 0.689 - ETA: 4s - loss: 5.0207 - acc: 0.688 - ETA: 4s - loss: 5.0277 - acc: 0.688 - ETA: 3s - loss: 5.0346 - acc: 0.687 - ETA: 3s - loss: 5.0324 - acc: 0.687 - ETA: 3s - loss: 5.0657 - acc: 0.685 - ETA: 2s - loss: 5.1157 - acc: 0.682 - ETA: 2s - loss: 5.0954 - acc: 0.683 - ETA: 2s - loss: 5.0755 - acc: 0.685 - ETA: 1s - loss: 5.0899 - acc: 0.684 - ETA: 1s - loss: 5.0873 - acc: 0.684 - ETA: 1s - loss: 5.0598 - acc: 0.686 - ETA: 0s - loss: 5.0575 - acc: 0.686 - ETA: 0s - loss: 5.0796 - acc: 0.6848Epoch 00011: val_loss improved from 7.06716 to 6.81919, saving model to saved_models/best.weights.hdf5\n",
      "100/100 [==============================] - 39s - loss: 5.0611 - acc: 0.6860 - val_loss: 6.8192 - val_acc: 0.5769\n",
      "Epoch 13/20\n"
     ]
    },
    {
     "name": "stdout",
     "output_type": "stream",
     "text": [
      " 99/100 [============================>.] - ETA: 35s - loss: 8.8650 - acc: 0.45 - ETA: 34s - loss: 6.8502 - acc: 0.57 - ETA: 34s - loss: 6.4472 - acc: 0.60 - ETA: 34s - loss: 5.8428 - acc: 0.63 - ETA: 33s - loss: 5.1578 - acc: 0.68 - ETA: 33s - loss: 4.9697 - acc: 0.69 - ETA: 32s - loss: 4.7203 - acc: 0.70 - ETA: 32s - loss: 4.8354 - acc: 0.70 - ETA: 32s - loss: 4.9250 - acc: 0.69 - ETA: 31s - loss: 5.0772 - acc: 0.68 - ETA: 31s - loss: 5.2017 - acc: 0.67 - ETA: 31s - loss: 5.1041 - acc: 0.68 - ETA: 30s - loss: 5.2694 - acc: 0.67 - ETA: 30s - loss: 5.0081 - acc: 0.68 - ETA: 30s - loss: 5.0503 - acc: 0.68 - ETA: 29s - loss: 4.9865 - acc: 0.69 - ETA: 29s - loss: 4.9302 - acc: 0.69 - ETA: 29s - loss: 4.7907 - acc: 0.70 - ETA: 28s - loss: 4.9203 - acc: 0.69 - ETA: 28s - loss: 4.7145 - acc: 0.70 - ETA: 27s - loss: 4.6435 - acc: 0.71 - ETA: 27s - loss: 4.7988 - acc: 0.70 - ETA: 27s - loss: 4.6953 - acc: 0.70 - ETA: 26s - loss: 4.8690 - acc: 0.69 - ETA: 26s - loss: 4.8354 - acc: 0.70 - ETA: 26s - loss: 4.9284 - acc: 0.69 - ETA: 25s - loss: 4.8653 - acc: 0.69 - ETA: 25s - loss: 4.8642 - acc: 0.69 - ETA: 25s - loss: 4.8076 - acc: 0.70 - ETA: 24s - loss: 4.7817 - acc: 0.70 - ETA: 24s - loss: 4.6794 - acc: 0.70 - ETA: 24s - loss: 4.6843 - acc: 0.70 - ETA: 25s - loss: 4.6889 - acc: 0.70 - ETA: 25s - loss: 4.7880 - acc: 0.70 - ETA: 24s - loss: 4.8354 - acc: 0.70 - ETA: 24s - loss: 4.9474 - acc: 0.69 - ETA: 24s - loss: 4.9879 - acc: 0.69 - ETA: 23s - loss: 5.0051 - acc: 0.68 - ETA: 23s - loss: 5.0627 - acc: 0.68 - ETA: 22s - loss: 4.9765 - acc: 0.69 - ETA: 22s - loss: 4.9730 - acc: 0.69 - ETA: 21s - loss: 4.9889 - acc: 0.69 - ETA: 21s - loss: 4.9479 - acc: 0.69 - ETA: 21s - loss: 4.9453 - acc: 0.69 - ETA: 20s - loss: 4.9966 - acc: 0.69 - ETA: 20s - loss: 4.9931 - acc: 0.69 - ETA: 20s - loss: 5.0240 - acc: 0.68 - ETA: 19s - loss: 5.1209 - acc: 0.68 - ETA: 19s - loss: 5.0986 - acc: 0.68 - ETA: 18s - loss: 5.0450 - acc: 0.68 - ETA: 18s - loss: 5.0409 - acc: 0.68 - ETA: 18s - loss: 5.0524 - acc: 0.68 - ETA: 17s - loss: 5.0939 - acc: 0.68 - ETA: 17s - loss: 5.0444 - acc: 0.68 - ETA: 16s - loss: 5.0259 - acc: 0.68 - ETA: 16s - loss: 5.0801 - acc: 0.68 - ETA: 16s - loss: 5.1323 - acc: 0.68 - ETA: 15s - loss: 5.0855 - acc: 0.68 - ETA: 15s - loss: 5.0813 - acc: 0.68 - ETA: 14s - loss: 5.1175 - acc: 0.68 - ETA: 14s - loss: 5.1261 - acc: 0.68 - ETA: 14s - loss: 5.1344 - acc: 0.68 - ETA: 13s - loss: 5.1296 - acc: 0.68 - ETA: 13s - loss: 5.1251 - acc: 0.68 - ETA: 13s - loss: 5.0958 - acc: 0.68 - ETA: 12s - loss: 5.1041 - acc: 0.68 - ETA: 12s - loss: 5.0519 - acc: 0.68 - ETA: 11s - loss: 5.0843 - acc: 0.68 - ETA: 11s - loss: 5.0573 - acc: 0.68 - ETA: 11s - loss: 5.0311 - acc: 0.68 - ETA: 10s - loss: 4.9943 - acc: 0.69 - ETA: 10s - loss: 5.0145 - acc: 0.68 - ETA: 10s - loss: 5.0121 - acc: 0.68 - ETA: 9s - loss: 4.9770 - acc: 0.6912 - ETA: 9s - loss: 4.9644 - acc: 0.692 - ETA: 8s - loss: 4.9945 - acc: 0.690 - ETA: 8s - loss: 5.0029 - acc: 0.689 - ETA: 8s - loss: 5.0317 - acc: 0.687 - ETA: 7s - loss: 5.0701 - acc: 0.685 - ETA: 7s - loss: 5.0873 - acc: 0.684 - ETA: 7s - loss: 5.0543 - acc: 0.686 - ETA: 6s - loss: 5.0516 - acc: 0.686 - ETA: 6s - loss: 5.0490 - acc: 0.686 - ETA: 5s - loss: 5.0561 - acc: 0.686 - ETA: 5s - loss: 5.0725 - acc: 0.685 - ETA: 5s - loss: 5.0603 - acc: 0.686 - ETA: 4s - loss: 5.0577 - acc: 0.686 - ETA: 4s - loss: 5.0369 - acc: 0.687 - ETA: 4s - loss: 5.0618 - acc: 0.686 - ETA: 3s - loss: 5.0682 - acc: 0.685 - ETA: 3s - loss: 5.0745 - acc: 0.685 - ETA: 2s - loss: 5.1070 - acc: 0.683 - ETA: 2s - loss: 5.0867 - acc: 0.684 - ETA: 2s - loss: 5.0755 - acc: 0.685 - ETA: 1s - loss: 5.0475 - acc: 0.686 - ETA: 1s - loss: 5.0537 - acc: 0.686 - ETA: 1s - loss: 5.0681 - acc: 0.685 - ETA: 0s - loss: 5.0657 - acc: 0.685 - ETA: 0s - loss: 5.0634 - acc: 0.6859Epoch 00012: val_loss did not improve\n",
      "100/100 [==============================] - 38s - loss: 5.0611 - acc: 0.6860 - val_loss: 7.6871 - val_acc: 0.5231\n",
      "Epoch 14/20\n",
      " 99/100 [============================>.] - ETA: 35s - loss: 4.8354 - acc: 0.70 - ETA: 34s - loss: 4.4325 - acc: 0.72 - ETA: 34s - loss: 3.4923 - acc: 0.78 - ETA: 34s - loss: 4.2310 - acc: 0.73 - ETA: 33s - loss: 4.0295 - acc: 0.75 - ETA: 33s - loss: 4.0295 - acc: 0.75 - ETA: 33s - loss: 4.1447 - acc: 0.74 - ETA: 33s - loss: 4.4325 - acc: 0.72 - ETA: 42s - loss: 4.5668 - acc: 0.71 - ETA: 41s - loss: 4.7548 - acc: 0.70 - ETA: 39s - loss: 4.7622 - acc: 0.70 - ETA: 38s - loss: 4.6340 - acc: 0.71 - ETA: 37s - loss: 4.7114 - acc: 0.70 - ETA: 36s - loss: 4.7203 - acc: 0.70 - ETA: 35s - loss: 4.7817 - acc: 0.70 - ETA: 35s - loss: 4.8858 - acc: 0.69 - ETA: 34s - loss: 4.9302 - acc: 0.69 - ETA: 33s - loss: 4.9250 - acc: 0.69 - ETA: 33s - loss: 4.8354 - acc: 0.70 - ETA: 32s - loss: 4.9160 - acc: 0.69 - ETA: 31s - loss: 4.7971 - acc: 0.70 - ETA: 31s - loss: 4.8721 - acc: 0.69 - ETA: 30s - loss: 4.8354 - acc: 0.70 - ETA: 30s - loss: 4.8354 - acc: 0.70 - ETA: 29s - loss: 4.8032 - acc: 0.70 - ETA: 29s - loss: 4.8044 - acc: 0.70 - ETA: 28s - loss: 4.8354 - acc: 0.70 - ETA: 28s - loss: 4.8642 - acc: 0.69 - ETA: 27s - loss: 4.9188 - acc: 0.69 - ETA: 27s - loss: 4.8354 - acc: 0.70 - ETA: 26s - loss: 4.9394 - acc: 0.69 - ETA: 26s - loss: 4.8858 - acc: 0.69 - ETA: 25s - loss: 4.8843 - acc: 0.69 - ETA: 25s - loss: 4.9776 - acc: 0.69 - ETA: 25s - loss: 5.0196 - acc: 0.68 - ETA: 24s - loss: 5.0369 - acc: 0.68 - ETA: 24s - loss: 4.9443 - acc: 0.69 - ETA: 23s - loss: 4.9203 - acc: 0.69 - ETA: 23s - loss: 4.9594 - acc: 0.69 - ETA: 22s - loss: 4.9563 - acc: 0.69 - ETA: 22s - loss: 4.9927 - acc: 0.69 - ETA: 22s - loss: 5.0081 - acc: 0.68 - ETA: 21s - loss: 5.0041 - acc: 0.68 - ETA: 21s - loss: 5.0369 - acc: 0.68 - ETA: 20s - loss: 5.0145 - acc: 0.68 - ETA: 20s - loss: 5.0281 - acc: 0.68 - ETA: 20s - loss: 5.0412 - acc: 0.68 - ETA: 19s - loss: 5.0705 - acc: 0.68 - ETA: 19s - loss: 5.0986 - acc: 0.68 - ETA: 18s - loss: 5.0611 - acc: 0.68 - ETA: 18s - loss: 5.0251 - acc: 0.68 - ETA: 18s - loss: 5.0679 - acc: 0.68 - ETA: 17s - loss: 5.0939 - acc: 0.68 - ETA: 17s - loss: 5.1638 - acc: 0.67 - ETA: 16s - loss: 5.1431 - acc: 0.68 - ETA: 16s - loss: 5.2096 - acc: 0.67 - ETA: 16s - loss: 5.2313 - acc: 0.67 - ETA: 15s - loss: 5.1967 - acc: 0.67 - ETA: 15s - loss: 5.1906 - acc: 0.67 - ETA: 14s - loss: 5.1847 - acc: 0.67 - ETA: 14s - loss: 5.1261 - acc: 0.68 - ETA: 14s - loss: 5.1214 - acc: 0.68 - ETA: 13s - loss: 5.1041 - acc: 0.68 - ETA: 13s - loss: 5.0873 - acc: 0.68 - ETA: 13s - loss: 5.1330 - acc: 0.68 - ETA: 12s - loss: 5.1651 - acc: 0.67 - ETA: 12s - loss: 5.1361 - acc: 0.68 - ETA: 11s - loss: 5.1317 - acc: 0.68 - ETA: 11s - loss: 5.1391 - acc: 0.68 - ETA: 11s - loss: 5.1693 - acc: 0.67 - ETA: 10s - loss: 5.1305 - acc: 0.68 - ETA: 10s - loss: 5.1264 - acc: 0.68 - ETA: 10s - loss: 5.1114 - acc: 0.68 - ETA: 9s - loss: 5.1404 - acc: 0.6811 - ETA: 9s - loss: 5.1256 - acc: 0.682 - ETA: 8s - loss: 5.1429 - acc: 0.680 - ETA: 8s - loss: 5.1390 - acc: 0.681 - ETA: 8s - loss: 5.1247 - acc: 0.682 - ETA: 7s - loss: 5.1517 - acc: 0.680 - ETA: 7s - loss: 5.1376 - acc: 0.681 - ETA: 7s - loss: 5.1339 - acc: 0.681 - ETA: 6s - loss: 5.1598 - acc: 0.679 - ETA: 6s - loss: 5.1558 - acc: 0.680 - ETA: 6s - loss: 5.1233 - acc: 0.682 - ETA: 5s - loss: 5.1199 - acc: 0.682 - ETA: 5s - loss: 5.1166 - acc: 0.682 - ETA: 4s - loss: 5.1133 - acc: 0.682 - ETA: 4s - loss: 5.1010 - acc: 0.683 - ETA: 4s - loss: 5.1161 - acc: 0.682 - ETA: 3s - loss: 5.1309 - acc: 0.681 - ETA: 3s - loss: 5.1542 - acc: 0.680 - ETA: 3s - loss: 5.1333 - acc: 0.681 - ETA: 2s - loss: 5.1647 - acc: 0.679 - ETA: 2s - loss: 5.1869 - acc: 0.678 - ETA: 1s - loss: 5.1663 - acc: 0.679 - ETA: 1s - loss: 5.1460 - acc: 0.680 - ETA: 1s - loss: 5.1013 - acc: 0.683 - ETA: 0s - loss: 5.1233 - acc: 0.682 - ETA: 0s - loss: 5.0959 - acc: 0.6838Epoch 00013: val_loss did not improve\n",
      "100/100 [==============================] - 39s - loss: 5.0611 - acc: 0.6860 - val_loss: 7.8111 - val_acc: 0.5154\n",
      "Epoch 15/20\n",
      " 18/100 [====>.........................] - ETA: 35s - loss: 4.0295 - acc: 0.75 - ETA: 35s - loss: 4.0295 - acc: 0.75 - ETA: 34s - loss: 4.0295 - acc: 0.75 - ETA: 34s - loss: 3.8280 - acc: 0.76 - ETA: 33s - loss: 3.8683 - acc: 0.76 - ETA: 33s - loss: 3.8952 - acc: 0.75 - ETA: 33s - loss: 4.0295 - acc: 0.75 - ETA: 32s - loss: 4.2310 - acc: 0.73 - ETA: 32s - loss: 4.3877 - acc: 0.72 - ETA: 32s - loss: 4.3519 - acc: 0.73 - ETA: 31s - loss: 4.6889 - acc: 0.70 - ETA: 31s - loss: 4.7011 - acc: 0.70 - ETA: 31s - loss: 4.7114 - acc: 0.70 - ETA: 30s - loss: 4.8930 - acc: 0.69 - ETA: 30s - loss: 4.8892 - acc: 0.69 - ETA: 30s - loss: 4.8354 - acc: 0.70 - ETA: 29s - loss: 4.7880 - acc: 0.70 - ETA: 29s - loss: 4.7011 - acc: 0.7083"
     ]
    },
    {
     "ename": "KeyboardInterrupt",
     "evalue": "",
     "output_type": "error",
     "traceback": [
      "\u001b[1;31m---------------------------------------------------------------------------\u001b[0m",
      "\u001b[1;31mKeyboardInterrupt\u001b[0m                         Traceback (most recent call last)",
      "\u001b[1;32m<ipython-input-17-f88b86d09a91>\u001b[0m in \u001b[0;36m<module>\u001b[1;34m()\u001b[0m\n\u001b[0;32m      8\u001b[0m                     \u001b[0mepochs\u001b[0m\u001b[1;33m=\u001b[0m\u001b[0mepochs\u001b[0m\u001b[1;33m,\u001b[0m \u001b[0mverbose\u001b[0m\u001b[1;33m=\u001b[0m\u001b[1;36m1\u001b[0m\u001b[1;33m,\u001b[0m \u001b[0mcallbacks\u001b[0m\u001b[1;33m=\u001b[0m\u001b[1;33m[\u001b[0m\u001b[0mcheckpointer\u001b[0m\u001b[1;33m]\u001b[0m\u001b[1;33m,\u001b[0m\u001b[1;33m\u001b[0m\u001b[0m\n\u001b[0;32m      9\u001b[0m                     \u001b[0mvalidation_data\u001b[0m\u001b[1;33m=\u001b[0m\u001b[0mdatagen_valid\u001b[0m\u001b[1;33m.\u001b[0m\u001b[0mflow\u001b[0m\u001b[1;33m(\u001b[0m\u001b[0mvalid_tensors\u001b[0m\u001b[1;33m,\u001b[0m \u001b[0mvalid_labels\u001b[0m\u001b[1;33m,\u001b[0m \u001b[0mbatch_size\u001b[0m\u001b[1;33m=\u001b[0m\u001b[1;36m20\u001b[0m\u001b[1;33m)\u001b[0m\u001b[1;33m,\u001b[0m\u001b[1;33m\u001b[0m\u001b[0m\n\u001b[1;32m---> 10\u001b[1;33m                     validation_steps=valid_tensors.shape[0] // 20)\n\u001b[0m",
      "\u001b[1;32mC:\\ProgramData\\Anaconda3\\envs\\DLND_L2\\lib\\site-packages\\keras\\legacy\\interfaces.py\u001b[0m in \u001b[0;36mwrapper\u001b[1;34m(*args, **kwargs)\u001b[0m\n\u001b[0;32m     85\u001b[0m                 warnings.warn('Update your `' + object_name +\n\u001b[0;32m     86\u001b[0m                               '` call to the Keras 2 API: ' + signature, stacklevel=2)\n\u001b[1;32m---> 87\u001b[1;33m             \u001b[1;32mreturn\u001b[0m \u001b[0mfunc\u001b[0m\u001b[1;33m(\u001b[0m\u001b[1;33m*\u001b[0m\u001b[0margs\u001b[0m\u001b[1;33m,\u001b[0m \u001b[1;33m**\u001b[0m\u001b[0mkwargs\u001b[0m\u001b[1;33m)\u001b[0m\u001b[1;33m\u001b[0m\u001b[0m\n\u001b[0m\u001b[0;32m     88\u001b[0m         \u001b[0mwrapper\u001b[0m\u001b[1;33m.\u001b[0m\u001b[0m_original_function\u001b[0m \u001b[1;33m=\u001b[0m \u001b[0mfunc\u001b[0m\u001b[1;33m\u001b[0m\u001b[0m\n\u001b[0;32m     89\u001b[0m         \u001b[1;32mreturn\u001b[0m \u001b[0mwrapper\u001b[0m\u001b[1;33m\u001b[0m\u001b[0m\n",
      "\u001b[1;32mC:\\ProgramData\\Anaconda3\\envs\\DLND_L2\\lib\\site-packages\\keras\\models.py\u001b[0m in \u001b[0;36mfit_generator\u001b[1;34m(self, generator, steps_per_epoch, epochs, verbose, callbacks, validation_data, validation_steps, class_weight, max_queue_size, workers, use_multiprocessing, initial_epoch)\u001b[0m\n\u001b[0;32m   1119\u001b[0m                                         \u001b[0mworkers\u001b[0m\u001b[1;33m=\u001b[0m\u001b[0mworkers\u001b[0m\u001b[1;33m,\u001b[0m\u001b[1;33m\u001b[0m\u001b[0m\n\u001b[0;32m   1120\u001b[0m                                         \u001b[0muse_multiprocessing\u001b[0m\u001b[1;33m=\u001b[0m\u001b[0muse_multiprocessing\u001b[0m\u001b[1;33m,\u001b[0m\u001b[1;33m\u001b[0m\u001b[0m\n\u001b[1;32m-> 1121\u001b[1;33m                                         initial_epoch=initial_epoch)\n\u001b[0m\u001b[0;32m   1122\u001b[0m \u001b[1;33m\u001b[0m\u001b[0m\n\u001b[0;32m   1123\u001b[0m     \u001b[1;33m@\u001b[0m\u001b[0minterfaces\u001b[0m\u001b[1;33m.\u001b[0m\u001b[0mlegacy_generator_methods_support\u001b[0m\u001b[1;33m\u001b[0m\u001b[0m\n",
      "\u001b[1;32mC:\\ProgramData\\Anaconda3\\envs\\DLND_L2\\lib\\site-packages\\keras\\legacy\\interfaces.py\u001b[0m in \u001b[0;36mwrapper\u001b[1;34m(*args, **kwargs)\u001b[0m\n\u001b[0;32m     85\u001b[0m                 warnings.warn('Update your `' + object_name +\n\u001b[0;32m     86\u001b[0m                               '` call to the Keras 2 API: ' + signature, stacklevel=2)\n\u001b[1;32m---> 87\u001b[1;33m             \u001b[1;32mreturn\u001b[0m \u001b[0mfunc\u001b[0m\u001b[1;33m(\u001b[0m\u001b[1;33m*\u001b[0m\u001b[0margs\u001b[0m\u001b[1;33m,\u001b[0m \u001b[1;33m**\u001b[0m\u001b[0mkwargs\u001b[0m\u001b[1;33m)\u001b[0m\u001b[1;33m\u001b[0m\u001b[0m\n\u001b[0m\u001b[0;32m     88\u001b[0m         \u001b[0mwrapper\u001b[0m\u001b[1;33m.\u001b[0m\u001b[0m_original_function\u001b[0m \u001b[1;33m=\u001b[0m \u001b[0mfunc\u001b[0m\u001b[1;33m\u001b[0m\u001b[0m\n\u001b[0;32m     89\u001b[0m         \u001b[1;32mreturn\u001b[0m \u001b[0mwrapper\u001b[0m\u001b[1;33m\u001b[0m\u001b[0m\n",
      "\u001b[1;32mC:\\ProgramData\\Anaconda3\\envs\\DLND_L2\\lib\\site-packages\\keras\\engine\\training.py\u001b[0m in \u001b[0;36mfit_generator\u001b[1;34m(self, generator, steps_per_epoch, epochs, verbose, callbacks, validation_data, validation_steps, class_weight, max_queue_size, workers, use_multiprocessing, shuffle, initial_epoch)\u001b[0m\n\u001b[0;32m   2040\u001b[0m                     outs = self.train_on_batch(x, y,\n\u001b[0;32m   2041\u001b[0m                                                \u001b[0msample_weight\u001b[0m\u001b[1;33m=\u001b[0m\u001b[0msample_weight\u001b[0m\u001b[1;33m,\u001b[0m\u001b[1;33m\u001b[0m\u001b[0m\n\u001b[1;32m-> 2042\u001b[1;33m                                                class_weight=class_weight)\n\u001b[0m\u001b[0;32m   2043\u001b[0m \u001b[1;33m\u001b[0m\u001b[0m\n\u001b[0;32m   2044\u001b[0m                     \u001b[1;32mif\u001b[0m \u001b[1;32mnot\u001b[0m \u001b[0misinstance\u001b[0m\u001b[1;33m(\u001b[0m\u001b[0mouts\u001b[0m\u001b[1;33m,\u001b[0m \u001b[0mlist\u001b[0m\u001b[1;33m)\u001b[0m\u001b[1;33m:\u001b[0m\u001b[1;33m\u001b[0m\u001b[0m\n",
      "\u001b[1;32mC:\\ProgramData\\Anaconda3\\envs\\DLND_L2\\lib\\site-packages\\keras\\engine\\training.py\u001b[0m in \u001b[0;36mtrain_on_batch\u001b[1;34m(self, x, y, sample_weight, class_weight)\u001b[0m\n\u001b[0;32m   1760\u001b[0m             \u001b[0mins\u001b[0m \u001b[1;33m=\u001b[0m \u001b[0mx\u001b[0m \u001b[1;33m+\u001b[0m \u001b[0my\u001b[0m \u001b[1;33m+\u001b[0m \u001b[0msample_weights\u001b[0m\u001b[1;33m\u001b[0m\u001b[0m\n\u001b[0;32m   1761\u001b[0m         \u001b[0mself\u001b[0m\u001b[1;33m.\u001b[0m\u001b[0m_make_train_function\u001b[0m\u001b[1;33m(\u001b[0m\u001b[1;33m)\u001b[0m\u001b[1;33m\u001b[0m\u001b[0m\n\u001b[1;32m-> 1762\u001b[1;33m         \u001b[0moutputs\u001b[0m \u001b[1;33m=\u001b[0m \u001b[0mself\u001b[0m\u001b[1;33m.\u001b[0m\u001b[0mtrain_function\u001b[0m\u001b[1;33m(\u001b[0m\u001b[0mins\u001b[0m\u001b[1;33m)\u001b[0m\u001b[1;33m\u001b[0m\u001b[0m\n\u001b[0m\u001b[0;32m   1763\u001b[0m         \u001b[1;32mif\u001b[0m \u001b[0mlen\u001b[0m\u001b[1;33m(\u001b[0m\u001b[0moutputs\u001b[0m\u001b[1;33m)\u001b[0m \u001b[1;33m==\u001b[0m \u001b[1;36m1\u001b[0m\u001b[1;33m:\u001b[0m\u001b[1;33m\u001b[0m\u001b[0m\n\u001b[0;32m   1764\u001b[0m             \u001b[1;32mreturn\u001b[0m \u001b[0moutputs\u001b[0m\u001b[1;33m[\u001b[0m\u001b[1;36m0\u001b[0m\u001b[1;33m]\u001b[0m\u001b[1;33m\u001b[0m\u001b[0m\n",
      "\u001b[1;32mC:\\ProgramData\\Anaconda3\\envs\\DLND_L2\\lib\\site-packages\\keras\\backend\\tensorflow_backend.py\u001b[0m in \u001b[0;36m__call__\u001b[1;34m(self, inputs)\u001b[0m\n\u001b[0;32m   2271\u001b[0m         updated = session.run(self.outputs + [self.updates_op],\n\u001b[0;32m   2272\u001b[0m                               \u001b[0mfeed_dict\u001b[0m\u001b[1;33m=\u001b[0m\u001b[0mfeed_dict\u001b[0m\u001b[1;33m,\u001b[0m\u001b[1;33m\u001b[0m\u001b[0m\n\u001b[1;32m-> 2273\u001b[1;33m                               **self.session_kwargs)\n\u001b[0m\u001b[0;32m   2274\u001b[0m         \u001b[1;32mreturn\u001b[0m \u001b[0mupdated\u001b[0m\u001b[1;33m[\u001b[0m\u001b[1;33m:\u001b[0m\u001b[0mlen\u001b[0m\u001b[1;33m(\u001b[0m\u001b[0mself\u001b[0m\u001b[1;33m.\u001b[0m\u001b[0moutputs\u001b[0m\u001b[1;33m)\u001b[0m\u001b[1;33m]\u001b[0m\u001b[1;33m\u001b[0m\u001b[0m\n\u001b[0;32m   2275\u001b[0m \u001b[1;33m\u001b[0m\u001b[0m\n",
      "\u001b[1;32mC:\\ProgramData\\Anaconda3\\envs\\DLND_L2\\lib\\site-packages\\tensorflow\\python\\client\\session.py\u001b[0m in \u001b[0;36mrun\u001b[1;34m(self, fetches, feed_dict, options, run_metadata)\u001b[0m\n\u001b[0;32m    776\u001b[0m     \u001b[1;32mtry\u001b[0m\u001b[1;33m:\u001b[0m\u001b[1;33m\u001b[0m\u001b[0m\n\u001b[0;32m    777\u001b[0m       result = self._run(None, fetches, feed_dict, options_ptr,\n\u001b[1;32m--> 778\u001b[1;33m                          run_metadata_ptr)\n\u001b[0m\u001b[0;32m    779\u001b[0m       \u001b[1;32mif\u001b[0m \u001b[0mrun_metadata\u001b[0m\u001b[1;33m:\u001b[0m\u001b[1;33m\u001b[0m\u001b[0m\n\u001b[0;32m    780\u001b[0m         \u001b[0mproto_data\u001b[0m \u001b[1;33m=\u001b[0m \u001b[0mtf_session\u001b[0m\u001b[1;33m.\u001b[0m\u001b[0mTF_GetBuffer\u001b[0m\u001b[1;33m(\u001b[0m\u001b[0mrun_metadata_ptr\u001b[0m\u001b[1;33m)\u001b[0m\u001b[1;33m\u001b[0m\u001b[0m\n",
      "\u001b[1;32mC:\\ProgramData\\Anaconda3\\envs\\DLND_L2\\lib\\site-packages\\tensorflow\\python\\client\\session.py\u001b[0m in \u001b[0;36m_run\u001b[1;34m(self, handle, fetches, feed_dict, options, run_metadata)\u001b[0m\n\u001b[0;32m    980\u001b[0m     \u001b[1;32mif\u001b[0m \u001b[0mfinal_fetches\u001b[0m \u001b[1;32mor\u001b[0m \u001b[0mfinal_targets\u001b[0m\u001b[1;33m:\u001b[0m\u001b[1;33m\u001b[0m\u001b[0m\n\u001b[0;32m    981\u001b[0m       results = self._do_run(handle, final_targets, final_fetches,\n\u001b[1;32m--> 982\u001b[1;33m                              feed_dict_string, options, run_metadata)\n\u001b[0m\u001b[0;32m    983\u001b[0m     \u001b[1;32melse\u001b[0m\u001b[1;33m:\u001b[0m\u001b[1;33m\u001b[0m\u001b[0m\n\u001b[0;32m    984\u001b[0m       \u001b[0mresults\u001b[0m \u001b[1;33m=\u001b[0m \u001b[1;33m[\u001b[0m\u001b[1;33m]\u001b[0m\u001b[1;33m\u001b[0m\u001b[0m\n",
      "\u001b[1;32mC:\\ProgramData\\Anaconda3\\envs\\DLND_L2\\lib\\site-packages\\tensorflow\\python\\client\\session.py\u001b[0m in \u001b[0;36m_do_run\u001b[1;34m(self, handle, target_list, fetch_list, feed_dict, options, run_metadata)\u001b[0m\n\u001b[0;32m   1030\u001b[0m     \u001b[1;32mif\u001b[0m \u001b[0mhandle\u001b[0m \u001b[1;32mis\u001b[0m \u001b[1;32mNone\u001b[0m\u001b[1;33m:\u001b[0m\u001b[1;33m\u001b[0m\u001b[0m\n\u001b[0;32m   1031\u001b[0m       return self._do_call(_run_fn, self._session, feed_dict, fetch_list,\n\u001b[1;32m-> 1032\u001b[1;33m                            target_list, options, run_metadata)\n\u001b[0m\u001b[0;32m   1033\u001b[0m     \u001b[1;32melse\u001b[0m\u001b[1;33m:\u001b[0m\u001b[1;33m\u001b[0m\u001b[0m\n\u001b[0;32m   1034\u001b[0m       return self._do_call(_prun_fn, self._session, handle, feed_dict,\n",
      "\u001b[1;32mC:\\ProgramData\\Anaconda3\\envs\\DLND_L2\\lib\\site-packages\\tensorflow\\python\\client\\session.py\u001b[0m in \u001b[0;36m_do_call\u001b[1;34m(self, fn, *args)\u001b[0m\n\u001b[0;32m   1037\u001b[0m   \u001b[1;32mdef\u001b[0m \u001b[0m_do_call\u001b[0m\u001b[1;33m(\u001b[0m\u001b[0mself\u001b[0m\u001b[1;33m,\u001b[0m \u001b[0mfn\u001b[0m\u001b[1;33m,\u001b[0m \u001b[1;33m*\u001b[0m\u001b[0margs\u001b[0m\u001b[1;33m)\u001b[0m\u001b[1;33m:\u001b[0m\u001b[1;33m\u001b[0m\u001b[0m\n\u001b[0;32m   1038\u001b[0m     \u001b[1;32mtry\u001b[0m\u001b[1;33m:\u001b[0m\u001b[1;33m\u001b[0m\u001b[0m\n\u001b[1;32m-> 1039\u001b[1;33m       \u001b[1;32mreturn\u001b[0m \u001b[0mfn\u001b[0m\u001b[1;33m(\u001b[0m\u001b[1;33m*\u001b[0m\u001b[0margs\u001b[0m\u001b[1;33m)\u001b[0m\u001b[1;33m\u001b[0m\u001b[0m\n\u001b[0m\u001b[0;32m   1040\u001b[0m     \u001b[1;32mexcept\u001b[0m \u001b[0merrors\u001b[0m\u001b[1;33m.\u001b[0m\u001b[0mOpError\u001b[0m \u001b[1;32mas\u001b[0m \u001b[0me\u001b[0m\u001b[1;33m:\u001b[0m\u001b[1;33m\u001b[0m\u001b[0m\n\u001b[0;32m   1041\u001b[0m       \u001b[0mmessage\u001b[0m \u001b[1;33m=\u001b[0m \u001b[0mcompat\u001b[0m\u001b[1;33m.\u001b[0m\u001b[0mas_text\u001b[0m\u001b[1;33m(\u001b[0m\u001b[0me\u001b[0m\u001b[1;33m.\u001b[0m\u001b[0mmessage\u001b[0m\u001b[1;33m)\u001b[0m\u001b[1;33m\u001b[0m\u001b[0m\n",
      "\u001b[1;32mC:\\ProgramData\\Anaconda3\\envs\\DLND_L2\\lib\\site-packages\\tensorflow\\python\\client\\session.py\u001b[0m in \u001b[0;36m_run_fn\u001b[1;34m(session, feed_dict, fetch_list, target_list, options, run_metadata)\u001b[0m\n\u001b[0;32m   1019\u001b[0m         return tf_session.TF_Run(session, options,\n\u001b[0;32m   1020\u001b[0m                                  \u001b[0mfeed_dict\u001b[0m\u001b[1;33m,\u001b[0m \u001b[0mfetch_list\u001b[0m\u001b[1;33m,\u001b[0m \u001b[0mtarget_list\u001b[0m\u001b[1;33m,\u001b[0m\u001b[1;33m\u001b[0m\u001b[0m\n\u001b[1;32m-> 1021\u001b[1;33m                                  status, run_metadata)\n\u001b[0m\u001b[0;32m   1022\u001b[0m \u001b[1;33m\u001b[0m\u001b[0m\n\u001b[0;32m   1023\u001b[0m     \u001b[1;32mdef\u001b[0m \u001b[0m_prun_fn\u001b[0m\u001b[1;33m(\u001b[0m\u001b[0msession\u001b[0m\u001b[1;33m,\u001b[0m \u001b[0mhandle\u001b[0m\u001b[1;33m,\u001b[0m \u001b[0mfeed_dict\u001b[0m\u001b[1;33m,\u001b[0m \u001b[0mfetch_list\u001b[0m\u001b[1;33m)\u001b[0m\u001b[1;33m:\u001b[0m\u001b[1;33m\u001b[0m\u001b[0m\n",
      "\u001b[1;31mKeyboardInterrupt\u001b[0m: "
     ]
    }
   ],
   "source": [
    "epochs = 20\n",
    "\n",
    "checkpointer = ModelCheckpoint(filepath='saved_models/best.weights.hdf5', \n",
    "                               verbose=1, save_best_only=True)\n",
    "\n",
    "network.fit_generator(datagen_train.flow(train_tensors, train_labels, batch_size=20),\n",
    "                    steps_per_epoch=train_tensors.shape[0] // 20,\n",
    "                    epochs=epochs, verbose=1, callbacks=[checkpointer],\n",
    "                    validation_data=datagen_valid.flow(valid_tensors, valid_labels, batch_size=20),\n",
    "                    validation_steps=valid_tensors.shape[0] // 20)"
   ]
  },
  {
   "cell_type": "markdown",
   "metadata": {},
   "source": [
    "## Create output excel"
   ]
  },
  {
   "cell_type": "code",
   "execution_count": 10,
   "metadata": {
    "collapsed": true
   },
   "outputs": [],
   "source": [
    "# Load the model weights with the best validation loss.\n",
    "\n",
    "network.load_weights('saved_models/best.weights.hdf5')"
   ]
  },
  {
   "cell_type": "code",
   "execution_count": 15,
   "metadata": {},
   "outputs": [
    {
     "name": "stderr",
     "output_type": "stream",
     "text": [
      "100%|████████████████████████████████████████████████████████████████████████████████| 600/600 [02:10<00:00,  4.55it/s]\n"
     ]
    }
   ],
   "source": [
    "import pandas as pd\n",
    "\n",
    "y_pred = pd.DataFrame(columns=[\"task_1\", \"task_2\"])\n",
    "\n",
    "for ii in tqdm(range(len(test_files))):\n",
    "    path = test_files[ii]\n",
    "    prediction = np.argmax(network.predict(np.expand_dims(test_tensors[ii], axis=0)))\n",
    "    if prediction == 0:\n",
    "        y_pred.loc[path] = [1, 0]\n",
    "    if prediction == 2:\n",
    "        y_pred.loc[path] = [0, 1]\n",
    "    else:\n",
    "        y_pred.loc[path] = [0, 0]\n",
    "\n",
    "y_pred.to_csv(\"predictions.csv\")"
   ]
  },
  {
   "cell_type": "markdown",
   "metadata": {
    "collapsed": true
   },
   "source": [
    "## Code playground to be deleted later"
   ]
  },
  {
   "cell_type": "code",
   "execution_count": 16,
   "metadata": {
    "collapsed": true
   },
   "outputs": [],
   "source": [
    "import itertools\n",
    "import keras\n",
    "import matplotlib.pyplot as plt\n",
    "import sys\n",
    "from sklearn.metrics import roc_curve, auc, confusion_matrix\n",
    "from keras.preprocessing.image import ImageDataGenerator\n",
    "\n",
    "def plot_roc_auc(y_true, y_pred):\n",
    "    \"\"\"\n",
    "    This function plots the ROC curves and provides the scores.\n",
    "    \"\"\"\n",
    "\n",
    "    # initialize dictionaries and array\n",
    "    fpr = dict()\n",
    "    tpr = dict()\n",
    "    roc_auc = np.zeros(3)\n",
    "    \n",
    "    # prepare for figure\n",
    "    plt.figure()\n",
    "    colors = ['aqua', 'cornflowerblue']\n",
    "\n",
    "    # for both classification tasks (categories 1 and 2)\n",
    "    for i in range(2):\n",
    "        # obtain ROC curve\n",
    "        fpr[i], tpr[i], _ = roc_curve(y_true[:,i], y_pred[:,i])\n",
    "        # obtain ROC AUC\n",
    "        roc_auc[i] = auc(fpr[i], tpr[i])\n",
    "        # plot ROC curve\n",
    "        plt.plot(fpr[i], tpr[i], color=colors[i], lw=2,\n",
    "                 label='ROC curve for task {d} (area = {f:.2f})'.format(d=i+1, f=roc_auc[i]))\n",
    "    # get score for category 3\n",
    "    roc_auc[2] = np.average(roc_auc[:2])\n",
    "    \n",
    "    # format figure\n",
    "    plt.plot([0, 1], [0, 1], 'k--', lw=2)\n",
    "    plt.xlim([0.0, 1.0])\n",
    "    plt.ylim([0.0, 1.05])\n",
    "    plt.xlabel('False Positive Rate')\n",
    "    plt.ylabel('True Positive Rate')\n",
    "    plt.title('ROC curves')\n",
    "    plt.legend(loc=\"lower right\")\n",
    "    plt.show()\n",
    "    \n",
    "    # print scores\n",
    "    for i in range(3):\n",
    "        print('Category {d} Score: {f:.3f}'. format(d=i+1, f=roc_auc[i]))\n",
    "\n",
    "def plot_confusion_matrix(y_true, y_pred, thresh, classes):\n",
    "    \"\"\"\n",
    "    This function plots the (normalized) confusion matrix.\n",
    "    \"\"\"\n",
    "\n",
    "    # obtain class predictions from probabilities\n",
    "    y_pred = (y_pred>=thresh)*1\n",
    "    # obtain (unnormalized) confusion matrix\n",
    "    cm = confusion_matrix(y_true, y_pred)\n",
    "    # normalize confusion matrix\n",
    "    cm = cm.astype('float') / cm.sum(axis=1)[:, np.newaxis]\n",
    "    \n",
    "    plt.figure()\n",
    "    plt.imshow(cm, interpolation='nearest', cmap=plt.cm.Blues)\n",
    "    plt.title('Confusion matrix')\n",
    "    plt.colorbar()\n",
    "    tick_marks = np.arange(len(classes))\n",
    "    plt.xticks(tick_marks, classes, rotation=45)\n",
    "    plt.yticks(tick_marks, classes)\n",
    "\n",
    "    thresh = cm.max() / 2.\n",
    "    for i, j in itertools.product(range(cm.shape[0]), range(cm.shape[1])):\n",
    "        plt.text(j, i, format(cm[i, j], '.2f'),\n",
    "                 horizontalalignment=\"center\",\n",
    "                 color=\"white\" if cm[i, j] > thresh else \"black\")\n",
    "\n",
    "    plt.tight_layout()\n",
    "    plt.ylabel('True label')\n",
    "    plt.xlabel('Predicted label')\n",
    "    plt.show()"
   ]
  },
  {
   "cell_type": "code",
   "execution_count": 19,
   "metadata": {},
   "outputs": [
    {
     "data": {
      "image/png": "[encoded data removed]",
      "text/plain": [
       "<matplotlib.figure.Figure at 0x2a070ffe358>"
      ]
     },
     "metadata": {},
     "output_type": "display_data"
    },
    {
     "name": "stdout",
     "output_type": "stream",
     "text": [
      "Category 1 Score: 0.500\n",
      "Category 2 Score: 0.500\n",
      "Category 3 Score: 0.500\n"
     ]
    },
    {
     "data": {
      "image/png": "[encoded data removed]",
      "text/plain": [
       "<matplotlib.figure.Figure at 0x2a056bbea20>"
      ]
     },
     "metadata": {},
     "output_type": "display_data"
    }
   ],
   "source": [
    "preds_path = sys.argv[1]\n",
    "thresh = 0.5\n",
    "\n",
    "# get ground truth labels for test dataset\n",
    "truth = pd.read_csv('ground_truth.csv')\n",
    "y_true = truth.as_matrix(columns=[\"task_1\", \"task_2\"])\n",
    "\n",
    "# get model predictions for test dataset\n",
    "y_pred = pd.read_csv(\"predictions.csv\")\n",
    "y_pred = y_pred.as_matrix(columns=[\"task_1\", \"task_2\"])\n",
    "\n",
    "# plot ROC curves and print scores\n",
    "plot_roc_auc(y_true, y_pred)\n",
    "# plot confusion matrix\n",
    "classes = ['benign', 'malignant']\n",
    "plot_confusion_matrix(y_true[:,0], y_pred[:,0], thresh, classes)\n"
   ]
  },
  {
   "cell_type": "code",
   "execution_count": null,
   "metadata": {
    "collapsed": true
   },
   "outputs": [],
   "source": []
  }
 ],
 "metadata": {
  "kernelspec": {
   "display_name": "Python 3",
   "language": "python",
   "name": "python3"
  },
  "language_info": {
   "codemirror_mode": {
    "name": "ipython",
    "version": 3
   },
   "file_extension": ".py",
   "mimetype": "text/x-python",
   "name": "python",
   "nbconvert_exporter": "python",
   "pygments_lexer": "ipython3",
   "version": "3.6.2"
  }
 },
 "nbformat": 4,
 "nbformat_minor": 2
}
