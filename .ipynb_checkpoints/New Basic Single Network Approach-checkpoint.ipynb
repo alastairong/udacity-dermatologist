{
 "cells": [
  {
   "cell_type": "markdown",
   "metadata": {},
   "source": [
    "# Dermatologist-AI Project: Single Network Approach\n",
    "Workbook for a single network approach that classifies images into melanomas, nevus, or SBK"
   ]
  },
  {
   "cell_type": "markdown",
   "metadata": {},
   "source": [
    "### Set up and process data"
   ]
  },
  {
   "cell_type": "code",
   "execution_count": 1,
   "metadata": {},
   "outputs": [
    {
     "name": "stderr",
     "output_type": "stream",
     "text": [
      "Using TensorFlow backend.\n"
     ]
    }
   ],
   "source": [
    "from sklearn.datasets import load_files       \n",
    "from keras.utils import np_utils\n",
    "import numpy as np\n",
    "from glob import glob\n",
    "from keras.preprocessing import image                  \n",
    "from keras.applications.vgg19 import preprocess_input\n",
    "from tqdm import tqdm\n",
    "from PIL import ImageFile                            \n",
    "import os\n",
    "import pickle\n",
    "ImageFile.LOAD_TRUNCATED_IMAGES = True      \n",
    "\n",
    "\n",
    "# define function to load train, test, and validation datasets\n",
    "def load_dataset(path, shuffle):\n",
    "    data = load_files(path, shuffle=shuffle)\n",
    "    file_paths = np.array(data['filenames'])\n",
    "    one_hot_labels = np_utils.to_categorical(np.array(data['target']),3)\n",
    "    return file_paths, one_hot_labels\n",
    "\n",
    "# define functions to convert images into 4D tensors for convnets\n",
    "def path_to_tensor(img_path):\n",
    "    # loads RGB image as PIL.Image.Image type\n",
    "    img = image.load_img(img_path, target_size=(224, 224))\n",
    "    # convert PIL.Image.Image type to 3D tensor with shape (224, 224, 3)\n",
    "    x = image.img_to_array(img)\n",
    "    x = preprocess_input(x)\n",
    "    # convert 3D tensor to 4D tensor with shape (1, 224, 224, 3) and return 4D tensor\n",
    "    return np.expand_dims(x, axis=0)\n",
    "\n",
    "def paths_to_tensor(img_paths):\n",
    "    list_of_tensors = [path_to_tensor(img_path) for img_path in tqdm(img_paths)]\n",
    "    return np.vstack(list_of_tensors) \n",
    "\n",
    "# define function to decide whether to load tensors from a saved pickle or raw images\n",
    "def load_tensors_and_labels(pickle_file, raw_file_path, shuffle, force=False):\n",
    "    pickle_file = os.path.join('.', pickle_file)\n",
    " \n",
    "    if force or not os.path.exists(pickle_file):\n",
    "        files, labels = load_dataset(raw_file_path, shuffle)\n",
    "        tensors = paths_to_tensor(files).astype('float32')/255\n",
    "        with open(pickle_file, 'wb') as handle:\n",
    "            pickle.dump([tensors, labels], handle, protocol=pickle.HIGHEST_PROTOCOL)\n",
    "        return tensors, labels\n",
    "\n",
    "    else:        \n",
    "        with open(pickle_file, 'rb') as handle:\n",
    "            tensors, labels = pickle.load(handle)        \n",
    "        return tensors, labels\n",
    "    "
   ]
  },
  {
   "cell_type": "code",
   "execution_count": 2,
   "metadata": {},
   "outputs": [
    {
     "name": "stderr",
     "output_type": "stream",
     "text": [
      "100%|██████████████████████████████████████████████████████████████████████████████| 2000/2000 [03:53<00:00,  8.57it/s]\n",
      "100%|████████████████████████████████████████████████████████████████████████████████| 150/150 [00:33<00:00,  4.46it/s]\n",
      "100%|████████████████████████████████████████████████████████████████████████████████| 600/600 [03:19<00:00, 11.11it/s]\n"
     ]
    }
   ],
   "source": [
    "# Load data\n",
    "\n",
    "train_tensors, train_labels = load_tensors_and_labels('train_data.pickle','../data/train', True)\n",
    "valid_tensors, valid_labels = load_tensors_and_labels('valid_data.pickle','../data/valid', True)\n",
    "test_tensors, test_labels = load_tensors_and_labels('test_data.pickle','../data/test', False)\n",
    "\n",
    "# load list of skin condition names\n",
    "skin_names = [item[14:-1] for item in sorted(glob(\"../data/train/*/\"))]\n"
   ]
  },
  {
   "cell_type": "markdown",
   "metadata": {},
   "source": [
    "Network based on four three layers of VGG19 followed by trainable convnet and dense layers"
   ]
  },
  {
   "cell_type": "code",
   "execution_count": 65,
   "metadata": {},
   "outputs": [
    {
     "name": "stdout",
     "output_type": "stream",
     "text": [
      "_________________________________________________________________\n",
      "Layer (type)                 Output Shape              Param #   \n",
      "=================================================================\n",
      "block1_conv1 (Conv2D)        (None, 224, 224, 64)      1792      \n",
      "_________________________________________________________________\n",
      "block1_conv2 (Conv2D)        (None, 224, 224, 64)      36928     \n",
      "_________________________________________________________________\n",
      "block1_pool (MaxPooling2D)   (None, 112, 112, 64)      0         \n",
      "_________________________________________________________________\n",
      "block2_conv1 (Conv2D)        (None, 112, 112, 128)     73856     \n",
      "_________________________________________________________________\n",
      "block2_conv2 (Conv2D)        (None, 112, 112, 128)     147584    \n",
      "_________________________________________________________________\n",
      "block2_pool (MaxPooling2D)   (None, 56, 56, 128)       0         \n",
      "_________________________________________________________________\n",
      "block3_conv1 (Conv2D)        (None, 56, 56, 256)       295168    \n",
      "_________________________________________________________________\n",
      "block3_conv2 (Conv2D)        (None, 56, 56, 256)       590080    \n",
      "_________________________________________________________________\n",
      "block3_conv3 (Conv2D)        (None, 56, 56, 256)       590080    \n",
      "_________________________________________________________________\n",
      "block3_conv4 (Conv2D)        (None, 56, 56, 256)       590080    \n",
      "_________________________________________________________________\n",
      "block3_pool (MaxPooling2D)   (None, 28, 28, 256)       0         \n",
      "_________________________________________________________________\n",
      "block4_conv1 (Conv2D)        (None, 28, 28, 512)       1180160   \n",
      "_________________________________________________________________\n",
      "block4_conv2 (Conv2D)        (None, 28, 28, 512)       2359808   \n",
      "_________________________________________________________________\n",
      "block4_conv3 (Conv2D)        (None, 28, 28, 512)       2359808   \n",
      "_________________________________________________________________\n",
      "block4_conv4 (Conv2D)        (None, 28, 28, 512)       2359808   \n",
      "_________________________________________________________________\n",
      "block4_pool (MaxPooling2D)   (None, 14, 14, 512)       0         \n",
      "_________________________________________________________________\n",
      "dropout_25 (Dropout)         (None, 14, 14, 512)       0         \n",
      "_________________________________________________________________\n",
      "block5_conv1 (Conv2D)        (None, 14, 14, 512)       2359808   \n",
      "_________________________________________________________________\n",
      "block5_conv2 (Conv2D)        (None, 14, 14, 512)       2359808   \n",
      "_________________________________________________________________\n",
      "block5_pool (MaxPooling2D)   (None, 7, 7, 512)         0         \n",
      "_________________________________________________________________\n",
      "dropout_26 (Dropout)         (None, 7, 7, 512)         0         \n",
      "_________________________________________________________________\n",
      "flatten_7 (Flatten)          (None, 25088)             0         \n",
      "_________________________________________________________________\n",
      "dense_18 (Dense)             (None, 256)               6422784   \n",
      "_________________________________________________________________\n",
      "dropout_27 (Dropout)         (None, 256)               0         \n",
      "_________________________________________________________________\n",
      "dense_19 (Dense)             (None, 128)               32896     \n",
      "_________________________________________________________________\n",
      "dropout_28 (Dropout)         (None, 128)               0         \n",
      "_________________________________________________________________\n",
      "dense_20 (Dense)             (None, 3)                 387       \n",
      "=================================================================\n",
      "Total params: 21,760,835\n",
      "Trainable params: 11,175,683\n",
      "Non-trainable params: 10,585,152\n",
      "_________________________________________________________________\n"
     ]
    }
   ],
   "source": [
    "from keras.layers import Conv2D, MaxPooling2D, GlobalAveragePooling2D\n",
    "from keras.layers import Dropout, Flatten, Dense\n",
    "from keras.models import Sequential\n",
    "\n",
    "model = Sequential()\n",
    "\n",
    "#First 4 blocks of VGG19\n",
    "model.add(Conv2D(filters=64, kernel_size=3, padding='same', activation='relu', trainable=False, name='block1_conv1', \n",
    "                        input_shape=(224, 224, 3)))\n",
    "model.add(Conv2D(filters=64, kernel_size=3, padding='same', activation='relu', trainable=False, name='block1_conv2'))\n",
    "model.add(MaxPooling2D(pool_size=2, name='block1_pool'))\n",
    "model.add(Conv2D(filters=128, kernel_size=3, padding='same', activation='relu', trainable=False, name='block2_conv1'))\n",
    "model.add(Conv2D(filters=128, kernel_size=3, padding='same', activation='relu', trainable=False, name='block2_conv2'))\n",
    "model.add(MaxPooling2D(pool_size=2, name='block2_pool'))\n",
    "model.add(Conv2D(filters=256, kernel_size=3, padding='same', activation='relu', trainable=False, name='block3_conv1'))\n",
    "model.add(Conv2D(filters=256, kernel_size=3, padding='same', activation='relu', trainable=False, name='block3_conv2'))\n",
    "model.add(Conv2D(filters=256, kernel_size=3, padding='same', activation='relu', trainable=False, name='block3_conv3'))\n",
    "model.add(Conv2D(filters=256, kernel_size=3, padding='same', activation='relu', trainable=False, name='block3_conv4'))\n",
    "model.add(MaxPooling2D(pool_size=2, name='block3_pool'))\n",
    "model.add(Conv2D(filters=512, kernel_size=3, padding='same', activation='relu', trainable=False, name='block4_conv1'))\n",
    "model.add(Conv2D(filters=512, kernel_size=3, padding='same', activation='relu', trainable=False, name='block4_conv2'))\n",
    "model.add(Conv2D(filters=512, kernel_size=3, padding='same', activation='relu', trainable=False, name='block4_conv3'))\n",
    "model.add(Conv2D(filters=512, kernel_size=3, padding='same', activation='relu', trainable=False, name='block4_conv4'))\n",
    "model.add(MaxPooling2D(pool_size=2, name='block4_pool'))\n",
    "\n",
    "#First 1 trainable convnet block\n",
    "model.add(Dropout(0.2))\n",
    "model.add(Conv2D(filters=512, kernel_size=3, padding='same', activation='relu', trainable=True, name='block5_conv1'))\n",
    "model.add(Conv2D(filters=512, kernel_size=3, padding='same', activation='relu', trainable=True, name='block5_conv2'))\n",
    "model.add(MaxPooling2D(pool_size=2, name='block5_pool'))\n",
    "model.add(Dropout(0.2))\n",
    "\n",
    "#Trainable dense layers\n",
    "model.add(Flatten())\n",
    "model.add(Dense(256, activation='relu'))\n",
    "model.add(Dropout(0.2))\n",
    "model.add(Dense(128, activation='relu'))\n",
    "model.add(Dropout(0.2))\n",
    "model.add(Dense(3, activation='softmax'))\n",
    "\n",
    "model.summary()\n",
    "\n"
   ]
  },
  {
   "cell_type": "markdown",
   "metadata": {
    "collapsed": true
   },
   "source": [
    "Import and assign VGG19 weights"
   ]
  },
  {
   "cell_type": "code",
   "execution_count": 66,
   "metadata": {
    "collapsed": true
   },
   "outputs": [],
   "source": [
    "from keras import optimizers\n",
    "opt = optimizers.rmsprop(lr=0.00005, decay=1e-6)\n",
    "model.compile(optimizer=opt, loss='categorical_crossentropy', metrics=['accuracy'])"
   ]
  },
  {
   "cell_type": "code",
   "execution_count": null,
   "metadata": {},
   "outputs": [],
   "source": [
    "from keras import applications\n",
    "import h5py\n",
    "\n",
    "weights_path = 'vgg19_weights.h5'\n",
    "f = h5py.File(weights_path, 'r')\n",
    "\n",
    "VGGnet_layers = ['block1_conv1',\n",
    "                 'block1_conv2',\n",
    "                 'block2_conv1',\n",
    "                 'block2_conv2',\n",
    "                 'block3_conv1',\n",
    "                 'block3_conv2',\n",
    "                 'block3_conv3',\n",
    "                 'block3_conv4',\n",
    "                 'block4_conv1',\n",
    "                 'block4_conv2',\n",
    "                 'block4_conv3',\n",
    "                 'block4_conv4']\n",
    "layer_names = [layer.name for layer in model.layers]\n",
    "\n",
    "for i in VGGnet_layers:\n",
    "    weight_names = f[i].attrs[\"weight_names\"]    \n",
    "    weights = [f[i][j] for j in weight_names]\n",
    "    index = layer_names.index(i)\n",
    "    model.layers[index].set_weights(weights)\n"
   ]
  },
  {
   "cell_type": "code",
   "execution_count": null,
   "metadata": {},
   "outputs": [
    {
     "name": "stdout",
     "output_type": "stream",
     "text": [
      "Train on 2000 samples, validate on 150 samples\n",
      "Epoch 1/20\n",
      "1980/2000 [============================>.] - ETA: 171s - loss: 3.5028 - acc: 0.350 - ETA: 123s - loss: 2.7339 - acc: 0.575 - ETA: 106s - loss: 2.5942 - acc: 0.600 - ETA: 97s - loss: 2.5878 - acc: 0.512 - ETA: 91s - loss: 2.5962 - acc: 0.56 - ETA: 87s - loss: 3.1293 - acc: 0.54 - ETA: 84s - loss: 3.1372 - acc: 0.51 - ETA: 82s - loss: 3.0917 - acc: 0.47 - ETA: 80s - loss: 2.9872 - acc: 0.47 - ETA: 78s - loss: 2.8210 - acc: 0.48 - ETA: 77s - loss: 2.6895 - acc: 0.50 - ETA: 75s - loss: 2.5437 - acc: 0.52 - ETA: 74s - loss: 2.5052 - acc: 0.52 - ETA: 73s - loss: 2.4076 - acc: 0.52 - ETA: 71s - loss: 2.3275 - acc: 0.52 - ETA: 70s - loss: 2.2669 - acc: 0.52 - ETA: 69s - loss: 2.2277 - acc: 0.52 - ETA: 68s - loss: 2.1788 - acc: 0.52 - ETA: 67s - loss: 2.1018 - acc: 0.53 - ETA: 66s - loss: 2.0538 - acc: 0.53 - ETA: 65s - loss: 2.0531 - acc: 0.52 - ETA: 64s - loss: 2.0183 - acc: 0.52 - ETA: 63s - loss: 1.9882 - acc: 0.52 - ETA: 62s - loss: 1.9580 - acc: 0.52 - ETA: 61s - loss: 1.9095 - acc: 0.53 - ETA: 60s - loss: 1.8760 - acc: 0.53 - ETA: 59s - loss: 1.8399 - acc: 0.54 - ETA: 58s - loss: 1.8364 - acc: 0.54 - ETA: 58s - loss: 1.8138 - acc: 0.53 - ETA: 57s - loss: 1.7893 - acc: 0.53 - ETA: 56s - loss: 1.7627 - acc: 0.54 - ETA: 55s - loss: 1.7281 - acc: 0.54 - ETA: 54s - loss: 1.7173 - acc: 0.54 - ETA: 53s - loss: 1.6957 - acc: 0.54 - ETA: 52s - loss: 1.6867 - acc: 0.54 - ETA: 51s - loss: 1.6694 - acc: 0.54 - ETA: 51s - loss: 1.6546 - acc: 0.55 - ETA: 50s - loss: 1.6373 - acc: 0.55 - ETA: 49s - loss: 1.6152 - acc: 0.55 - ETA: 48s - loss: 1.6029 - acc: 0.56 - ETA: 47s - loss: 1.5974 - acc: 0.55 - ETA: 46s - loss: 1.5818 - acc: 0.55 - ETA: 45s - loss: 1.5707 - acc: 0.55 - ETA: 45s - loss: 1.5573 - acc: 0.55 - ETA: 44s - loss: 1.5361 - acc: 0.56 - ETA: 43s - loss: 1.5339 - acc: 0.55 - ETA: 42s - loss: 1.5230 - acc: 0.55 - ETA: 41s - loss: 1.5120 - acc: 0.56 - ETA: 40s - loss: 1.4976 - acc: 0.56 - ETA: 40s - loss: 1.4864 - acc: 0.56 - ETA: 39s - loss: 1.4763 - acc: 0.56 - ETA: 38s - loss: 1.4626 - acc: 0.56 - ETA: 37s - loss: 1.4503 - acc: 0.56 - ETA: 36s - loss: 1.4447 - acc: 0.56 - ETA: 35s - loss: 1.4340 - acc: 0.56 - ETA: 35s - loss: 1.4250 - acc: 0.56 - ETA: 34s - loss: 1.4170 - acc: 0.56 - ETA: 33s - loss: 1.4097 - acc: 0.56 - ETA: 32s - loss: 1.4119 - acc: 0.56 - ETA: 31s - loss: 1.4046 - acc: 0.56 - ETA: 31s - loss: 1.3892 - acc: 0.56 - ETA: 30s - loss: 1.3853 - acc: 0.56 - ETA: 29s - loss: 1.3784 - acc: 0.57 - ETA: 28s - loss: 1.3741 - acc: 0.57 - ETA: 27s - loss: 1.3670 - acc: 0.57 - ETA: 27s - loss: 1.3628 - acc: 0.57 - ETA: 26s - loss: 1.3563 - acc: 0.57 - ETA: 25s - loss: 1.3500 - acc: 0.57 - ETA: 24s - loss: 1.3507 - acc: 0.57 - ETA: 23s - loss: 1.3435 - acc: 0.57 - ETA: 23s - loss: 1.3372 - acc: 0.57 - ETA: 22s - loss: 1.3309 - acc: 0.57 - ETA: 21s - loss: 1.3219 - acc: 0.57 - ETA: 20s - loss: 1.3165 - acc: 0.57 - ETA: 19s - loss: 1.3119 - acc: 0.57 - ETA: 19s - loss: 1.3144 - acc: 0.58 - ETA: 18s - loss: 1.3116 - acc: 0.58 - ETA: 17s - loss: 1.3051 - acc: 0.58 - ETA: 16s - loss: 1.3020 - acc: 0.58 - ETA: 15s - loss: 1.2961 - acc: 0.58 - ETA: 15s - loss: 1.2886 - acc: 0.58 - ETA: 14s - loss: 1.2854 - acc: 0.58 - ETA: 13s - loss: 1.2829 - acc: 0.58 - ETA: 12s - loss: 1.2807 - acc: 0.58 - ETA: 11s - loss: 1.2764 - acc: 0.58 - ETA: 11s - loss: 1.2695 - acc: 0.58 - ETA: 10s - loss: 1.2615 - acc: 0.59 - ETA: 9s - loss: 1.2551 - acc: 0.5920 - ETA: 8s - loss: 1.2500 - acc: 0.594 - ETA: 7s - loss: 1.2441 - acc: 0.596 - ETA: 7s - loss: 1.2442 - acc: 0.596 - ETA: 6s - loss: 1.2411 - acc: 0.596 - ETA: 5s - loss: 1.2363 - acc: 0.596 - ETA: 4s - loss: 1.2302 - acc: 0.597 - ETA: 3s - loss: 1.2256 - acc: 0.597 - ETA: 3s - loss: 1.2206 - acc: 0.599 - ETA: 2s - loss: 1.2178 - acc: 0.600 - ETA: 1s - loss: 1.2119 - acc: 0.601 - ETA: 0s - loss: 1.2096 - acc: 0.6025Epoch 00000: val_loss improved from inf to 1.08661, saving model to saved_models/weights1.hdf5\n",
      "2000/2000 [==============================] - 84s - loss: 1.2061 - acc: 0.6020 - val_loss: 1.0866 - val_acc: 0.5133\n",
      "Epoch 2/20\n",
      "1980/2000 [============================>.] - ETA: 74s - loss: 1.1063 - acc: 0.45 - ETA: 74s - loss: 0.8629 - acc: 0.57 - ETA: 73s - loss: 0.8378 - acc: 0.63 - ETA: 73s - loss: 0.9071 - acc: 0.63 - ETA: 72s - loss: 1.0104 - acc: 0.61 - ETA: 71s - loss: 0.9910 - acc: 0.60 - ETA: 70s - loss: 0.9403 - acc: 0.64 - ETA: 69s - loss: 0.9255 - acc: 0.65 - ETA: 69s - loss: 0.9500 - acc: 0.65 - ETA: 68s - loss: 0.9432 - acc: 0.65 - ETA: 67s - loss: 0.9054 - acc: 0.67 - ETA: 66s - loss: 0.8861 - acc: 0.67 - ETA: 66s - loss: 0.8777 - acc: 0.67 - ETA: 65s - loss: 0.8701 - acc: 0.67 - ETA: 64s - loss: 0.8666 - acc: 0.68 - ETA: 63s - loss: 0.8685 - acc: 0.68 - ETA: 62s - loss: 0.8641 - acc: 0.67 - ETA: 62s - loss: 0.8747 - acc: 0.67 - ETA: 61s - loss: 0.8656 - acc: 0.68 - ETA: 60s - loss: 0.8593 - acc: 0.69 - ETA: 59s - loss: 0.8736 - acc: 0.68 - ETA: 59s - loss: 0.8743 - acc: 0.68 - ETA: 58s - loss: 0.8627 - acc: 0.68 - ETA: 57s - loss: 0.8775 - acc: 0.68 - ETA: 56s - loss: 0.8683 - acc: 0.69 - ETA: 56s - loss: 0.8730 - acc: 0.68 - ETA: 55s - loss: 0.8744 - acc: 0.68 - ETA: 54s - loss: 0.8726 - acc: 0.67 - ETA: 53s - loss: 0.8828 - acc: 0.66 - ETA: 53s - loss: 0.8807 - acc: 0.67 - ETA: 52s - loss: 0.8810 - acc: 0.67 - ETA: 51s - loss: 0.8844 - acc: 0.67 - ETA: 50s - loss: 0.8888 - acc: 0.66 - ETA: 50s - loss: 0.8920 - acc: 0.66 - ETA: 49s - loss: 0.8894 - acc: 0.66 - ETA: 48s - loss: 0.8925 - acc: 0.66 - ETA: 47s - loss: 0.8901 - acc: 0.66 - ETA: 47s - loss: 0.8880 - acc: 0.66 - ETA: 46s - loss: 0.8820 - acc: 0.66 - ETA: 45s - loss: 0.8825 - acc: 0.65 - ETA: 44s - loss: 0.8775 - acc: 0.65 - ETA: 44s - loss: 0.8817 - acc: 0.65 - ETA: 43s - loss: 0.8774 - acc: 0.65 - ETA: 42s - loss: 0.8746 - acc: 0.65 - ETA: 41s - loss: 0.8674 - acc: 0.66 - ETA: 40s - loss: 0.8827 - acc: 0.65 - ETA: 40s - loss: 0.8764 - acc: 0.66 - ETA: 39s - loss: 0.8732 - acc: 0.66 - ETA: 38s - loss: 0.8760 - acc: 0.65 - ETA: 37s - loss: 0.8722 - acc: 0.66 - ETA: 37s - loss: 0.8702 - acc: 0.65 - ETA: 36s - loss: 0.8627 - acc: 0.66 - ETA: 35s - loss: 0.8693 - acc: 0.66 - ETA: 34s - loss: 0.8652 - acc: 0.66 - ETA: 34s - loss: 0.8659 - acc: 0.66 - ETA: 33s - loss: 0.8691 - acc: 0.65 - ETA: 32s - loss: 0.8746 - acc: 0.65 - ETA: 31s - loss: 0.8734 - acc: 0.65 - ETA: 31s - loss: 0.8754 - acc: 0.65 - ETA: 30s - loss: 0.8760 - acc: 0.65 - ETA: 29s - loss: 0.8736 - acc: 0.65 - ETA: 28s - loss: 0.8779 - acc: 0.65 - ETA: 28s - loss: 0.8739 - acc: 0.65 - ETA: 27s - loss: 0.8711 - acc: 0.65 - ETA: 26s - loss: 0.8726 - acc: 0.65 - ETA: 25s - loss: 0.8699 - acc: 0.65 - ETA: 25s - loss: 0.8687 - acc: 0.65 - ETA: 24s - loss: 0.8668 - acc: 0.66 - ETA: 23s - loss: 0.8640 - acc: 0.66 - ETA: 22s - loss: 0.8615 - acc: 0.66 - ETA: 22s - loss: 0.8574 - acc: 0.66 - ETA: 21s - loss: 0.8617 - acc: 0.66 - ETA: 20s - loss: 0.8611 - acc: 0.66 - ETA: 19s - loss: 0.8607 - acc: 0.66 - ETA: 19s - loss: 0.8598 - acc: 0.65 - ETA: 18s - loss: 0.8567 - acc: 0.65 - ETA: 17s - loss: 0.8570 - acc: 0.65 - ETA: 16s - loss: 0.8571 - acc: 0.65 - ETA: 16s - loss: 0.8530 - acc: 0.66 - ETA: 15s - loss: 0.8543 - acc: 0.66 - ETA: 14s - loss: 0.8515 - acc: 0.66 - ETA: 13s - loss: 0.8481 - acc: 0.66 - ETA: 12s - loss: 0.8451 - acc: 0.66 - ETA: 12s - loss: 0.8459 - acc: 0.66 - ETA: 11s - loss: 0.8467 - acc: 0.66 - ETA: 10s - loss: 0.8445 - acc: 0.66 - ETA: 9s - loss: 0.8430 - acc: 0.6655 - ETA: 9s - loss: 0.8390 - acc: 0.668 - ETA: 8s - loss: 0.8366 - acc: 0.669 - ETA: 7s - loss: 0.8383 - acc: 0.669 - ETA: 6s - loss: 0.8357 - acc: 0.670 - ETA: 6s - loss: 0.8302 - acc: 0.672 - ETA: 5s - loss: 0.8343 - acc: 0.672 - ETA: 4s - loss: 0.8336 - acc: 0.671 - ETA: 3s - loss: 0.8319 - acc: 0.673 - ETA: 3s - loss: 0.8317 - acc: 0.673 - ETA: 2s - loss: 0.8296 - acc: 0.674 - ETA: 1s - loss: 0.8291 - acc: 0.673 - ETA: 0s - loss: 0.8278 - acc: 0.6737Epoch 00001: val_loss improved from 1.08661 to 0.87210, saving model to saved_models/weights1.hdf5\n",
      "2000/2000 [==============================] - 81s - loss: 0.8281 - acc: 0.6725 - val_loss: 0.8721 - val_acc: 0.6267\n",
      "Epoch 3/20\n"
     ]
    },
    {
     "name": "stdout",
     "output_type": "stream",
     "text": [
      "1980/2000 [============================>.] - ETA: 73s - loss: 0.5114 - acc: 0.80 - ETA: 74s - loss: 0.5636 - acc: 0.80 - ETA: 72s - loss: 0.7199 - acc: 0.75 - ETA: 72s - loss: 0.7604 - acc: 0.71 - ETA: 71s - loss: 0.7981 - acc: 0.70 - ETA: 71s - loss: 0.7718 - acc: 0.70 - ETA: 70s - loss: 0.8101 - acc: 0.67 - ETA: 69s - loss: 0.7930 - acc: 0.67 - ETA: 68s - loss: 0.7875 - acc: 0.67 - ETA: 68s - loss: 0.7689 - acc: 0.68 - ETA: 67s - loss: 0.7632 - acc: 0.68 - ETA: 66s - loss: 0.7612 - acc: 0.67 - ETA: 65s - loss: 0.7408 - acc: 0.68 - ETA: 65s - loss: 0.7308 - acc: 0.68 - ETA: 64s - loss: 0.7274 - acc: 0.69 - ETA: 63s - loss: 0.7326 - acc: 0.68 - ETA: 62s - loss: 0.7190 - acc: 0.69 - ETA: 62s - loss: 0.7218 - acc: 0.68 - ETA: 61s - loss: 0.7180 - acc: 0.69 - ETA: 60s - loss: 0.7169 - acc: 0.69 - ETA: 59s - loss: 0.7136 - acc: 0.69 - ETA: 59s - loss: 0.7105 - acc: 0.70 - ETA: 58s - loss: 0.7068 - acc: 0.70 - ETA: 57s - loss: 0.7160 - acc: 0.70 - ETA: 56s - loss: 0.7112 - acc: 0.70 - ETA: 56s - loss: 0.7099 - acc: 0.70 - ETA: 55s - loss: 0.7143 - acc: 0.70 - ETA: 54s - loss: 0.7116 - acc: 0.71 - ETA: 53s - loss: 0.7088 - acc: 0.71 - ETA: 52s - loss: 0.7173 - acc: 0.71 - ETA: 52s - loss: 0.7185 - acc: 0.70 - ETA: 51s - loss: 0.7115 - acc: 0.71 - ETA: 50s - loss: 0.7089 - acc: 0.71 - ETA: 49s - loss: 0.7087 - acc: 0.71 - ETA: 49s - loss: 0.7003 - acc: 0.71 - ETA: 48s - loss: 0.7019 - acc: 0.71 - ETA: 47s - loss: 0.7067 - acc: 0.71 - ETA: 46s - loss: 0.7065 - acc: 0.71 - ETA: 46s - loss: 0.7058 - acc: 0.71 - ETA: 45s - loss: 0.7082 - acc: 0.71 - ETA: 44s - loss: 0.7116 - acc: 0.71 - ETA: 43s - loss: 0.7115 - acc: 0.71 - ETA: 43s - loss: 0.7114 - acc: 0.71 - ETA: 42s - loss: 0.7122 - acc: 0.71 - ETA: 41s - loss: 0.7116 - acc: 0.70 - ETA: 40s - loss: 0.7162 - acc: 0.70 - ETA: 40s - loss: 0.7121 - acc: 0.71 - ETA: 39s - loss: 0.7194 - acc: 0.70 - ETA: 38s - loss: 0.7227 - acc: 0.70 - ETA: 37s - loss: 0.7194 - acc: 0.70 - ETA: 37s - loss: 0.7145 - acc: 0.70 - ETA: 36s - loss: 0.7152 - acc: 0.70 - ETA: 35s - loss: 0.7184 - acc: 0.70 - ETA: 34s - loss: 0.7208 - acc: 0.69 - ETA: 34s - loss: 0.7209 - acc: 0.69 - ETA: 33s - loss: 0.7243 - acc: 0.69 - ETA: 32s - loss: 0.7245 - acc: 0.69 - ETA: 31s - loss: 0.7230 - acc: 0.69 - ETA: 31s - loss: 0.7180 - acc: 0.69 - ETA: 30s - loss: 0.7183 - acc: 0.69 - ETA: 29s - loss: 0.7231 - acc: 0.69 - ETA: 28s - loss: 0.7229 - acc: 0.69 - ETA: 27s - loss: 0.7198 - acc: 0.69 - ETA: 27s - loss: 0.7203 - acc: 0.69 - ETA: 26s - loss: 0.7251 - acc: 0.69 - ETA: 25s - loss: 0.7264 - acc: 0.69 - ETA: 24s - loss: 0.7244 - acc: 0.69 - ETA: 24s - loss: 0.7261 - acc: 0.69 - ETA: 23s - loss: 0.7265 - acc: 0.69 - ETA: 22s - loss: 0.7295 - acc: 0.69 - ETA: 21s - loss: 0.7256 - acc: 0.69 - ETA: 21s - loss: 0.7223 - acc: 0.70 - ETA: 20s - loss: 0.7191 - acc: 0.70 - ETA: 19s - loss: 0.7190 - acc: 0.70 - ETA: 18s - loss: 0.7191 - acc: 0.70 - ETA: 18s - loss: 0.7192 - acc: 0.70 - ETA: 17s - loss: 0.7181 - acc: 0.70 - ETA: 16s - loss: 0.7188 - acc: 0.70 - ETA: 15s - loss: 0.7198 - acc: 0.70 - ETA: 15s - loss: 0.7184 - acc: 0.70 - ETA: 14s - loss: 0.7219 - acc: 0.70 - ETA: 13s - loss: 0.7228 - acc: 0.69 - ETA: 12s - loss: 0.7245 - acc: 0.69 - ETA: 12s - loss: 0.7268 - acc: 0.69 - ETA: 11s - loss: 0.7273 - acc: 0.69 - ETA: 10s - loss: 0.7236 - acc: 0.69 - ETA: 9s - loss: 0.7264 - acc: 0.6966 - ETA: 9s - loss: 0.7258 - acc: 0.696 - ETA: 8s - loss: 0.7270 - acc: 0.695 - ETA: 7s - loss: 0.7263 - acc: 0.696 - ETA: 6s - loss: 0.7290 - acc: 0.694 - ETA: 6s - loss: 0.7319 - acc: 0.691 - ETA: 5s - loss: 0.7334 - acc: 0.689 - ETA: 4s - loss: 0.7351 - acc: 0.688 - ETA: 3s - loss: 0.7366 - acc: 0.688 - ETA: 3s - loss: 0.7412 - acc: 0.687 - ETA: 2s - loss: 0.7407 - acc: 0.686 - ETA: 1s - loss: 0.7414 - acc: 0.685 - ETA: 0s - loss: 0.7389 - acc: 0.6864Epoch 00002: val_loss improved from 0.87210 to 0.85021, saving model to saved_models/weights1.hdf5\n",
      "2000/2000 [==============================] - 81s - loss: 0.7447 - acc: 0.6840 - val_loss: 0.8502 - val_acc: 0.6267\n",
      "Epoch 4/20\n",
      "1980/2000 [============================>.] - ETA: 74s - loss: 0.5016 - acc: 0.80 - ETA: 74s - loss: 0.5273 - acc: 0.77 - ETA: 73s - loss: 0.6149 - acc: 0.73 - ETA: 72s - loss: 0.5867 - acc: 0.75 - ETA: 71s - loss: 0.6353 - acc: 0.71 - ETA: 71s - loss: 0.6432 - acc: 0.71 - ETA: 70s - loss: 0.7108 - acc: 0.70 - ETA: 69s - loss: 0.6881 - acc: 0.71 - ETA: 68s - loss: 0.7029 - acc: 0.70 - ETA: 68s - loss: 0.6973 - acc: 0.69 - ETA: 67s - loss: 0.6978 - acc: 0.69 - ETA: 66s - loss: 0.6886 - acc: 0.70 - ETA: 65s - loss: 0.6744 - acc: 0.70 - ETA: 65s - loss: 0.6716 - acc: 0.70 - ETA: 64s - loss: 0.6601 - acc: 0.70 - ETA: 63s - loss: 0.6797 - acc: 0.69 - ETA: 62s - loss: 0.6764 - acc: 0.69 - ETA: 61s - loss: 0.6769 - acc: 0.69 - ETA: 61s - loss: 0.6804 - acc: 0.69 - ETA: 60s - loss: 0.6789 - acc: 0.69 - ETA: 59s - loss: 0.6727 - acc: 0.70 - ETA: 59s - loss: 0.6675 - acc: 0.70 - ETA: 58s - loss: 0.6649 - acc: 0.71 - ETA: 57s - loss: 0.6743 - acc: 0.70 - ETA: 56s - loss: 0.6674 - acc: 0.70 - ETA: 56s - loss: 0.6622 - acc: 0.70 - ETA: 55s - loss: 0.6659 - acc: 0.70 - ETA: 54s - loss: 0.6624 - acc: 0.70 - ETA: 53s - loss: 0.6595 - acc: 0.70 - ETA: 53s - loss: 0.6672 - acc: 0.70 - ETA: 52s - loss: 0.6735 - acc: 0.70 - ETA: 51s - loss: 0.6763 - acc: 0.70 - ETA: 50s - loss: 0.6731 - acc: 0.70 - ETA: 51s - loss: 0.6722 - acc: 0.70 - ETA: 50s - loss: 0.6746 - acc: 0.69 - ETA: 49s - loss: 0.6789 - acc: 0.69 - ETA: 49s - loss: 0.6815 - acc: 0.69 - ETA: 48s - loss: 0.6758 - acc: 0.69 - ETA: 47s - loss: 0.6809 - acc: 0.69 - ETA: 46s - loss: 0.6779 - acc: 0.69 - ETA: 45s - loss: 0.6739 - acc: 0.70 - ETA: 45s - loss: 0.6820 - acc: 0.69 - ETA: 44s - loss: 0.6860 - acc: 0.69 - ETA: 43s - loss: 0.6837 - acc: 0.69 - ETA: 42s - loss: 0.6805 - acc: 0.69 - ETA: 41s - loss: 0.6829 - acc: 0.69 - ETA: 41s - loss: 0.6817 - acc: 0.69 - ETA: 40s - loss: 0.6856 - acc: 0.69 - ETA: 39s - loss: 0.6854 - acc: 0.69 - ETA: 38s - loss: 0.6844 - acc: 0.69 - ETA: 37s - loss: 0.6863 - acc: 0.69 - ETA: 37s - loss: 0.6843 - acc: 0.69 - ETA: 36s - loss: 0.6857 - acc: 0.69 - ETA: 35s - loss: 0.6812 - acc: 0.69 - ETA: 34s - loss: 0.6787 - acc: 0.69 - ETA: 33s - loss: 0.6785 - acc: 0.69 - ETA: 33s - loss: 0.6780 - acc: 0.69 - ETA: 32s - loss: 0.6775 - acc: 0.69 - ETA: 31s - loss: 0.6751 - acc: 0.70 - ETA: 30s - loss: 0.6750 - acc: 0.69 - ETA: 30s - loss: 0.6781 - acc: 0.69 - ETA: 29s - loss: 0.6736 - acc: 0.70 - ETA: 28s - loss: 0.6707 - acc: 0.70 - ETA: 27s - loss: 0.6703 - acc: 0.70 - ETA: 26s - loss: 0.6651 - acc: 0.70 - ETA: 26s - loss: 0.6632 - acc: 0.70 - ETA: 25s - loss: 0.6634 - acc: 0.70 - ETA: 24s - loss: 0.6670 - acc: 0.70 - ETA: 23s - loss: 0.6677 - acc: 0.70 - ETA: 23s - loss: 0.6666 - acc: 0.70 - ETA: 22s - loss: 0.6704 - acc: 0.70 - ETA: 21s - loss: 0.6713 - acc: 0.70 - ETA: 20s - loss: 0.6740 - acc: 0.70 - ETA: 19s - loss: 0.6751 - acc: 0.70 - ETA: 19s - loss: 0.6740 - acc: 0.70 - ETA: 18s - loss: 0.6746 - acc: 0.70 - ETA: 17s - loss: 0.6737 - acc: 0.70 - ETA: 16s - loss: 0.6693 - acc: 0.70 - ETA: 16s - loss: 0.6678 - acc: 0.70 - ETA: 15s - loss: 0.6685 - acc: 0.70 - ETA: 14s - loss: 0.6765 - acc: 0.70 - ETA: 13s - loss: 0.6766 - acc: 0.70 - ETA: 13s - loss: 0.6852 - acc: 0.70 - ETA: 12s - loss: 0.6867 - acc: 0.69 - ETA: 11s - loss: 0.6880 - acc: 0.69 - ETA: 10s - loss: 0.6884 - acc: 0.69 - ETA: 9s - loss: 0.6866 - acc: 0.6983 - ETA: 9s - loss: 0.6877 - acc: 0.697 - ETA: 8s - loss: 0.6882 - acc: 0.697 - ETA: 7s - loss: 0.6876 - acc: 0.697 - ETA: 6s - loss: 0.6863 - acc: 0.697 - ETA: 6s - loss: 0.6881 - acc: 0.696 - ETA: 5s - loss: 0.6845 - acc: 0.698 - ETA: 4s - loss: 0.6864 - acc: 0.697 - ETA: 3s - loss: 0.6844 - acc: 0.698 - ETA: 3s - loss: 0.6806 - acc: 0.700 - ETA: 2s - loss: 0.6840 - acc: 0.699 - ETA: 1s - loss: 0.6869 - acc: 0.696 - ETA: 0s - loss: 0.6862 - acc: 0.6970Epoch 00003: val_loss improved from 0.85021 to 0.83922, saving model to saved_models/weights1.hdf5\n",
      "2000/2000 [==============================] - 81s - loss: 0.6845 - acc: 0.6975 - val_loss: 0.8392 - val_acc: 0.5800\n",
      "Epoch 5/20\n"
     ]
    },
    {
     "name": "stdout",
     "output_type": "stream",
     "text": [
      "1980/2000 [============================>.] - ETA: 74s - loss: 0.6512 - acc: 0.65 - ETA: 73s - loss: 0.7473 - acc: 0.60 - ETA: 73s - loss: 0.7147 - acc: 0.65 - ETA: 72s - loss: 0.6729 - acc: 0.67 - ETA: 71s - loss: 0.6829 - acc: 0.67 - ETA: 71s - loss: 0.6896 - acc: 0.68 - ETA: 70s - loss: 0.6926 - acc: 0.67 - ETA: 69s - loss: 0.6476 - acc: 0.70 - ETA: 69s - loss: 0.6562 - acc: 0.69 - ETA: 68s - loss: 0.6536 - acc: 0.70 - ETA: 67s - loss: 0.6471 - acc: 0.70 - ETA: 66s - loss: 0.6288 - acc: 0.71 - ETA: 65s - loss: 0.6575 - acc: 0.70 - ETA: 65s - loss: 0.6480 - acc: 0.71 - ETA: 64s - loss: 0.6255 - acc: 0.72 - ETA: 63s - loss: 0.6272 - acc: 0.72 - ETA: 62s - loss: 0.6133 - acc: 0.73 - ETA: 61s - loss: 0.6123 - acc: 0.73 - ETA: 61s - loss: 0.6319 - acc: 0.72 - ETA: 60s - loss: 0.6443 - acc: 0.72 - ETA: 59s - loss: 0.6368 - acc: 0.72 - ETA: 58s - loss: 0.6411 - acc: 0.72 - ETA: 58s - loss: 0.6468 - acc: 0.71 - ETA: 57s - loss: 0.6391 - acc: 0.72 - ETA: 56s - loss: 0.6376 - acc: 0.72 - ETA: 55s - loss: 0.6457 - acc: 0.72 - ETA: 55s - loss: 0.6462 - acc: 0.72 - ETA: 54s - loss: 0.6430 - acc: 0.72 - ETA: 53s - loss: 0.6449 - acc: 0.72 - ETA: 52s - loss: 0.6441 - acc: 0.72 - ETA: 52s - loss: 0.6431 - acc: 0.72 - ETA: 51s - loss: 0.6403 - acc: 0.72 - ETA: 50s - loss: 0.6376 - acc: 0.72 - ETA: 49s - loss: 0.6369 - acc: 0.72 - ETA: 49s - loss: 0.6424 - acc: 0.71 - ETA: 48s - loss: 0.6431 - acc: 0.71 - ETA: 47s - loss: 0.6409 - acc: 0.71 - ETA: 46s - loss: 0.6375 - acc: 0.71 - ETA: 46s - loss: 0.6361 - acc: 0.71 - ETA: 45s - loss: 0.6295 - acc: 0.71 - ETA: 44s - loss: 0.6275 - acc: 0.71 - ETA: 43s - loss: 0.6260 - acc: 0.72 - ETA: 43s - loss: 0.6249 - acc: 0.72 - ETA: 42s - loss: 0.6270 - acc: 0.71 - ETA: 41s - loss: 0.6258 - acc: 0.72 - ETA: 40s - loss: 0.6208 - acc: 0.72 - ETA: 40s - loss: 0.6234 - acc: 0.72 - ETA: 39s - loss: 0.6222 - acc: 0.72 - ETA: 38s - loss: 0.6219 - acc: 0.72 - ETA: 37s - loss: 0.6238 - acc: 0.72 - ETA: 37s - loss: 0.6240 - acc: 0.72 - ETA: 36s - loss: 0.6199 - acc: 0.73 - ETA: 35s - loss: 0.6167 - acc: 0.73 - ETA: 34s - loss: 0.6201 - acc: 0.72 - ETA: 34s - loss: 0.6206 - acc: 0.73 - ETA: 33s - loss: 0.6204 - acc: 0.73 - ETA: 32s - loss: 0.6173 - acc: 0.73 - ETA: 31s - loss: 0.6188 - acc: 0.73 - ETA: 31s - loss: 0.6207 - acc: 0.72 - ETA: 30s - loss: 0.6197 - acc: 0.72 - ETA: 29s - loss: 0.6201 - acc: 0.73 - ETA: 28s - loss: 0.6199 - acc: 0.73 - ETA: 27s - loss: 0.6187 - acc: 0.73 - ETA: 27s - loss: 0.6195 - acc: 0.73 - ETA: 26s - loss: 0.6208 - acc: 0.73 - ETA: 25s - loss: 0.6178 - acc: 0.73 - ETA: 24s - loss: 0.6168 - acc: 0.73 - ETA: 24s - loss: 0.6195 - acc: 0.73 - ETA: 23s - loss: 0.6178 - acc: 0.73 - ETA: 22s - loss: 0.6161 - acc: 0.73 - ETA: 21s - loss: 0.6160 - acc: 0.73 - ETA: 21s - loss: 0.6162 - acc: 0.73 - ETA: 20s - loss: 0.6149 - acc: 0.73 - ETA: 19s - loss: 0.6158 - acc: 0.73 - ETA: 18s - loss: 0.6150 - acc: 0.73 - ETA: 18s - loss: 0.6182 - acc: 0.73 - ETA: 17s - loss: 0.6195 - acc: 0.73 - ETA: 16s - loss: 0.6186 - acc: 0.73 - ETA: 15s - loss: 0.6217 - acc: 0.72 - ETA: 15s - loss: 0.6241 - acc: 0.72 - ETA: 14s - loss: 0.6256 - acc: 0.72 - ETA: 13s - loss: 0.6265 - acc: 0.72 - ETA: 12s - loss: 0.6282 - acc: 0.72 - ETA: 12s - loss: 0.6265 - acc: 0.72 - ETA: 11s - loss: 0.6235 - acc: 0.72 - ETA: 10s - loss: 0.6224 - acc: 0.72 - ETA: 9s - loss: 0.6187 - acc: 0.7310 - ETA: 9s - loss: 0.6238 - acc: 0.727 - ETA: 8s - loss: 0.6249 - acc: 0.725 - ETA: 7s - loss: 0.6244 - acc: 0.726 - ETA: 6s - loss: 0.6271 - acc: 0.724 - ETA: 6s - loss: 0.6270 - acc: 0.725 - ETA: 5s - loss: 0.6274 - acc: 0.725 - ETA: 4s - loss: 0.6253 - acc: 0.726 - ETA: 3s - loss: 0.6249 - acc: 0.726 - ETA: 3s - loss: 0.6226 - acc: 0.728 - ETA: 2s - loss: 0.6198 - acc: 0.728 - ETA: 1s - loss: 0.6227 - acc: 0.727 - ETA: 0s - loss: 0.6223 - acc: 0.7283Epoch 00004: val_loss improved from 0.83922 to 0.75999, saving model to saved_models/weights1.hdf5\n",
      "2000/2000 [==============================] - 80s - loss: 0.6231 - acc: 0.7280 - val_loss: 0.7600 - val_acc: 0.6600\n",
      "Epoch 6/20\n",
      "1980/2000 [============================>.] - ETA: 74s - loss: 0.7848 - acc: 0.70 - ETA: 73s - loss: 0.7195 - acc: 0.70 - ETA: 72s - loss: 0.7484 - acc: 0.68 - ETA: 72s - loss: 0.7451 - acc: 0.68 - ETA: 71s - loss: 0.6684 - acc: 0.72 - ETA: 70s - loss: 0.6470 - acc: 0.73 - ETA: 70s - loss: 0.6568 - acc: 0.72 - ETA: 69s - loss: 0.6612 - acc: 0.71 - ETA: 68s - loss: 0.6838 - acc: 0.70 - ETA: 68s - loss: 0.6639 - acc: 0.70 - ETA: 67s - loss: 0.6608 - acc: 0.71 - ETA: 66s - loss: 0.6459 - acc: 0.72 - ETA: 65s - loss: 0.6322 - acc: 0.72 - ETA: 65s - loss: 0.6509 - acc: 0.71 - ETA: 64s - loss: 0.6292 - acc: 0.73 - ETA: 63s - loss: 0.6126 - acc: 0.74 - ETA: 62s - loss: 0.6145 - acc: 0.73 - ETA: 62s - loss: 0.6114 - acc: 0.73 - ETA: 61s - loss: 0.6184 - acc: 0.73 - ETA: 60s - loss: 0.6115 - acc: 0.73 - ETA: 59s - loss: 0.6033 - acc: 0.74 - ETA: 59s - loss: 0.5922 - acc: 0.74 - ETA: 58s - loss: 0.5836 - acc: 0.75 - ETA: 58s - loss: 0.5996 - acc: 0.74 - ETA: 57s - loss: 0.6013 - acc: 0.74 - ETA: 56s - loss: 0.5921 - acc: 0.75 - ETA: 55s - loss: 0.5945 - acc: 0.74 - ETA: 55s - loss: 0.5948 - acc: 0.74 - ETA: 54s - loss: 0.5961 - acc: 0.74 - ETA: 53s - loss: 0.5964 - acc: 0.74 - ETA: 52s - loss: 0.5966 - acc: 0.74 - ETA: 51s - loss: 0.6096 - acc: 0.73 - ETA: 51s - loss: 0.6120 - acc: 0.73 - ETA: 50s - loss: 0.6106 - acc: 0.73 - ETA: 49s - loss: 0.6186 - acc: 0.73 - ETA: 48s - loss: 0.6183 - acc: 0.73 - ETA: 48s - loss: 0.6186 - acc: 0.73 - ETA: 47s - loss: 0.6164 - acc: 0.73 - ETA: 46s - loss: 0.6125 - acc: 0.73 - ETA: 45s - loss: 0.6176 - acc: 0.73 - ETA: 44s - loss: 0.6113 - acc: 0.74 - ETA: 44s - loss: 0.6097 - acc: 0.74 - ETA: 43s - loss: 0.6101 - acc: 0.74 - ETA: 42s - loss: 0.6071 - acc: 0.74 - ETA: 41s - loss: 0.6050 - acc: 0.74 - ETA: 41s - loss: 0.6130 - acc: 0.74 - ETA: 40s - loss: 0.6219 - acc: 0.73 - ETA: 39s - loss: 0.6160 - acc: 0.74 - ETA: 39s - loss: 0.6149 - acc: 0.74 - ETA: 39s - loss: 0.6120 - acc: 0.74 - ETA: 38s - loss: 0.6137 - acc: 0.74 - ETA: 37s - loss: 0.6138 - acc: 0.74 - ETA: 36s - loss: 0.6119 - acc: 0.74 - ETA: 35s - loss: 0.6091 - acc: 0.74 - ETA: 35s - loss: 0.6103 - acc: 0.74 - ETA: 34s - loss: 0.6109 - acc: 0.74 - ETA: 33s - loss: 0.6131 - acc: 0.74 - ETA: 32s - loss: 0.6147 - acc: 0.74 - ETA: 31s - loss: 0.6183 - acc: 0.73 - ETA: 31s - loss: 0.6179 - acc: 0.73 - ETA: 30s - loss: 0.6140 - acc: 0.73 - ETA: 29s - loss: 0.6083 - acc: 0.74 - ETA: 28s - loss: 0.6072 - acc: 0.74 - ETA: 27s - loss: 0.6006 - acc: 0.74 - ETA: 27s - loss: 0.6035 - acc: 0.74 - ETA: 26s - loss: 0.6044 - acc: 0.74 - ETA: 25s - loss: 0.6034 - acc: 0.74 - ETA: 24s - loss: 0.6005 - acc: 0.74 - ETA: 24s - loss: 0.5983 - acc: 0.74 - ETA: 23s - loss: 0.5972 - acc: 0.74 - ETA: 22s - loss: 0.6003 - acc: 0.74 - ETA: 21s - loss: 0.5982 - acc: 0.74 - ETA: 20s - loss: 0.5970 - acc: 0.74 - ETA: 20s - loss: 0.5985 - acc: 0.74 - ETA: 19s - loss: 0.5978 - acc: 0.74 - ETA: 18s - loss: 0.5978 - acc: 0.74 - ETA: 17s - loss: 0.5950 - acc: 0.74 - ETA: 16s - loss: 0.5939 - acc: 0.74 - ETA: 16s - loss: 0.5926 - acc: 0.74 - ETA: 15s - loss: 0.5921 - acc: 0.74 - ETA: 14s - loss: 0.5900 - acc: 0.75 - ETA: 13s - loss: 0.5900 - acc: 0.75 - ETA: 13s - loss: 0.5905 - acc: 0.74 - ETA: 12s - loss: 0.5896 - acc: 0.74 - ETA: 11s - loss: 0.5899 - acc: 0.74 - ETA: 10s - loss: 0.5904 - acc: 0.74 - ETA: 10s - loss: 0.5911 - acc: 0.74 - ETA: 9s - loss: 0.5890 - acc: 0.7472 - ETA: 8s - loss: 0.5903 - acc: 0.746 - ETA: 7s - loss: 0.5881 - acc: 0.747 - ETA: 6s - loss: 0.5867 - acc: 0.747 - ETA: 6s - loss: 0.5843 - acc: 0.748 - ETA: 5s - loss: 0.5841 - acc: 0.747 - ETA: 4s - loss: 0.5820 - acc: 0.748 - ETA: 3s - loss: 0.5821 - acc: 0.748 - ETA: 3s - loss: 0.5840 - acc: 0.747 - ETA: 2s - loss: 0.5831 - acc: 0.746 - ETA: 1s - loss: 0.5816 - acc: 0.747 - ETA: 0s - loss: 0.5821 - acc: 0.7475Epoch 00005: val_loss did not improve\n",
      "2000/2000 [==============================] - 82s - loss: 0.5853 - acc: 0.7475 - val_loss: 0.7635 - val_acc: 0.6800\n",
      "Epoch 7/20\n"
     ]
    },
    {
     "name": "stdout",
     "output_type": "stream",
     "text": [
      "1980/2000 [============================>.] - ETA: 74s - loss: 0.5213 - acc: 0.75 - ETA: 73s - loss: 0.4764 - acc: 0.80 - ETA: 72s - loss: 0.5483 - acc: 0.73 - ETA: 71s - loss: 0.5697 - acc: 0.73 - ETA: 71s - loss: 0.5648 - acc: 0.74 - ETA: 70s - loss: 0.5664 - acc: 0.74 - ETA: 69s - loss: 0.5427 - acc: 0.76 - ETA: 69s - loss: 0.5547 - acc: 0.76 - ETA: 68s - loss: 0.5704 - acc: 0.76 - ETA: 67s - loss: 0.5935 - acc: 0.75 - ETA: 66s - loss: 0.5857 - acc: 0.76 - ETA: 66s - loss: 0.5793 - acc: 0.77 - ETA: 65s - loss: 0.5910 - acc: 0.76 - ETA: 64s - loss: 0.5809 - acc: 0.77 - ETA: 64s - loss: 0.5774 - acc: 0.77 - ETA: 63s - loss: 0.5515 - acc: 0.78 - ETA: 62s - loss: 0.5498 - acc: 0.78 - ETA: 61s - loss: 0.5639 - acc: 0.77 - ETA: 61s - loss: 0.5594 - acc: 0.77 - ETA: 60s - loss: 0.5508 - acc: 0.78 - ETA: 59s - loss: 0.5489 - acc: 0.78 - ETA: 58s - loss: 0.5440 - acc: 0.78 - ETA: 58s - loss: 0.5537 - acc: 0.78 - ETA: 57s - loss: 0.5477 - acc: 0.78 - ETA: 56s - loss: 0.5599 - acc: 0.77 - ETA: 55s - loss: 0.5562 - acc: 0.77 - ETA: 55s - loss: 0.5578 - acc: 0.77 - ETA: 54s - loss: 0.5486 - acc: 0.77 - ETA: 53s - loss: 0.5437 - acc: 0.77 - ETA: 52s - loss: 0.5532 - acc: 0.76 - ETA: 52s - loss: 0.5531 - acc: 0.76 - ETA: 51s - loss: 0.5480 - acc: 0.77 - ETA: 50s - loss: 0.5382 - acc: 0.77 - ETA: 49s - loss: 0.5384 - acc: 0.77 - ETA: 49s - loss: 0.5389 - acc: 0.77 - ETA: 48s - loss: 0.5346 - acc: 0.77 - ETA: 47s - loss: 0.5336 - acc: 0.77 - ETA: 46s - loss: 0.5350 - acc: 0.77 - ETA: 46s - loss: 0.5374 - acc: 0.76 - ETA: 45s - loss: 0.5392 - acc: 0.76 - ETA: 44s - loss: 0.5398 - acc: 0.76 - ETA: 43s - loss: 0.5396 - acc: 0.77 - ETA: 43s - loss: 0.5441 - acc: 0.76 - ETA: 42s - loss: 0.5438 - acc: 0.76 - ETA: 41s - loss: 0.5441 - acc: 0.76 - ETA: 40s - loss: 0.5450 - acc: 0.76 - ETA: 39s - loss: 0.5394 - acc: 0.76 - ETA: 39s - loss: 0.5446 - acc: 0.76 - ETA: 38s - loss: 0.5451 - acc: 0.76 - ETA: 37s - loss: 0.5445 - acc: 0.76 - ETA: 36s - loss: 0.5453 - acc: 0.76 - ETA: 36s - loss: 0.5450 - acc: 0.76 - ETA: 35s - loss: 0.5407 - acc: 0.76 - ETA: 34s - loss: 0.5426 - acc: 0.76 - ETA: 33s - loss: 0.5404 - acc: 0.76 - ETA: 33s - loss: 0.5371 - acc: 0.76 - ETA: 32s - loss: 0.5407 - acc: 0.76 - ETA: 31s - loss: 0.5373 - acc: 0.76 - ETA: 30s - loss: 0.5413 - acc: 0.76 - ETA: 30s - loss: 0.5424 - acc: 0.76 - ETA: 29s - loss: 0.5456 - acc: 0.76 - ETA: 28s - loss: 0.5488 - acc: 0.76 - ETA: 27s - loss: 0.5468 - acc: 0.76 - ETA: 27s - loss: 0.5441 - acc: 0.76 - ETA: 26s - loss: 0.5423 - acc: 0.76 - ETA: 25s - loss: 0.5415 - acc: 0.76 - ETA: 24s - loss: 0.5400 - acc: 0.76 - ETA: 24s - loss: 0.5384 - acc: 0.76 - ETA: 23s - loss: 0.5395 - acc: 0.76 - ETA: 22s - loss: 0.5453 - acc: 0.76 - ETA: 21s - loss: 0.5445 - acc: 0.76 - ETA: 21s - loss: 0.5444 - acc: 0.76 - ETA: 20s - loss: 0.5452 - acc: 0.76 - ETA: 19s - loss: 0.5435 - acc: 0.76 - ETA: 18s - loss: 0.5410 - acc: 0.76 - ETA: 18s - loss: 0.5428 - acc: 0.76 - ETA: 17s - loss: 0.5402 - acc: 0.76 - ETA: 16s - loss: 0.5418 - acc: 0.76 - ETA: 15s - loss: 0.5417 - acc: 0.76 - ETA: 15s - loss: 0.5384 - acc: 0.76 - ETA: 14s - loss: 0.5435 - acc: 0.76 - ETA: 13s - loss: 0.5443 - acc: 0.76 - ETA: 12s - loss: 0.5443 - acc: 0.76 - ETA: 12s - loss: 0.5428 - acc: 0.76 - ETA: 11s - loss: 0.5449 - acc: 0.76 - ETA: 10s - loss: 0.5429 - acc: 0.76 - ETA: 9s - loss: 0.5429 - acc: 0.7655 - ETA: 9s - loss: 0.5427 - acc: 0.765 - ETA: 8s - loss: 0.5440 - acc: 0.764 - ETA: 7s - loss: 0.5434 - acc: 0.765 - ETA: 6s - loss: 0.5415 - acc: 0.765 - ETA: 6s - loss: 0.5461 - acc: 0.765 - ETA: 5s - loss: 0.5452 - acc: 0.766 - ETA: 4s - loss: 0.5438 - acc: 0.767 - ETA: 3s - loss: 0.5432 - acc: 0.767 - ETA: 3s - loss: 0.5423 - acc: 0.767 - ETA: 2s - loss: 0.5460 - acc: 0.764 - ETA: 1s - loss: 0.5459 - acc: 0.764 - ETA: 0s - loss: 0.5444 - acc: 0.7652Epoch 00006: val_loss improved from 0.75999 to 0.71913, saving model to saved_models/weights1.hdf5\n",
      "2000/2000 [==============================] - 81s - loss: 0.5453 - acc: 0.7645 - val_loss: 0.7191 - val_acc: 0.6800\n",
      "Epoch 8/20\n",
      "1980/2000 [============================>.] - ETA: 74s - loss: 0.5579 - acc: 0.75 - ETA: 73s - loss: 0.4890 - acc: 0.77 - ETA: 73s - loss: 0.4717 - acc: 0.78 - ETA: 72s - loss: 0.4420 - acc: 0.81 - ETA: 72s - loss: 0.4525 - acc: 0.80 - ETA: 71s - loss: 0.5033 - acc: 0.78 - ETA: 70s - loss: 0.5297 - acc: 0.76 - ETA: 69s - loss: 0.5760 - acc: 0.73 - ETA: 69s - loss: 0.5773 - acc: 0.75 - ETA: 68s - loss: 0.5387 - acc: 0.77 - ETA: 67s - loss: 0.5424 - acc: 0.76 - ETA: 66s - loss: 0.5475 - acc: 0.75 - ETA: 66s - loss: 0.5482 - acc: 0.74 - ETA: 65s - loss: 0.5284 - acc: 0.76 - ETA: 64s - loss: 0.5142 - acc: 0.77 - ETA: 63s - loss: 0.5248 - acc: 0.76 - ETA: 63s - loss: 0.5265 - acc: 0.77 - ETA: 62s - loss: 0.5580 - acc: 0.77 - ETA: 61s - loss: 0.5627 - acc: 0.76 - ETA: 60s - loss: 0.5673 - acc: 0.76 - ETA: 59s - loss: 0.5577 - acc: 0.76 - ETA: 59s - loss: 0.5637 - acc: 0.76 - ETA: 58s - loss: 0.5671 - acc: 0.76 - ETA: 57s - loss: 0.5654 - acc: 0.76 - ETA: 56s - loss: 0.5551 - acc: 0.77 - ETA: 56s - loss: 0.5541 - acc: 0.76 - ETA: 55s - loss: 0.5493 - acc: 0.77 - ETA: 54s - loss: 0.5408 - acc: 0.77 - ETA: 53s - loss: 0.5416 - acc: 0.77 - ETA: 53s - loss: 0.5329 - acc: 0.78 - ETA: 52s - loss: 0.5299 - acc: 0.78 - ETA: 51s - loss: 0.5304 - acc: 0.78 - ETA: 50s - loss: 0.5295 - acc: 0.78 - ETA: 50s - loss: 0.5309 - acc: 0.78 - ETA: 49s - loss: 0.5242 - acc: 0.78 - ETA: 48s - loss: 0.5225 - acc: 0.78 - ETA: 47s - loss: 0.5172 - acc: 0.78 - ETA: 47s - loss: 0.5132 - acc: 0.78 - ETA: 46s - loss: 0.5122 - acc: 0.78 - ETA: 45s - loss: 0.5171 - acc: 0.78 - ETA: 44s - loss: 0.5190 - acc: 0.78 - ETA: 44s - loss: 0.5188 - acc: 0.78 - ETA: 43s - loss: 0.5214 - acc: 0.78 - ETA: 42s - loss: 0.5223 - acc: 0.78 - ETA: 41s - loss: 0.5196 - acc: 0.78 - ETA: 41s - loss: 0.5213 - acc: 0.78 - ETA: 40s - loss: 0.5202 - acc: 0.77 - ETA: 39s - loss: 0.5191 - acc: 0.78 - ETA: 38s - loss: 0.5179 - acc: 0.78 - ETA: 37s - loss: 0.5182 - acc: 0.78 - ETA: 37s - loss: 0.5153 - acc: 0.78 - ETA: 36s - loss: 0.5118 - acc: 0.78 - ETA: 35s - loss: 0.5095 - acc: 0.78 - ETA: 34s - loss: 0.5092 - acc: 0.78 - ETA: 34s - loss: 0.5129 - acc: 0.78 - ETA: 33s - loss: 0.5110 - acc: 0.78 - ETA: 32s - loss: 0.5090 - acc: 0.78 - ETA: 31s - loss: 0.5108 - acc: 0.78 - ETA: 31s - loss: 0.5123 - acc: 0.78 - ETA: 30s - loss: 0.5089 - acc: 0.78 - ETA: 30s - loss: 0.5072 - acc: 0.78 - ETA: 29s - loss: 0.5036 - acc: 0.79 - ETA: 28s - loss: 0.5044 - acc: 0.78 - ETA: 27s - loss: 0.5028 - acc: 0.79 - ETA: 26s - loss: 0.5012 - acc: 0.79 - ETA: 26s - loss: 0.4980 - acc: 0.79 - ETA: 25s - loss: 0.5059 - acc: 0.78 - ETA: 24s - loss: 0.5123 - acc: 0.78 - ETA: 23s - loss: 0.5129 - acc: 0.78 - ETA: 23s - loss: 0.5130 - acc: 0.78 - ETA: 22s - loss: 0.5122 - acc: 0.78 - ETA: 21s - loss: 0.5119 - acc: 0.78 - ETA: 20s - loss: 0.5135 - acc: 0.78 - ETA: 19s - loss: 0.5127 - acc: 0.78 - ETA: 19s - loss: 0.5130 - acc: 0.78 - ETA: 18s - loss: 0.5154 - acc: 0.78 - ETA: 17s - loss: 0.5151 - acc: 0.78 - ETA: 16s - loss: 0.5148 - acc: 0.78 - ETA: 16s - loss: 0.5119 - acc: 0.78 - ETA: 15s - loss: 0.5124 - acc: 0.78 - ETA: 14s - loss: 0.5158 - acc: 0.78 - ETA: 13s - loss: 0.5174 - acc: 0.77 - ETA: 13s - loss: 0.5153 - acc: 0.78 - ETA: 12s - loss: 0.5125 - acc: 0.78 - ETA: 11s - loss: 0.5108 - acc: 0.78 - ETA: 10s - loss: 0.5092 - acc: 0.78 - ETA: 9s - loss: 0.5082 - acc: 0.7828 - ETA: 9s - loss: 0.5085 - acc: 0.782 - ETA: 8s - loss: 0.5072 - acc: 0.783 - ETA: 7s - loss: 0.5085 - acc: 0.782 - ETA: 6s - loss: 0.5081 - acc: 0.782 - ETA: 6s - loss: 0.5105 - acc: 0.779 - ETA: 5s - loss: 0.5141 - acc: 0.779 - ETA: 4s - loss: 0.5142 - acc: 0.779 - ETA: 3s - loss: 0.5182 - acc: 0.776 - ETA: 3s - loss: 0.5171 - acc: 0.777 - ETA: 2s - loss: 0.5149 - acc: 0.778 - ETA: 1s - loss: 0.5162 - acc: 0.778 - ETA: 0s - loss: 0.5165 - acc: 0.7778"
     ]
    }
   ],
   "source": [
    "from keras.callbacks import ModelCheckpoint  \n",
    "\n",
    "epochs = 20\n",
    "\n",
    "checkpointer = ModelCheckpoint(filepath='saved_models/weights1.hdf5', \n",
    "                               verbose=1, save_best_only=True)\n",
    "\n",
    "model.fit(train_tensors, train_labels,\n",
    "            validation_data=(valid_tensors, valid_labels),\n",
    "            epochs=epochs,\n",
    "            batch_size=20,\n",
    "            callbacks=[checkpointer],\n",
    "            verbose=1)"
   ]
  },
  {
   "cell_type": "markdown",
   "metadata": {},
   "source": [
    "## Create output .csv for testing"
   ]
  },
  {
   "cell_type": "code",
   "execution_count": 9,
   "metadata": {
    "collapsed": true
   },
   "outputs": [],
   "source": [
    "# Load the model weights with the best validation loss.\n",
    "\n",
    "model.load_weights('saved_models/weights1.hdf5')"
   ]
  },
  {
   "cell_type": "code",
   "execution_count": 18,
   "metadata": {},
   "outputs": [
    {
     "name": "stdout",
     "output_type": "stream",
     "text": [
      "2\n"
     ]
    }
   ],
   "source": [
    "prediction = np.argmax(model.predict(np.expand_dims(test_tensors[0], axis=0)))\n",
    "print(prediction)\n"
   ]
  },
  {
   "cell_type": "code",
   "execution_count": 38,
   "metadata": {},
   "outputs": [
    {
     "name": "stderr",
     "output_type": "stream",
     "text": [
      "100%|████████████████████████████████████████████████████████████████████████████████| 600/600 [00:11<00:00, 51.09it/s]\n"
     ]
    }
   ],
   "source": [
    "import pandas as pd\n",
    "\n",
    "y_pred = pd.DataFrame(columns=[\"task_1\", \"task_2\"])\n",
    "\n",
    "for ii in tqdm(range(len(test_files))):\n",
    "    path = test_files[ii]\n",
    "    prediction = np.argmax(model.predict(np.expand_dims(test_tensors[ii], axis=0)))\n",
    "    if prediction == 0:\n",
    "        y_pred.loc[path] = [1, 0]\n",
    "    if prediction == 2:\n",
    "        y_pred.loc[path] = [0, 1]\n",
    "    else:\n",
    "        y_pred.loc[path] = [0, 0]\n",
    "\n",
    "y_pred.to_csv(\"predictions.csv\")"
   ]
  },
  {
   "cell_type": "markdown",
   "metadata": {
    "collapsed": true
   },
   "source": [
    "## Internal testing vs. ground truths"
   ]
  },
  {
   "cell_type": "code",
   "execution_count": 39,
   "metadata": {
    "collapsed": true
   },
   "outputs": [],
   "source": [
    "import itertools\n",
    "import keras\n",
    "import matplotlib.pyplot as plt\n",
    "import sys\n",
    "from sklearn.metrics import roc_curve, auc, confusion_matrix\n",
    "from keras.preprocessing.image import ImageDataGenerator\n",
    "\n",
    "def plot_roc_auc(y_true, y_pred):\n",
    "    \"\"\"\n",
    "    This function plots the ROC curves and provides the scores.\n",
    "    \"\"\"\n",
    "\n",
    "    # initialize dictionaries and array\n",
    "    fpr = dict()\n",
    "    tpr = dict()\n",
    "    roc_auc = np.zeros(3)\n",
    "    \n",
    "    # prepare for figure\n",
    "    plt.figure()\n",
    "    colors = ['aqua', 'cornflowerblue']\n",
    "\n",
    "    # for both classification tasks (categories 1 and 2)\n",
    "    for i in range(2):\n",
    "        # obtain ROC curve\n",
    "        fpr[i], tpr[i], _ = roc_curve(y_true[:,i], y_pred[:,i])\n",
    "        # obtain ROC AUC\n",
    "        roc_auc[i] = auc(fpr[i], tpr[i])\n",
    "        # plot ROC curve\n",
    "        plt.plot(fpr[i], tpr[i], color=colors[i], lw=2,\n",
    "                 label='ROC curve for task {d} (area = {f:.2f})'.format(d=i+1, f=roc_auc[i]))\n",
    "    # get score for category 3\n",
    "    roc_auc[2] = np.average(roc_auc[:2])\n",
    "    \n",
    "    # format figure\n",
    "    plt.plot([0, 1], [0, 1], 'k--', lw=2)\n",
    "    plt.xlim([0.0, 1.0])\n",
    "    plt.ylim([0.0, 1.05])\n",
    "    plt.xlabel('False Positive Rate')\n",
    "    plt.ylabel('True Positive Rate')\n",
    "    plt.title('ROC curves')\n",
    "    plt.legend(loc=\"lower right\")\n",
    "    plt.show()\n",
    "    \n",
    "    # print scores\n",
    "    for i in range(3):\n",
    "        print('Category {d} Score: {f:.3f}'. format(d=i+1, f=roc_auc[i]))\n",
    "\n",
    "def plot_confusion_matrix(y_true, y_pred, thresh, classes):\n",
    "    \"\"\"\n",
    "    This function plots the (normalized) confusion matrix.\n",
    "    \"\"\"\n",
    "\n",
    "    # obtain class predictions from probabilities\n",
    "    y_pred = (y_pred>=thresh)*1\n",
    "    # obtain (unnormalized) confusion matrix\n",
    "    cm = confusion_matrix(y_true, y_pred)\n",
    "    # normalize confusion matrix\n",
    "    cm = cm.astype('float') / cm.sum(axis=1)[:, np.newaxis]\n",
    "    \n",
    "    plt.figure()\n",
    "    plt.imshow(cm, interpolation='nearest', cmap=plt.cm.Blues)\n",
    "    plt.title('Confusion matrix')\n",
    "    plt.colorbar()\n",
    "    tick_marks = np.arange(len(classes))\n",
    "    plt.xticks(tick_marks, classes, rotation=45)\n",
    "    plt.yticks(tick_marks, classes)\n",
    "\n",
    "    thresh = cm.max() / 2.\n",
    "    for i, j in itertools.product(range(cm.shape[0]), range(cm.shape[1])):\n",
    "        plt.text(j, i, format(cm[i, j], '.2f'),\n",
    "                 horizontalalignment=\"center\",\n",
    "                 color=\"white\" if cm[i, j] > thresh else \"black\")\n",
    "\n",
    "    plt.tight_layout()\n",
    "    plt.ylabel('True label')\n",
    "    plt.xlabel('Predicted label')\n",
    "    plt.show()"
   ]
  },
  {
   "cell_type": "code",
   "execution_count": 40,
   "metadata": {},
   "outputs": [
    {
     "data": {
      "image/png": "[encoded data removed]",
      "text/plain": [
       "<matplotlib.figure.Figure at 0x26050b49438>"
      ]
     },
     "metadata": {},
     "output_type": "display_data"
    },
    {
     "name": "stdout",
     "output_type": "stream",
     "text": [
      "Category 1 Score: 0.500\n",
      "Category 2 Score: 0.658\n",
      "Category 3 Score: 0.579\n"
     ]
    },
    {
     "data": {
      "image/png": "[encoded data removed]",
      "text/plain": [
       "<matplotlib.figure.Figure at 0x260503e7f98>"
      ]
     },
     "metadata": {},
     "output_type": "display_data"
    }
   ],
   "source": [
    "preds_path = sys.argv[1]\n",
    "thresh = 0.5\n",
    "\n",
    "# get ground truth labels for test dataset\n",
    "truth = pd.read_csv('ground_truth.csv')\n",
    "y_true = truth.as_matrix(columns=[\"task_1\", \"task_2\"])\n",
    "\n",
    "# get model predictions for test dataset\n",
    "y_pred = pd.read_csv(\"predictions.csv\")\n",
    "y_pred = y_pred.as_matrix(columns=[\"task_1\", \"task_2\"])\n",
    "\n",
    "# plot ROC curves and print scores\n",
    "plot_roc_auc(y_true, y_pred)\n",
    "# plot confusion matrix\n",
    "classes = ['benign', 'malignant']\n",
    "plot_confusion_matrix(y_true[:,0], y_pred[:,0], thresh, classes)\n"
   ]
  },
  {
   "cell_type": "code",
   "execution_count": null,
   "metadata": {
    "collapsed": true
   },
   "outputs": [],
   "source": []
  }
 ],
 "metadata": {
  "kernelspec": {
   "display_name": "Python 3",
   "language": "python",
   "name": "python3"
  },
  "language_info": {
   "codemirror_mode": {
    "name": "ipython",
    "version": 3
   },
   "file_extension": ".py",
   "mimetype": "text/x-python",
   "name": "python",
   "nbconvert_exporter": "python",
   "pygments_lexer": "ipython3",
   "version": "3.6.2"
  }
 },
 "nbformat": 4,
 "nbformat_minor": 2
}
